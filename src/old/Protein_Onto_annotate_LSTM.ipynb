{
 "cells": [
  {
   "cell_type": "code",
   "execution_count": 1,
   "metadata": {},
   "outputs": [
    {
     "name": "stderr",
     "output_type": "stream",
     "text": [
      "Using TensorFlow backend.\n"
     ]
    }
   ],
   "source": [
    "import json\n",
    "from keras.preprocessing import sequence\n",
    "from keras.models import Sequential\n",
    "from keras.layers.embeddings import Embedding\n",
    "from keras.layers.recurrent import SimpleRNN, GRU, LSTM\n",
    "from keras.layers.core import Dense, Dropout\n",
    "from keras.layers.wrappers import TimeDistributed\n",
    "from keras.layers import Convolution1D, MaxPooling1D\n",
    "from keras.utils import np_utils\n",
    "import itertools\n",
    "import ast\n",
    "from sklearn.model_selection import train_test_split\n",
    "from sklearn.preprocessing import LabelEncoder\n",
    "import sys, os\n",
    "import traceback\n",
    "from itertools import chain\n",
    "import numpy as np\n",
    "import pandas as pd\n",
    "\n",
    "import progressbar\n",
    "\n",
    "import tensorflow as tf\n",
    "os.environ[\"CUDA_DEVICE_ORDER\"] = \"PCI_BUS_ID\"   # see issue #152\n",
    "os.environ[\"CUDA_VISIBLE_DEVICES\"] = \"2\""
   ]
  },
  {
   "cell_type": "code",
   "execution_count": 2,
   "metadata": {
    "collapsed": true
   },
   "outputs": [],
   "source": [
    "import matplotlib.pyplot as plt\n",
    "\n",
    "%matplotlib inline"
   ]
  },
  {
   "cell_type": "code",
   "execution_count": 3,
   "metadata": {
    "collapsed": true
   },
   "outputs": [],
   "source": [
    "def read_data(rootdir):\n",
    "    data_list = []\n",
    "    for subdir, dirs, files in os.walk(rootdir):\n",
    "        for fname in files:\n",
    "            #print os.path.join(subdir, file)\n",
    "            filepath = subdir + os.sep + fname\n",
    "            with open(filepath) as f:\n",
    "                for line1,line2 in itertools.izip_longest(*[f]*2):\n",
    "                    try:\n",
    "                        text = ast.literal_eval(line1)\n",
    "                        label = ast.literal_eval(line2)\n",
    "                        n_labels = set(label)\n",
    "                        if len(text) > 3 and len(n_labels) > 1:\n",
    "                            sentence = zip(text, label)\n",
    "                            sentence = [item for item in sentence if item[0].strip() != '']\n",
    "                            data_list.append(sentence)\n",
    "                    except:\n",
    "                        pass\n",
    "            f.close()\n",
    "    return data_list"
   ]
  },
  {
   "cell_type": "code",
   "execution_count": 4,
   "metadata": {},
   "outputs": [
    {
     "name": "stdout",
     "output_type": "stream",
     "text": [
      "[('Rod', 'NA'), ('and', 'NA'), ('cone', 'NA'), ('photoreceptors', 'NA'), ('subserve', 'NA'), ('vision', 'NA'), ('under', 'NA'), ('dim', 'NA'), ('and', 'NA'), ('bright', 'NA'), ('light', 'NA'), ('conditions', 'NA'), ('respectively', 'NA'), ('The', 'NA'), ('differences', 'NA'), ('in', 'NA'), ('their', 'NA'), ('function', 'NA'), ('are', 'NA'), ('thought', 'NA'), ('to', 'NA'), ('stem', 'NA'), ('from', 'NA'), ('their', 'NA'), ('different', 'NA'), ('gene', 'NA'), ('expression', 'NA'), ('patterns', 'NA'), ('morphologies', 'NA'), ('and', 'NA'), ('synaptic', 'NA'), ('connectivities', 'NA'), ('In', 'NA'), ('this', 'NA'), ('study', 'NA'), ('we', 'NA'), ('have', 'NA'), ('examined', 'NA'), ('the', 'NA'), ('photoreceptor', 'NA'), ('cells', 'NA'), ('of', 'NA'), ('the', 'NA'), ('retinal', 'NA'), ('degeneration', 'NA'), ('7', 'NA'), ('rd7', 'NA'), ('mutant', 'NA'), ('mouse', 'NA'), ('a', 'NA'), ('model', 'NA'), ('for', 'NA'), ('the', 'NA'), ('human', 'NA'), ('enhanced', 'NA'), ('Scone', 'NA'), ('syndrome', 'NA'), ('ESCS', 'NA'), ('This', 'NA'), ('mutant', 'NA'), ('carries', 'NA'), ('a', 'NA'), ('spontaneous', 'NA'), ('deletion', 'NA'), ('in', 'NA'), ('the', 'NA'), ('mouse', 'NA'), ('ortholog', 'NA'), ('of', 'NA'), ('NR2E3', 'PR:000011403'), ('an', 'NA'), ('orphan', 'NA'), ('nuclear', 'NA'), ('receptor', 'NA'), ('transcription', 'NA'), ('factor', 'NA'), ('mutated', 'NA'), ('in', 'NA'), ('ESCS', 'NA'), ('Employing', 'NA'), ('microarray', 'NA'), ('and', 'NA'), ('in', 'NA'), ('situ', 'NA'), ('hybridization', 'NA'), ('analysis', 'NA'), ('we', 'NA'), ('have', 'NA'), ('found', 'NA'), ('that', 'NA'), ('the', 'NA'), ('rd7', 'NA'), ('retina', 'NA'), ('contains', 'NA'), ('a', 'NA'), ('modestly', 'NA'), ('increased', 'NA'), ('number', 'NA'), ('of', 'NA'), ('Sopsin\\xe2\\x80\\x93expressing', 'NA'), ('cells', 'NA'), ('that', 'NA'), ('ultrastructurally', 'NA'), ('appear', 'NA'), ('to', 'NA'), ('be', 'NA'), ('normal', 'NA'), ('cones', 'NA'), ('Strikingly', 'NA'), ('the', 'NA'), ('majority', 'NA'), ('of', 'NA'), ('the', 'NA'), ('photoreceptors', 'NA'), ('in', 'NA'), ('the', 'NA'), ('rd7', 'NA'), ('retina', 'NA'), ('represent', 'NA'), ('a', 'NA'), ('morphologically', 'NA'), ('hybrid', 'NA'), ('cell', 'NA'), ('type', 'NA'), ('that', 'NA'), ('expresses', 'NA'), ('both', 'NA'), ('rod', 'NA'), ('and', 'NA'), ('conespecific', 'NA'), ('genes', 'NA'), ('In', 'NA'), ('addition', 'NA'), ('in', 'NA'), ('situ', 'NA'), ('hybridization', 'NA'), ('screening', 'NA'), ('of', 'NA'), ('genes', 'NA'), ('shown', 'NA'), ('to', 'NA'), ('be', 'NA'), ('upregulated', 'NA'), ('in', 'NA'), ('the', 'NA'), ('rd7', 'NA'), ('mutant', 'NA'), ('retina', 'NA'), ('by', 'NA'), ('microarray', 'NA'), ('identified', 'NA'), ('ten', 'NA'), ('new', 'NA'), ('conespecific', 'NA'), ('or', 'NA'), ('coneenriched', 'NA'), ('genes', 'NA'), ('with', 'NA'), ('a', 'NA'), ('wide', 'NA'), ('range', 'NA'), ('of', 'NA'), ('biochemical', 'NA'), ('functions', 'NA'), ('including', 'NA'), ('two', 'NA'), ('genes', 'NA'), ('specifically', 'NA'), ('involved', 'NA'), ('in', 'NA'), ('glucoseglycogen', 'NA'), ('metabolism', 'NA'), ('We', 'NA'), ('suggest', 'NA'), ('that', 'NA'), ('the', 'NA'), ('abnormal', 'NA'), ('electroretinograms', 'NA'), ('slow', 'NA'), ('retinal', 'NA'), ('degeneration', 'NA'), ('and', 'NA'), ('retinal', 'NA'), ('dysmorphology', 'NA'), ('seen', 'NA'), ('in', 'NA'), ('humans', 'NA'), ('with', 'NA'), ('ESCS', 'NA'), ('may', 'NA'), ('in', 'NA'), ('part', 'NA'), ('be', 'NA'), ('attributable', 'NA'), ('to', 'NA'), ('the', 'NA'), ('aberrant', 'NA'), ('function', 'NA'), ('of', 'NA'), ('a', 'NA'), ('hybrid', 'NA'), ('photoreceptor', 'NA'), ('cell', 'NA'), ('type', 'NA'), ('similar', 'NA'), ('to', 'NA'), ('that', 'NA'), ('identified', 'NA'), ('in', 'NA'), ('this', 'NA'), ('study', 'NA'), ('The', 'NA'), ('functional', 'NA'), ('diversity', 'NA'), ('of', 'NA'), ('the', 'NA'), ('novel', 'NA'), ('conespecific', 'NA'), ('genes', 'NA'), ('identified', 'NA'), ('here', 'NA'), ('indicates', 'NA'), ('molecular', 'NA'), ('differences', 'NA'), ('between', 'NA'), ('rods', 'NA'), ('and', 'NA'), ('cones', 'NA'), ('extending', 'NA'), ('far', 'NA'), ('beyond', 'NA'), ('those', 'NA'), ('previously', 'NA'), ('discovered', 'NA')]\n"
     ]
    },
    {
     "data": {
      "text/plain": [
       "546"
      ]
     },
     "execution_count": 4,
     "metadata": {},
     "output_type": "execute_result"
    }
   ],
   "source": [
    "data_list = read_data('../data/input/output_pr/')\n",
    "\n",
    "print data_list[0]\n",
    "\n",
    "# data_list = data_list[:3000]\n",
    "\n",
    "# words = list(chain.from_iterable(data_list))\n",
    "# print words\n",
    "\n",
    "words = list(set(y[0] for x in data_list for y in x))\n",
    "words.append(\"ENDPAD\")\n",
    "n_words = len(words); n_words\n",
    "\n",
    "tags = list(set(y[1] for x in data_list for y in x))\n",
    "n_tags = len(tags); n_tags"
   ]
  },
  {
   "cell_type": "code",
   "execution_count": 5,
   "metadata": {
    "collapsed": true
   },
   "outputs": [],
   "source": [
    "# from sklearn.preprocessing import LabelEncoder\n",
    "\n",
    "# le = LabelEncoder()\n",
    "# le.fit(list(y[1] for x in data_list for y in x))\n",
    "\n",
    "# labels2idx = dict(zip(le.classes_, le.transform(le.classes_)))\n",
    "\n",
    "# idx2la = {labels2idx[k]:k for k in labels2idx}"
   ]
  },
  {
   "cell_type": "code",
   "execution_count": 6,
   "metadata": {},
   "outputs": [
    {
     "name": "stdout",
     "output_type": "stream",
     "text": [
      "6673\n",
      "487\n"
     ]
    }
   ],
   "source": [
    "max_len = 75\n",
    "word2idx = {w: i + 1 for i, w in enumerate(words)}\n",
    "tag2idx = {t: i for i, t in enumerate(tags, 1)}\n",
    "tag2idx['0'] = 0\n",
    "n_tags += 1\n",
    "\n",
    "idx2tag = {v: k for k, v in tag2idx.iteritems()}\n",
    "\n",
    "print word2idx['NR2E3']\n",
    "print tag2idx[\"NA\"]"
   ]
  },
  {
   "cell_type": "code",
   "execution_count": 7,
   "metadata": {},
   "outputs": [
    {
     "name": "stdout",
     "output_type": "stream",
     "text": [
      "{'PR:000003199': 1, 'PR:000015706': 2, 'PR:000010246': 3, 'PR:000015394': 4, 'PR:000015393': 5, 'PR:000010249': 6, 'PR:000015399': 7, 'PR:000007232': 8, 'PR:000025662': 9, 'PR:000007924': 10, 'PR:000007928': 11, 'PR:000017370': 12, 'PR:000013057': 13, 'PR:000013056': 14, 'PR:000017387': 479, 'PR:000013058': 15, 'PR:000007234': 188, 'PR:000011441': 17, 'PR:000013672': 18, 'PR:000016579': 19, 'PR:000008680': 279, 'PR:000013829': 21, 'PR:000013820': 22, 'PR:000005257': 23, 'PR:000013947': 24, 'PR:000006592': 25, 'PR:000015305': 26, 'PR:000006606': 27, 'PR:000006607': 28, 'PR:000009064': 29, 'PR:000006608': 30, 'PR:000007241': 31, 'PR:000010242': 32, 'PR:000009365': 33, 'PR:000001856': 34, 'PR:000010875': 36, 'PR:000008260': 37, 'PR:000008610': 38, 'PR:000014615': 39, 'PR:000009218': 40, 'PR:000006506': 41, 'PR:000006853': 42, 'PR:000006852': 43, 'PR:000006855': 44, 'PR:000006854': 45, 'PR:000006857': 46, 'PR:000006856': 47, 'PR:000010213': 475, 'PR:000010873': 48, 'PR:000003457': 49, 'PR:000010925': 50, 'PR:000009965': 321, 'PR:000000035': 52, 'PR:000000034': 53, 'PR:000000037': 54, 'PR:000000036': 55, 'PR:000000133': 56, 'PR:000012478': 57, 'PR:000007163': 374, 'PR:000004126': 308, 'PR:000001405': 60, 'PR:000004122': 61, 'PR:000005022': 62, 'PR:000016652': 63, 'PR:000010562': 477, 'PR:000016655': 65, 'PR:000010208': 66, 'PR:000003090': 67, 'PR:000016898': 68, 'PR:000016899': 69, 'PR:000016896': 70, 'PR:000010473': 71, 'PR:000016890': 72, 'PR:000016891': 73, 'PR:000007968': 74, 'PR:000016893': 75, 'PR:000000686': 76, 'PR:000017438': 77, 'PR:000003918': 78, 'PR:000000728': 79, '0': 0, 'PR:000006432': 80, 'PR:000017435': 81, 'PR:000000046': 82, 'PR:000005307': 220, 'PR:000016008': 84, 'PR:000016007': 85, 'PR:000016006': 86, 'PR:000013159': 87, 'PR:000016001': 88, 'PR:000011521': 89, 'PR:000000282': 147, 'PR:000013524': 91, 'PR:000011526': 92, 'PR:000013639': 93, 'PR:000018242': 94, 'PR:000004904': 95, 'PR:000011059': 96, 'PR:000002325': 97, 'PR:000010501': 98, 'PR:000002089': 99, 'PR:000007243': 100, 'PR:000002087': 101, 'PR:000006642': 102, 'PR:000015456': 103, 'PR:000014434': 104, 'PR:000007563': 106, 'PR:000017448': 107, 'PR:000017449': 108, 'PR:000013845': 200, 'PR:000017444': 110, 'PR:000017443': 111, 'PR:000007348': 112, 'PR:000001811': 113, 'PR:000011416': 114, 'PR:000013523': 115, 'PR:000013522': 116, 'PR:000003676': 117, 'PR:000003675': 118, 'PR:000003172': 119, 'PR:000002112': 539, 'PR:000015235': 149, 'PR:000006542': 121, 'PR:000006545': 122, 'PR:000006549': 123, 'PR:000008534': 125, 'PR:000009439': 126, 'PR:000014364': 127, 'PR:000014365': 128, 'PR:000008942': 129, 'PR:000003710': 130, 'PR:000004499': 131, 'PR:000003715': 132, 'PR:000002193': 133, 'PR:000003719': 134, 'PR:000003718': 135, 'PR:000002198': 136, 'PR:000004168': 137, 'PR:000001886': 231, 'PR:000016340': 236, 'PR:000007749': 140, 'PR:000001447': 141, 'PR:000010704': 142, 'PR:000005848': 143, 'PR:000008233': 144, 'PR:000009481': 145, 'PR:000025572': 146, 'PR:000005845': 148, 'PR:000008210': 460, 'PR:000008307': 120, 'PR:000007840': 150, 'PR:000012199': 151, 'PR:000005908': 213, 'PR:000002107': 153, 'PR:000017104': 332, 'PR:000012421': 155, 'PR:000000005': 156, 'PR:000016043': 157, 'PR:000000166': 158, 'PR:000000165': 159, 'PR:000000164': 160, 'PR:000026878': 161, 'PR:000005015': 162, 'PR:000000168': 163, 'PR:000012605': 164, 'PR:000015308': 165, 'PR:000000782': 166, 'PR:000007939': 167, 'PR:000010277': 168, 'PR:000005402': 169, 'PR:000003328': 170, 'PR:000005404': 171, 'PR:000010425': 172, 'PR:000001044': 389, 'PR:000010788': 174, 'PR:000003969': 175, 'PR:000022321': 176, 'PR:000022320': 177, 'PR:000012516': 178, 'PR:000006902': 179, 'PR:000006901': 180, 'PR:000004937': 181, 'PR:000016548': 182, 'PR:000015665': 183, 'PR:000003035': 184, 'PR:000005121': 185, 'PR:000009116': 186, 'PR:000009054': 187, 'PR:000025601': 16, 'PR:000010496': 189, 'PR:000015966': 190, 'PR:000005836': 191, 'PR:000009279': 35, 'PR:000005835': 193, 'PR:000009274': 194, 'PR:000004615': 195, 'PR:000008442': 305, 'PR:000016269': 197, 'PR:000008278': 198, 'PR:000001245': 199, 'PR:000016262': 109, 'PR:000016261': 201, 'PR:000004759': 202, 'PR:000001242': 203, 'PR:000009758': 204, 'PR:000016146': 205, 'PR:000016145': 206, 'PR:000004967': 393, 'PR:000009751': 208, 'PR:000006536': 209, 'PR:000006534': 210, 'PR:000004185': 211, 'PR:000008159': 212, 'PR:000011157': 380, 'PR:000004183': 152, 'PR:000004182': 214, 'PR:000005907': 215, 'PR:000005904': 216, 'PR:000008871': 217, 'PR:000008870': 218, 'PR:000009871': 219, 'PR:000008081': 221, 'PR:000004503': 222, 'PR:000000216': 489, 'PR:000016642': 223, 'PR:000016649': 224, 'PR:000013712': 490, 'PR:000007499': 491, 'PR:000008703': 227, 'PR:000002004': 228, 'PR:000002005': 229, 'PR:000003537': 230, 'PR:000026474': 138, 'PR:000006153': 232, 'PR:000017035': 233, 'PR:000004372': 234, 'PR:000017653': 235, 'PR:000005061': 139, 'PR:000017527': 237, 'PR:000001119': 238, 'PR:000010303': 241, 'PR:000015435': 405, 'PR:000010514': 243, 'PR:000000940': 244, 'PR:000002091': 245, 'PR:000009158': 331, 'PR:000010903': 247, 'PR:000010173': 442, 'PR:000015039': 248, 'PR:000006499': 249, 'PR:000006498': 250, 'PR:000017354': 251, 'PR:000017355': 252, 'PR:000017459': 253, 'PR:000017453': 254, 'PR:000017452': 255, 'PR:000010869': 256, 'PR:000011469': 257, 'PR:000007299': 258, 'PR:000006874': 259, 'PR:000013043': 410, 'PR:000004804': 260, 'PR:000006459': 261, 'PR:000009255': 496, 'PR:000004716': 263, 'PR:000004803': 264, 'PR:000014258': 265, 'PR:000014395': 266, 'PR:000014397': 267, 'PR:000003107': 268, 'PR:000013965': 269, 'PR:000005274': 270, 'PR:000009655': 271, 'PR:000007998': 272, 'PR:000012946': 273, 'PR:000008523': 274, 'PR:000008292': 275, 'PR:000009345': 276, 'PR:000012867': 277, 'PR:000014373': 278, 'PR:000007124': 20, 'PR:000001937': 280, 'PR:000004621': 281, 'PR:000006858': 282, 'PR:000010162': 283, 'PR:000004257': 284, 'PR:000001831': 413, 'PR:000001479': 286, 'PR:000025584': 287, 'PR:000015553': 288, 'PR:000025583': 289, 'PR:000015921': 290, 'PR:000009882': 291, 'PR:000005308': 292, 'PR:000008636': 105, 'PR:000007050': 294, 'PR:000010706': 296, 'PR:000003573': 297, 'PR:000003572': 298, 'PR:000008840': 299, 'PR:000005958': 300, 'PR:000003809': 301, 'PR:000009744': 302, 'PR:000022850': 303, 'PR:000005009': 192, 'PR:000005005': 196, 'PR:000016672': 306, 'PR:000003980': 307, 'PR:000005430': 309, 'PR:000015073': 310, 'PR:000008317': 500, 'PR:000010799': 312, 'PR:000003979': 313, 'PR:000013773': 314, 'PR:000006454': 315, 'PR:000006453': 316, 'PR:000004445': 317, 'PR:000012076': 318, 'PR:000025365': 502, 'PR:000011508': 322, 'PR:000015288': 323, 'PR:000007229': 324, 'PR:000007228': 325, 'PR:000014925': 326, 'PR:000009289': 327, 'PR:000007227': 328, 'PR:000007223': 329, 'PR:000009167': 330, 'PR:000004427': 154, 'PR:000007897': 333, 'PR:000007895': 334, 'PR:000013428': 335, 'PR:000013429': 336, 'PR:000012825': 337, 'PR:000008396': 338, 'PR:000012826': 339, 'PR:000015919': 340, 'PR:000010687': 341, 'PR:000010686': 342, 'PR:000011432': 343, 'PR:000001875': 344, 'PR:000010124': 345, 'PR:000000167': 346, 'PR:000013858': 347, 'PR:000016154': 348, 'PR:000016150': 349, 'PR:000008248': 350, 'PR:000005591': 351, 'PR:000006523': 352, 'PR:000006939': 353, 'PR:000007315': 354, 'PR:000019036': 355, 'PR:000016801': 356, 'PR:000009415': 357, 'PR:000009416': 358, 'PR:000015827': 359, 'PR:000008418': 360, 'PR:000009863': 361, 'PR:000001195': 362, 'PR:000003732': 363, 'PR:000012086': 364, 'PR:000008099': 365, 'PR:000012318': 366, 'PR:000005505': 367, 'PR:000012316': 368, 'PR:000016321': 369, 'PR:000015851': 320, 'PR:000007167': 371, 'PR:000007164': 372, 'PR:000007165': 373, 'PR:000001349': 58, 'PR:000010228': 375, 'PR:000004080': 376, 'PR:000008735': 377, 'PR:000003549': 378, 'PR:000006067': 124, 'PR:000016877': 59, 'PR:000013039': 381, 'PR:000004362': 382, 'PR:000006148': 383, 'PR:000008786': 384, 'PR:000008785': 385, 'PR:000000067': 386, 'PR:000008028': 387, 'PR:000008026': 388, 'PR:000004564': 173, 'PR:000007037': 433, 'PR:000016871': 392, 'PR:000010250': 207, 'PR:000014963': 394, 'PR:000010252': 395, 'PR:000002307': 396, 'PR:000004968': 397, 'PR:000013290': 398, 'PR:000014968': 399, 'PR:000002060': 400, 'PR:000014413': 401, 'PR:000007500': 402, 'PR:000015432': 403, 'PR:000015431': 404, 'PR:000007506': 242, 'PR:000000365': 406, 'PR:000000364': 407, 'PR:000013041': 408, 'PR:000013042': 239, 'PR:000006300': 246, 'PR:000012101': 411, 'PR:000002092': 412, 'PR:000013502': 285, 'PR:000015790': 293, 'PR:000011470': 415, 'PR:000001979': 416, 'PR:000021998': 417, 'PR:000011245': 418, 'PR:000008321': 419, 'PR:000008320': 420, 'PR:000003058': 421, 'PR:000015643': 422, 'PR:000015312': 423, 'PR:000005265': 424, 'PR:000007603': 425, 'PR:000014480': 426, 'PR:000012351': 304, 'PR:000009450': 427, 'PR:000015862': 428, 'PR:000009454': 429, 'PR:000007130': 379, 'PR:000004140': 439, 'PR:000009458': 432, 'PR:000009822': 390, 'PR:000001903': 434, 'PR:000002090': 435, 'PR:000001904': 436, 'PR:000005082': 438, 'PR:000005086': 431, 'PR:000004145': 440, 'PR:000010170': 240, 'PR:000001467': 441, 'PR:000003606': 443, 'PR:000016206': 444, 'PR:000003602': 295, 'PR:000003601': 446, 'PR:000008212': 447, 'PR:000005645': 448, 'PR:000005644': 449, 'PR:000005646': 450, 'PR:000005643': 451, 'PR:000014662': 391, 'PR:000006847': 453, 'PR:000011396': 454, 'PR:000008608': 455, 'PR:000008609': 456, 'PR:000022460': 457, 'PR:000003604': 458, 'PR:000009231': 459, 'PR:000015865': 430, 'PR:000015890': 445, 'PR:000011194': 461, 'PR:000011196': 462, 'PR:000005720': 463, 'PR:000010717': 464, 'PR:000009235': 465, 'PR:000000027': 466, 'PR:000000021': 467, 'PR:000016062': 468, 'PR:000023591': 469, 'PR:000016892': 470, 'PR:000004683': 471, 'PR:000012285': 472, 'PR:000012286': 473, 'PR:000005311': 474, 'PR:000000363': 409, 'PR:000005310': 452, 'PR:000014841': 476, 'PR:000015169': 64, 'PR:000003263': 526, 'PR:000010764': 90, 'PR:000000281': 480, 'PR:000000287': 481, 'PR:000000731': 482, 'PR:000004453': 483, 'PR:000014702': 370, 'PR:000004918': 484, 'PR:000005693': 485, 'PR:000004855': 486, 'NA': 487, 'PR:000014441': 488, 'PR:000000047': 83, 'PR:000007551': 225, 'PR:000015445': 226, 'PR:000010968': 492, 'PR:000007070': 493, 'PR:000009312': 494, 'PR:000008867': 51, 'PR:000023661': 495, 'PR:000001949': 262, 'PR:000011403': 497, 'PR:000008258': 498, 'PR:000025349': 499, 'PR:000001224': 311, 'PR:000006928': 501, 'PR:000014237': 319, 'PR:000005215': 503, 'PR:000015619': 504, 'PR:000008131': 505, 'PR:000008813': 506, 'PR:000008816': 507, 'PR:000011471': 414, 'PR:000001683': 508, 'PR:000001891': 509, 'PR:000000105': 510, 'PR:000008038': 540, 'PR:000001450': 512, 'PR:000001451': 513, 'PR:000004177': 514, 'PR:000009495': 515, 'PR:000005776': 516, 'PR:000005770': 517, 'PR:000005850': 518, 'PR:000008654': 519, 'PR:000016585': 520, 'PR:000001672': 521, 'PR:000003264': 522, 'PR:000016904': 523, 'PR:000003266': 524, 'PR:000016902': 525, 'PR:000016900': 478, 'PR:000003262': 527, 'PR:000007856': 528, 'PR:000007857': 529, 'PR:000010443': 530, 'PR:000010442': 531, 'PR:000015124': 532, 'PR:000009921': 533, 'PR:000007858': 534, 'PR:000007859': 535, 'PR:000011141': 536, 'PR:000010248': 537, 'PR:000017504': 538, 'PR:000000073': 437, 'PR:000017298': 511, 'PR:000001177': 541, 'PR:000001175': 542, 'PR:000016057': 543, 'PR:000001179': 544, 'PR:000001178': 545, 'PR:000017296': 546}\n"
     ]
    }
   ],
   "source": [
    "print tag2idx"
   ]
  },
  {
   "cell_type": "code",
   "execution_count": 8,
   "metadata": {
    "collapsed": true
   },
   "outputs": [],
   "source": [
    "from keras.preprocessing.sequence import pad_sequences\n",
    "X = [[word2idx[w[0]] for w in s] for s in data_list]"
   ]
  },
  {
   "cell_type": "code",
   "execution_count": 9,
   "metadata": {
    "collapsed": true
   },
   "outputs": [],
   "source": [
    "X = pad_sequences(maxlen=max_len, sequences=X, padding=\"post\", value=-1)"
   ]
  },
  {
   "cell_type": "code",
   "execution_count": 10,
   "metadata": {
    "collapsed": true
   },
   "outputs": [],
   "source": [
    "y = [[tag2idx[w[1]] for w in s] for s in data_list]"
   ]
  },
  {
   "cell_type": "code",
   "execution_count": 11,
   "metadata": {
    "collapsed": true
   },
   "outputs": [],
   "source": [
    "y = pad_sequences(maxlen=max_len, sequences=y, padding=\"post\", value=tag2idx[\"NA\"])"
   ]
  },
  {
   "cell_type": "code",
   "execution_count": 12,
   "metadata": {
    "collapsed": true
   },
   "outputs": [],
   "source": [
    "from keras.utils import to_categorical\n",
    "\n",
    "y = [to_categorical(i, num_classes=n_tags) for i in y]"
   ]
  },
  {
   "cell_type": "code",
   "execution_count": 13,
   "metadata": {
    "collapsed": true
   },
   "outputs": [],
   "source": [
    "from sklearn.model_selection import train_test_split\n",
    "\n",
    "X_tr, X_te, y_tr, y_te = train_test_split(X, y, test_size=0.3)"
   ]
  },
  {
   "cell_type": "code",
   "execution_count": 14,
   "metadata": {
    "collapsed": true
   },
   "outputs": [],
   "source": [
    "# from sklearn.utils import class_weight\n",
    "# import numpy as np\n",
    "\n",
    "# cw = class_weight.compute_class_weight('balanced',\n",
    "#                                                  np.unique(y_tr),\n",
    "#                                                  y_tr)"
   ]
  },
  {
   "cell_type": "code",
   "execution_count": 15,
   "metadata": {},
   "outputs": [
    {
     "name": "stdout",
     "output_type": "stream",
     "text": [
      "(1667, 75) (715, 75) (1667, 75, 547) (715, 75, 547)\n"
     ]
    }
   ],
   "source": [
    "print np.shape(X_tr), np.shape(X_te), np.shape(y_tr), np.shape(y_te)"
   ]
  },
  {
   "cell_type": "code",
   "execution_count": 16,
   "metadata": {
    "collapsed": true,
    "scrolled": true
   },
   "outputs": [],
   "source": [
    "from keras.models import Model, Input\n",
    "from keras.layers import LSTM, Embedding, Dense, TimeDistributed, Dropout, Bidirectional\n",
    "from keras_contrib.layers import CRF\n",
    "\n",
    "input = Input(shape=(max_len,))\n",
    "model = Embedding(input_dim=n_words + 1, output_dim=100,\n",
    "                  input_length=max_len, mask_zero=True)(input)  # 20-dim embedding\n",
    "model = Bidirectional(LSTM(units=100, return_sequences=True,\n",
    "                           recurrent_dropout=0.25))(model)  # variational biLSTM\n",
    "model = TimeDistributed(Dense(n_tags, activation=\"relu\"))(model)  # a dense layer as suggested by neuralNer\n",
    "crf = CRF(n_tags)  # CRF layer\n",
    "out = crf(model)  # output"
   ]
  },
  {
   "cell_type": "code",
   "execution_count": 17,
   "metadata": {
    "collapsed": true
   },
   "outputs": [],
   "source": [
    "model = Model(input, out)"
   ]
  },
  {
   "cell_type": "code",
   "execution_count": 18,
   "metadata": {
    "collapsed": true
   },
   "outputs": [],
   "source": [
    "model.compile(optimizer=\"rmsprop\", loss=crf.loss_function, metrics=[crf.accuracy])"
   ]
  },
  {
   "cell_type": "code",
   "execution_count": 19,
   "metadata": {},
   "outputs": [
    {
     "name": "stdout",
     "output_type": "stream",
     "text": [
      "_________________________________________________________________\n",
      "Layer (type)                 Output Shape              Param #   \n",
      "=================================================================\n",
      "input_1 (InputLayer)         (None, 75)                0         \n",
      "_________________________________________________________________\n",
      "embedding_1 (Embedding)      (None, 75, 100)           1809500   \n",
      "_________________________________________________________________\n",
      "bidirectional_1 (Bidirection (None, 75, 200)           160800    \n",
      "_________________________________________________________________\n",
      "time_distributed_1 (TimeDist (None, 75, 547)           109947    \n",
      "_________________________________________________________________\n",
      "crf_1 (CRF)                  (None, 75, 547)           600059    \n",
      "=================================================================\n",
      "Total params: 2,680,306\n",
      "Trainable params: 2,680,306\n",
      "Non-trainable params: 0\n",
      "_________________________________________________________________\n"
     ]
    }
   ],
   "source": [
    "model.summary()\n",
    "\n"
   ]
  },
  {
   "cell_type": "code",
   "execution_count": 20,
   "metadata": {
    "scrolled": true
   },
   "outputs": [
    {
     "name": "stdout",
     "output_type": "stream",
     "text": [
      "Train on 1667 samples, validate on 715 samples\n",
      "Epoch 1/15\n",
      "1667/1667 [==============================] - 35s 21ms/step - loss: 0.7937 - viterbi_acc: 0.9315 - val_loss: 0.3018 - val_viterbi_acc: 0.9726\n",
      "Epoch 2/15\n",
      "1667/1667 [==============================] - 34s 20ms/step - loss: 0.2817 - viterbi_acc: 0.9721 - val_loss: 0.2678 - val_viterbi_acc: 0.9726\n",
      "Epoch 3/15\n",
      "1667/1667 [==============================] - 34s 20ms/step - loss: 0.2276 - viterbi_acc: 0.9721 - val_loss: 0.2323 - val_viterbi_acc: 0.9726\n",
      "Epoch 4/15\n",
      "1667/1667 [==============================] - 33s 20ms/step - loss: 0.1733 - viterbi_acc: 0.9727 - val_loss: 0.1685 - val_viterbi_acc: 0.9731\n",
      "Epoch 5/15\n",
      "1667/1667 [==============================] - 34s 20ms/step - loss: 0.1460 - viterbi_acc: 0.9729 - val_loss: 0.1521 - val_viterbi_acc: 0.9737\n",
      "Epoch 6/15\n",
      "1667/1667 [==============================] - 34s 20ms/step - loss: 0.1339 - viterbi_acc: 0.9733 - val_loss: 0.1483 - val_viterbi_acc: 0.9738\n",
      "Epoch 7/15\n",
      "1667/1667 [==============================] - 34s 20ms/step - loss: 0.1241 - viterbi_acc: 0.9738 - val_loss: 0.1419 - val_viterbi_acc: 0.9739\n",
      "Epoch 8/15\n",
      "1667/1667 [==============================] - 35s 21ms/step - loss: 0.1183 - viterbi_acc: 0.9742 - val_loss: 0.1410 - val_viterbi_acc: 0.9751\n",
      "Epoch 9/15\n",
      "1667/1667 [==============================] - 36s 21ms/step - loss: 0.1129 - viterbi_acc: 0.9747 - val_loss: 0.1425 - val_viterbi_acc: 0.9750\n",
      "Epoch 10/15\n",
      "1667/1667 [==============================] - 36s 21ms/step - loss: 0.1091 - viterbi_acc: 0.9751 - val_loss: 0.1374 - val_viterbi_acc: 0.9754\n",
      "Epoch 11/15\n",
      "1667/1667 [==============================] - 36s 22ms/step - loss: 0.1044 - viterbi_acc: 0.9756 - val_loss: 0.1426 - val_viterbi_acc: 0.9754\n",
      "Epoch 12/15\n",
      "1667/1667 [==============================] - 36s 22ms/step - loss: 0.0999 - viterbi_acc: 0.9764 - val_loss: 0.1348 - val_viterbi_acc: 0.9768\n",
      "Epoch 13/15\n",
      "1667/1667 [==============================] - 36s 22ms/step - loss: 0.0949 - viterbi_acc: 0.9774 - val_loss: 0.1388 - val_viterbi_acc: 0.9772\n",
      "Epoch 14/15\n",
      "1667/1667 [==============================] - 36s 22ms/step - loss: 0.0895 - viterbi_acc: 0.9787 - val_loss: 0.1366 - val_viterbi_acc: 0.9776\n",
      "Epoch 15/15\n",
      "1667/1667 [==============================] - 36s 22ms/step - loss: 0.0824 - viterbi_acc: 0.9806 - val_loss: 0.1263 - val_viterbi_acc: 0.9795\n"
     ]
    }
   ],
   "source": [
    "history = model.fit(X_tr, np.array(y_tr), batch_size=32, epochs=15,\n",
    "                    validation_data=(X_te, np.array(y_te)), class_weight = 'auto', verbose=1)"
   ]
  },
  {
   "cell_type": "code",
   "execution_count": 21,
   "metadata": {
    "collapsed": true
   },
   "outputs": [],
   "source": [
    "hist = pd.DataFrame(history.history)"
   ]
  },
  {
   "cell_type": "code",
   "execution_count": 22,
   "metadata": {},
   "outputs": [
    {
     "name": "stdout",
     "output_type": "stream",
     "text": [
      "        loss  val_loss  val_viterbi_acc  viterbi_acc\n",
      "0   0.793689  0.301816         0.972606     0.931550\n",
      "1   0.281708  0.267781         0.972606     0.972086\n",
      "2   0.227633  0.232255         0.972606     0.972086\n",
      "3   0.173341  0.168482         0.973072     0.972661\n",
      "4   0.146019  0.152096         0.973650     0.972917\n",
      "5   0.133916  0.148342         0.973818     0.973325\n",
      "6   0.124117  0.141895         0.973874     0.973829\n",
      "7   0.118347  0.140987         0.975142     0.974237\n",
      "8   0.112873  0.142537         0.975012     0.974749\n",
      "9   0.109124  0.137439         0.975403     0.975125\n",
      "10  0.104389  0.142590         0.975403     0.975581\n",
      "11  0.099893  0.134830         0.976802     0.976357\n",
      "12  0.094893  0.138760         0.977193     0.977365\n",
      "13  0.089546  0.136564         0.977641     0.978708\n",
      "14  0.082375  0.126286         0.979469     0.980596\n"
     ]
    }
   ],
   "source": [
    "print hist"
   ]
  },
  {
   "cell_type": "code",
   "execution_count": 23,
   "metadata": {},
   "outputs": [
    {
     "data": {
      "image/png": "[encoded data removed]",
      "text/plain": [
       "<matplotlib.figure.Figure at 0x7f3b184f39d0>"
      ]
     },
     "metadata": {},
     "output_type": "display_data"
    }
   ],
   "source": [
    "import matplotlib.pyplot as plt\n",
    "plt.style.use(\"ggplot\")\n",
    "plt.figure(figsize=(12,12))\n",
    "plt.plot(hist[\"loss\"], label='Training Loss')\n",
    "plt.plot(hist[\"val_loss\"], label='Validation Loss')\n",
    "plt.legend()\n",
    "plt.show()"
   ]
  },
  {
   "cell_type": "code",
   "execution_count": 24,
   "metadata": {},
   "outputs": [
    {
     "data": {
      "image/png": "[encoded data removed]",
      "text/plain": [
       "<matplotlib.figure.Figure at 0x7f3b4d10d690>"
      ]
     },
     "metadata": {},
     "output_type": "display_data"
    }
   ],
   "source": [
    "plt.style.use(\"ggplot\")\n",
    "plt.figure(figsize=(12,12))\n",
    "plt.plot(hist[\"viterbi_acc\"], label='Training Accuracy')\n",
    "plt.plot(hist[\"val_viterbi_acc\"], label='Validation Accuracy')\n",
    "plt.legend()\n",
    "plt.show()"
   ]
  },
  {
   "cell_type": "code",
   "execution_count": 25,
   "metadata": {
    "scrolled": true
   },
   "outputs": [
    {
     "name": "stdout",
     "output_type": "stream",
     "text": [
      "[487 487 487 487 487 487 487 487 487 487 487 487 487 487 487 297 487 487\n",
      " 487 487 487 487 487 487 487 487 487  61 487 487 487 487 487 487 487 487\n",
      " 487 487 487 487 487 487 487 487 487 487 487 487 487 487 487 487 487 487\n",
      " 487 487 487 487 487 487 487 487 487 487 487 487 487 487 487 487 487 487\n",
      " 487 487 487]\n",
      "[487 487 487 487 487 487 487 487 487 487 487 487 487 487 487 130 487 487\n",
      " 487 487 487 487 487 487 487 487 487 130 487 487 487 487 487 487 487 487\n",
      " 487 487 487 487 487 487 487 487 487 487 487 487 487 487 487 487 487 487\n",
      " 487 487 487 487 487 487 487 487 487 487 487 487 487 487 487 487 487 487\n",
      " 487 487 487]\n",
      "['NA', 'NA', 'NA', 'NA', 'NA', 'NA', 'NA', 'NA', 'NA', 'NA', 'NA', 'NA', 'NA', 'NA', 'NA', 'PR:000003573', 'NA', 'NA', 'NA', 'NA', 'NA', 'NA', 'NA', 'NA', 'NA', 'NA', 'NA', 'PR:000004122', 'NA', 'NA', 'NA', 'NA', 'NA', 'NA', 'NA', 'NA', 'NA', 'NA', 'NA', 'NA', 'NA', 'NA', 'NA', 'NA', 'NA', 'NA', 'NA', 'NA', 'NA', 'NA', 'NA', 'NA', 'NA', 'NA', 'NA', 'NA', 'NA', 'NA', 'NA', 'NA', 'NA', 'NA', 'NA', 'NA', 'NA', 'NA', 'NA', 'NA', 'NA', 'NA', 'NA', 'NA', 'NA', 'NA', 'NA']\n",
      "['NA', 'NA', 'NA', 'NA', 'NA', 'NA', 'NA', 'NA', 'NA', 'NA', 'NA', 'NA', 'NA', 'NA', 'NA', 'PR:000003710', 'NA', 'NA', 'NA', 'NA', 'NA', 'NA', 'NA', 'NA', 'NA', 'NA', 'NA', 'PR:000003710', 'NA', 'NA', 'NA', 'NA', 'NA', 'NA', 'NA', 'NA', 'NA', 'NA', 'NA', 'NA', 'NA', 'NA', 'NA', 'NA', 'NA', 'NA', 'NA', 'NA', 'NA', 'NA', 'NA', 'NA', 'NA', 'NA', 'NA', 'NA', 'NA', 'NA', 'NA', 'NA', 'NA', 'NA', 'NA', 'NA', 'NA', 'NA', 'NA', 'NA', 'NA', 'NA', 'NA', 'NA', 'NA', 'NA', 'NA']\n",
      "\n",
      "\n",
      "              precision    recall  f1-score   support\n",
      "\n",
      "          NA       0.99      1.00      1.00      1453\n",
      "PR:000000165       0.00      0.00      0.00         0\n",
      "PR:000000168       0.00      0.00      0.00         0\n",
      "PR:000000728       0.00      0.00      0.00         2\n",
      "PR:000000731       0.00      0.00      0.00         1\n",
      "PR:000001177       0.00      0.00      0.00         5\n",
      "PR:000001683       0.00      0.00      0.00         1\n",
      "PR:000001979       0.00      0.00      0.00         2\n",
      "PR:000002325       0.00      0.00      0.00         0\n",
      "PR:000003058       0.00      0.00      0.00         1\n",
      "PR:000003573       0.00      0.00      0.00         0\n",
      "PR:000003601       0.00      0.00      0.00         0\n",
      "PR:000003710       0.00      0.00      0.00         2\n",
      "PR:000004080       0.00      0.00      0.00         1\n",
      "PR:000004122       0.00      0.00      0.00         0\n",
      "PR:000004372       0.00      0.00      0.00         1\n",
      "PR:000005009       0.00      0.00      0.00         1\n",
      "PR:000005015       0.00      0.00      0.00         1\n",
      "PR:000005311       0.00      0.00      0.00         0\n",
      "PR:000005643       0.00      0.00      0.00         2\n",
      "PR:000005644       0.00      0.00      0.00         1\n",
      "PR:000005645       0.00      0.00      0.00         1\n",
      "PR:000005646       0.00      0.00      0.00         1\n",
      "PR:000005770       0.00      0.00      0.00         1\n",
      "PR:000005845       0.00      0.00      0.00         1\n",
      "PR:000006300       0.00      0.00      0.00         0\n",
      "PR:000006549       0.60      1.00      0.75         3\n",
      "PR:000007223       0.00      0.00      0.00         2\n",
      "PR:000007227       0.00      0.00      0.00         2\n",
      "PR:000007228       0.00      0.00      0.00         1\n",
      "PR:000008608       1.00      0.25      0.40         4\n",
      "PR:000008680       0.00      0.00      0.00         0\n",
      "PR:000013043       0.00      0.00      0.00         0\n",
      "PR:000013672       0.00      0.00      0.00         0\n",
      "PR:000013712       1.00      0.50      0.67         2\n",
      "PR:000013773       0.00      0.00      0.00         0\n",
      "PR:000014441       0.00      0.00      0.00         2\n",
      "PR:000015039       0.00      0.00      0.00         2\n",
      "PR:000015308       1.00      1.00      1.00         1\n",
      "PR:000015865       0.00      0.00      0.00         1\n",
      "PR:000016145       0.00      0.00      0.00         2\n",
      "PR:000016655       0.00      0.00      0.00         0\n",
      "\n",
      " avg / total       0.97      0.97      0.97      1500\n",
      "\n"
     ]
    },
    {
     "name": "stderr",
     "output_type": "stream",
     "text": [
      "/home/sdmohant/.virtualenvs/deeplearn/local/lib/python2.7/site-packages/sklearn/metrics/classification.py:1113: UndefinedMetricWarning: Precision and F-score are ill-defined and being set to 0.0 in labels with no predicted samples.\n",
      "  'precision', 'predicted', average, warn_for)\n",
      "/home/sdmohant/.virtualenvs/deeplearn/local/lib/python2.7/site-packages/sklearn/metrics/classification.py:1115: UndefinedMetricWarning: Recall and F-score are ill-defined and being set to 0.0 in labels with no true samples.\n",
      "  'recall', 'true', average, warn_for)\n"
     ]
    }
   ],
   "source": [
    "from sklearn.metrics import classification_report\n",
    "\n",
    "predicted = model.predict(X_te)\n",
    "\n",
    "true = []\n",
    "predicted_val = []\n",
    "for i in range(len(predicted[:20])):\n",
    "    p_tmp = np.argmax(predicted[i], axis=-1)\n",
    "    t_tmp = np.argmax(y_te[i], -1)\n",
    "    predicted_val.append(p_tmp)\n",
    "    true.append(t_tmp)\n",
    "\n",
    "    \n",
    "p = [list(map(lambda x: idx2tag[x], y)) for y in predicted_val]\n",
    "t = [list(map(lambda x: idx2tag[x], y)) for y in true]\n",
    "\n",
    "print predicted_val[2]\n",
    "print true[2]\n",
    "\n",
    "\n",
    "print p[2]\n",
    "print t[2]\n",
    "\n",
    "report = classification_report(list(itertools.chain.from_iterable(t)), \n",
    "                                    list(itertools.chain.from_iterable(p)))\n",
    "print \"\\n\"\n",
    "print report"
   ]
  },
  {
   "cell_type": "code",
   "execution_count": 26,
   "metadata": {},
   "outputs": [
    {
     "name": "stdout",
     "output_type": "stream",
     "text": [
      "Word           ||True ||Pred\n",
      "==============================\n",
      "H              : PR:000014441 PR:000014441\n",
      "In             : PR:000014441 PR:000014441\n",
      "addition       : PR:000014441 PR:000014441\n",
      "to             : PR:000014441 PR:000014441\n",
      "a              : PR:000014441 PR:000014441\n",
      "large          : PR:000014441 PR:000014441\n",
      "area           : PR:000014441 PR:000014441\n",
      "of             : PR:000014441 PR:000014441\n",
      "γH2AX         : PR:000014441 PR:000014441\n",
      "staining       : PR:000014441 PR:000014441\n",
      "arrow          : PR:000014441 PR:000014441\n",
      "over           : PR:000014441 PR:000014441\n",
      "the            : PR:000014441 PR:000014441\n",
      "XY             : PR:000014441 PR:000014441\n",
      "body           : PR:000014441 PR:000014441\n",
      "there          : PR:000014441 PR:000014441\n",
      "is             : PR:000014441 PR:000014441\n",
      "extensive      : PR:000014441 PR:000014441\n",
      "autosomal      : PR:000014441 PR:000014441\n",
      "H2AX           : PR:000009863 PR:000007551\n",
      "phosphorylation: PR:000014441 PR:000014441\n",
      "arrows         : PR:000014441 PR:000014441\n",
      "NaKATPase      : PR:000014441 PR:000014441\n",
      "NaKATPase      : PR:000014441 PR:000014441\n",
      "NaKATPase      : PR:000014441 PR:000014441\n",
      "NaKATPase      : PR:000014441 PR:000014441\n",
      "NaKATPase      : PR:000014441 PR:000014441\n",
      "NaKATPase      : PR:000014441 PR:000014441\n",
      "NaKATPase      : PR:000014441 PR:000014441\n",
      "NaKATPase      : PR:000014441 PR:000014441\n",
      "NaKATPase      : PR:000014441 PR:000014441\n",
      "NaKATPase      : PR:000014441 PR:000014441\n",
      "NaKATPase      : PR:000014441 PR:000014441\n",
      "NaKATPase      : PR:000014441 PR:000014441\n",
      "NaKATPase      : PR:000014441 PR:000014441\n",
      "NaKATPase      : PR:000014441 PR:000014441\n",
      "NaKATPase      : PR:000014441 PR:000014441\n",
      "NaKATPase      : PR:000014441 PR:000014441\n",
      "NaKATPase      : PR:000014441 PR:000014441\n",
      "NaKATPase      : PR:000014441 PR:000014441\n",
      "NaKATPase      : PR:000014441 PR:000014441\n",
      "NaKATPase      : PR:000014441 PR:000014441\n",
      "NaKATPase      : PR:000014441 PR:000014441\n",
      "NaKATPase      : PR:000014441 PR:000014441\n",
      "NaKATPase      : PR:000014441 PR:000014441\n",
      "NaKATPase      : PR:000014441 PR:000014441\n",
      "NaKATPase      : PR:000014441 PR:000014441\n",
      "NaKATPase      : PR:000014441 PR:000014441\n",
      "NaKATPase      : PR:000014441 PR:000014441\n",
      "NaKATPase      : PR:000014441 PR:000014441\n",
      "NaKATPase      : PR:000014441 PR:000014441\n",
      "NaKATPase      : PR:000014441 PR:000014441\n",
      "NaKATPase      : PR:000014441 PR:000014441\n",
      "NaKATPase      : PR:000014441 PR:000014441\n",
      "NaKATPase      : PR:000014441 PR:000014441\n",
      "NaKATPase      : PR:000014441 PR:000014441\n",
      "NaKATPase      : PR:000014441 PR:000014441\n",
      "NaKATPase      : PR:000014441 PR:000014441\n",
      "NaKATPase      : PR:000014441 PR:000014441\n",
      "NaKATPase      : PR:000014441 PR:000014441\n",
      "NaKATPase      : PR:000014441 PR:000014441\n",
      "NaKATPase      : PR:000014441 PR:000014441\n",
      "NaKATPase      : PR:000014441 PR:000014441\n",
      "NaKATPase      : PR:000014441 PR:000014441\n",
      "NaKATPase      : PR:000014441 PR:000014441\n",
      "NaKATPase      : PR:000014441 PR:000014441\n",
      "NaKATPase      : PR:000014441 PR:000014441\n",
      "NaKATPase      : PR:000014441 PR:000014441\n",
      "NaKATPase      : PR:000014441 PR:000014441\n",
      "NaKATPase      : PR:000014441 PR:000014441\n",
      "NaKATPase      : PR:000014441 PR:000014441\n",
      "NaKATPase      : PR:000014441 PR:000014441\n",
      "NaKATPase      : PR:000014441 PR:000014441\n",
      "NaKATPase      : PR:000014441 PR:000014441\n",
      "NaKATPase      : PR:000014441 PR:000014441\n"
     ]
    }
   ],
   "source": [
    "i = 300\n",
    "pd = model.predict(np.array([X_te[i]]))\n",
    "pd = np.argmax(pd, axis=-1)\n",
    "true = np.argmax(y_te[i], -1)\n",
    "print(\"{:15}||{:5}||{}\".format(\"Word\", \"True\", \"Pred\"))\n",
    "print(30 * \"=\")\n",
    "\n",
    "for w, t1, pred in zip(X_te[i], true, pd[0]):\n",
    "    if w != 0:\n",
    "        print(\"{:15}: {:5} {}\".format(words[w-1], tags[t1], tags[pred]))"
   ]
  },
  {
   "cell_type": "code",
   "execution_count": 27,
   "metadata": {
    "collapsed": true
   },
   "outputs": [],
   "source": [
    "import pandas as pd\n",
    "\n",
    "df = pd.DataFrame(\n",
    "{\n",
    "    'Predicted' : list(itertools.chain.from_iterable(p)),\n",
    "    'Ground Truth': list(itertools.chain.from_iterable(t))\n",
    "}\n",
    ")\n"
   ]
  },
  {
   "cell_type": "code",
   "execution_count": 28,
   "metadata": {
    "collapsed": true
   },
   "outputs": [],
   "source": [
    "df.to_csv('../data/results/PR_LSTM_Based.tsv', sep='\\t')"
   ]
  },
  {
   "cell_type": "code",
   "execution_count": 29,
   "metadata": {},
   "outputs": [
    {
     "name": "stdout",
     "output_type": "stream",
     "text": [
      "Mean semantic similarity:  0.534\n"
     ]
    },
    {
     "data": {
      "text/plain": [
       "<matplotlib.figure.Figure at 0x7f3b4d280b90>"
      ]
     },
     "metadata": {},
     "output_type": "display_data"
    }
   ],
   "source": [
    "%run ./accuracy/src/computeSim.py ../data/results/PR_LSTM_Based.tsv ../data/validation_data/PR_AllSubsumers.tsv"
   ]
  },
  {
   "cell_type": "code",
   "execution_count": null,
   "metadata": {
    "collapsed": true
   },
   "outputs": [],
   "source": []
  }
 ],
 "metadata": {
  "kernelspec": {
   "display_name": "Python 2",
   "language": "python",
   "name": "python2"
  },
  "language_info": {
   "codemirror_mode": {
    "name": "ipython",
    "version": 2
   },
   "file_extension": ".py",
   "mimetype": "text/x-python",
   "name": "python",
   "nbconvert_exporter": "python",
   "pygments_lexer": "ipython2",
   "version": "2.7.12"
  }
 },
 "nbformat": 4,
 "nbformat_minor": 2
}
