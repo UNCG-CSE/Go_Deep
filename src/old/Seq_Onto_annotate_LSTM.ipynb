{
 "cells": [
  {
   "cell_type": "code",
   "execution_count": 1,
   "metadata": {},
   "outputs": [
    {
     "name": "stderr",
     "output_type": "stream",
     "text": [
      "Using TensorFlow backend.\n"
     ]
    }
   ],
   "source": [
    "import json\n",
    "from keras.preprocessing import sequence\n",
    "from keras.models import Sequential\n",
    "from keras.layers.embeddings import Embedding\n",
    "from keras.layers.recurrent import SimpleRNN, GRU, LSTM\n",
    "from keras.layers.core import Dense, Dropout\n",
    "from keras.layers.wrappers import TimeDistributed\n",
    "from keras.layers import Convolution1D, MaxPooling1D\n",
    "from keras.utils import np_utils\n",
    "import itertools\n",
    "import ast\n",
    "from sklearn.model_selection import train_test_split\n",
    "from sklearn.preprocessing import LabelEncoder\n",
    "import sys, os\n",
    "import traceback\n",
    "from itertools import chain\n",
    "import numpy as np\n",
    "import pandas as pd\n",
    "\n",
    "import progressbar\n",
    "\n",
    "import tensorflow as tf\n",
    "os.environ[\"CUDA_DEVICE_ORDER\"] = \"PCI_BUS_ID\"   # see issue #152\n",
    "os.environ[\"CUDA_VISIBLE_DEVICES\"] = \"3\""
   ]
  },
  {
   "cell_type": "code",
   "execution_count": 2,
   "metadata": {
    "collapsed": true
   },
   "outputs": [],
   "source": [
    "import matplotlib.pyplot as plt\n",
    "\n",
    "%matplotlib inline"
   ]
  },
  {
   "cell_type": "code",
   "execution_count": 3,
   "metadata": {
    "collapsed": true
   },
   "outputs": [],
   "source": [
    "def read_data(rootdir):\n",
    "    data_list = []\n",
    "    for subdir, dirs, files in os.walk(rootdir):\n",
    "        for fname in files:\n",
    "            #print os.path.join(subdir, file)\n",
    "            filepath = subdir + os.sep + fname\n",
    "            with open(filepath) as f:\n",
    "                for line1,line2 in itertools.izip_longest(*[f]*2):\n",
    "                    try:\n",
    "                        text = ast.literal_eval(line1)\n",
    "                        label = ast.literal_eval(line2)\n",
    "                        n_labels = set(label)\n",
    "                        if len(text) > 3 and len(n_labels) > 1:\n",
    "                            sentence = zip(text, label)\n",
    "                            sentence = [item for item in sentence if item[0].strip() != '']\n",
    "                            data_list.append(sentence)\n",
    "                    except:\n",
    "                        pass\n",
    "            f.close()\n",
    "    return data_list"
   ]
  },
  {
   "cell_type": "code",
   "execution_count": 6,
   "metadata": {},
   "outputs": [
    {
     "name": "stdout",
     "output_type": "stream",
     "text": [
      "[('A', 'NA'), ('Hybrid', 'NA'), ('Photoreceptor', 'NA'), ('Expressing', 'NA'), ('Both', 'NA'), ('Rod', 'NA'), ('and', 'NA'), ('Cone', 'NA'), ('Genes', 'SO:0000704'), ('in', 'NA'), ('a', 'NA'), ('Mouse', 'NA'), ('Model', 'NA'), ('of', 'NA'), ('Enhanced', 'NA'), ('SCone', 'NA'), ('Syndrome', 'NA')]\n"
     ]
    },
    {
     "data": {
      "text/plain": [
       "155"
      ]
     },
     "execution_count": 6,
     "metadata": {},
     "output_type": "execute_result"
    }
   ],
   "source": [
    "data_list = read_data('../data/input/output_so/')\n",
    "\n",
    "print data_list[0]\n",
    "\n",
    "# data_list = data_list[:3000]\n",
    "\n",
    "# words = list(chain.from_iterable(data_list))\n",
    "# print words\n",
    "\n",
    "words = list(set(y[0] for x in data_list for y in x))\n",
    "words.append(\"ENDPAD\")\n",
    "n_words = len(words); n_words\n",
    "\n",
    "tags = list(set(y[1] for x in data_list for y in x))\n",
    "n_tags = len(tags); n_tags"
   ]
  },
  {
   "cell_type": "code",
   "execution_count": 7,
   "metadata": {
    "collapsed": true
   },
   "outputs": [],
   "source": [
    "# from sklearn.preprocessing import LabelEncoder\n",
    "\n",
    "# le = LabelEncoder()\n",
    "# le.fit(list(y[1] for x in data_list for y in x))\n",
    "\n",
    "# labels2idx = dict(zip(le.classes_, le.transform(le.classes_)))\n",
    "\n",
    "# idx2la = {labels2idx[k]:k for k in labels2idx}"
   ]
  },
  {
   "cell_type": "code",
   "execution_count": 8,
   "metadata": {},
   "outputs": [
    {
     "name": "stdout",
     "output_type": "stream",
     "text": [
      "1099\n",
      "87\n"
     ]
    }
   ],
   "source": [
    "max_len = 75\n",
    "word2idx = {w: i + 1 for i, w in enumerate(words)}\n",
    "tag2idx = {t: i for i, t in enumerate(tags, 1)}\n",
    "tag2idx['0'] = 0\n",
    "n_tags += 1\n",
    "\n",
    "idx2tag = {v: k for k, v in tag2idx.iteritems()}\n",
    "\n",
    "print word2idx['Hybrid']\n",
    "print tag2idx[\"NA\"]"
   ]
  },
  {
   "cell_type": "code",
   "execution_count": 9,
   "metadata": {},
   "outputs": [
    {
     "name": "stdout",
     "output_type": "stream",
     "text": [
      "{'SO:0000994': 1, 'SO:0000993': 2, 'SO:0000188': 3, 'SO:0000855': 5, 'SO:0000854': 6, 'SO:0000857': 7, 'SO:0000856': 8, 'SO:0000851': 9, 'SO:0000853': 10, 'SO:0000667': 11, 'SO:0001077': 12, 'SO:0000859': 13, 'SO:0000858': 14, 'SO:0001452': 15, 'SO:0001453': 16, 'SO:0001450': 17, 'SO:0001451': 18, 'SO:0001454': 19, 'SO:1000035': 20, 'SO:0000051': 21, 'SO:0000345': 22, '0': 0, 'SO:0000346': 23, 'SO:0000110': 24, 'SO:0000340': 25, 'SO:0000112': 26, 'SO:0000296': 27, 'SO:0001183': 28, 'SO:0001185': 29, 'SO:0001059': 30, 'SO:0000860': 31, 'SO:0000865': 32, 'SO:0000902': 33, 'SO:0001442': 34, 'SO:0000906': 35, 'SO:0000673': 36, 'SO:0001444': 37, 'SO:0001441': 38, 'SO:0001114': 39, 'SO:0001445': 40, 'SO:0000771': 41, 'SO:0001447': 42, 'SO:0001446': 43, 'SO:0000068': 44, 'SO:0001448': 45, 'SO:0000104': 46, 'SO:0000984': 47, 'SO:0000577': 48, 'SO:0000879': 49, 'SO:0000252': 50, 'SO:0000646': 51, 'SO:0001025': 152, 'SO:0000077': 54, 'SO:0000360': 55, 'SO:0000407': 56, 'SO:0000988': 57, 'SO:0000985': 58, 'SO:0000409': 59, 'SO:0000657': 60, 'SO:0000717': 61, 'SO:0000806': 62, 'SO:0000156': 63, 'SO:0000165': 64, 'SO:0000330': 106, 'SO:0000167': 66, 'SO:0001062': 67, 'SO:0001060': 68, 'SO:0000417': 69, 'SO:0000319': 70, 'SO:0000006': 71, 'SO:0000005': 72, 'SO:0000313': 73, 'SO:0000316': 74, 'SO:0000551': 75, 'SO:0001236': 150, 'SO:0000704': 76, 'SO:0000814': 78, 'SO:0000817': 79, 'SO:0000151': 80, 'SO:0000153': 81, 'SO:0000154': 82, 'SO:0000155': 83, 'SO:0000624': 84, 'SO:0000625': 85, 'SO:0000253': 86, 'SO:0000159': 4, 'SO:0001237': 151, 'SO:0001018': 88, 'SO:0000546': 89, 'SO:0000782': 90, 'SO:1000002': 91, 'SO:0000789': 92, 'SO:0000343': 93, 'NA': 87, 'SO:0000730': 94, 'SO:0000731': 95, 'SO:0000732': 96, 'SO:0001407': 98, 'SO:0000449': 126, 'SO:0000147': 99, 'SO:0005853': 111, 'SO:0000207': 141, 'SO:0000149': 103, 'SO:0000830': 113, 'SO:0000336': 105, 'SO:0000028': 65, 'SO:0000331': 107, 'SO:0100014': 108, 'SO:0100015': 109, 'SO:0005852': 110, 'SO:0000726': 100, 'SO:0000725': 112, 'SO:0005851': 104, 'SO:0001435': 114, 'SO:0001436': 115, 'SO:0001437': 116, 'SO:0001438': 117, 'SO:0001439': 118, 'SO:0000933': 119, 'SO:0001023': 147, 'SO:0000357': 148, 'SO:0000234': 122, 'SO:0000236': 123, 'SO:0001230': 149, 'SO:0001248': 125, 'SO:0000001': 52, 'SO:0001027': 127, 'SO:0000440': 128, 'SO:0001037': 129, 'SO:0001030': 130, 'SO:0001031': 131, 'SO:0000696': 132, 'SO:0000199': 53, 'SO:0000351': 153, 'SO:0000243': 134, 'SO:0000694': 135, 'SO:0000610': 136, 'SO:0000203': 137, 'SO:0000756': 138, 'SO:0000205': 139, 'SO:0000048': 140, 'SO:0000049': 101, 'SO:0000046': 142, 'SO:0000047': 143, 'SO:0000045': 144, 'SO:0000043': 145, 'SO:0000041': 146, 'SO:0000356': 120, 'SO:0000289': 121, 'SO:0001021': 124, 'SO:0000352': 102, 'SO:0001026': 77, 'SO:0000350': 133, 'SO:0001024': 97, 'SO:0000699': 154, 'SO:0000359': 155}\n"
     ]
    }
   ],
   "source": [
    "print tag2idx"
   ]
  },
  {
   "cell_type": "code",
   "execution_count": 10,
   "metadata": {
    "collapsed": true
   },
   "outputs": [],
   "source": [
    "from keras.preprocessing.sequence import pad_sequences\n",
    "X = [[word2idx[w[0]] for w in s] for s in data_list]"
   ]
  },
  {
   "cell_type": "code",
   "execution_count": 11,
   "metadata": {
    "collapsed": true
   },
   "outputs": [],
   "source": [
    "X = pad_sequences(maxlen=max_len, sequences=X, padding=\"post\", value=-1)"
   ]
  },
  {
   "cell_type": "code",
   "execution_count": 12,
   "metadata": {
    "collapsed": true
   },
   "outputs": [],
   "source": [
    "y = [[tag2idx[w[1]] for w in s] for s in data_list]"
   ]
  },
  {
   "cell_type": "code",
   "execution_count": 13,
   "metadata": {
    "collapsed": true
   },
   "outputs": [],
   "source": [
    "y = pad_sequences(maxlen=max_len, sequences=y, padding=\"post\", value=tag2idx[\"NA\"])"
   ]
  },
  {
   "cell_type": "code",
   "execution_count": 14,
   "metadata": {
    "collapsed": true
   },
   "outputs": [],
   "source": [
    "from keras.utils import to_categorical\n",
    "\n",
    "y = [to_categorical(i, num_classes=n_tags) for i in y]"
   ]
  },
  {
   "cell_type": "code",
   "execution_count": 15,
   "metadata": {
    "collapsed": true
   },
   "outputs": [],
   "source": [
    "from sklearn.model_selection import train_test_split\n",
    "\n",
    "X_tr, X_te, y_tr, y_te = train_test_split(X, y, test_size=0.3)"
   ]
  },
  {
   "cell_type": "code",
   "execution_count": 16,
   "metadata": {
    "collapsed": true
   },
   "outputs": [],
   "source": [
    "# from sklearn.utils import class_weight\n",
    "# import numpy as np\n",
    "\n",
    "# cw = class_weight.compute_class_weight('balanced',\n",
    "#                                                  np.unique(y_tr),\n",
    "#                                                  y_tr)"
   ]
  },
  {
   "cell_type": "code",
   "execution_count": 17,
   "metadata": {},
   "outputs": [
    {
     "name": "stdout",
     "output_type": "stream",
     "text": [
      "(2012, 75) (863, 75) (2012, 75, 156) (863, 75, 156)\n"
     ]
    }
   ],
   "source": [
    "print np.shape(X_tr), np.shape(X_te), np.shape(y_tr), np.shape(y_te)"
   ]
  },
  {
   "cell_type": "code",
   "execution_count": 18,
   "metadata": {
    "collapsed": true,
    "scrolled": true
   },
   "outputs": [],
   "source": [
    "from keras.models import Model, Input\n",
    "from keras.layers import LSTM, Embedding, Dense, TimeDistributed, Dropout, Bidirectional\n",
    "from keras_contrib.layers import CRF\n",
    "\n",
    "input = Input(shape=(max_len,))\n",
    "model = Embedding(input_dim=n_words + 1, output_dim=100,\n",
    "                  input_length=max_len, mask_zero=True)(input)  # 20-dim embedding\n",
    "model = Bidirectional(LSTM(units=100, return_sequences=True,\n",
    "                           recurrent_dropout=0.25))(model)  # variational biLSTM\n",
    "model = TimeDistributed(Dense(n_tags, activation=\"relu\"))(model)  # a dense layer as suggested by neuralNer\n",
    "crf = CRF(n_tags)  # CRF layer\n",
    "out = crf(model)  # output"
   ]
  },
  {
   "cell_type": "code",
   "execution_count": 19,
   "metadata": {
    "collapsed": true
   },
   "outputs": [],
   "source": [
    "model = Model(input, out)"
   ]
  },
  {
   "cell_type": "code",
   "execution_count": 20,
   "metadata": {
    "collapsed": true
   },
   "outputs": [],
   "source": [
    "model.compile(optimizer=\"rmsprop\", loss=crf.loss_function, metrics=[crf.accuracy])"
   ]
  },
  {
   "cell_type": "code",
   "execution_count": 21,
   "metadata": {},
   "outputs": [
    {
     "name": "stdout",
     "output_type": "stream",
     "text": [
      "_________________________________________________________________\n",
      "Layer (type)                 Output Shape              Param #   \n",
      "=================================================================\n",
      "input_1 (InputLayer)         (None, 75)                0         \n",
      "_________________________________________________________________\n",
      "embedding_1 (Embedding)      (None, 75, 100)           2014100   \n",
      "_________________________________________________________________\n",
      "bidirectional_1 (Bidirection (None, 75, 200)           160800    \n",
      "_________________________________________________________________\n",
      "time_distributed_1 (TimeDist (None, 75, 156)           31356     \n",
      "_________________________________________________________________\n",
      "crf_1 (CRF)                  (None, 75, 156)           49140     \n",
      "=================================================================\n",
      "Total params: 2,255,396\n",
      "Trainable params: 2,255,396\n",
      "Non-trainable params: 0\n",
      "_________________________________________________________________\n"
     ]
    }
   ],
   "source": [
    "model.summary()\n",
    "\n"
   ]
  },
  {
   "cell_type": "code",
   "execution_count": 22,
   "metadata": {
    "scrolled": true
   },
   "outputs": [
    {
     "name": "stdout",
     "output_type": "stream",
     "text": [
      "Train on 2012 samples, validate on 863 samples\n",
      "Epoch 1/15\n",
      "2012/2012 [==============================] - 26s 13ms/step - loss: 0.6615 - viterbi_acc: 0.9303 - val_loss: 0.3231 - val_viterbi_acc: 0.9626\n",
      "Epoch 2/15\n",
      "2012/2012 [==============================] - 25s 12ms/step - loss: 0.3014 - viterbi_acc: 0.9604 - val_loss: 0.2467 - val_viterbi_acc: 0.9626\n",
      "Epoch 3/15\n",
      "2012/2012 [==============================] - 25s 12ms/step - loss: 0.2080 - viterbi_acc: 0.9622 - val_loss: 0.1675 - val_viterbi_acc: 0.9675\n",
      "Epoch 4/15\n",
      "2012/2012 [==============================] - 25s 12ms/step - loss: 0.1605 - viterbi_acc: 0.9668 - val_loss: 0.1399 - val_viterbi_acc: 0.9702\n",
      "Epoch 5/15\n",
      "2012/2012 [==============================] - 25s 12ms/step - loss: 0.1378 - viterbi_acc: 0.9689 - val_loss: 0.1276 - val_viterbi_acc: 0.9732\n",
      "Epoch 6/15\n",
      "2012/2012 [==============================] - 25s 12ms/step - loss: 0.1217 - viterbi_acc: 0.9724 - val_loss: 0.1127 - val_viterbi_acc: 0.9753\n",
      "Epoch 7/15\n",
      "2012/2012 [==============================] - 25s 12ms/step - loss: 0.1080 - viterbi_acc: 0.9756 - val_loss: 0.0997 - val_viterbi_acc: 0.9787\n",
      "Epoch 8/15\n",
      "2012/2012 [==============================] - 25s 12ms/step - loss: 0.0939 - viterbi_acc: 0.9788 - val_loss: 0.0904 - val_viterbi_acc: 0.9817\n",
      "Epoch 9/15\n",
      "2012/2012 [==============================] - 25s 12ms/step - loss: 0.0809 - viterbi_acc: 0.9823 - val_loss: 0.0789 - val_viterbi_acc: 0.9848\n",
      "Epoch 10/15\n",
      "2012/2012 [==============================] - 25s 12ms/step - loss: 0.0695 - viterbi_acc: 0.9852 - val_loss: 0.0700 - val_viterbi_acc: 0.9872\n",
      "Epoch 11/15\n",
      "2012/2012 [==============================] - 24s 12ms/step - loss: 0.0589 - viterbi_acc: 0.9873 - val_loss: 0.0621 - val_viterbi_acc: 0.9881\n",
      "Epoch 12/15\n",
      "2012/2012 [==============================] - 23s 11ms/step - loss: 0.0503 - viterbi_acc: 0.9891 - val_loss: 0.0583 - val_viterbi_acc: 0.9896\n",
      "Epoch 13/15\n",
      "2012/2012 [==============================] - 23s 11ms/step - loss: 0.0429 - viterbi_acc: 0.9908 - val_loss: 0.0539 - val_viterbi_acc: 0.9905\n",
      "Epoch 14/15\n",
      "2012/2012 [==============================] - 23s 11ms/step - loss: 0.0362 - viterbi_acc: 0.9921 - val_loss: 0.0663 - val_viterbi_acc: 0.9903\n",
      "Epoch 15/15\n",
      "2012/2012 [==============================] - 23s 11ms/step - loss: 0.0303 - viterbi_acc: 0.9932 - val_loss: 0.0563 - val_viterbi_acc: 0.9912\n"
     ]
    }
   ],
   "source": [
    "history = model.fit(X_tr, np.array(y_tr), batch_size=32, epochs=15,\n",
    "                    validation_data=(X_te, np.array(y_te)), class_weight = 'auto', verbose=1)"
   ]
  },
  {
   "cell_type": "code",
   "execution_count": 23,
   "metadata": {
    "collapsed": true
   },
   "outputs": [],
   "source": [
    "hist = pd.DataFrame(history.history)"
   ]
  },
  {
   "cell_type": "code",
   "execution_count": 24,
   "metadata": {},
   "outputs": [
    {
     "name": "stdout",
     "output_type": "stream",
     "text": [
      "        loss  val_loss  val_viterbi_acc  viterbi_acc\n",
      "0   0.661516  0.323120         0.962580     0.930272\n",
      "1   0.301364  0.246670         0.962580     0.960404\n",
      "2   0.207996  0.167531         0.967493     0.962207\n",
      "3   0.160543  0.139865         0.970197     0.966806\n",
      "4   0.137817  0.127640         0.973210     0.968893\n",
      "5   0.121743  0.112731         0.975326     0.972372\n",
      "6   0.107976  0.099677         0.978664     0.975620\n",
      "7   0.093947  0.090374         0.981707     0.978847\n",
      "8   0.080941  0.078943         0.984797     0.982260\n",
      "9   0.069473  0.070017         0.987223     0.985189\n",
      "10  0.058925  0.062103         0.988088     0.987349\n",
      "11  0.050263  0.058328         0.989602     0.989085\n",
      "12  0.042908  0.053865         0.990483     0.990808\n",
      "13  0.036229  0.066298         0.990344     0.992121\n",
      "14  0.030304  0.056291         0.991209     0.993154\n"
     ]
    }
   ],
   "source": [
    "print hist"
   ]
  },
  {
   "cell_type": "code",
   "execution_count": 25,
   "metadata": {},
   "outputs": [
    {
     "data": {
      "image/png": "[encoded data removed]",
      "text/plain": [
       "<matplotlib.figure.Figure at 0x7f35bca79210>"
      ]
     },
     "metadata": {},
     "output_type": "display_data"
    }
   ],
   "source": [
    "import matplotlib.pyplot as plt\n",
    "plt.style.use(\"ggplot\")\n",
    "plt.figure(figsize=(12,12))\n",
    "plt.plot(hist[\"loss\"], label='Training Loss')\n",
    "plt.plot(hist[\"val_loss\"], label='Validation Loss')\n",
    "plt.legend()\n",
    "plt.show()"
   ]
  },
  {
   "cell_type": "code",
   "execution_count": 26,
   "metadata": {},
   "outputs": [
    {
     "data": {
      "image/png": "[encoded data removed]",
      "text/plain": [
       "<matplotlib.figure.Figure at 0x7f35bca9bc50>"
      ]
     },
     "metadata": {},
     "output_type": "display_data"
    }
   ],
   "source": [
    "plt.style.use(\"ggplot\")\n",
    "plt.figure(figsize=(12,12))\n",
    "plt.plot(hist[\"viterbi_acc\"], label='Training Accuracy')\n",
    "plt.plot(hist[\"val_viterbi_acc\"], label='Validation Accuracy')\n",
    "plt.legend()\n",
    "plt.show()"
   ]
  },
  {
   "cell_type": "code",
   "execution_count": 27,
   "metadata": {
    "scrolled": true
   },
   "outputs": [
    {
     "name": "stdout",
     "output_type": "stream",
     "text": [
      "[26 87 52 87 87 87 87 87 87 87 87 87 87 87 87 87 87 87 87 87 87 87 87 87\n",
      " 87 87 87 87 87 87 87 87 87 87 87 87 87 87 87 87 87 87 87 87 87 87 87 87\n",
      " 87 87 87 87 87 87 87 87 87 87 87 87 87 87 87 87 87 87 87 87 87 87 87 87\n",
      " 87 87 87]\n",
      "[22 87 52 87 87 87 87 87 87 87 87 87 87 87 87 87 87 87 87 87 87 87 87 87\n",
      " 87 87 87 87 87 87 87 87 87 87 87 87 87 87 87 87 87 87 87 87 87 87 87 87\n",
      " 87 87 87 87 87 87 87 87 87 87 87 87 87 87 87 87 87 87 87 87 87 87 87 87\n",
      " 87 87 87]\n",
      "['SO:0000112', 'NA', 'SO:0000001', 'NA', 'NA', 'NA', 'NA', 'NA', 'NA', 'NA', 'NA', 'NA', 'NA', 'NA', 'NA', 'NA', 'NA', 'NA', 'NA', 'NA', 'NA', 'NA', 'NA', 'NA', 'NA', 'NA', 'NA', 'NA', 'NA', 'NA', 'NA', 'NA', 'NA', 'NA', 'NA', 'NA', 'NA', 'NA', 'NA', 'NA', 'NA', 'NA', 'NA', 'NA', 'NA', 'NA', 'NA', 'NA', 'NA', 'NA', 'NA', 'NA', 'NA', 'NA', 'NA', 'NA', 'NA', 'NA', 'NA', 'NA', 'NA', 'NA', 'NA', 'NA', 'NA', 'NA', 'NA', 'NA', 'NA', 'NA', 'NA', 'NA', 'NA', 'NA', 'NA']\n",
      "['SO:0000345', 'NA', 'SO:0000001', 'NA', 'NA', 'NA', 'NA', 'NA', 'NA', 'NA', 'NA', 'NA', 'NA', 'NA', 'NA', 'NA', 'NA', 'NA', 'NA', 'NA', 'NA', 'NA', 'NA', 'NA', 'NA', 'NA', 'NA', 'NA', 'NA', 'NA', 'NA', 'NA', 'NA', 'NA', 'NA', 'NA', 'NA', 'NA', 'NA', 'NA', 'NA', 'NA', 'NA', 'NA', 'NA', 'NA', 'NA', 'NA', 'NA', 'NA', 'NA', 'NA', 'NA', 'NA', 'NA', 'NA', 'NA', 'NA', 'NA', 'NA', 'NA', 'NA', 'NA', 'NA', 'NA', 'NA', 'NA', 'NA', 'NA', 'NA', 'NA', 'NA', 'NA', 'NA', 'NA']\n",
      "\n",
      "\n",
      "             precision    recall  f1-score   support\n",
      "\n",
      "         NA       1.00      1.00      1.00      1439\n",
      " SO:0000001       0.78      1.00      0.88         7\n",
      " SO:0000005       1.00      1.00      1.00         3\n",
      " SO:0000006       0.00      0.00      0.00         1\n",
      " SO:0000028       1.00      1.00      1.00         2\n",
      " SO:0000041       1.00      1.00      1.00         1\n",
      " SO:0000045       0.00      0.00      0.00         1\n",
      " SO:0000046       0.00      0.00      0.00         0\n",
      " SO:0000051       0.80      1.00      0.89         4\n",
      " SO:0000112       0.50      1.00      0.67         1\n",
      " SO:0000147       1.00      1.00      1.00         1\n",
      " SO:0000151       1.00      1.00      1.00         2\n",
      " SO:0000153       1.00      1.00      1.00         1\n",
      " SO:0000188       1.00      1.00      1.00         1\n",
      " SO:0000345       0.00      0.00      0.00         1\n",
      " SO:0000352       1.00      1.00      1.00         3\n",
      " SO:0000704       1.00      1.00      1.00        11\n",
      " SO:0000756       1.00      1.00      1.00         1\n",
      " SO:0000806       0.00      0.00      0.00         1\n",
      " SO:0000857       0.00      0.00      0.00         1\n",
      " SO:0000902       1.00      1.00      1.00         1\n",
      " SO:0000906       1.00      0.50      0.67         2\n",
      " SO:0001023       1.00      1.00      1.00         3\n",
      " SO:0001026       1.00      1.00      1.00         3\n",
      " SO:0001027       1.00      1.00      1.00         1\n",
      " SO:0001059       1.00      1.00      1.00         5\n",
      " SO:0001060       0.00      0.00      0.00         0\n",
      " SO:0001236       0.00      0.00      0.00         2\n",
      " SO:0005853       1.00      1.00      1.00         1\n",
      "\n",
      "avg / total       0.99      0.99      0.99      1500\n",
      "\n"
     ]
    },
    {
     "name": "stderr",
     "output_type": "stream",
     "text": [
      "/home/sdmohant/.virtualenvs/deeplearn/local/lib/python2.7/site-packages/sklearn/metrics/classification.py:1113: UndefinedMetricWarning: Precision and F-score are ill-defined and being set to 0.0 in labels with no predicted samples.\n",
      "  'precision', 'predicted', average, warn_for)\n",
      "/home/sdmohant/.virtualenvs/deeplearn/local/lib/python2.7/site-packages/sklearn/metrics/classification.py:1115: UndefinedMetricWarning: Recall and F-score are ill-defined and being set to 0.0 in labels with no true samples.\n",
      "  'recall', 'true', average, warn_for)\n"
     ]
    }
   ],
   "source": [
    "from sklearn.metrics import classification_report\n",
    "\n",
    "predicted = model.predict(X_te)\n",
    "\n",
    "true = []\n",
    "predicted_val = []\n",
    "for i in range(len(predicted[:20])):\n",
    "    p_tmp = np.argmax(predicted[i], axis=-1)\n",
    "    t_tmp = np.argmax(y_te[i], -1)\n",
    "    predicted_val.append(p_tmp)\n",
    "    true.append(t_tmp)\n",
    "\n",
    "    \n",
    "p = [list(map(lambda x: idx2tag[x], y)) for y in predicted_val]\n",
    "t = [list(map(lambda x: idx2tag[x], y)) for y in true]\n",
    "\n",
    "print predicted_val[2]\n",
    "print true[2]\n",
    "\n",
    "\n",
    "print p[2]\n",
    "print t[2]\n",
    "\n",
    "report = classification_report(list(itertools.chain.from_iterable(t)), \n",
    "                                    list(itertools.chain.from_iterable(p)))\n",
    "print \"\\n\"\n",
    "print report"
   ]
  },
  {
   "cell_type": "code",
   "execution_count": 28,
   "metadata": {},
   "outputs": [
    {
     "name": "stdout",
     "output_type": "stream",
     "text": [
      "Word           ||True ||Pred\n",
      "==============================\n",
      "transiently    : SO:0001018 SO:0001018\n",
      "expressed      : SO:0001018 SO:0001018\n",
      "growth         : SO:0001018 SO:0001018\n",
      "and            : SO:0001018 SO:0001018\n",
      "transcription  : SO:0001018 SO:0001018\n",
      "factor         : SO:0001018 SO:0001018\n",
      "genes          : SO:0001026 SO:0001026\n",
      "Knowledge      : SO:0001018 SO:0001018\n",
      "of             : SO:0001018 SO:0001018\n",
      "the            : SO:0001018 SO:0001018\n",
      "molecular      : SO:0001018 SO:0001018\n",
      "basis          : SO:0001018 SO:0001018\n",
      "of             : SO:0001018 SO:0001018\n",
      "these          : SO:0001018 SO:0001018\n",
      "changes        : SO:0001018 SO:0001018\n",
      "in             : SO:0001018 SO:0001018\n",
      "huntingtin     : SO:0001018 SO:0001018\n",
      "deficient      : SO:0001018 SO:0001018\n",
      "embryos        : SO:0001018 SO:0001018\n",
      "should         : SO:0001018 SO:0001018\n",
      "facilitate     : SO:0001018 SO:0001018\n",
      "the            : SO:0001018 SO:0001018\n",
      "identification : SO:0001018 SO:0001018\n",
      "of             : SO:0001018 SO:0001018\n",
      "the            : SO:0001018 SO:0001018\n",
      "cellular       : SO:0001018 SO:0001018\n",
      "pathways       : SO:0001018 SO:0001018\n",
      "that           : SO:0001018 SO:0001018\n",
      "are            : SO:0001018 SO:0001018\n",
      "dependent      : SO:0001018 SO:0001018\n",
      "on             : SO:0001018 SO:0001018\n",
      "huntingtin     : SO:0001018 SO:0001018\n",
      "activities     : SO:0001018 SO:0001018\n",
      "These          : SO:0001018 SO:0001018\n",
      "will           : SO:0001018 SO:0001018\n",
      "be             : SO:0001018 SO:0001018\n",
      "important      : SO:0001018 SO:0001018\n",
      "for            : SO:0001018 SO:0001018\n",
      "implicating    : SO:0001018 SO:0001018\n",
      "candidates     : SO:0001018 SO:0001018\n",
      "to             : SO:0001018 SO:0001018\n",
      "be             : SO:0001018 SO:0001018\n",
      "assessed       : SO:0001018 SO:0001018\n",
      "in             : SO:0001018 SO:0001018\n",
      "the            : SO:0001018 SO:0001018\n",
      "extraembryonic : SO:0001018 SO:0001018\n",
      "signals        : SO:0001018 SO:0001018\n",
      "that           : SO:0001018 SO:0001018\n",
      "determine      : SO:0001018 SO:0001018\n",
      "anterior       : SO:0001018 SO:0001018\n",
      "streak         : SO:0001018 SO:0001018\n",
      "progression    : SO:0001018 SO:0001018\n",
      "in             : SO:0001018 SO:0001018\n",
      "the            : SO:0001018 SO:0001018\n",
      "developing     : SO:0001018 SO:0001018\n",
      "embryo         : SO:0001018 SO:0001018\n",
      "and            : SO:0001018 SO:0001018\n",
      "in             : SO:0001018 SO:0001018\n",
      "delineating    : SO:0001018 SO:0001018\n",
      "the            : SO:0001018 SO:0001018\n",
      "dominant       : SO:0001018 SO:0001018\n",
      "activity       : SO:0001018 SO:0001018\n",
      "of             : SO:0001018 SO:0001018\n",
      "the            : SO:0001018 SO:0001018\n",
      "polyglutamine  : SO:0001018 SO:0001018\n",
      "tract          : SO:0000199 SO:0001018\n",
      "in             : SO:0001018 SO:0001018\n",
      "huntingtin     : SO:0001018 SO:0001018\n",
      "that           : SO:0001018 SO:0001018\n",
      "determines     : SO:0001018 SO:0001018\n",
      "the            : SO:0001018 SO:0001018\n",
      "striatal       : SO:0001018 SO:0001018\n",
      "specificity    : SO:0001018 SO:0001018\n",
      "of             : SO:0001018 SO:0001018\n",
      "HD             : SO:0001018 SO:0001018\n"
     ]
    }
   ],
   "source": [
    "i = 300\n",
    "pd = model.predict(np.array([X_te[i]]))\n",
    "pd = np.argmax(pd, axis=-1)\n",
    "true = np.argmax(y_te[i], -1)\n",
    "print(\"{:15}||{:5}||{}\".format(\"Word\", \"True\", \"Pred\"))\n",
    "print(30 * \"=\")\n",
    "\n",
    "for w, t1, pred in zip(X_te[i], true, pd[0]):\n",
    "    if w != 0:\n",
    "        print(\"{:15}: {:5} {}\".format(words[w-1], tags[t1], tags[pred]))"
   ]
  },
  {
   "cell_type": "code",
   "execution_count": 29,
   "metadata": {
    "collapsed": true
   },
   "outputs": [],
   "source": [
    "import pandas as pd\n",
    "\n",
    "df = pd.DataFrame(\n",
    "{\n",
    "    'Predicted' : list(itertools.chain.from_iterable(p)),\n",
    "    'Ground Truth': list(itertools.chain.from_iterable(t))\n",
    "}\n",
    ")\n"
   ]
  },
  {
   "cell_type": "code",
   "execution_count": 30,
   "metadata": {
    "collapsed": true
   },
   "outputs": [],
   "source": [
    "df.to_csv('../data/results/SO_LSTM_Based.tsv', sep='\\t')"
   ]
  },
  {
   "cell_type": "code",
   "execution_count": 31,
   "metadata": {},
   "outputs": [
    {
     "name": "stdout",
     "output_type": "stream",
     "text": [
      "Mean semantic similarity:  0.811\n"
     ]
    },
    {
     "data": {
      "text/plain": [
       "<matplotlib.figure.Figure at 0x7f35c6188650>"
      ]
     },
     "metadata": {},
     "output_type": "display_data"
    }
   ],
   "source": [
    "%run ./accuracy/src/computeSim.py ../data/results/SO_LSTM_Based.tsv ../data/validation_data/SO_AllSubsumers.tsv"
   ]
  },
  {
   "cell_type": "code",
   "execution_count": null,
   "metadata": {
    "collapsed": true
   },
   "outputs": [],
   "source": []
  }
 ],
 "metadata": {
  "kernelspec": {
   "display_name": "Python 2",
   "language": "python",
   "name": "python2"
  },
  "language_info": {
   "codemirror_mode": {
    "name": "ipython",
    "version": 2
   },
   "file_extension": ".py",
   "mimetype": "text/x-python",
   "name": "python",
   "nbconvert_exporter": "python",
   "pygments_lexer": "ipython2",
   "version": "2.7.12"
  }
 },
 "nbformat": 4,
 "nbformat_minor": 2
}
