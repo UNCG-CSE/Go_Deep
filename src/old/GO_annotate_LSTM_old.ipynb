{
 "cells": [
  {
   "cell_type": "code",
   "execution_count": 1,
   "metadata": {},
   "outputs": [
    {
     "name": "stderr",
     "output_type": "stream",
     "text": [
      "Using TensorFlow backend.\n"
     ]
    }
   ],
   "source": [
    "import json\n",
    "from keras.preprocessing import sequence\n",
    "from keras.models import Sequential\n",
    "from keras.layers.embeddings import Embedding\n",
    "from keras.layers.recurrent import SimpleRNN, GRU, LSTM\n",
    "from keras.layers.core import Dense, Dropout\n",
    "from keras.layers.wrappers import TimeDistributed\n",
    "from keras.layers import Convolution1D, MaxPooling1D\n",
    "from keras.utils import np_utils\n",
    "import itertools\n",
    "import ast\n",
    "from sklearn.model_selection import train_test_split\n",
    "from sklearn.preprocessing import LabelEncoder\n",
    "import sys, os\n",
    "import traceback\n",
    "from itertools import chain\n",
    "import numpy as np\n",
    "import pandas as pd\n",
    "\n",
    "import progressbar\n",
    "\n",
    "import tensorflow as tf\n",
    "os.environ[\"CUDA_DEVICE_ORDER\"] = \"PCI_BUS_ID\"   # see issue #152\n",
    "os.environ[\"CUDA_VISIBLE_DEVICES\"] = \"1\""
   ]
  },
  {
   "cell_type": "code",
   "execution_count": 2,
   "metadata": {
    "collapsed": true
   },
   "outputs": [],
   "source": [
    "import matplotlib.pyplot as plt\n",
    "\n",
    "%matplotlib inline"
   ]
  },
  {
   "cell_type": "code",
   "execution_count": 3,
   "metadata": {
    "collapsed": true
   },
   "outputs": [],
   "source": [
    "def read_data(rootdir):\n",
    "    data_list = []\n",
    "    for subdir, dirs, files in os.walk(rootdir):\n",
    "        for fname in files:\n",
    "            #print os.path.join(subdir, file)\n",
    "            filepath = subdir + os.sep + fname\n",
    "            with open(filepath) as f:\n",
    "                for line1,line2 in itertools.izip_longest(*[f]*2):\n",
    "                    try:\n",
    "                        text = ast.literal_eval(line1)\n",
    "                        label = ast.literal_eval(line2)\n",
    "                        n_labels = set(label)\n",
    "                        if len(text) > 3 and len(n_labels) > 1:\n",
    "                            sentence = zip(text, label)\n",
    "                            sentence = [item for item in sentence if item[0].strip() != '']\n",
    "                            data_list.append(sentence)\n",
    "                    except:\n",
    "                        pass\n",
    "            f.close()\n",
    "    return data_list"
   ]
  },
  {
   "cell_type": "code",
   "execution_count": 4,
   "metadata": {},
   "outputs": [
    {
     "name": "stdout",
     "output_type": "stream",
     "text": [
      "[('The', 'O'), ('differences', 'O'), ('in', 'O'), ('their', 'O'), ('function', 'O'), ('are', 'O'), ('thought', 'O'), ('to', 'O'), ('stem', 'O'), ('from', 'O'), ('their', 'O'), ('different', 'O'), ('gene', 'O'), ('expression', 'O'), ('patterns', 'O'), ('morphologies', 'O'), ('and', 'O'), ('synaptic', 'GO:0045202'), ('connectivities', 'O')]\n"
     ]
    },
    {
     "data": {
      "text/plain": [
       "359"
      ]
     },
     "execution_count": 4,
     "metadata": {},
     "output_type": "execute_result"
    }
   ],
   "source": [
    "data_list = read_data('../data/input/GO/')\n",
    "\n",
    "print data_list[0]\n",
    "\n",
    "# data_list = data_list[:3000]\n",
    "\n",
    "# words = list(chain.from_iterable(data_list))\n",
    "# print words\n",
    "\n",
    "words = list(set(y[0] for x in data_list for y in x))\n",
    "words.append(\"ENDPAD\")\n",
    "n_words = len(words); n_words\n",
    "\n",
    "tags = list(set(y[1] for x in data_list for y in x))\n",
    "n_tags = len(tags); n_tags"
   ]
  },
  {
   "cell_type": "code",
   "execution_count": 5,
   "metadata": {
    "collapsed": true
   },
   "outputs": [],
   "source": [
    "# from sklearn.preprocessing import LabelEncoder\n",
    "\n",
    "# le = LabelEncoder()\n",
    "# le.fit(list(y[1] for x in data_list for y in x))\n",
    "\n",
    "# labels2idx = dict(zip(le.classes_, le.transform(le.classes_)))\n",
    "\n",
    "# idx2la = {labels2idx[k]:k for k in labels2idx}"
   ]
  },
  {
   "cell_type": "code",
   "execution_count": 6,
   "metadata": {},
   "outputs": [
    {
     "name": "stdout",
     "output_type": "stream",
     "text": [
      "953\n",
      "307\n"
     ]
    }
   ],
   "source": [
    "max_len = 75\n",
    "word2idx = {w: i + 1 for i, w in enumerate(words)}\n",
    "tag2idx = {t: i for i, t in enumerate(tags, 1)}\n",
    "tag2idx['0'] = 0\n",
    "n_tags += 1\n",
    "\n",
    "idx2tag = {v: k for k, v in tag2idx.iteritems()}\n",
    "\n",
    "print word2idx['Hybrid']\n",
    "print tag2idx[\"O\"]"
   ]
  },
  {
   "cell_type": "code",
   "execution_count": 7,
   "metadata": {},
   "outputs": [
    {
     "name": "stdout",
     "output_type": "stream",
     "text": [
      "{'GO:0007599': 1, 'GO:0007596': 2, 'GO:0006900': 3, 'GO:0001501': 4, 'GO:0001503': 5, 'GO:0006909': 6, 'GO:0065003': 296, 'GO:0043204': 8, 'GO:0043209': 9, 'GO:0005835': 10, 'GO:0005833': 11, '0': 0, 'GO:0016458': 12, 'GO:0016459': 13, 'GO:0018032': 14, 'GO:0006281': 15, 'GO:0006289': 16, 'GO:0007283': 17, 'GO:0007286': 18, 'GO:0001756': 19, 'GO:0001750': 20, 'GO:0000718': 21, 'GO:0045251': 22, 'GO:0006271': 23, 'GO:0009566': 24, 'GO:0020021': 25, 'GO:0006457': 26, 'GO:0000811': 27, 'GO:0005488': 28, 'GO:0050789': 29, 'GO:0042555': 30, 'GO:0042552': 31, 'GO:0043679': 32, 'GO:0006887': 33, 'GO:0005712': 34, 'GO:0005654': 35, 'GO:0005656': 36, 'GO:0005657': 37, 'GO:0032259': 38, 'GO:0043025': 39, 'GO:0019882': 40, 'GO:0007620': 41, 'GO:0009305': 42, 'GO:0007050': 43, 'GO:0043412': 44, 'GO:0043413': 45, 'GO:0000237': 46, 'GO:0000239': 47, 'GO:0000238': 48, 'GO:0000003': 49, 'GO:0030674': 50, 'GO:0005776': 185, 'GO:0005871': 52, 'GO:0019814': 53, 'GO:0005874': 54, 'GO:0045177': 306, 'GO:0043489': 56, 'GO:0007129': 58, 'GO:0050975': 59, 'GO:0050879': 60, 'GO:0005912': 61, 'GO:0005840': 313, 'GO:0031424': 63, 'GO:0016528': 64, 'GO:0042592': 65, 'GO:0001889': 66, 'GO:0022403': 67, 'GO:0022401': 68, 'GO:0043631': 69, 'GO:0035282': 70, 'GO:0050909': 252, 'GO:0006096': 72, 'GO:0051301': 79, 'GO:0006094': 74, 'GO:0005610': 75, 'GO:0008218': 76, 'GO:0005966': 77, 'GO:0043065': 78, 'GO:0007276': 73, 'GO:0000279': 80, 'GO:0007602': 57, 'GO:0040011': 82, 'GO:0001837': 83, 'GO:0005764': 84, 'GO:0032456': 85, 'GO:0043111': 86, 'GO:0006415': 87, 'GO:0005768': 174, 'GO:0006412': 89, 'GO:0048675': 90, 'GO:0007618': 91, 'GO:0007612': 92, 'GO:0048771': 93, 'GO:0007610': 94, 'GO:0007164': 95, 'GO:0007165': 96, 'GO:0009293': 97, 'GO:0009294': 98, 'GO:0016028': 99, 'GO:0016021': 100, 'GO:0016020': 101, 'GO:0006936': 102, 'GO:0000792': 103, 'GO:0000791': 104, 'GO:0000795': 105, 'GO:0042995': 106, 'GO:0042611': 107, 'GO:0031507': 108, 'GO:0005901': 109, 'GO:0005829': 110, 'GO:0005902': 111, 'GO:0016567': 112, 'GO:0043627': 113, 'GO:0030849': 114, 'GO:0018027': 115, 'GO:0018023': 116, 'GO:0050821': 117, 'GO:0001763': 118, 'GO:0005929': 119, 'GO:0030286': 120, 'GO:0007530': 121, 'GO:0046911': 122, 'GO:0009887': 123, 'GO:0050793': 124, 'GO:0060073': 125, 'GO:0051235': 126, 'GO:0051234': 127, 'GO:0006897': 128, 'GO:0005643': 129, 'GO:0050896': 130, 'GO:0050890': 131, 'GO:0050892': 132, 'GO:0050893': 133, 'GO:0017086': 134, 'GO:0006517': 135, 'GO:0046983': 136, 'GO:0033592': 137, 'GO:0001944': 138, 'GO:0005585': 139, 'GO:0005581': 140, 'GO:0000806': 141, 'GO:0000805': 142, 'GO:0031099': 143, 'GO:0001947': 144, 'GO:0002027': 145, 'GO:0002024': 146, 'GO:0048821': 147, 'GO:0008037': 148, 'GO:0008039': 149, 'GO:0014069': 150, 'GO:0007132': 151, 'GO:0007131': 152, 'GO:0007613': 195, 'GO:0043473': 153, 'GO:0008380': 328, 'GO:0016234': 155, 'GO:0045202': 156, 'GO:0046959': 157, 'GO:0001525': 158, 'GO:0005819': 159, 'GO:0005813': 160, 'GO:0006323': 161, 'GO:0016246': 162, 'GO:0005856': 207, 'GO:0031128': 164, 'GO:0060033': 165, 'GO:0031649': 166, 'GO:0022411': 167, 'GO:0007268': 168, 'GO:0042220': 169, 'GO:0050918': 322, 'GO:0022008': 171, 'GO:0008610': 172, 'GO:0045277': 173, 'GO:0006413': 88, 'GO:0000240': 175, 'GO:0019226': 176, 'GO:0005783': 177, 'GO:0006473': 178, 'GO:0019228': 179, 'GO:0000775': 180, 'GO:0030056': 181, 'GO:0030054': 182, 'GO:0005773': 183, 'GO:0005777': 184, 'GO:0001822': 51, 'GO:0048511': 186, 'GO:0048513': 187, 'GO:0005675': 188, 'GO:0048518': 189, 'GO:0048519': 190, 'GO:0007608': 191, 'GO:0007605': 192, 'GO:0007601': 193, 'GO:0007600': 194, 'GO:0006605': 81, 'GO:0045184': 196, 'GO:0042756': 197, 'GO:0010369': 198, 'GO:0001917': 199, 'GO:0002076': 200, 'GO:0022607': 201, 'GO:0006928': 202, 'GO:0000785': 203, 'GO:0000786': 204, 'GO:0021700': 205, 'GO:0043226': 206, 'GO:0019835': 163, 'GO:0003077': 208, 'GO:0016477': 209, 'GO:0006810': 210, 'GO:0050953': 211, 'GO:0008305': 219, 'GO:0012501': 213, 'GO:0001775': 214, 'GO:0050817': 215, 'GO:0045333': 216, 'GO:0006954': 217, 'GO:0050819': 218, 'GO:0006952': 212, 'GO:0046903': 220, 'GO:0008091': 248, 'GO:0051604': 222, 'GO:0043093': 223, 'GO:0000732': 224, 'GO:0006350': 225, 'GO:0006353': 226, 'GO:0007369': 227, 'GO:0030154': 228, 'GO:0031012': 229, 'GO:0030016': 230, 'GO:0060047': 231, 'GO:0060041': 232, 'GO:0030010': 233, 'GO:0007059': 234, 'GO:0051325': 235, 'GO:0051324': 236, 'GO:0051320': 237, 'GO:0051323': 238, 'GO:0005730': 239, 'GO:0001708': 240, 'GO:0001709': 241, 'GO:0005739': 242, 'GO:0006508': 243, 'GO:0032502': 244, 'GO:0001570': 245, 'GO:0009986': 246, 'GO:0016485': 247, 'GO:0051606': 221, 'GO:0051258': 249, 'GO:0050777': 250, 'GO:0050779': 251, 'independent_continuant': 253, 'GO:0043500': 254, 'GO:0007389': 255, 'GO:0035212': 256, 'GO:0007586': 257, 'GO:0006914': 258, 'GO:0006915': 259, 'GO:0006911': 260, 'GO:0009058': 261, 'GO:0046581': 262, 'GO:0009056': 263, 'GO:0051179': 264, 'GO:0006310': 265, 'GO:0006311': 266, 'GO:0000075': 267, 'GO:0045123': 268, 'GO:0045120': 269, 'GO:0030908': 270, 'GO:0060004': 271, 'GO:0035102': 272, 'GO:0035106': 273, 'GO:0030425': 274, 'GO:0030424': 275, 'GO:0051899': 276, 'GO:0007517': 277, 'GO:0031982': 278, 'GO:0006266': 279, 'GO:0006260': 280, 'GO:0032391': 281, 'GO:0005792': 282, 'GO:0031965': 283, 'GO:0030164': 284, 'GO:0000502': 285, 'GO:0051216': 286, 'GO:0018991': 287, 'GO:0048532': 347, 'GO:0051866': 289, 'GO:0043131': 290, 'GO:0030194': 291, 'GO:0007631': 292, 'GO:0031240': 293, 'GO:0007067': 294, 'GO:0035315': 295, 'GO:0001966': 7, 'GO:0001967': 297, 'GO:0065007': 298, 'GO:0019233': 299, 'GO:0048471': 300, 'GO:0019230': 301, 'GO:0048477': 302, 'GO:0016265': 303, 'GO:0005737': 304, 'GO:0042384': 305, 'GO:0007126': 55, 'O': 307, 'GO:0008152': 308, 'GO:0043256': 309, 'GO:0042730': 310, 'GO:0045165': 311, 'GO:0031648': 312, 'GO:0007114': 62, 'GO:0016540': 314, 'GO:0005634': 315, 'GO:0016310': 316, 'GO:0031214': 351, 'GO:0030261': 318, 'GO:0009790': 319, 'GO:0030263': 320, 'GO:0001669': 321, 'GO:0043626': 170, 'GO:0007411': 323, 'GO:0009653': 324, 'GO:0007416': 325, 'GO:0006349': 326, 'GO:0022610': 327, 'GO:0051304': 71, 'GO:0022616': 154, 'GO:0031143': 329, 'GO:0051318': 330, 'GO:0051312': 331, 'GO:0045453': 332, 'GO:0045298': 333, 'GO:0007568': 334, 'GO:0007569': 335, 'GO:0007565': 336, 'GO:0007566': 337, 'GO:0007567': 338, 'GO:0005623': 339, 'GO:0005622': 340, 'GO:0050729': 341, 'GO:0030097': 342, 'GO:0000267': 343, 'GO:0040007': 344, 'GO:0008283': 345, 'GO:0010467': 346, 'GO:0005694': 288, 'GO:0032508': 348, 'GO:0048666': 349, 'GO:0005883': 350, 'GO:0005886': 317, 'GO:0007155': 352, 'GO:0007154': 353, 'GO:0042470': 354, 'GO:0032991': 355, 'GO:0007399': 356, 'GO:0005575': 357, 'GO:0005577': 358, 'GO:0005576': 359}\n"
     ]
    }
   ],
   "source": [
    "print tag2idx"
   ]
  },
  {
   "cell_type": "code",
   "execution_count": 8,
   "metadata": {
    "collapsed": true
   },
   "outputs": [],
   "source": [
    "from keras.preprocessing.sequence import pad_sequences\n",
    "X = [[word2idx[w[0]] for w in s] for s in data_list]"
   ]
  },
  {
   "cell_type": "code",
   "execution_count": 9,
   "metadata": {
    "collapsed": true
   },
   "outputs": [],
   "source": [
    "X = pad_sequences(maxlen=max_len, sequences=X, padding=\"post\", value=-1)"
   ]
  },
  {
   "cell_type": "code",
   "execution_count": 10,
   "metadata": {
    "collapsed": true
   },
   "outputs": [],
   "source": [
    "y = [[tag2idx[w[1]] for w in s] for s in data_list]"
   ]
  },
  {
   "cell_type": "code",
   "execution_count": 11,
   "metadata": {},
   "outputs": [],
   "source": [
    "y = pad_sequences(maxlen=max_len, sequences=y, padding=\"post\", value=tag2idx[\"O\"])"
   ]
  },
  {
   "cell_type": "code",
   "execution_count": 12,
   "metadata": {
    "collapsed": true
   },
   "outputs": [],
   "source": [
    "from keras.utils import to_categorical\n",
    "\n",
    "y = [to_categorical(i, num_classes=n_tags) for i in y]"
   ]
  },
  {
   "cell_type": "code",
   "execution_count": 13,
   "metadata": {
    "collapsed": true
   },
   "outputs": [],
   "source": [
    "from sklearn.model_selection import train_test_split\n",
    "\n",
    "X_tr, X_te, y_tr, y_te = train_test_split(X, y, test_size=0.3)"
   ]
  },
  {
   "cell_type": "code",
   "execution_count": 14,
   "metadata": {
    "collapsed": true
   },
   "outputs": [],
   "source": [
    "# from sklearn.utils import class_weight\n",
    "# import numpy as np\n",
    "\n",
    "# cw = class_weight.compute_class_weight('balanced',\n",
    "#                                                  np.unique(y_tr),\n",
    "#                                                  y_tr)"
   ]
  },
  {
   "cell_type": "code",
   "execution_count": 15,
   "metadata": {},
   "outputs": [
    {
     "name": "stdout",
     "output_type": "stream",
     "text": [
      "(8274, 75) (3546, 75) (8274, 75, 360) (3546, 75, 360)\n"
     ]
    }
   ],
   "source": [
    "print np.shape(X_tr), np.shape(X_te), np.shape(y_tr), np.shape(y_te)"
   ]
  },
  {
   "cell_type": "code",
   "execution_count": 16,
   "metadata": {
    "collapsed": true,
    "scrolled": true
   },
   "outputs": [],
   "source": [
    "from keras.models import Model, Input\n",
    "from keras.layers import LSTM, Embedding, Dense, TimeDistributed, Dropout, Bidirectional\n",
    "from keras_contrib.layers import CRF\n",
    "\n",
    "input = Input(shape=(max_len,))\n",
    "model = Embedding(input_dim=n_words + 1, output_dim=100,\n",
    "                  input_length=max_len, mask_zero=True)(input)  # 20-dim embedding\n",
    "model = Bidirectional(LSTM(units=100, return_sequences=True,\n",
    "                           recurrent_dropout=0.25))(model)  # variational biLSTM\n",
    "model = TimeDistributed(Dense(n_tags, activation=\"relu\"))(model)  # a dense layer as suggested by neuralNer\n",
    "crf = CRF(n_tags)  # CRF layer\n",
    "out = crf(model)  # output"
   ]
  },
  {
   "cell_type": "code",
   "execution_count": 17,
   "metadata": {
    "collapsed": true
   },
   "outputs": [],
   "source": [
    "model = Model(input, out)"
   ]
  },
  {
   "cell_type": "code",
   "execution_count": 18,
   "metadata": {
    "collapsed": true
   },
   "outputs": [],
   "source": [
    "model.compile(optimizer=\"rmsprop\", loss=crf.loss_function, metrics=[crf.accuracy])"
   ]
  },
  {
   "cell_type": "code",
   "execution_count": 19,
   "metadata": {},
   "outputs": [
    {
     "name": "stdout",
     "output_type": "stream",
     "text": [
      "_________________________________________________________________\n",
      "Layer (type)                 Output Shape              Param #   \n",
      "=================================================================\n",
      "input_1 (InputLayer)         (None, 75)                0         \n",
      "_________________________________________________________________\n",
      "embedding_1 (Embedding)      (None, 75, 100)           1792100   \n",
      "_________________________________________________________________\n",
      "bidirectional_1 (Bidirection (None, 75, 200)           160800    \n",
      "_________________________________________________________________\n",
      "time_distributed_1 (TimeDist (None, 75, 360)           72360     \n",
      "_________________________________________________________________\n",
      "crf_1 (CRF)                  (None, 75, 360)           260280    \n",
      "=================================================================\n",
      "Total params: 2,285,540\n",
      "Trainable params: 2,285,540\n",
      "Non-trainable params: 0\n",
      "_________________________________________________________________\n"
     ]
    }
   ],
   "source": [
    "model.summary()\n",
    "\n"
   ]
  },
  {
   "cell_type": "code",
   "execution_count": 20,
   "metadata": {
    "scrolled": true
   },
   "outputs": [
    {
     "name": "stdout",
     "output_type": "stream",
     "text": [
      "Train on 8274 samples, validate on 3546 samples\n",
      "Epoch 1/15\n",
      "8274/8274 [==============================] - 134s 16ms/step - loss: 0.2567 - viterbi_acc: 0.9695 - val_loss: 0.1157 - val_viterbi_acc: 0.9790\n",
      "Epoch 2/15\n",
      "8274/8274 [==============================] - 133s 16ms/step - loss: 0.0965 - viterbi_acc: 0.9807 - val_loss: 0.0882 - val_viterbi_acc: 0.9806\n",
      "Epoch 3/15\n",
      "8274/8274 [==============================] - 132s 16ms/step - loss: 0.0751 - viterbi_acc: 0.9826 - val_loss: 0.0742 - val_viterbi_acc: 0.9836\n",
      "Epoch 4/15\n",
      "8274/8274 [==============================] - 131s 16ms/step - loss: 0.0614 - viterbi_acc: 0.9845 - val_loss: 0.0677 - val_viterbi_acc: 0.9842\n",
      "Epoch 5/15\n",
      "8274/8274 [==============================] - 132s 16ms/step - loss: 0.0531 - viterbi_acc: 0.9857 - val_loss: 0.0619 - val_viterbi_acc: 0.9849\n",
      "Epoch 6/15\n",
      "8274/8274 [==============================] - 132s 16ms/step - loss: 0.0471 - viterbi_acc: 0.9866 - val_loss: 0.0601 - val_viterbi_acc: 0.9858\n",
      "Epoch 7/15\n",
      "8274/8274 [==============================] - 128s 16ms/step - loss: 0.0424 - viterbi_acc: 0.9874 - val_loss: 0.0596 - val_viterbi_acc: 0.9843\n",
      "Epoch 8/15\n",
      "8274/8274 [==============================] - 127s 15ms/step - loss: 0.0390 - viterbi_acc: 0.9879 - val_loss: 0.0582 - val_viterbi_acc: 0.9864\n",
      "Epoch 9/15\n",
      "8274/8274 [==============================] - 127s 15ms/step - loss: 0.0363 - viterbi_acc: 0.9883 - val_loss: 0.0557 - val_viterbi_acc: 0.9850\n",
      "Epoch 10/15\n",
      "8274/8274 [==============================] - 130s 16ms/step - loss: 0.0339 - viterbi_acc: 0.9887 - val_loss: 0.0567 - val_viterbi_acc: 0.9854\n",
      "Epoch 11/15\n",
      "8274/8274 [==============================] - 130s 16ms/step - loss: 0.0316 - viterbi_acc: 0.9891 - val_loss: 0.0577 - val_viterbi_acc: 0.9856\n",
      "Epoch 12/15\n",
      "8274/8274 [==============================] - 130s 16ms/step - loss: 0.0297 - viterbi_acc: 0.9893 - val_loss: 0.0557 - val_viterbi_acc: 0.9849\n",
      "Epoch 13/15\n",
      "8274/8274 [==============================] - 130s 16ms/step - loss: 0.0278 - viterbi_acc: 0.9896 - val_loss: 0.0582 - val_viterbi_acc: 0.9847\n",
      "Epoch 14/15\n",
      "8274/8274 [==============================] - 129s 16ms/step - loss: 0.0264 - viterbi_acc: 0.9900 - val_loss: 0.0619 - val_viterbi_acc: 0.9834\n",
      "Epoch 15/15\n",
      "8274/8274 [==============================] - 126s 15ms/step - loss: 0.0247 - viterbi_acc: 0.9902 - val_loss: 0.0597 - val_viterbi_acc: 0.9849\n"
     ]
    }
   ],
   "source": [
    "history = model.fit(X_tr, np.array(y_tr), batch_size=32, epochs=15,\n",
    "                    validation_data=(X_te, np.array(y_te)), class_weight = 'auto', verbose=1)"
   ]
  },
  {
   "cell_type": "code",
   "execution_count": 21,
   "metadata": {
    "collapsed": true
   },
   "outputs": [],
   "source": [
    "hist = pd.DataFrame(history.history)"
   ]
  },
  {
   "cell_type": "code",
   "execution_count": 22,
   "metadata": {},
   "outputs": [
    {
     "name": "stdout",
     "output_type": "stream",
     "text": [
      "        loss  val_loss  val_viterbi_acc  viterbi_acc\n",
      "0   0.256745  0.115743         0.978973     0.969516\n",
      "1   0.096464  0.088212         0.980628     0.980749\n",
      "2   0.075113  0.074223         0.983644     0.982627\n",
      "3   0.061406  0.067748         0.984241     0.984549\n",
      "4   0.053141  0.061873         0.984892     0.985676\n",
      "5   0.047110  0.060064         0.985798     0.986580\n",
      "6   0.042434  0.059648         0.984339     0.987379\n",
      "7   0.039027  0.058216         0.986411     0.987896\n",
      "8   0.036255  0.055749         0.984967     0.988343\n",
      "9   0.033893  0.056705         0.985403     0.988712\n",
      "10  0.031584  0.057653         0.985625     0.989092\n",
      "11  0.029697  0.055663         0.984937     0.989308\n",
      "12  0.027847  0.058161         0.984715     0.989614\n",
      "13  0.026375  0.061939         0.983362     0.990012\n",
      "14  0.024750  0.059672         0.984862     0.990215\n"
     ]
    }
   ],
   "source": [
    "print hist"
   ]
  },
  {
   "cell_type": "code",
   "execution_count": 23,
   "metadata": {},
   "outputs": [
    {
     "data": {
      "image/png": "[encoded data removed]",
      "text/plain": [
       "<matplotlib.figure.Figure at 0x7f020c733a90>"
      ]
     },
     "metadata": {},
     "output_type": "display_data"
    }
   ],
   "source": [
    "import matplotlib.pyplot as plt\n",
    "plt.style.use(\"ggplot\")\n",
    "plt.figure(figsize=(12,12))\n",
    "plt.plot(hist[\"loss\"], label='Training Loss')\n",
    "plt.plot(hist[\"val_loss\"], label='Validation Loss')\n",
    "plt.legend()\n",
    "plt.show()"
   ]
  },
  {
   "cell_type": "code",
   "execution_count": 24,
   "metadata": {},
   "outputs": [
    {
     "data": {
      "image/png": "[encoded data removed]",
      "text/plain": [
       "<matplotlib.figure.Figure at 0x7f02ab5ea750>"
      ]
     },
     "metadata": {},
     "output_type": "display_data"
    }
   ],
   "source": [
    "plt.style.use(\"ggplot\")\n",
    "plt.figure(figsize=(12,12))\n",
    "plt.plot(hist[\"viterbi_acc\"], label='Training Accuracy')\n",
    "plt.plot(hist[\"val_viterbi_acc\"], label='Validation Accuracy')\n",
    "plt.legend()\n",
    "plt.show()"
   ]
  },
  {
   "cell_type": "code",
   "execution_count": 25,
   "metadata": {
    "scrolled": true
   },
   "outputs": [
    {
     "name": "stdout",
     "output_type": "stream",
     "text": [
      "[307 307 307 307 307 307 307 307 307 307 307 307 307 307 307 307 307 307\n",
      " 307 307 307 307 307 307 346 307 307 307 307 307 307 307 307 307 307 307\n",
      " 307 307 307 307 307 307 307 307 307 307 307 307 307 307 307 307 307 307\n",
      " 307 307 307 307 307 307 307 307 307 307 307 307 307 307 307 307 307 307\n",
      " 307 307 307]\n",
      "[307 307 307 307 307 307 307 307 307 307 307 307 307 307 307 307 307 307\n",
      " 307 307 307 307 307 307 346 307 307 307 307 307 307 307 307 307 307 307\n",
      " 307 307 307 307 307 307 307 307 307 307 307 307 307 307 307 307 307 307\n",
      " 307 307 307 307 307 307 307 307 307 307 307 307 307 307 307 307 307 307\n",
      " 307 307 307]\n",
      "['O', 'O', 'O', 'O', 'O', 'O', 'O', 'O', 'O', 'O', 'O', 'O', 'O', 'O', 'O', 'O', 'O', 'O', 'O', 'O', 'O', 'O', 'O', 'O', 'GO:0010467', 'O', 'O', 'O', 'O', 'O', 'O', 'O', 'O', 'O', 'O', 'O', 'O', 'O', 'O', 'O', 'O', 'O', 'O', 'O', 'O', 'O', 'O', 'O', 'O', 'O', 'O', 'O', 'O', 'O', 'O', 'O', 'O', 'O', 'O', 'O', 'O', 'O', 'O', 'O', 'O', 'O', 'O', 'O', 'O', 'O', 'O', 'O', 'O', 'O', 'O']\n",
      "['O', 'O', 'O', 'O', 'O', 'O', 'O', 'O', 'O', 'O', 'O', 'O', 'O', 'O', 'O', 'O', 'O', 'O', 'O', 'O', 'O', 'O', 'O', 'O', 'GO:0010467', 'O', 'O', 'O', 'O', 'O', 'O', 'O', 'O', 'O', 'O', 'O', 'O', 'O', 'O', 'O', 'O', 'O', 'O', 'O', 'O', 'O', 'O', 'O', 'O', 'O', 'O', 'O', 'O', 'O', 'O', 'O', 'O', 'O', 'O', 'O', 'O', 'O', 'O', 'O', 'O', 'O', 'O', 'O', 'O', 'O', 'O', 'O', 'O', 'O', 'O']\n",
      "\n",
      "\n",
      "                        precision    recall  f1-score   support\n",
      "\n",
      "            GO:0000003       0.47      0.63      0.54       116\n",
      "            GO:0000075       0.83      0.71      0.77         7\n",
      "            GO:0000237       0.00      0.00      0.00         4\n",
      "            GO:0000238       0.00      0.00      0.00         2\n",
      "            GO:0000239       0.33      0.13      0.19        23\n",
      "            GO:0000240       0.00      0.00      0.00         7\n",
      "            GO:0000267       0.00      0.00      0.00        10\n",
      "            GO:0000718       0.00      0.00      0.00         2\n",
      "            GO:0000732       0.24      0.71      0.36        14\n",
      "            GO:0000775       0.00      0.00      0.00         2\n",
      "            GO:0000785       0.45      0.42      0.43        24\n",
      "            GO:0000786       0.00      0.00      0.00         2\n",
      "            GO:0000791       0.00      0.00      0.00         1\n",
      "            GO:0000792       0.69      0.95      0.80        19\n",
      "            GO:0000795       0.00      0.00      0.00         4\n",
      "            GO:0000805       0.67      0.29      0.40         7\n",
      "            GO:0000806       0.00      0.00      0.00         2\n",
      "            GO:0000811       0.00      0.00      0.00         1\n",
      "            GO:0001501       0.00      0.00      0.00         1\n",
      "            GO:0001503       0.21      0.43      0.29         7\n",
      "            GO:0001525       0.00      0.00      0.00         1\n",
      "            GO:0001669       0.00      0.00      0.00         1\n",
      "            GO:0001708       0.00      0.00      0.00         6\n",
      "            GO:0001709       0.00      0.00      0.00         2\n",
      "            GO:0001750       0.00      0.00      0.00         3\n",
      "            GO:0001763       0.08      0.14      0.10         7\n",
      "            GO:0001775       0.08      0.10      0.09        10\n",
      "            GO:0001822       0.00      0.00      0.00         4\n",
      "            GO:0001837       0.00      0.00      0.00         1\n",
      "            GO:0001917       0.00      0.00      0.00         4\n",
      "            GO:0001944       0.00      0.00      0.00         1\n",
      "            GO:0002027       0.00      0.00      0.00         1\n",
      "            GO:0005488       0.64      0.87      0.74        60\n",
      "            GO:0005575       0.00      0.00      0.00         1\n",
      "            GO:0005576       0.00      0.00      0.00         9\n",
      "            GO:0005577       0.00      0.00      0.00         4\n",
      "            GO:0005581       0.70      0.88      0.78         8\n",
      "            GO:0005585       0.00      0.00      0.00         3\n",
      "            GO:0005622       0.00      0.00      0.00         9\n",
      "            GO:0005623       0.60      0.91      0.72       879\n",
      "            GO:0005634       0.58      0.69      0.63       119\n",
      "            GO:0005643       0.00      0.00      0.00         1\n",
      "            GO:0005654       0.00      0.00      0.00         5\n",
      "            GO:0005657       0.33      0.33      0.33         9\n",
      "            GO:0005675       0.40      0.29      0.33         7\n",
      "            GO:0005694       0.71      0.62      0.66       120\n",
      "            GO:0005712       0.00      0.00      0.00         1\n",
      "            GO:0005730       0.00      0.00      0.00         1\n",
      "            GO:0005737       0.33      0.21      0.26        24\n",
      "            GO:0005739       0.51      0.46      0.48        46\n",
      "            GO:0005764       0.00      0.00      0.00         9\n",
      "            GO:0005768       0.00      0.00      0.00         1\n",
      "            GO:0005773       0.00      0.00      0.00         3\n",
      "            GO:0005783       0.75      0.75      0.75         4\n",
      "            GO:0005813       0.00      0.00      0.00         1\n",
      "            GO:0005819       0.00      0.00      0.00         3\n",
      "            GO:0005829       0.62      0.50      0.56        10\n",
      "            GO:0005835       0.00      0.00      0.00         1\n",
      "            GO:0005840       0.00      0.00      0.00         1\n",
      "            GO:0005856       0.50      0.20      0.29         5\n",
      "            GO:0005874       0.00      0.00      0.00         1\n",
      "            GO:0005886       0.00      0.00      0.00         1\n",
      "            GO:0005912       0.00      0.00      0.00         0\n",
      "            GO:0005929       0.00      0.00      0.00         3\n",
      "            GO:0006094       0.00      0.00      0.00         2\n",
      "            GO:0006096       0.00      0.00      0.00         1\n",
      "            GO:0006260       0.44      0.67      0.53         6\n",
      "            GO:0006266       1.00      0.17      0.29         6\n",
      "            GO:0006281       0.78      0.38      0.51        37\n",
      "            GO:0006289       0.00      0.00      0.00         2\n",
      "            GO:0006310       0.70      0.84      0.76        80\n",
      "            GO:0006311       0.00      0.00      0.00         3\n",
      "            GO:0006349       0.50      0.20      0.29         5\n",
      "            GO:0006350       0.78      0.77      0.77        87\n",
      "            GO:0006412       0.00      0.00      0.00        10\n",
      "            GO:0006413       0.00      0.00      0.00        10\n",
      "            GO:0006415       0.85      0.85      0.85        13\n",
      "            GO:0006457       0.00      0.00      0.00         1\n",
      "            GO:0006473       0.00      0.00      0.00         1\n",
      "            GO:0006508       0.00      0.00      0.00         1\n",
      "            GO:0006605       0.00      0.00      0.00         1\n",
      "            GO:0006810       0.00      0.00      0.00        25\n",
      "            GO:0006887       0.00      0.00      0.00         1\n",
      "            GO:0006897       0.00      0.00      0.00         2\n",
      "            GO:0006900       0.00      0.00      0.00         2\n",
      "            GO:0006909       0.00      0.00      0.00         8\n",
      "            GO:0006911       0.00      0.00      0.00         3\n",
      "            GO:0006915       0.60      0.20      0.30        74\n",
      "            GO:0006928       0.00      0.00      0.00         1\n",
      "            GO:0006936       0.00      0.00      0.00         3\n",
      "            GO:0006952       0.00      0.00      0.00         1\n",
      "            GO:0006954       0.00      0.00      0.00         8\n",
      "            GO:0007050       0.33      0.10      0.15        10\n",
      "            GO:0007067       0.43      0.67      0.52         9\n",
      "            GO:0007114       0.00      0.00      0.00         2\n",
      "            GO:0007126       0.62      0.32      0.43        31\n",
      "            GO:0007129       0.80      0.29      0.42        14\n",
      "            GO:0007131       0.00      0.00      0.00         2\n",
      "            GO:0007154       0.00      0.00      0.00         1\n",
      "            GO:0007164       0.00      0.00      0.00         2\n",
      "            GO:0007165       0.78      0.64      0.70        74\n",
      "            GO:0007276       0.00      0.00      0.00         4\n",
      "            GO:0007283       0.00      0.00      0.00         1\n",
      "            GO:0007369       0.00      0.00      0.00         4\n",
      "            GO:0007389       0.89      0.68      0.77        25\n",
      "            GO:0007399       0.00      0.00      0.00         2\n",
      "            GO:0007411       0.00      0.00      0.00         1\n",
      "            GO:0007416       0.00      0.00      0.00         1\n",
      "            GO:0007517       1.00      0.50      0.67         4\n",
      "            GO:0007530       0.00      0.00      0.00         1\n",
      "            GO:0007565       0.87      0.83      0.85        24\n",
      "            GO:0007566       0.00      0.00      0.00         4\n",
      "            GO:0007567       0.85      0.88      0.86        32\n",
      "            GO:0007568       0.69      0.64      0.67        14\n",
      "            GO:0007569       0.00      0.00      0.00         1\n",
      "            GO:0007596       0.90      1.00      0.95         9\n",
      "            GO:0007599       0.00      0.00      0.00         6\n",
      "            GO:0007600       0.50      0.38      0.43        24\n",
      "            GO:0007601       0.08      0.14      0.11         7\n",
      "            GO:0007602       0.00      0.00      0.00         2\n",
      "            GO:0007608       0.94      0.87      0.90       119\n",
      "            GO:0007610       0.87      0.80      0.83        25\n",
      "            GO:0007612       0.97      0.95      0.96        40\n",
      "            GO:0007613       1.00      0.97      0.98        32\n",
      "            GO:0007618       0.81      0.83      0.82        30\n",
      "            GO:0007631       0.82      0.88      0.85        16\n",
      "            GO:0008037       0.00      0.00      0.00         1\n",
      "            GO:0008091       0.00      0.00      0.00         1\n",
      "            GO:0008152       0.64      0.75      0.69        24\n",
      "            GO:0008283       0.71      0.31      0.43        49\n",
      "            GO:0008380       0.73      0.67      0.70        24\n",
      "            GO:0008610       0.00      0.00      0.00         1\n",
      "            GO:0009056       0.55      0.77      0.64        30\n",
      "            GO:0009058       0.54      0.48      0.51       123\n",
      "            GO:0009293       0.00      0.00      0.00         1\n",
      "            GO:0009294       0.44      0.52      0.47        33\n",
      "            GO:0009305       0.00      0.00      0.00         2\n",
      "            GO:0009566       0.00      0.00      0.00         3\n",
      "            GO:0009653       0.80      0.57      0.67        14\n",
      "            GO:0009790       0.67      0.86      0.75        14\n",
      "            GO:0009986       0.38      0.82      0.51        11\n",
      "            GO:0010467       0.76      0.94      0.84       579\n",
      "            GO:0012501       0.00      0.00      0.00         8\n",
      "            GO:0014069       0.00      0.00      0.00         2\n",
      "            GO:0016020       0.42      0.32      0.36        41\n",
      "            GO:0016021       0.38      0.50      0.43         6\n",
      "            GO:0016246       1.00      0.40      0.57         5\n",
      "            GO:0016265       0.84      0.78      0.81        54\n",
      "            GO:0016310       0.25      0.12      0.17         8\n",
      "            GO:0016458       0.00      0.00      0.00         7\n",
      "            GO:0016459       0.00      0.00      0.00         1\n",
      "            GO:0016477       0.50      0.17      0.25        12\n",
      "            GO:0016485       0.00      0.00      0.00         8\n",
      "            GO:0017086       0.32      0.88      0.47         8\n",
      "            GO:0018032       0.00      0.00      0.00         1\n",
      "            GO:0019226       0.00      0.00      0.00         1\n",
      "            GO:0019228       0.00      0.00      0.00         1\n",
      "            GO:0019230       0.41      0.50      0.45        14\n",
      "            GO:0019814       0.74      0.72      0.73       165\n",
      "            GO:0019835       0.00      0.00      0.00         9\n",
      "            GO:0020021       0.00      0.00      0.00         1\n",
      "            GO:0021700       0.62      0.91      0.74        11\n",
      "            GO:0022401       0.00      0.00      0.00         1\n",
      "            GO:0022403       0.00      0.00      0.00         1\n",
      "            GO:0022411       0.00      0.00      0.00         3\n",
      "            GO:0022607       0.22      0.21      0.22        42\n",
      "            GO:0022610       0.00      0.00      0.00         3\n",
      "            GO:0022616       0.00      0.00      0.00         7\n",
      "            GO:0030010       0.00      0.00      0.00         2\n",
      "            GO:0030016       0.00      0.00      0.00         1\n",
      "            GO:0030054       0.00      0.00      0.00         4\n",
      "            GO:0030097       0.73      0.73      0.73        11\n",
      "            GO:0030154       0.67      0.70      0.68       112\n",
      "            GO:0030164       0.00      0.00      0.00         1\n",
      "            GO:0030194       0.00      0.00      0.00         1\n",
      "            GO:0030263       0.00      0.00      0.00         3\n",
      "            GO:0030424       0.48      0.39      0.43        41\n",
      "            GO:0030425       0.67      0.50      0.57         4\n",
      "            GO:0030674       0.00      0.00      0.00         1\n",
      "            GO:0030849       1.00      0.29      0.44         7\n",
      "            GO:0030908       0.00      0.00      0.00         4\n",
      "            GO:0031012       0.00      0.00      0.00        12\n",
      "            GO:0031099       0.00      0.00      0.00         1\n",
      "            GO:0031128       0.25      0.08      0.12        12\n",
      "            GO:0031214       1.00      0.40      0.57         5\n",
      "            GO:0031240       0.00      0.00      0.00         2\n",
      "            GO:0031507       0.00      0.00      0.00         1\n",
      "            GO:0031649       0.33      0.50      0.40         2\n",
      "            GO:0031965       0.00      0.00      0.00         1\n",
      "            GO:0031982       0.36      0.42      0.38        12\n",
      "            GO:0032259       0.00      0.00      0.00         7\n",
      "            GO:0032502       0.70      0.75      0.72       336\n",
      "            GO:0032508       0.52      0.44      0.48        25\n",
      "            GO:0032991       0.37      0.44      0.40        25\n",
      "            GO:0033592       0.84      0.92      0.88        88\n",
      "            GO:0035106       0.00      0.00      0.00         1\n",
      "            GO:0035282       0.00      0.00      0.00         2\n",
      "            GO:0035315       0.00      0.00      0.00         1\n",
      "            GO:0040007       0.64      0.64      0.64        69\n",
      "            GO:0040011       0.07      0.43      0.12         7\n",
      "            GO:0042220       0.00      0.00      0.00         2\n",
      "            GO:0042384       0.00      0.00      0.00         1\n",
      "            GO:0042552       0.00      0.00      0.00         1\n",
      "            GO:0042555       0.00      0.00      0.00        22\n",
      "            GO:0042592       0.00      0.00      0.00         2\n",
      "            GO:0042611       0.00      0.00      0.00         2\n",
      "            GO:0042730       0.00      0.00      0.00         1\n",
      "            GO:0042756       0.00      0.00      0.00         1\n",
      "            GO:0042995       0.38      0.12      0.19        24\n",
      "            GO:0043025       0.00      0.00      0.00         6\n",
      "            GO:0043065       0.00      0.00      0.00         2\n",
      "            GO:0043093       0.00      0.00      0.00         1\n",
      "            GO:0043111       0.00      0.00      0.00         1\n",
      "            GO:0043204       0.00      0.00      0.00         2\n",
      "            GO:0043209       0.00      0.00      0.00         4\n",
      "            GO:0043226       0.00      0.00      0.00         1\n",
      "            GO:0043256       0.00      0.00      0.00         3\n",
      "            GO:0043412       0.00      0.00      0.00        10\n",
      "            GO:0043413       0.00      0.00      0.00         4\n",
      "            GO:0043473       0.85      0.85      0.85        13\n",
      "            GO:0043626       0.00      0.00      0.00         1\n",
      "            GO:0043627       0.00      0.00      0.00         1\n",
      "            GO:0043631       0.20      0.50      0.29         2\n",
      "            GO:0043679       0.50      0.38      0.43         8\n",
      "            GO:0045120       0.00      0.00      0.00         2\n",
      "            GO:0045165       0.00      0.00      0.00         3\n",
      "            GO:0045177       0.36      0.45      0.40        11\n",
      "            GO:0045184       0.00      0.00      0.00         1\n",
      "            GO:0045202       0.67      0.63      0.65        19\n",
      "            GO:0045251       0.00      0.00      0.00         1\n",
      "            GO:0045298       0.00      0.00      0.00        10\n",
      "            GO:0045333       0.00      0.00      0.00        15\n",
      "            GO:0045453       0.00      0.00      0.00         2\n",
      "            GO:0046581       0.00      0.00      0.00         1\n",
      "            GO:0046903       0.64      0.95      0.77        19\n",
      "            GO:0046911       0.00      0.00      0.00         1\n",
      "            GO:0046959       0.00      0.00      0.00         1\n",
      "            GO:0048471       1.00      0.14      0.25         7\n",
      "            GO:0048513       0.00      0.00      0.00         1\n",
      "            GO:0048518       0.66      0.43      0.52        58\n",
      "            GO:0048519       0.81      0.72      0.77        61\n",
      "            GO:0048532       0.00      0.00      0.00         3\n",
      "            GO:0048666       1.00      0.80      0.89         5\n",
      "            GO:0048675       0.00      0.00      0.00         2\n",
      "            GO:0048771       0.00      0.00      0.00         4\n",
      "            GO:0048821       0.00      0.00      0.00         2\n",
      "            GO:0050729       0.00      0.00      0.00         1\n",
      "            GO:0050817       0.00      0.00      0.00         5\n",
      "            GO:0050819       0.00      0.00      0.00         1\n",
      "            GO:0050821       0.00      0.00      0.00         1\n",
      "            GO:0050879       0.86      0.90      0.88        21\n",
      "            GO:0050890       0.20      1.00      0.33         1\n",
      "            GO:0050893       0.00      0.00      0.00         2\n",
      "            GO:0050896       0.78      0.78      0.78        63\n",
      "            GO:0050909       0.78      0.67      0.72        27\n",
      "            GO:0050918       0.17      0.33      0.22         6\n",
      "            GO:0050953       0.00      0.00      0.00         0\n",
      "            GO:0050975       0.00      0.00      0.00         1\n",
      "            GO:0051179       0.41      0.40      0.41        82\n",
      "            GO:0051216       1.00      1.00      1.00         5\n",
      "            GO:0051234       0.00      0.00      0.00         1\n",
      "            GO:0051235       0.00      0.00      0.00         4\n",
      "            GO:0051258       0.00      0.00      0.00         1\n",
      "            GO:0051301       0.60      0.86      0.71        14\n",
      "            GO:0051304       0.00      0.00      0.00         1\n",
      "            GO:0051318       0.00      0.00      0.00         1\n",
      "            GO:0051320       0.00      0.00      0.00         1\n",
      "            GO:0051323       0.00      0.00      0.00         1\n",
      "            GO:0051324       0.00      0.00      0.00         3\n",
      "            GO:0051325       0.00      0.00      0.00         1\n",
      "            GO:0051604       0.00      0.00      0.00         1\n",
      "            GO:0051606       0.00      0.00      0.00         4\n",
      "            GO:0051866       0.00      0.00      0.00         1\n",
      "            GO:0060004       0.00      0.00      0.00         1\n",
      "            GO:0060033       0.00      0.00      0.00         3\n",
      "            GO:0060047       0.00      0.00      0.00         1\n",
      "            GO:0060073       0.00      0.00      0.00         1\n",
      "            GO:0065003       0.00      0.00      0.00         1\n",
      "            GO:0065007       0.65      0.55      0.60       182\n",
      "                     O       0.99      0.99      0.99    260064\n",
      "independent_continuant       0.72      0.77      0.74       360\n",
      "\n",
      "           avg / total       0.98      0.98      0.98    265950\n",
      "\n"
     ]
    },
    {
     "name": "stderr",
     "output_type": "stream",
     "text": [
      "/home/sdmohant/.virtualenvs/deeplearn/local/lib/python2.7/site-packages/sklearn/metrics/classification.py:1113: UndefinedMetricWarning: Precision and F-score are ill-defined and being set to 0.0 in labels with no predicted samples.\n",
      "  'precision', 'predicted', average, warn_for)\n",
      "/home/sdmohant/.virtualenvs/deeplearn/local/lib/python2.7/site-packages/sklearn/metrics/classification.py:1115: UndefinedMetricWarning: Recall and F-score are ill-defined and being set to 0.0 in labels with no true samples.\n",
      "  'recall', 'true', average, warn_for)\n"
     ]
    }
   ],
   "source": [
    "from sklearn.metrics import classification_report\n",
    "\n",
    "predicted = model.predict(X_te)\n",
    "\n",
    "true = []\n",
    "predicted_val = []\n",
    "for i in range(len(predicted)):\n",
    "    p_tmp = np.argmax(predicted[i], axis=-1)\n",
    "    t_tmp = np.argmax(y_te[i], -1)\n",
    "    predicted_val.append(p_tmp)\n",
    "    true.append(t_tmp)\n",
    "\n",
    "    \n",
    "p = [list(map(lambda x: idx2tag[x], y)) for y in predicted_val]\n",
    "t = [list(map(lambda x: idx2tag[x], y)) for y in true]\n",
    "\n",
    "print predicted_val[2]\n",
    "print true[2]\n",
    "\n",
    "\n",
    "print p[2]\n",
    "print t[2]\n",
    "\n",
    "report = classification_report(list(itertools.chain.from_iterable(t)), \n",
    "                                    list(itertools.chain.from_iterable(p)))\n",
    "print \"\\n\"\n",
    "print report"
   ]
  },
  {
   "cell_type": "code",
   "execution_count": 34,
   "metadata": {},
   "outputs": [
    {
     "name": "stdout",
     "output_type": "stream",
     "text": [
      "Word           ||True ||Pred\n",
      "==============================\n",
      "Strikingly     : O     O\n",
      "Nr2e3          : O     O\n",
      "itself         : O     O\n",
      "was            : O     O\n",
      "markedly       : O     O\n",
      "upregulated    : O     O\n",
      "in             : O     O\n",
      "the            : O     O\n",
      "rd7            : O     O\n",
      "mutant         : O     O\n",
      "both           : O     O\n",
      "by             : O     O\n",
      "microarray     : O     O\n",
      "and            : O     O\n",
      "in             : O     O\n",
      "situ           : O     O\n",
      "hybridization  : GO:0033592 GO:0033592\n",
      "see            : O     O\n",
      "Figure         : O     O\n",
      "2              : O     O\n",
      "lower          : O     O\n",
      "right          : O     O\n",
      "photomicrographs: O     O\n",
      "Table          : O     O\n",
      "S2             : O     O\n",
      "representative : O     O\n",
      "representative : O     O\n",
      "representative : O     O\n",
      "representative : O     O\n",
      "representative : O     O\n",
      "representative : O     O\n",
      "representative : O     O\n",
      "representative : O     O\n",
      "representative : O     O\n",
      "representative : O     O\n",
      "representative : O     O\n",
      "representative : O     O\n",
      "representative : O     O\n",
      "representative : O     O\n",
      "representative : O     O\n",
      "representative : O     O\n",
      "representative : O     O\n",
      "representative : O     O\n",
      "representative : O     O\n",
      "representative : O     O\n",
      "representative : O     O\n",
      "representative : O     O\n",
      "representative : O     O\n",
      "representative : O     O\n",
      "representative : O     O\n",
      "representative : O     O\n",
      "representative : O     O\n",
      "representative : O     O\n",
      "representative : O     O\n",
      "representative : O     O\n",
      "representative : O     O\n",
      "representative : O     O\n",
      "representative : O     O\n",
      "representative : O     O\n",
      "representative : O     O\n",
      "representative : O     O\n",
      "representative : O     O\n",
      "representative : O     O\n",
      "representative : O     O\n",
      "representative : O     O\n",
      "representative : O     O\n",
      "representative : O     O\n",
      "representative : O     O\n",
      "representative : O     O\n",
      "representative : O     O\n",
      "representative : O     O\n",
      "representative : O     O\n",
      "representative : O     O\n",
      "representative : O     O\n",
      "representative : O     O\n"
     ]
    }
   ],
   "source": [
    "i = 300\n",
    "pd = model.predict(np.array([X_te[i]]))\n",
    "pd = np.argmax(pd, axis=-1)\n",
    "true = np.argmax(y_te[i], -1)\n",
    "print(\"{:15}||{:5}||{}\".format(\"Word\", \"True\", \"Pred\"))\n",
    "print(30 * \"=\")\n",
    "\n",
    "for w, t1, pred in zip(X_te[i], true, pd[0]):\n",
    "    if w != 0:\n",
    "        print(\"{:15}: {:5} {}\".format(words[w-1], tags[t1-1], tags[pred-1]))"
   ]
  },
  {
   "cell_type": "code",
   "execution_count": 27,
   "metadata": {
    "collapsed": true
   },
   "outputs": [],
   "source": [
    "import pandas as pd\n",
    "\n",
    "df = pd.DataFrame(\n",
    "{\n",
    "    'Predicted' : list(itertools.chain.from_iterable(p)),\n",
    "    'Ground Truth': list(itertools.chain.from_iterable(t))\n",
    "}\n",
    ")\n"
   ]
  },
  {
   "cell_type": "code",
   "execution_count": 28,
   "metadata": {
    "collapsed": true
   },
   "outputs": [],
   "source": [
    "df.to_csv('../data/results/LSTM_Based.tsv', sep='\\t')"
   ]
  },
  {
   "cell_type": "code",
   "execution_count": 29,
   "metadata": {},
   "outputs": [
    {
     "name": "stdout",
     "output_type": "stream",
     "text": [
      "Mean semantic similarity:  0.492\n"
     ]
    },
    {
     "data": {
      "text/plain": [
       "<matplotlib.figure.Figure at 0x7f021176efd0>"
      ]
     },
     "metadata": {},
     "output_type": "display_data"
    }
   ],
   "source": [
    "%run ./accuracy/src/computeSim.py ../data/results/LSTM_Based.tsv ../data/validation_data/GO_AllSubsumers.tsv"
   ]
  },
  {
   "cell_type": "code",
   "execution_count": null,
   "metadata": {
    "collapsed": true
   },
   "outputs": [],
   "source": []
  }
 ],
 "metadata": {
  "kernelspec": {
   "display_name": "Python 2",
   "language": "python",
   "name": "python2"
  },
  "language_info": {
   "codemirror_mode": {
    "name": "ipython",
    "version": 2
   },
   "file_extension": ".py",
   "mimetype": "text/x-python",
   "name": "python",
   "nbconvert_exporter": "python",
   "pygments_lexer": "ipython2",
   "version": "2.7.12"
  }
 },
 "nbformat": 4,
 "nbformat_minor": 2
}
