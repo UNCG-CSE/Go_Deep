{
 "cells": [
  {
   "cell_type": "code",
   "execution_count": 1,
   "metadata": {},
   "outputs": [
    {
     "name": "stderr",
     "output_type": "stream",
     "text": [
      "Using TensorFlow backend.\n"
     ]
    }
   ],
   "source": [
    "import json\n",
    "from keras.preprocessing import sequence\n",
    "from keras.models import Sequential\n",
    "from keras.layers.embeddings import Embedding\n",
    "from keras.layers.recurrent import SimpleRNN, GRU, LSTM\n",
    "from keras.layers.core import Dense, Dropout\n",
    "from keras.layers.wrappers import TimeDistributed\n",
    "from keras.layers import Convolution1D, MaxPooling1D\n",
    "from keras.utils import np_utils\n",
    "import itertools\n",
    "import ast\n",
    "from sklearn.model_selection import train_test_split\n",
    "from sklearn.preprocessing import LabelEncoder\n",
    "import sys, os\n",
    "import traceback\n",
    "\n",
    "import progressbar\n",
    "\n",
    "import os\n",
    "import tensorflow as tf\n",
    "os.environ[\"CUDA_DEVICE_ORDER\"] = \"PCI_BUS_ID\"   # see issue #152\n",
    "os.environ[\"CUDA_VISIBLE_DEVICES\"] = \"1\""
   ]
  },
  {
   "cell_type": "code",
   "execution_count": 2,
   "metadata": {
    "collapsed": true
   },
   "outputs": [],
   "source": [
    "def read_data(rootdir):\n",
    "    data_list = []\n",
    "    for subdir, dirs, files in os.walk(rootdir):\n",
    "        for fname in files:\n",
    "            #print os.path.join(subdir, file)\n",
    "            filepath = subdir + os.sep + fname\n",
    "            with open(filepath) as f:\n",
    "                for line1,line2 in itertools.izip_longest(*[f]*2):\n",
    "                    try:\n",
    "                        text = ast.literal_eval(line1)\n",
    "                        label = ast.literal_eval(line2)\n",
    "                        if len(text) > 3:\n",
    "                            sentence = zip(text, label)\n",
    "                            sentence = [item for item in sentence if item[0].strip() != '']\n",
    "                            data_list.append(sentence)\n",
    "                    except:\n",
    "                        pass\n",
    "            f.close()\n",
    "    return data_list"
   ]
  },
  {
   "cell_type": "code",
   "execution_count": 3,
   "metadata": {},
   "outputs": [
    {
     "name": "stdout",
     "output_type": "stream",
     "text": [
      "[('A', 'NA'), ('Hybrid', 'NA'), ('Photoreceptor', 'NA'), ('Expressing', 'NA'), ('Both', 'NA'), ('Rod', 'NA'), ('and', 'NA'), ('Cone', 'NA'), ('Genes', 'NA'), ('in', 'NA'), ('a', 'NA'), ('Mouse', 'NA'), ('Model', 'NA'), ('of', 'NA'), ('Enhanced', 'NA'), ('SCone', 'NA'), ('Syndrome', 'NA')]\n"
     ]
    }
   ],
   "source": [
    "data_list = read_data('../data/')\n",
    "\n",
    "print data_list[0]\n",
    "\n",
    "# data_list = data_list[:3000]\n",
    "\n",
    "train_test_cutoff = int(.70 * len(data_list)) \n",
    "training_sentences = data_list[:train_test_cutoff]\n",
    "testing_sentences = data_list[train_test_cutoff:]\n",
    " \n",
    "train_val_cutoff = int(.25 * len(training_sentences))\n",
    "validation_sentences = training_sentences[:train_val_cutoff]\n",
    "training_sentences = training_sentences[train_val_cutoff:]"
   ]
  },
  {
   "cell_type": "code",
   "execution_count": 4,
   "metadata": {},
   "outputs": [
    {
     "name": "stdout",
     "output_type": "stream",
     "text": [
      "[('Click', 'NA'), ('here', 'NA'), ('for', 'NA'), ('additional', 'NA'), ('data', 'NA'), ('file', 'NA')]\n"
     ]
    }
   ],
   "source": [
    "print training_sentences[0]"
   ]
  },
  {
   "cell_type": "code",
   "execution_count": 5,
   "metadata": {
    "collapsed": true
   },
   "outputs": [],
   "source": [
    "def add_basic_features(sentence_terms, index):\n",
    "    \"\"\" Compute some very basic word features.\n",
    " \n",
    "        :param sentence_terms: [w1, w2, ...] \n",
    "        :type sentence_terms: list\n",
    "        :param index: the index of the word \n",
    "        :type index: int\n",
    "        :return: dict containing features\n",
    "        :rtype: dict\n",
    "    \"\"\"\n",
    "\n",
    "    term = sentence_terms[index]\n",
    "\n",
    "    return {\n",
    "        'nb_terms': len(sentence_terms),\n",
    "        'term': term,\n",
    "        'is_first': index == 0,\n",
    "        'is_last': index == len(sentence_terms) - 1,\n",
    "        'is_capitalized': term[0].upper() == term[0],\n",
    "        'is_all_caps': term.upper() == term,\n",
    "        'is_all_lower': term.lower() == term,\n",
    "        'prefix-1': term[0],\n",
    "        'prefix-2': term[:2],\n",
    "        'prefix-3': term[:3],\n",
    "        'suffix-1': term[-1],\n",
    "        'suffix-2': term[-2:],\n",
    "        'suffix-3': term[-3:],\n",
    "        'prev_word': '' if index == 0 else sentence_terms[index - 1],\n",
    "        'next_word': '' if index == len(sentence_terms) - 1 else sentence_terms[index + 1]\n",
    "    }"
   ]
  },
  {
   "cell_type": "code",
   "execution_count": 6,
   "metadata": {
    "collapsed": true
   },
   "outputs": [],
   "source": [
    "def untag(tagged_sentence):\n",
    "    \"\"\" \n",
    "    Remove the tag for each tagged term. \n",
    " \n",
    "    :param tagged_sentence: a POS tagged sentence\n",
    "    :type tagged_sentence: list\n",
    "    :return: a list of tags\n",
    "    :rtype: list of strings\n",
    "    \"\"\"\n",
    "    return [w for w, _ in tagged_sentence]\n",
    " \n",
    "def transform_to_dataset(tagged_sentences):\n",
    "    \"\"\"\n",
    "    Split tagged sentences to X and y datasets and append some basic features.\n",
    " \n",
    "    :param tagged_sentences: a list of POS tagged sentences\n",
    "    :param tagged_sentences: list of list of tuples (term_i, tag_i)\n",
    "    :return: \n",
    "    \"\"\"\n",
    "    X, y = [], []\n",
    " \n",
    "    for pos_tags in tagged_sentences:\n",
    "        for index, (term, class_) in enumerate(pos_tags):\n",
    "            # Add basic NLP features for each sentence term\n",
    "            X.append(add_basic_features(untag(pos_tags), index))\n",
    "            y.append(class_)\n",
    "    return X, y"
   ]
  },
  {
   "cell_type": "code",
   "execution_count": 7,
   "metadata": {
    "collapsed": true
   },
   "outputs": [],
   "source": [
    "X_train, y_train = transform_to_dataset(training_sentences)\n",
    "X_test, y_test = transform_to_dataset(testing_sentences)\n",
    "X_val, y_val = transform_to_dataset(validation_sentences)"
   ]
  },
  {
   "cell_type": "code",
   "execution_count": 8,
   "metadata": {},
   "outputs": [
    {
     "data": {
      "text/plain": [
       "DictVectorizer(dtype=<type 'numpy.float64'>, separator='=', sort=True,\n",
       "        sparse=False)"
      ]
     },
     "execution_count": 8,
     "metadata": {},
     "output_type": "execute_result"
    }
   ],
   "source": [
    "from sklearn.feature_extraction import DictVectorizer\n",
    " \n",
    "# Fit our DictVectorizer with our set of features\n",
    "dict_vectorizer = DictVectorizer(sparse=False)\n",
    "dict_vectorizer.fit(X_train + X_test + X_val)"
   ]
  },
  {
   "cell_type": "code",
   "execution_count": 9,
   "metadata": {
    "collapsed": true
   },
   "outputs": [],
   "source": [
    "# Convert dict features to vectors\n",
    "X_train = dict_vectorizer.transform(X_train)\n",
    "X_test = dict_vectorizer.transform(X_test)\n",
    "X_val = dict_vectorizer.transform(X_val)"
   ]
  },
  {
   "cell_type": "code",
   "execution_count": 10,
   "metadata": {},
   "outputs": [
    {
     "data": {
      "text/plain": [
       "LabelEncoder()"
      ]
     },
     "execution_count": 10,
     "metadata": {},
     "output_type": "execute_result"
    }
   ],
   "source": [
    "# Fit LabelEncoder with our list of classes\n",
    "from sklearn.preprocessing import LabelEncoder\n",
    "label_encoder = LabelEncoder()\n",
    "label_encoder.fit(y_train + y_test + y_val)"
   ]
  },
  {
   "cell_type": "code",
   "execution_count": 11,
   "metadata": {
    "collapsed": true
   },
   "outputs": [],
   "source": [
    "# Encode class values as integers\n",
    "y_train = label_encoder.transform(y_train)\n",
    "y_test = label_encoder.transform(y_test)\n",
    "y_val = label_encoder.transform(y_val)"
   ]
  },
  {
   "cell_type": "code",
   "execution_count": 12,
   "metadata": {},
   "outputs": [
    {
     "name": "stdout",
     "output_type": "stream",
     "text": [
      "(198618, 90047) (112173, 90047) (198618, 104) (112173, 104)\n"
     ]
    }
   ],
   "source": [
    "# Convert integers to dummy variables (one hot encoded)\n",
    "from keras.utils import np_utils\n",
    " \n",
    "y_train = np_utils.to_categorical(y_train)\n",
    "y_test = np_utils.to_categorical(y_test)\n",
    "y_val = np_utils.to_categorical(y_val)\n",
    "\n",
    "print X_train.shape, X_test.shape, y_train.shape, y_test.shape"
   ]
  },
  {
   "cell_type": "code",
   "execution_count": 13,
   "metadata": {},
   "outputs": [],
   "source": [
    "# from keras.models import Sequential\n",
    "# from keras.layers import Dense, Dropout, Activation\n",
    "\n",
    "# with tf.device('/gpu:1'):\n",
    "#     x = tf.placeholder(tf.float32, shape=(None, X_train.shape[1]))\n",
    "#     model = Sequential()\n",
    "#     model.add(Dense(512, input_shape=(X_train.shape[1],), init='normal', activation='relu'))\n",
    "#     model.add(Dropout(0.2))\n",
    "#     model.add(Dense(512, input_shape=(X_train.shape[1],), init='normal', activation='relu'))\n",
    "#     model.add(Dropout(0.2))\n",
    "#     model.add(Dense(y_train.shape[1], activation='softmax'))\n",
    "\n",
    "#     print model.summary()\n",
    "#     model.compile(loss='categorical_crossentropy', optimizer='adam', metrics=['accuracy'])\n",
    "#     history = model.fit(X_train, y_train, validation_data = (X_val, y_val), nb_epoch=5,\n",
    "#                         batch_size=100, verbose=1, )\n",
    "    "
   ]
  },
  {
   "cell_type": "code",
   "execution_count": 14,
   "metadata": {
    "collapsed": true
   },
   "outputs": [],
   "source": [
    "from keras.models import Sequential\n",
    "from keras.layers import Dense, Dropout, Activation\n",
    " \n",
    "def build_model(input_dim, hidden_neurons, output_dim):\n",
    "    \"\"\"\n",
    "    Construct, compile and return a Keras model which will be used to fit/predict\n",
    "    \"\"\"\n",
    "    model = Sequential([\n",
    "        Dense(hidden_neurons, init='normal', input_dim=input_dim),\n",
    "        Activation('relu'),\n",
    "        Dropout(0.2),\n",
    "        Dense(hidden_neurons, init='normal'),\n",
    "        Activation('relu'),\n",
    "        Dropout(0.2),\n",
    "        Dense(output_dim, activation='softmax')\n",
    "    ])\n",
    " \n",
    "    model.compile(loss='categorical_crossentropy', optimizer='adam', metrics=['accuracy'])\n",
    "    return model"
   ]
  },
  {
   "cell_type": "code",
   "execution_count": 15,
   "metadata": {
    "collapsed": true
   },
   "outputs": [],
   "source": [
    "from keras.wrappers.scikit_learn import KerasClassifier\n",
    " \n",
    "model_params = {\n",
    "    'build_fn': build_model,\n",
    "    'input_dim': X_train.shape[1],\n",
    "    'hidden_neurons': 512,\n",
    "    'output_dim': y_train.shape[1],\n",
    "    'epochs': 25,\n",
    "    'batch_size': 256,\n",
    "    'verbose': 1,\n",
    "    'validation_data': (X_val, y_val),\n",
    "    'shuffle': True\n",
    "}\n",
    " \n",
    "clf = KerasClassifier(**model_params)"
   ]
  },
  {
   "cell_type": "code",
   "execution_count": 16,
   "metadata": {},
   "outputs": [
    {
     "name": "stderr",
     "output_type": "stream",
     "text": [
      "/home/sdmohant/.virtualenvs/deeplearn/lib/python2.7/site-packages/ipykernel_launcher.py:9: UserWarning: Update your `Dense` call to the Keras 2 API: `Dense(512, kernel_initializer=\"normal\", input_dim=90047)`\n",
      "  if __name__ == '__main__':\n",
      "/home/sdmohant/.virtualenvs/deeplearn/lib/python2.7/site-packages/ipykernel_launcher.py:12: UserWarning: Update your `Dense` call to the Keras 2 API: `Dense(512, kernel_initializer=\"normal\")`\n",
      "  if sys.path[0] == '':\n"
     ]
    },
    {
     "name": "stdout",
     "output_type": "stream",
     "text": [
      "Train on 198618 samples, validate on 57828 samples\n",
      "Epoch 1/50\n",
      "198618/198618 [==============================] - 210s - loss: 0.2327 - acc: 0.9835 - val_loss: 0.1225 - val_acc: 0.9908\n",
      "Epoch 2/50\n",
      "198618/198618 [==============================] - 188s - loss: 0.0630 - acc: 0.9944 - val_loss: 0.0723 - val_acc: 0.9945\n",
      "Epoch 3/50\n",
      "198618/198618 [==============================] - 187s - loss: 0.0405 - acc: 0.9960 - val_loss: 0.0743 - val_acc: 0.9944\n",
      "Epoch 4/50\n",
      "198618/198618 [==============================] - 189s - loss: 0.0345 - acc: 0.9968 - val_loss: 0.0688 - val_acc: 0.9953\n",
      "Epoch 5/50\n",
      "198618/198618 [==============================] - 190s - loss: 0.0325 - acc: 0.9972 - val_loss: 0.0702 - val_acc: 0.9946\n",
      "Epoch 6/50\n",
      "198618/198618 [==============================] - 190s - loss: 0.0310 - acc: 0.9974 - val_loss: 0.0691 - val_acc: 0.9948\n",
      "Epoch 7/50\n",
      "198618/198618 [==============================] - 191s - loss: 0.0299 - acc: 0.9975 - val_loss: 0.0685 - val_acc: 0.9951\n",
      "Epoch 8/50\n",
      "198618/198618 [==============================] - 191s - loss: 0.0303 - acc: 0.9974 - val_loss: 0.0683 - val_acc: 0.9951\n",
      "Epoch 9/50\n",
      "198618/198618 [==============================] - 192s - loss: 0.0296 - acc: 0.9976 - val_loss: 0.0689 - val_acc: 0.9952\n",
      "Epoch 10/50\n",
      "198618/198618 [==============================] - 191s - loss: 0.0289 - acc: 0.9978 - val_loss: 0.0703 - val_acc: 0.9948\n",
      "Epoch 11/50\n",
      "198618/198618 [==============================] - 191s - loss: 0.0293 - acc: 0.9977 - val_loss: 0.0690 - val_acc: 0.9953\n",
      "Epoch 12/50\n",
      "198618/198618 [==============================] - 191s - loss: 0.0292 - acc: 0.9977 - val_loss: 0.0706 - val_acc: 0.9950\n",
      "Epoch 13/50\n",
      "198618/198618 [==============================] - 190s - loss: 0.0283 - acc: 0.9978 - val_loss: 0.0727 - val_acc: 0.9947\n",
      "Epoch 14/50\n",
      "198618/198618 [==============================] - 199s - loss: 0.0278 - acc: 0.9978 - val_loss: 0.0836 - val_acc: 0.9904\n",
      "Epoch 15/50\n",
      "198618/198618 [==============================] - 194s - loss: 0.0274 - acc: 0.9979 - val_loss: 0.0701 - val_acc: 0.9946\n",
      "Epoch 16/50\n",
      "198618/198618 [==============================] - 192s - loss: 0.0278 - acc: 0.9979 - val_loss: 0.0703 - val_acc: 0.9947\n",
      "Epoch 17/50\n",
      "198618/198618 [==============================] - 191s - loss: 0.0275 - acc: 0.9979 - val_loss: 0.0749 - val_acc: 0.9949\n",
      "Epoch 18/50\n",
      "198618/198618 [==============================] - 192s - loss: 0.0275 - acc: 0.9980 - val_loss: 0.0718 - val_acc: 0.9942\n",
      "Epoch 19/50\n",
      "198618/198618 [==============================] - 193s - loss: 0.0271 - acc: 0.9980 - val_loss: 0.0702 - val_acc: 0.9952\n",
      "Epoch 20/50\n",
      "198618/198618 [==============================] - 192s - loss: 0.0275 - acc: 0.9980 - val_loss: 0.1326 - val_acc: 0.9897\n",
      "Epoch 21/50\n",
      "198618/198618 [==============================] - 193s - loss: 0.0273 - acc: 0.9980 - val_loss: 0.0703 - val_acc: 0.9952\n",
      "Epoch 22/50\n",
      "198618/198618 [==============================] - 192s - loss: 0.0271 - acc: 0.9980 - val_loss: 0.0711 - val_acc: 0.9949\n",
      "Epoch 23/50\n",
      "198618/198618 [==============================] - 195s - loss: 0.0274 - acc: 0.9980 - val_loss: 0.0690 - val_acc: 0.9951\n",
      "Epoch 24/50\n",
      "198618/198618 [==============================] - 195s - loss: 0.0268 - acc: 0.9981 - val_loss: 0.0712 - val_acc: 0.9951\n",
      "Epoch 25/50\n",
      "198618/198618 [==============================] - 195s - loss: 0.0271 - acc: 0.9980 - val_loss: 0.0691 - val_acc: 0.9950\n",
      "Epoch 26/50\n",
      "198618/198618 [==============================] - 196s - loss: 0.0272 - acc: 0.9980 - val_loss: 0.0730 - val_acc: 0.9949\n",
      "Epoch 27/50\n",
      "198618/198618 [==============================] - 194s - loss: 0.0273 - acc: 0.9980 - val_loss: 0.0774 - val_acc: 0.9930\n",
      "Epoch 28/50\n",
      "198618/198618 [==============================] - 196s - loss: 0.0267 - acc: 0.9981 - val_loss: 0.0688 - val_acc: 0.9953\n",
      "Epoch 29/50\n",
      "198618/198618 [==============================] - 203s - loss: 0.0272 - acc: 0.9980 - val_loss: 0.0713 - val_acc: 0.9951\n",
      "Epoch 30/50\n",
      "198618/198618 [==============================] - 204s - loss: 0.0269 - acc: 0.9981 - val_loss: 0.0722 - val_acc: 0.9949\n",
      "Epoch 31/50\n",
      "198618/198618 [==============================] - 197s - loss: 0.0269 - acc: 0.9981 - val_loss: 0.0702 - val_acc: 0.9952\n",
      "Epoch 32/50\n",
      "198618/198618 [==============================] - 201s - loss: 0.0275 - acc: 0.9980 - val_loss: 0.0698 - val_acc: 0.9947\n",
      "Epoch 33/50\n",
      "198618/198618 [==============================] - 194s - loss: 0.0262 - acc: 0.9982 - val_loss: 0.0719 - val_acc: 0.9947\n",
      "Epoch 34/50\n",
      "198618/198618 [==============================] - 193s - loss: 0.0275 - acc: 0.9980 - val_loss: 0.0699 - val_acc: 0.9952\n",
      "Epoch 35/50\n",
      "198618/198618 [==============================] - 194s - loss: 0.0270 - acc: 0.9981 - val_loss: 0.0716 - val_acc: 0.9952\n",
      "Epoch 36/50\n",
      "198618/198618 [==============================] - 193s - loss: 0.0268 - acc: 0.9981 - val_loss: 0.0706 - val_acc: 0.9952\n",
      "Epoch 37/50\n",
      "198618/198618 [==============================] - 193s - loss: 0.0273 - acc: 0.9980 - val_loss: 0.0740 - val_acc: 0.9944\n",
      "Epoch 38/50\n",
      "198618/198618 [==============================] - 194s - loss: 0.0266 - acc: 0.9982 - val_loss: 0.0723 - val_acc: 0.9947\n",
      "Epoch 39/50\n",
      "198618/198618 [==============================] - 193s - loss: 0.0269 - acc: 0.9981 - val_loss: 0.0705 - val_acc: 0.9949\n",
      "Epoch 40/50\n",
      "198618/198618 [==============================] - 194s - loss: 0.0268 - acc: 0.9982 - val_loss: 0.0715 - val_acc: 0.9951\n",
      "Epoch 41/50\n",
      "198618/198618 [==============================] - 193s - loss: 0.0270 - acc: 0.9981 - val_loss: 0.0745 - val_acc: 0.9940\n",
      "Epoch 42/50\n",
      "198618/198618 [==============================] - 194s - loss: 0.0268 - acc: 0.9982 - val_loss: 0.0712 - val_acc: 0.9948\n",
      "Epoch 43/50\n",
      "198618/198618 [==============================] - 194s - loss: 0.0272 - acc: 0.9981 - val_loss: 0.0741 - val_acc: 0.9941\n",
      "Epoch 44/50\n",
      "198618/198618 [==============================] - 197s - loss: 0.0265 - acc: 0.9982 - val_loss: 0.0712 - val_acc: 0.9944\n",
      "Epoch 45/50\n",
      "198618/198618 [==============================] - 201s - loss: 0.0266 - acc: 0.9982 - val_loss: 0.0711 - val_acc: 0.9951\n",
      "Epoch 46/50\n",
      "198618/198618 [==============================] - 192s - loss: 0.0261 - acc: 0.9983 - val_loss: 0.0722 - val_acc: 0.9947\n",
      "Epoch 47/50\n",
      "198618/198618 [==============================] - 205s - loss: 0.0274 - acc: 0.9980 - val_loss: 0.0724 - val_acc: 0.9950\n",
      "Epoch 48/50\n",
      "198618/198618 [==============================] - 207s - loss: 0.0270 - acc: 0.9981 - val_loss: 0.0750 - val_acc: 0.9947\n",
      "Epoch 49/50\n",
      "198618/198618 [==============================] - 196s - loss: 0.0272 - acc: 0.9981 - val_loss: 0.0745 - val_acc: 0.9947\n",
      "Epoch 50/50\n",
      "198618/198618 [==============================] - 200s - loss: 0.0268 - acc: 0.9982 - val_loss: 0.0714 - val_acc: 0.9948\n"
     ]
    }
   ],
   "source": [
    "history = clf.fit(X_train, y_train)"
   ]
  },
  {
   "cell_type": "code",
   "execution_count": 17,
   "metadata": {
    "collapsed": true
   },
   "outputs": [],
   "source": [
    "import matplotlib.pyplot as plt\n",
    "\n",
    "%matplotlib inline\n",
    "\n",
    "def plot_model_performance(train_loss, train_acc, train_val_loss, train_val_acc):\n",
    "    \"\"\" Plot model loss and accuracy through epochs. \"\"\"\n",
    " \n",
    "    green = '#72C29B'\n",
    "    orange = '#FFA577'\n",
    " \n",
    "    with plt.xkcd():\n",
    "        # plot model loss\n",
    "        fig, ax1 = plt.subplots()\n",
    "        ax1.plot(range(1, len(train_loss) + 1), train_loss, green, linewidth=5,\n",
    "                 label='training')\n",
    "        ax1.plot(range(1, len(train_val_loss) + 1), train_val_loss, orange,\n",
    "                 linewidth=5, label='validation')\n",
    "        ax1.set_xlabel('# epoch')\n",
    "        ax1.set_ylabel('loss')\n",
    "        ax1.tick_params('y')\n",
    "        ax1.legend(loc='upper right', shadow=False)\n",
    "        # plot model accuracy\n",
    "        fig, ax2 = plt.subplots()\n",
    "        ax2.plot(range(1, len(train_acc) + 1), train_acc, green, linewidth=5,\n",
    "                 label='training')\n",
    "        ax2.plot(range(1, len(train_val_acc) + 1), train_val_acc, orange,\n",
    "                 linewidth=5, label='validation')\n",
    "        ax2.set_xlabel('# epoch')\n",
    "        ax2.set_ylabel('accuracy')\n",
    "        ax2.tick_params('y')\n",
    "        ax2.legend(loc='lower right', shadow=False)"
   ]
  },
  {
   "cell_type": "code",
   "execution_count": 18,
   "metadata": {},
   "outputs": [
    {
     "name": "stderr",
     "output_type": "stream",
     "text": [
      "/home/sdmohant/.virtualenvs/deeplearn/local/lib/python2.7/site-packages/matplotlib/font_manager.py:1297: UserWarning: findfont: Font family [u'xkcd', u'Humor Sans', u'Comic Sans MS'] not found. Falling back to DejaVu Sans\n",
      "  (prop.get_family(), self.defaultFamily[fontext]))\n"
     ]
    },
    {
     "data": {
      "image/png": "[encoded data removed]",
      "text/plain": [
       "<matplotlib.figure.Figure at 0x7f8b6ce10950>"
      ]
     },
     "metadata": {},
     "output_type": "display_data"
    },
    {
     "data": {
      "image/png": "[encoded data removed]",
      "text/plain": [
       "<matplotlib.figure.Figure at 0x7f8b680c2890>"
      ]
     },
     "metadata": {},
     "output_type": "display_data"
    }
   ],
   "source": [
    "# Plot model performance\n",
    "plot_model_performance(\n",
    "    train_loss=history.history.get('loss', []),\n",
    "    train_acc=history.history.get('acc', []),\n",
    "    train_val_loss=history.history.get('val_loss', []),\n",
    "    train_val_acc=history.history.get('val_acc', [])\n",
    ")"
   ]
  },
  {
   "cell_type": "code",
   "execution_count": 20,
   "metadata": {},
   "outputs": [
    {
     "name": "stdout",
     "output_type": "stream",
     "text": [
      "112128/112173 [============================>.] - ETA: 0s0.994838330079\n"
     ]
    }
   ],
   "source": [
    "score = clf.score(X_test, y_test)\n",
    "print(score)"
   ]
  },
  {
   "cell_type": "code",
   "execution_count": 21,
   "metadata": {},
   "outputs": [
    {
     "name": "stdout",
     "output_type": "stream",
     "text": [
      "112128/112173 [============================>.] - ETA: 0s\n",
      "\n",
      "             precision    recall  f1-score   support\n",
      "\n",
      " GO:0000267       0.00      0.00      0.00        18\n",
      " GO:0000502       0.00      0.00      0.00         0\n",
      " GO:0000775       0.00      0.00      0.00         0\n",
      " GO:0000785       0.53      1.00      0.69         9\n",
      " GO:0000786       0.00      0.00      0.00         0\n",
      " GO:0000791       0.00      0.00      0.00         0\n",
      " GO:0000792       0.00      0.00      0.00         1\n",
      " GO:0000795       0.00      0.00      0.00         0\n",
      " GO:0000805       0.00      0.00      0.00         0\n",
      " GO:0000806       0.00      0.00      0.00         3\n",
      " GO:0000811       0.00      0.00      0.00         1\n",
      " GO:0001669       0.00      0.00      0.00         0\n",
      " GO:0001750       0.00      0.00      0.00         4\n",
      " GO:0001917       0.00      0.00      0.00        17\n",
      " GO:0005575       0.00      0.00      0.00         0\n",
      " GO:0005576       1.00      0.67      0.80        15\n",
      " GO:0005577       0.00      0.00      0.00         0\n",
      " GO:0005581       0.60      0.82      0.69        11\n",
      " GO:0005585       0.00      0.00      0.00         6\n",
      " GO:0005610       0.00      0.00      0.00         1\n",
      " GO:0005622       0.38      1.00      0.55         8\n",
      " GO:0005623       0.99      1.00      0.99       419\n",
      " GO:0005634       0.98      0.94      0.96        48\n",
      " GO:0005643       0.00      0.00      0.00         0\n",
      " GO:0005654       0.00      0.00      0.00         0\n",
      " GO:0005656       0.00      0.00      0.00         1\n",
      " GO:0005657       0.00      0.00      0.00        23\n",
      " GO:0005675       0.00      0.00      0.00         0\n",
      " GO:0005694       0.90      0.99      0.94        84\n",
      " GO:0005712       0.00      0.00      0.00         0\n",
      " GO:0005730       0.00      0.00      0.00         0\n",
      " GO:0005737       0.86      1.00      0.92        12\n",
      " GO:0005739       0.30      0.75      0.43         4\n",
      " GO:0005764       1.00      1.00      1.00         4\n",
      " GO:0005768       0.00      0.00      0.00         0\n",
      " GO:0005773       0.50      1.00      0.67         1\n",
      " GO:0005776       0.00      0.00      0.00         0\n",
      " GO:0005777       1.00      1.00      1.00         1\n",
      " GO:0005783       0.50      1.00      0.67         1\n",
      " GO:0005792       0.00      0.00      0.00         0\n",
      " GO:0005813       0.00      0.00      0.00         0\n",
      " GO:0005819       0.00      0.00      0.00         0\n",
      " GO:0005829       0.40      1.00      0.57         2\n",
      " GO:0005833       0.00      0.00      0.00         0\n",
      " GO:0005835       0.00      0.00      0.00         0\n",
      " GO:0005840       0.00      0.00      0.00         0\n",
      " GO:0005856       1.00      1.00      1.00         8\n",
      " GO:0005871       0.00      0.00      0.00         0\n",
      " GO:0005874       0.00      0.00      0.00         6\n",
      " GO:0005883       0.00      0.00      0.00         0\n",
      " GO:0005886       0.00      0.00      0.00         1\n",
      " GO:0005901       0.00      0.00      0.00         0\n",
      " GO:0005902       0.00      0.00      0.00         0\n",
      " GO:0005912       0.00      0.00      0.00        19\n",
      " GO:0005929       0.00      0.00      0.00         9\n",
      " GO:0005966       0.00      0.00      0.00         0\n",
      " GO:0008091       0.00      0.00      0.00         0\n",
      " GO:0008305       0.00      0.00      0.00         0\n",
      " GO:0009986       0.00      0.00      0.00         1\n",
      " GO:0010369       0.00      0.00      0.00         0\n",
      " GO:0014069       0.00      0.00      0.00         0\n",
      " GO:0016020       0.00      0.00      0.00         8\n",
      " GO:0016021       0.00      0.00      0.00         9\n",
      " GO:0016028       0.00      0.00      0.00         1\n",
      " GO:0016234       0.00      0.00      0.00         0\n",
      " GO:0016459       0.33      0.50      0.40         2\n",
      " GO:0016528       0.00      0.00      0.00         0\n",
      " GO:0017086       0.00      0.00      0.00         0\n",
      " GO:0019814       0.96      0.98      0.97       159\n",
      " GO:0030016       0.00      0.00      0.00         0\n",
      " GO:0030054       0.00      0.00      0.00         5\n",
      " GO:0030056       0.00      0.00      0.00         3\n",
      " GO:0030286       0.00      0.00      0.00         0\n",
      " GO:0030424       0.00      0.00      0.00       107\n",
      " GO:0030425       0.00      0.00      0.00         5\n",
      " GO:0030849       0.90      1.00      0.95         9\n",
      " GO:0031012       0.33      0.50      0.40         6\n",
      " GO:0031143       0.00      0.00      0.00         0\n",
      " GO:0031240       0.00      0.00      0.00         2\n",
      " GO:0031965       0.00      0.00      0.00         0\n",
      " GO:0031982       0.47      1.00      0.64         7\n",
      " GO:0032391       0.00      0.00      0.00         3\n",
      " GO:0032991       0.67      0.07      0.13        56\n",
      " GO:0035102       0.00      0.00      0.00         5\n",
      " GO:0042470       0.00      0.00      0.00         0\n",
      " GO:0042555       0.00      0.00      0.00        52\n",
      " GO:0042611       1.00      0.71      0.83         7\n",
      " GO:0042995       0.00      0.00      0.00         7\n",
      " GO:0043025       0.00      0.00      0.00         0\n",
      " GO:0043204       0.00      0.00      0.00         0\n",
      " GO:0043209       0.00      0.00      0.00         0\n",
      " GO:0043226       0.00      0.00      0.00         0\n",
      " GO:0043256       0.00      0.00      0.00         5\n",
      " GO:0043626       0.00      0.00      0.00         0\n",
      " GO:0043679       0.00      0.00      0.00        23\n",
      " GO:0045120       1.00      0.50      0.67         2\n",
      " GO:0045177       0.00      0.00      0.00         9\n",
      " GO:0045202       0.00      0.00      0.00        31\n",
      " GO:0045251       0.00      0.00      0.00         0\n",
      " GO:0045277       0.00      0.00      0.00         0\n",
      " GO:0045298       0.75      1.00      0.86         6\n",
      " GO:0046581       0.00      0.00      0.00         2\n",
      " GO:0048471       0.25      1.00      0.40         1\n",
      "         NA       1.00      1.00      1.00    110903\n",
      "\n",
      "avg / total       0.99      0.99      0.99    112173\n",
      "\n"
     ]
    },
    {
     "name": "stderr",
     "output_type": "stream",
     "text": [
      "/home/sdmohant/.virtualenvs/deeplearn/local/lib/python2.7/site-packages/sklearn/metrics/classification.py:1113: UndefinedMetricWarning: Precision and F-score are ill-defined and being set to 0.0 in labels with no predicted samples.\n",
      "  'precision', 'predicted', average, warn_for)\n",
      "/home/sdmohant/.virtualenvs/deeplearn/local/lib/python2.7/site-packages/sklearn/metrics/classification.py:1115: UndefinedMetricWarning: Recall and F-score are ill-defined and being set to 0.0 in labels with no true samples.\n",
      "  'recall', 'true', average, warn_for)\n"
     ]
    }
   ],
   "source": [
    "from sklearn.metrics import classification_report\n",
    "\n",
    "\n",
    "predicted = clf.predict(X_test)\n",
    "predicted_cat = np_utils.to_categorical(predicted)\n",
    "report = classification_report(y_test, predicted_cat, target_names=label_encoder.classes_)\n",
    "print \"\\n\"\n",
    "print report"
   ]
  },
  {
   "cell_type": "code",
   "execution_count": 22,
   "metadata": {
    "scrolled": true
   },
   "outputs": [
    {
     "name": "stdout",
     "output_type": "stream",
     "text": [
      "[103 103 103 ..., 103 103 103] [[ 0.  0.  1. ...,  0.  0.  0.]\n",
      " [ 0.  0.  1. ...,  0.  0.  0.]\n",
      " [ 0.  1.  0. ...,  0.  0.  0.]\n",
      " ..., \n",
      " [ 0.  1.  0. ...,  0.  0.  0.]\n",
      " [ 1.  0.  1. ...,  0.  0.  0.]\n",
      " [ 1.  0.  1. ...,  0.  0.  0.]]\n"
     ]
    }
   ],
   "source": [
    "print predicted, X_test"
   ]
  },
  {
   "cell_type": "code",
   "execution_count": 24,
   "metadata": {
    "scrolled": false
   },
   "outputs": [
    {
     "name": "stdout",
     "output_type": "stream",
     "text": [
      "[[ 0.  0.  0. ...,  0.  0.  1.]\n",
      " [ 0.  0.  0. ...,  0.  0.  1.]\n",
      " [ 0.  0.  0. ...,  0.  0.  1.]\n",
      " ..., \n",
      " [ 0.  0.  0. ...,  0.  0.  1.]\n",
      " [ 0.  0.  0. ...,  0.  0.  1.]\n",
      " [ 0.  0.  0. ...,  0.  0.  1.]]\n"
     ]
    }
   ],
   "source": [
    "print y_test"
   ]
  },
  {
   "cell_type": "code",
   "execution_count": 43,
   "metadata": {},
   "outputs": [
    {
     "name": "stdout",
     "output_type": "stream",
     "text": [
      "['NA' 'NA' 'NA' ..., 'NA' 'NA' 'NA']\n",
      "['NA' 'NA' 'NA' ..., 'NA' 'NA' 'NA']\n"
     ]
    }
   ],
   "source": [
    "import numpy as np\n",
    "\n",
    "\n",
    "y_test_classes = [np.argmax(y, axis=None, out=None) for y in y_test]\n",
    "y_pred_classes = [np.argmax(y, axis=None, out=None) for y in predicted_cat]\n",
    "\n",
    "p = label_encoder.inverse_transform(y_test_classes)\n",
    "t = label_encoder.inverse_transform(y_pred_classes)\n",
    "\n",
    "print p\n",
    "print t"
   ]
  },
  {
   "cell_type": "code",
   "execution_count": 41,
   "metadata": {},
   "outputs": [
    {
     "name": "stdout",
     "output_type": "stream",
     "text": [
      "Confusion matrix, without normalization\n",
      "[[     0      0      0 ...,      0      0     18]\n",
      " [     0      9      0 ...,      0      0      0]\n",
      " [     0      0      0 ...,      0      0      1]\n",
      " ..., \n",
      " [     0      0      0 ...,      0      0      2]\n",
      " [     0      0      0 ...,      0      1      0]\n",
      " [     0      8      0 ...,      0      2 110786]]\n"
     ]
    },
    {
     "data": {
      "image/png": "[encoded data removed]",
      "text/plain": [
       "<matplotlib.figure.Figure at 0x7f8b66bc6b10>"
      ]
     },
     "metadata": {},
     "output_type": "display_data"
    }
   ],
   "source": [
    "from sklearn.metrics import confusion_matrix\n",
    "\n",
    "def plot_confusion_matrix(cm, classes,\n",
    "                          normalize=False,\n",
    "                          title='Confusion matrix',\n",
    "                          cmap=plt.cm.Blues):\n",
    "    \"\"\"\n",
    "    This function prints and plots the confusion matrix.\n",
    "    Normalization can be applied by setting `normalize=True`.\n",
    "    \"\"\"\n",
    "    plt.imshow(cm, interpolation='nearest', cmap=cmap)\n",
    "    plt.title(title)\n",
    "    plt.colorbar()\n",
    "    tick_marks = np.arange(len(classes))\n",
    "    plt.xticks(tick_marks, classes, rotation=45)\n",
    "    plt.yticks(tick_marks, classes)\n",
    "\n",
    "    if normalize:\n",
    "        cm = cm.astype('float') / cm.sum(axis=1)[:, np.newaxis]\n",
    "        print(\"Normalized confusion matrix\")\n",
    "    else:\n",
    "        print('Confusion matrix, without normalization')\n",
    "\n",
    "    print(cm)\n",
    "\n",
    "    thresh = cm.max() / 2.\n",
    "    for i, j in itertools.product(range(cm.shape[0]), range(cm.shape[1])):\n",
    "        plt.text(j, i, cm[i, j],\n",
    "                 horizontalalignment=\"center\",\n",
    "                 color=\"white\" if cm[i, j] > thresh else \"black\")\n",
    "\n",
    "    plt.tight_layout()\n",
    "    plt.ylabel('True label')\n",
    "    plt.xlabel('Predicted label')\n",
    "\n",
    "cnf_matrix = confusion_matrix(y_test_classes, y_pred_classes)\n",
    "\n",
    "# plot_confusion_matrix(cnf_matrix, classes=label_encoder.classes_, title='Confusion matrix, without normalization')"
   ]
  },
  {
   "cell_type": "code",
   "execution_count": 44,
   "metadata": {
    "collapsed": true
   },
   "outputs": [],
   "source": [
    "import pandas as pd\n",
    "\n",
    "df = pd.DataFrame(\n",
    "{\n",
    "    'Predicted' : p,\n",
    "    'Ground Truth': t\n",
    "}\n",
    ")"
   ]
  },
  {
   "cell_type": "code",
   "execution_count": 45,
   "metadata": {
    "collapsed": true
   },
   "outputs": [],
   "source": [
    "df.to_csv('./Window_Based.tsv', sep='\\t')"
   ]
  },
  {
   "cell_type": "code",
   "execution_count": null,
   "metadata": {
    "collapsed": true
   },
   "outputs": [],
   "source": []
  }
 ],
 "metadata": {
  "kernelspec": {
   "display_name": "Python 2",
   "language": "python",
   "name": "python2"
  },
  "language_info": {
   "codemirror_mode": {
    "name": "ipython",
    "version": 2
   },
   "file_extension": ".py",
   "mimetype": "text/x-python",
   "name": "python",
   "nbconvert_exporter": "python",
   "pygments_lexer": "ipython2",
   "version": "2.7.12"
  }
 },
 "nbformat": 4,
 "nbformat_minor": 2
}
