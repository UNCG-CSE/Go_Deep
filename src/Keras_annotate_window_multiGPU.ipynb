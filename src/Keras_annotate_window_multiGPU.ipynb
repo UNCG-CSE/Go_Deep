{
 "cells": [
  {
   "cell_type": "code",
   "execution_count": 1,
   "metadata": {},
   "outputs": [
    {
     "name": "stderr",
     "output_type": "stream",
     "text": [
      "Using TensorFlow backend.\n"
     ]
    }
   ],
   "source": [
    "import json\n",
    "from keras.preprocessing import sequence\n",
    "from keras.models import Sequential\n",
    "from keras.layers.embeddings import Embedding\n",
    "from keras.layers.recurrent import SimpleRNN, GRU, LSTM\n",
    "from keras.layers.core import Dense, Dropout\n",
    "from keras.layers.wrappers import TimeDistributed\n",
    "from keras.layers import Convolution1D, MaxPooling1D\n",
    "from keras.utils import np_utils\n",
    "import itertools\n",
    "import ast\n",
    "from sklearn.model_selection import train_test_split\n",
    "from sklearn.preprocessing import LabelEncoder\n",
    "import sys, os\n",
    "import traceback\n",
    "from operator import itemgetter\n",
    "\n",
    "import progressbar\n",
    "\n",
    "import os\n",
    "import tensorflow as tf\n",
    "os.environ[\"CUDA_DEVICE_ORDER\"] = \"PCI_BUS_ID\"   # see issue #152\n",
    "os.environ[\"CUDA_VISIBLE_DEVICES\"] = \"0\""
   ]
  },
  {
   "cell_type": "code",
   "execution_count": 2,
   "metadata": {
    "collapsed": true
   },
   "outputs": [],
   "source": [
    "def read_data(rootdir):\n",
    "    data_list = []\n",
    "    for subdir, dirs, files in os.walk(rootdir):\n",
    "        for fname in files:\n",
    "            #print os.path.join(subdir, file)\n",
    "            filepath = subdir + os.sep + fname\n",
    "            with open(filepath) as f:\n",
    "                for line1,line2 in itertools.izip_longest(*[f]*2):\n",
    "                    try:\n",
    "                        text = ast.literal_eval(line1)\n",
    "                        label = ast.literal_eval(line2)\n",
    "                        n_labels = set(label)\n",
    "                        if len(text) > 3 and len(n_labels) > 1:\n",
    "                            sentence = zip(text, label)\n",
    "                            sentence = [item for item in sentence if item[0].strip() != '']\n",
    "                            data_list.append(sentence)\n",
    "                    except:\n",
    "                        pass\n",
    "            f.close()\n",
    "    return data_list"
   ]
  },
  {
   "cell_type": "code",
   "execution_count": 3,
   "metadata": {},
   "outputs": [
    {
     "name": "stdout",
     "output_type": "stream",
     "text": [
      "[('A', 'O'), ('Hybrid', 'O'), ('Photoreceptor', 'O'), ('Expressing', 'GO:0010467'), ('Both', 'O'), ('Rod', 'O'), ('and', 'O'), ('Cone', 'O'), ('Genes', 'O'), ('in', 'O'), ('a', 'O'), ('Mouse', 'O'), ('Model', 'O'), ('of', 'O'), ('Enhanced', 'O'), ('SCone', 'O'), ('Syndrome', 'O')]\n",
      "9571\n",
      "[('A', 'O'), ('Hybrid', 'O'), ('Photoreceptor', 'O'), ('Expressing', 'GO:0010467'), ('Both', 'O'), ('Rod', 'O'), ('and', 'O'), ('Cone', 'O'), ('Genes', 'O'), ('in', 'O'), ('a', 'O'), ('Mouse', 'O'), ('Model', 'O'), ('of', 'O'), ('Enhanced', 'O'), ('SCone', 'O'), ('Syndrome', 'O')]\n",
      "9571\n"
     ]
    }
   ],
   "source": [
    "data_list_raw = read_data('../data/input/GO/merged/')\n",
    "\n",
    "#raw data\n",
    "print data_list_raw[0]\n",
    "print len(data_list_raw)\n",
    "\n",
    "data_list = []\n",
    "for each in data_list_raw:\n",
    "    sent = set(map(itemgetter(1), each))\n",
    "    if len(sent) != 1:\n",
    "        data_list.append(each)\n",
    "    \n",
    "#clean data\n",
    "print data_list[0]\n",
    "print len(data_list)\n",
    "\n",
    "\n",
    "# data_list = data_list[:3000]\n",
    "\n",
    "train_test_cutoff = int(.70 * len(data_list)) \n",
    "training_sentences = data_list[:train_test_cutoff]\n",
    "testing_sentences = data_list[train_test_cutoff:]\n",
    " \n",
    "train_val_cutoff = int(.25 * len(training_sentences))\n",
    "validation_sentences = training_sentences[:train_val_cutoff]\n",
    "training_sentences = training_sentences[train_val_cutoff:]"
   ]
  },
  {
   "cell_type": "code",
   "execution_count": 4,
   "metadata": {},
   "outputs": [
    {
     "name": "stdout",
     "output_type": "stream",
     "text": [
      "[('Regulation', 'GO:0065007'), ('of', 'O'), ('Muscle', 'O'), ('Fiber', 'O'), ('Type', 'O'), ('and', 'O'), ('Running', 'O'), ('Endurance', 'O'), ('by', 'O'), ('PPAR\\xce\\xb4', 'O')]\n"
     ]
    }
   ],
   "source": [
    "print training_sentences[0]"
   ]
  },
  {
   "cell_type": "code",
   "execution_count": 5,
   "metadata": {
    "collapsed": true
   },
   "outputs": [],
   "source": [
    "def add_basic_features(sentence_terms, index):\n",
    "    \"\"\" Compute some very basic word features.\n",
    " \n",
    "        :param sentence_terms: [w1, w2, ...] \n",
    "        :type sentence_terms: list\n",
    "        :param index: the index of the word \n",
    "        :type index: int\n",
    "        :return: dict containing features\n",
    "        :rtype: dict\n",
    "    \"\"\"\n",
    "\n",
    "    term = sentence_terms[index]\n",
    "\n",
    "    return {\n",
    "        'nb_terms': len(sentence_terms),\n",
    "        'term': term,\n",
    "        'is_first': index == 0,\n",
    "        'is_last': index == len(sentence_terms) - 1,\n",
    "        'is_capitalized': term[0].upper() == term[0],\n",
    "        'is_all_caps': term.upper() == term,\n",
    "        'is_all_lower': term.lower() == term,\n",
    "        'prefix-1': term[0],\n",
    "        'prefix-2': term[:2],\n",
    "        'prefix-3': term[:3],\n",
    "        'suffix-1': term[-1],\n",
    "        'suffix-2': term[-2:],\n",
    "        'suffix-3': term[-3:],\n",
    "        'prev_word': '' if index == 0 else sentence_terms[index - 1],\n",
    "        'next_word': '' if index == len(sentence_terms) - 1 else sentence_terms[index + 1]\n",
    "    }"
   ]
  },
  {
   "cell_type": "code",
   "execution_count": 6,
   "metadata": {
    "collapsed": true
   },
   "outputs": [],
   "source": [
    "def untag(tagged_sentence):\n",
    "    \"\"\" \n",
    "    Remove the tag for each tagged term. \n",
    " \n",
    "    :param tagged_sentence: a POS tagged sentence\n",
    "    :type tagged_sentence: list\n",
    "    :return: a list of tags\n",
    "    :rtype: list of strings\n",
    "    \"\"\"\n",
    "    return [w for w, _ in tagged_sentence]\n",
    " \n",
    "def transform_to_dataset(tagged_sentences):\n",
    "    \"\"\"\n",
    "    Split tagged sentences to X and y datasets and append some basic features.\n",
    " \n",
    "    :param tagged_sentences: a list of POS tagged sentences\n",
    "    :param tagged_sentences: list of list of tuples (term_i, tag_i)\n",
    "    :return: \n",
    "    \"\"\"\n",
    "    X, y = [], []\n",
    " \n",
    "    for pos_tags in tagged_sentences:\n",
    "        for index, (term, class_) in enumerate(pos_tags):\n",
    "            # Add basic NLP features for each sentence term\n",
    "            X.append(add_basic_features(untag(pos_tags), index))\n",
    "            y.append(class_)\n",
    "    return X, y"
   ]
  },
  {
   "cell_type": "code",
   "execution_count": 7,
   "metadata": {
    "collapsed": true
   },
   "outputs": [],
   "source": [
    "X_train, y_train = transform_to_dataset(training_sentences)\n",
    "X_test, y_test = transform_to_dataset(testing_sentences)\n",
    "X_val, y_val = transform_to_dataset(validation_sentences)"
   ]
  },
  {
   "cell_type": "code",
   "execution_count": 8,
   "metadata": {},
   "outputs": [
    {
     "data": {
      "text/plain": [
       "DictVectorizer(dtype=<type 'numpy.float64'>, separator='=', sort=True,\n",
       "        sparse=False)"
      ]
     },
     "execution_count": 8,
     "metadata": {},
     "output_type": "execute_result"
    }
   ],
   "source": [
    "from sklearn.feature_extraction import DictVectorizer\n",
    " \n",
    "# Fit our DictVectorizer with our set of features\n",
    "dict_vectorizer = DictVectorizer(sparse=False)\n",
    "dict_vectorizer.fit(X_train + X_test + X_val)"
   ]
  },
  {
   "cell_type": "code",
   "execution_count": 9,
   "metadata": {
    "collapsed": true
   },
   "outputs": [],
   "source": [
    "# Convert dict features to vectors\n",
    "X_train = dict_vectorizer.transform(X_train)\n",
    "X_test = dict_vectorizer.transform(X_test)\n",
    "X_val = dict_vectorizer.transform(X_val)"
   ]
  },
  {
   "cell_type": "code",
   "execution_count": 10,
   "metadata": {},
   "outputs": [
    {
     "data": {
      "text/plain": [
       "LabelEncoder()"
      ]
     },
     "execution_count": 10,
     "metadata": {},
     "output_type": "execute_result"
    }
   ],
   "source": [
    "# Fit LabelEncoder with our list of classes\n",
    "from sklearn.preprocessing import LabelEncoder\n",
    "label_encoder = LabelEncoder()\n",
    "label_encoder.fit(y_train + y_test + y_val)"
   ]
  },
  {
   "cell_type": "code",
   "execution_count": 11,
   "metadata": {
    "collapsed": true
   },
   "outputs": [],
   "source": [
    "from sklearn.utils import class_weight\n",
    "import numpy as np\n",
    "\n",
    "class_weight = class_weight.compute_class_weight('balanced',\n",
    "                                                 np.unique(y_train),\n",
    "                                                 y_train)"
   ]
  },
  {
   "cell_type": "code",
   "execution_count": 12,
   "metadata": {
    "collapsed": true
   },
   "outputs": [],
   "source": [
    "# Encode class values as integers\n",
    "y_train = label_encoder.transform(y_train)\n",
    "y_test = label_encoder.transform(y_test)\n",
    "y_val = label_encoder.transform(y_val)"
   ]
  },
  {
   "cell_type": "code",
   "execution_count": 13,
   "metadata": {},
   "outputs": [
    {
     "name": "stdout",
     "output_type": "stream",
     "text": [
      "(121783, 66108) (71871, 66108) (121783, 359) (71871, 359)\n",
      "(41567, 66108) (41567, 359)\n"
     ]
    }
   ],
   "source": [
    "# Convert integers to dummy variables (one hot encoded)\n",
    "from keras.utils import np_utils\n",
    " \n",
    "y_train = np_utils.to_categorical(y_train)\n",
    "y_test = np_utils.to_categorical(y_test)\n",
    "y_val = np_utils.to_categorical(y_val)\n",
    "\n",
    "print X_train.shape, X_test.shape, y_train.shape, y_test.shape\n",
    "print X_val.shape, y_val.shape"
   ]
  },
  {
   "cell_type": "code",
   "execution_count": 14,
   "metadata": {
    "collapsed": true
   },
   "outputs": [],
   "source": [
    "# from keras.models import Sequential\n",
    "# from keras.layers import Dense, Dropout, Activation\n",
    "\n",
    "# with tf.device('/gpu:1'):\n",
    "#     x = tf.placeholder(tf.float32, shape=(None, X_train.shape[1]))\n",
    "#     model = Sequential()\n",
    "#     model.add(Dense(512, input_shape=(X_train.shape[1],), init='normal', activation='relu'))\n",
    "#     model.add(Dropout(0.2))\n",
    "#     model.add(Dense(512, input_shape=(X_train.shape[1],), init='normal', activation='relu'))\n",
    "#     model.add(Dropout(0.2))\n",
    "#     model.add(Dense(y_train.shape[1], activation='softmax'))\n",
    "\n",
    "#     print model.summary()\n",
    "#     model.compile(loss='categorical_crossentropy', optimizer='adam', metrics=['accuracy'])\n",
    "#     history = model.fit(X_train, y_train, validation_data = (X_val, y_val), nb_epoch=5,\n",
    "#                         batch_size=100, verbose=1, )\n",
    "    "
   ]
  },
  {
   "cell_type": "code",
   "execution_count": 15,
   "metadata": {
    "collapsed": true
   },
   "outputs": [],
   "source": [
    "from keras.models import Sequential\n",
    "from keras.layers import Dense, Dropout, Activation\n",
    " \n",
    "def build_model(input_dim, hidden_neurons, output_dim):\n",
    "    \"\"\"\n",
    "    Construct, compile and return a Keras model which will be used to fit/predict\n",
    "    \"\"\"\n",
    "    model = Sequential([\n",
    "        Dense(hidden_neurons, init='normal', input_dim=input_dim),\n",
    "        Activation('relu'),\n",
    "        Dropout(0.2),\n",
    "        Dense(hidden_neurons, init='normal'),\n",
    "        Activation('relu'),\n",
    "        Dropout(0.2),\n",
    "        Dense(output_dim, activation='softmax')\n",
    "    ])\n",
    " \n",
    "    model.compile(loss='categorical_crossentropy', optimizer='nadam', metrics=['accuracy'])\n",
    "    return model"
   ]
  },
  {
   "cell_type": "code",
   "execution_count": 16,
   "metadata": {
    "collapsed": true
   },
   "outputs": [],
   "source": [
    "from keras.wrappers.scikit_learn import KerasClassifier\n",
    " \n",
    "model_params = {\n",
    "    'build_fn': build_model,\n",
    "    'input_dim': X_train.shape[1],\n",
    "    'hidden_neurons': 1024,\n",
    "    'output_dim': y_train.shape[1],\n",
    "    'epochs': 15,\n",
    "    'batch_size': 256,\n",
    "    'verbose': 1,\n",
    "    'validation_data': (X_val, y_val),\n",
    "    'class_weight': 'auto',\n",
    "    'shuffle': True\n",
    "}\n",
    " \n",
    "clf = KerasClassifier(**model_params)"
   ]
  },
  {
   "cell_type": "code",
   "execution_count": 17,
   "metadata": {},
   "outputs": [
    {
     "name": "stderr",
     "output_type": "stream",
     "text": [
      "/home/sdmohant/.virtualenvs/deeplearn/lib/python2.7/site-packages/ipykernel_launcher.py:9: UserWarning: Update your `Dense` call to the Keras 2 API: `Dense(1024, kernel_initializer=\"normal\", input_dim=66108)`\n",
      "  if __name__ == '__main__':\n",
      "/home/sdmohant/.virtualenvs/deeplearn/lib/python2.7/site-packages/ipykernel_launcher.py:12: UserWarning: Update your `Dense` call to the Keras 2 API: `Dense(1024, kernel_initializer=\"normal\")`\n",
      "  if sys.path[0] == '':\n"
     ]
    },
    {
     "name": "stdout",
     "output_type": "stream",
     "text": [
      "Train on 121783 samples, validate on 41567 samples\n",
      "Epoch 1/15\n",
      "121783/121783 [==============================] - 117s 960us/step - loss: 0.6484 - acc: 0.9411 - val_loss: 0.2404 - val_acc: 0.9695\n",
      "Epoch 2/15\n",
      "121783/121783 [==============================] - 106s 870us/step - loss: 0.1041 - acc: 0.9803 - val_loss: 0.1813 - val_acc: 0.9737\n",
      "Epoch 3/15\n",
      "121783/121783 [==============================] - 101s 830us/step - loss: 0.0587 - acc: 0.9867 - val_loss: 0.1794 - val_acc: 0.9732\n",
      "Epoch 4/15\n",
      "121783/121783 [==============================] - 101s 826us/step - loss: 0.0445 - acc: 0.9897 - val_loss: 0.1892 - val_acc: 0.9713\n",
      "Epoch 5/15\n",
      "121783/121783 [==============================] - 101s 828us/step - loss: 0.0381 - acc: 0.9915 - val_loss: 0.1943 - val_acc: 0.9723\n",
      "Epoch 6/15\n",
      "121783/121783 [==============================] - 101s 827us/step - loss: 0.0331 - acc: 0.9925 - val_loss: 0.1861 - val_acc: 0.9738\n",
      "Epoch 7/15\n",
      "121783/121783 [==============================] - 101s 828us/step - loss: 0.0322 - acc: 0.9933 - val_loss: 0.1859 - val_acc: 0.9731\n",
      "Epoch 8/15\n",
      "121783/121783 [==============================] - 102s 839us/step - loss: 0.0300 - acc: 0.9938 - val_loss: 0.2419 - val_acc: 0.9667\n",
      "Epoch 9/15\n",
      "121783/121783 [==============================] - 104s 857us/step - loss: 0.0298 - acc: 0.9937 - val_loss: 0.1901 - val_acc: 0.9749\n",
      "Epoch 10/15\n",
      "121783/121783 [==============================] - 105s 861us/step - loss: 0.0285 - acc: 0.9943 - val_loss: 0.2076 - val_acc: 0.9738\n",
      "Epoch 11/15\n",
      "121783/121783 [==============================] - 102s 837us/step - loss: 0.0272 - acc: 0.9944 - val_loss: 0.2229 - val_acc: 0.9697\n",
      "Epoch 12/15\n",
      "121783/121783 [==============================] - 102s 839us/step - loss: 0.0262 - acc: 0.9946 - val_loss: 0.2019 - val_acc: 0.9718\n",
      "Epoch 13/15\n",
      "121783/121783 [==============================] - 109s 899us/step - loss: 0.0265 - acc: 0.9947 - val_loss: 0.2143 - val_acc: 0.9716\n",
      "Epoch 14/15\n",
      "121783/121783 [==============================] - 106s 874us/step - loss: 0.0253 - acc: 0.9950 - val_loss: 0.2200 - val_acc: 0.9738\n",
      "Epoch 15/15\n",
      "121783/121783 [==============================] - 110s 900us/step - loss: 0.0253 - acc: 0.9951 - val_loss: 0.2160 - val_acc: 0.9720\n"
     ]
    }
   ],
   "source": [
    "history = clf.fit(X_train, y_train)"
   ]
  },
  {
   "cell_type": "code",
   "execution_count": 18,
   "metadata": {
    "collapsed": true
   },
   "outputs": [],
   "source": [
    "import matplotlib.pyplot as plt\n",
    "\n",
    "%matplotlib inline\n",
    "\n",
    "def plot_model_performance(train_loss, train_acc, train_val_loss, train_val_acc):\n",
    "    \"\"\" Plot model loss and accuracy through epochs. \"\"\"\n",
    " \n",
    "    green = '#72C29B'\n",
    "    orange = '#FFA577'\n",
    " \n",
    "    plt.style.use(\"ggplot\")\n",
    "    # plot model loss\n",
    "    fig, ax1 = plt.subplots()\n",
    "    ax1.plot(range(1, len(train_loss) + 1), train_loss, green, linewidth=5,\n",
    "             label='training')\n",
    "    ax1.plot(range(1, len(train_val_loss) + 1), train_val_loss, orange,\n",
    "             linewidth=5, label='validation')\n",
    "    ax1.set_xlabel('# epoch')\n",
    "    ax1.set_ylabel('loss')\n",
    "    ax1.tick_params('y')\n",
    "    ax1.legend(loc='upper right', shadow=False)\n",
    "    # plot model accuracy\n",
    "    fig, ax2 = plt.subplots()\n",
    "    ax2.plot(range(1, len(train_acc) + 1), train_acc, green, linewidth=5,\n",
    "             label='training')\n",
    "    ax2.plot(range(1, len(train_val_acc) + 1), train_val_acc, orange,\n",
    "             linewidth=5, label='validation')\n",
    "    ax2.set_xlabel('# epoch')\n",
    "    ax2.set_ylabel('accuracy')\n",
    "    ax2.tick_params('y')\n",
    "    ax2.legend(loc='lower right', shadow=False)"
   ]
  },
  {
   "cell_type": "code",
   "execution_count": 20,
   "metadata": {
    "collapsed": true
   },
   "outputs": [],
   "source": [
    "import pandas as pd\n",
    "\n",
    "hist = pd.DataFrame(history.history)\n",
    "hist.to_csv('../data/results/performance/GO_merged_Window_Based.tsv', sep='\\t')"
   ]
  },
  {
   "cell_type": "code",
   "execution_count": 21,
   "metadata": {},
   "outputs": [
    {
     "data": {
      "image/png": "[encoded data removed]",
      "text/plain": [
       "<matplotlib.figure.Figure at 0x7faf1f0e06d0>"
      ]
     },
     "metadata": {},
     "output_type": "display_data"
    },
    {
     "data": {
      "image/png": "[encoded data removed]",
      "text/plain": [
       "<matplotlib.figure.Figure at 0x7f91fe044290>"
      ]
     },
     "metadata": {},
     "output_type": "display_data"
    }
   ],
   "source": [
    "# Plot model performance\n",
    "plot_model_performance(\n",
    "    train_loss=history.history.get('loss', []),\n",
    "    train_acc=history.history.get('acc', []),\n",
    "    train_val_loss=history.history.get('val_loss', []),\n",
    "    train_val_acc=history.history.get('val_acc', [])\n",
    ")"
   ]
  },
  {
   "cell_type": "code",
   "execution_count": 22,
   "metadata": {},
   "outputs": [
    {
     "name": "stdout",
     "output_type": "stream",
     "text": [
      "71871/71871 [==============================] - 40s 563us/step\n",
      "\n",
      "\n",
      "                        precision    recall  f1-score   support\n",
      "\n",
      "            GO:0000003       0.47      0.42      0.45       106\n",
      "            GO:0000075       0.00      0.00      0.00         0\n",
      "            GO:0000237       0.00      0.00      0.00         0\n",
      "            GO:0000238       0.00      0.00      0.00         0\n",
      "            GO:0000239       0.00      0.00      0.00         0\n",
      "            GO:0000240       0.00      0.00      0.00         0\n",
      "            GO:0000267       0.00      0.00      0.00        18\n",
      "            GO:0000279       0.00      0.00      0.00         0\n",
      "            GO:0000502       0.00      0.00      0.00         0\n",
      "            GO:0000718       0.00      0.00      0.00         0\n",
      "            GO:0000732       0.00      0.00      0.00        39\n",
      "            GO:0000775       0.00      0.00      0.00         0\n",
      "            GO:0000785       0.90      1.00      0.95         9\n",
      "            GO:0000786       0.00      0.00      0.00         0\n",
      "            GO:0000791       0.00      0.00      0.00         0\n",
      "            GO:0000792       1.00      1.00      1.00         1\n",
      "            GO:0000795       0.00      0.00      0.00         0\n",
      "            GO:0000805       0.00      0.00      0.00         0\n",
      "            GO:0000806       0.50      1.00      0.67         3\n",
      "            GO:0000811       0.00      0.00      0.00         1\n",
      "            GO:0001501       0.00      0.00      0.00         6\n",
      "            GO:0001503       1.00      0.13      0.23        23\n",
      "            GO:0001525       0.00      0.00      0.00         1\n",
      "            GO:0001570       0.00      0.00      0.00         0\n",
      "            GO:0001669       0.00      0.00      0.00         0\n",
      "            GO:0001708       0.17      0.50      0.25         2\n",
      "            GO:0001709       0.00      0.00      0.00         0\n",
      "            GO:0001750       0.00      0.00      0.00         4\n",
      "            GO:0001756       0.00      0.00      0.00         0\n",
      "            GO:0001763       0.50      0.08      0.13        13\n",
      "            GO:0001775       0.25      0.10      0.14        10\n",
      "            GO:0001822       0.00      0.00      0.00         9\n",
      "            GO:0001837       0.00      0.00      0.00         2\n",
      "            GO:0001889       0.00      0.00      0.00         1\n",
      "            GO:0001917       0.00      0.00      0.00        17\n",
      "            GO:0001944       0.00      0.00      0.00         2\n",
      "            GO:0001947       0.00      0.00      0.00         0\n",
      "            GO:0001966       0.00      0.00      0.00         0\n",
      "            GO:0001967       0.00      0.00      0.00         0\n",
      "            GO:0002024       0.00      0.00      0.00         0\n",
      "            GO:0002027       0.00      0.00      0.00         0\n",
      "            GO:0002076       0.00      0.00      0.00         2\n",
      "            GO:0003077       0.00      0.00      0.00         0\n",
      "            GO:0005488       0.87      0.62      0.72       116\n",
      "            GO:0005575       0.00      0.00      0.00         0\n",
      "            GO:0005576       1.00      0.07      0.12        15\n",
      "            GO:0005577       0.00      0.00      0.00         0\n",
      "            GO:0005581       0.00      0.00      0.00        11\n",
      "            GO:0005585       0.00      0.00      0.00         6\n",
      "            GO:0005610       0.00      0.00      0.00         1\n",
      "            GO:0005622       0.62      1.00      0.76         8\n",
      "            GO:0005623       1.00      1.00      1.00       419\n",
      "            GO:0005634       0.86      0.92      0.89        48\n",
      "            GO:0005643       0.00      0.00      0.00         0\n",
      "            GO:0005654       0.00      0.00      0.00         0\n",
      "            GO:0005656       0.00      0.00      0.00         1\n",
      "            GO:0005657       0.00      0.00      0.00        23\n",
      "            GO:0005675       0.00      0.00      0.00         0\n",
      "            GO:0005694       1.00      0.99      0.99        84\n",
      "            GO:0005712       0.00      0.00      0.00         0\n",
      "            GO:0005730       0.00      0.00      0.00         0\n",
      "            GO:0005737       0.92      1.00      0.96        12\n",
      "            GO:0005739       0.75      0.75      0.75         4\n",
      "            GO:0005764       1.00      1.00      1.00         4\n",
      "            GO:0005768       0.00      0.00      0.00         0\n",
      "            GO:0005773       1.00      1.00      1.00         1\n",
      "            GO:0005776       0.00      0.00      0.00         0\n",
      "            GO:0005777       1.00      1.00      1.00         1\n",
      "            GO:0005783       0.00      0.00      0.00         1\n",
      "            GO:0005792       0.00      0.00      0.00         0\n",
      "            GO:0005813       0.00      0.00      0.00         0\n",
      "            GO:0005819       0.00      0.00      0.00         0\n",
      "            GO:0005829       0.50      1.00      0.67         2\n",
      "            GO:0005833       0.00      0.00      0.00         0\n",
      "            GO:0005835       0.00      0.00      0.00         0\n",
      "            GO:0005840       0.00      0.00      0.00         0\n",
      "            GO:0005856       1.00      0.88      0.93         8\n",
      "            GO:0005871       0.00      0.00      0.00         0\n",
      "            GO:0005874       0.00      0.00      0.00         6\n",
      "            GO:0005883       0.00      0.00      0.00         0\n",
      "            GO:0005886       0.00      0.00      0.00         1\n",
      "            GO:0005901       0.00      0.00      0.00         0\n",
      "            GO:0005902       0.00      0.00      0.00         0\n",
      "            GO:0005912       0.00      0.00      0.00        19\n",
      "            GO:0005929       0.00      0.00      0.00         9\n",
      "            GO:0005966       0.00      0.00      0.00         0\n",
      "            GO:0006094       0.00      0.00      0.00         0\n",
      "            GO:0006096       0.00      0.00      0.00         0\n",
      "            GO:0006260       0.00      0.00      0.00        29\n",
      "            GO:0006266       1.00      0.71      0.83         7\n",
      "            GO:0006271       0.00      0.00      0.00         3\n",
      "            GO:0006281       0.00      0.00      0.00         0\n",
      "            GO:0006289       0.00      0.00      0.00         0\n",
      "            GO:0006310       0.94      0.88      0.91        33\n",
      "            GO:0006311       0.00      0.00      0.00         0\n",
      "            GO:0006323       0.00      0.00      0.00         0\n",
      "            GO:0006349       0.00      0.00      0.00         0\n",
      "            GO:0006350       0.91      0.71      0.80       102\n",
      "            GO:0006353       0.00      0.00      0.00         0\n",
      "            GO:0006412       0.00      0.00      0.00         0\n",
      "            GO:0006413       0.00      0.00      0.00         5\n",
      "            GO:0006415       0.50      0.67      0.57         3\n",
      "            GO:0006457       0.00      0.00      0.00         0\n",
      "            GO:0006473       0.20      1.00      0.33         1\n",
      "            GO:0006508       0.33      1.00      0.50         1\n",
      "            GO:0006517       0.00      0.00      0.00         3\n",
      "            GO:0006605       0.00      0.00      0.00         2\n",
      "            GO:0006810       0.60      0.38      0.46         8\n",
      "            GO:0006887       0.00      0.00      0.00         0\n",
      "            GO:0006897       0.00      0.00      0.00         0\n",
      "            GO:0006900       0.00      0.00      0.00         2\n",
      "            GO:0006909       1.00      1.00      1.00         3\n",
      "            GO:0006911       0.25      1.00      0.40         1\n",
      "            GO:0006914       0.00      0.00      0.00         0\n",
      "            GO:0006915       0.95      1.00      0.97        19\n",
      "            GO:0006928       0.00      0.00      0.00         3\n",
      "            GO:0006936       0.00      0.00      0.00         0\n",
      "            GO:0006952       0.00      0.00      0.00         7\n",
      "            GO:0006954       1.00      0.40      0.57         5\n",
      "            GO:0007050       0.00      0.00      0.00         0\n",
      "            GO:0007059       0.00      0.00      0.00         0\n",
      "            GO:0007067       1.00      1.00      1.00         2\n",
      "            GO:0007114       1.00      1.00      1.00         1\n",
      "            GO:0007126       0.00      0.00      0.00         0\n",
      "            GO:0007129       0.00      0.00      0.00         0\n",
      "            GO:0007131       0.00      0.00      0.00         0\n",
      "            GO:0007132       0.00      0.00      0.00         0\n",
      "            GO:0007154       0.00      0.00      0.00         0\n",
      "            GO:0007155       0.00      0.00      0.00         1\n",
      "            GO:0007164       0.00      0.00      0.00         1\n",
      "            GO:0007165       0.73      0.92      0.81       134\n",
      "            GO:0007268       0.00      0.00      0.00         0\n",
      "            GO:0007276       0.00      0.00      0.00         0\n",
      "            GO:0007283       0.00      0.00      0.00         0\n",
      "            GO:0007286       0.00      0.00      0.00         0\n",
      "            GO:0007369       1.00      1.00      1.00         1\n",
      "            GO:0007389       0.88      0.60      0.71        25\n",
      "            GO:0007399       0.00      0.00      0.00         0\n",
      "            GO:0007411       0.00      0.00      0.00         6\n",
      "            GO:0007416       0.00      0.00      0.00         7\n",
      "            GO:0007517       1.00      1.00      1.00         1\n",
      "            GO:0007530       0.00      0.00      0.00         1\n",
      "            GO:0007565       1.00      0.75      0.86        16\n",
      "            GO:0007566       0.00      0.00      0.00         0\n",
      "            GO:0007567       0.93      0.96      0.95        27\n",
      "            GO:0007568       0.74      0.97      0.84        32\n",
      "            GO:0007569       0.00      0.00      0.00         1\n",
      "            GO:0007586       0.00      0.00      0.00         0\n",
      "            GO:0007596       0.00      0.00      0.00         0\n",
      "            GO:0007599       0.00      0.00      0.00         0\n",
      "            GO:0007600       0.97      0.88      0.92        32\n",
      "            GO:0007601       0.00      0.00      0.00         4\n",
      "            GO:0007602       0.00      0.00      0.00         7\n",
      "            GO:0007605       0.00      0.00      0.00         0\n",
      "            GO:0007608       0.99      0.85      0.92       121\n",
      "            GO:0007610       1.00      0.59      0.75        64\n",
      "            GO:0007612       0.96      0.87      0.92        94\n",
      "            GO:0007613       0.00      0.00      0.00       124\n",
      "            GO:0007618       0.91      1.00      0.95        39\n",
      "            GO:0007620       0.00      0.00      0.00         0\n",
      "            GO:0007631       1.00      0.50      0.67        14\n",
      "            GO:0008037       0.00      0.00      0.00         0\n",
      "            GO:0008039       0.00      0.00      0.00         0\n",
      "            GO:0008091       0.00      0.00      0.00         0\n",
      "            GO:0008152       0.75      0.60      0.67        10\n",
      "            GO:0008218       0.00      0.00      0.00         0\n",
      "            GO:0008283       0.80      0.51      0.62        65\n",
      "            GO:0008305       0.00      0.00      0.00         0\n",
      "            GO:0008380       0.60      1.00      0.75        12\n",
      "            GO:0008610       0.00      0.00      0.00         0\n",
      "            GO:0009056       0.71      0.85      0.77        20\n",
      "            GO:0009058       0.51      0.18      0.27       138\n",
      "            GO:0009293       0.00      0.00      0.00         0\n",
      "            GO:0009294       0.87      1.00      0.93        39\n",
      "            GO:0009305       0.50      1.00      0.67         1\n",
      "            GO:0009566       1.00      1.00      1.00         1\n",
      "            GO:0009653       0.49      0.83      0.61        42\n",
      "            GO:0009790       1.00      1.00      1.00         3\n",
      "            GO:0009887       0.00      0.00      0.00         0\n",
      "            GO:0009986       0.17      1.00      0.29         1\n",
      "            GO:0010369       0.00      0.00      0.00         0\n",
      "            GO:0010467       0.97      0.99      0.98       606\n",
      "            GO:0012501       0.50      1.00      0.67         3\n",
      "            GO:0014069       0.00      0.00      0.00         0\n",
      "            GO:0016020       0.12      0.62      0.20         8\n",
      "            GO:0016021       1.00      0.89      0.94         9\n",
      "            GO:0016028       0.00      0.00      0.00         1\n",
      "            GO:0016234       0.00      0.00      0.00         0\n",
      "            GO:0016246       0.00      0.00      0.00         0\n",
      "            GO:0016265       0.76      1.00      0.87        13\n",
      "            GO:0016310       0.53      1.00      0.70         8\n",
      "            GO:0016458       1.00      0.50      0.67         2\n",
      "            GO:0016459       1.00      1.00      1.00         2\n",
      "            GO:0016477       0.40      1.00      0.57         2\n",
      "            GO:0016485       0.25      1.00      0.40         1\n",
      "            GO:0016528       0.00      0.00      0.00         0\n",
      "            GO:0016540       0.00      0.00      0.00         0\n",
      "            GO:0016567       0.00      0.00      0.00         0\n",
      "            GO:0017086       0.00      0.00      0.00         0\n",
      "            GO:0018023       0.00      0.00      0.00         0\n",
      "            GO:0018027       0.00      0.00      0.00         0\n",
      "            GO:0018032       0.00      0.00      0.00         0\n",
      "            GO:0018991       0.00      0.00      0.00         0\n",
      "            GO:0019226       0.00      0.00      0.00         2\n",
      "            GO:0019228       0.00      0.00      0.00         1\n",
      "            GO:0019230       0.00      0.00      0.00        43\n",
      "            GO:0019233       0.00      0.00      0.00         2\n",
      "            GO:0019814       0.96      0.99      0.98       159\n",
      "            GO:0019835       1.00      0.67      0.80         6\n",
      "            GO:0019882       0.00      0.00      0.00         0\n",
      "            GO:0020021       0.00      0.00      0.00         5\n",
      "            GO:0021700       0.75      1.00      0.86         3\n",
      "            GO:0022008       0.00      0.00      0.00         0\n",
      "            GO:0022401       0.00      0.00      0.00         0\n",
      "            GO:0022403       0.00      0.00      0.00         0\n",
      "            GO:0022411       0.00      0.00      0.00         1\n",
      "            GO:0022607       0.50      0.03      0.06        58\n",
      "            GO:0022610       0.83      0.83      0.83        12\n",
      "            GO:0022616       0.40      0.40      0.40         5\n",
      "            GO:0030010       0.67      0.40      0.50         5\n",
      "            GO:0030016       0.00      0.00      0.00         0\n",
      "            GO:0030054       0.33      0.20      0.25         5\n",
      "            GO:0030056       0.00      0.00      0.00         3\n",
      "            GO:0030097       0.00      0.00      0.00         0\n",
      "            GO:0030154       0.99      0.88      0.93       106\n",
      "            GO:0030164       0.17      1.00      0.29         1\n",
      "            GO:0030194       0.00      0.00      0.00         0\n",
      "            GO:0030261       0.00      0.00      0.00         0\n",
      "            GO:0030263       0.67      1.00      0.80         2\n",
      "            GO:0030286       0.00      0.00      0.00         0\n",
      "            GO:0030424       0.93      0.76      0.84       107\n",
      "            GO:0030425       0.50      1.00      0.67         5\n",
      "            GO:0030674       0.00      0.00      0.00         0\n",
      "            GO:0030849       0.64      1.00      0.78         9\n",
      "            GO:0030908       1.00      0.60      0.75         5\n",
      "            GO:0031012       1.00      0.50      0.67         6\n",
      "            GO:0031099       0.00      0.00      0.00         2\n",
      "            GO:0031128       0.40      0.25      0.31        16\n",
      "            GO:0031143       0.00      0.00      0.00         0\n",
      "            GO:0031214       0.00      0.00      0.00        18\n",
      "            GO:0031240       0.00      0.00      0.00         2\n",
      "            GO:0031424       0.00      0.00      0.00         0\n",
      "            GO:0031507       0.00      0.00      0.00         0\n",
      "            GO:0031648       0.00      0.00      0.00         0\n",
      "            GO:0031649       0.00      0.00      0.00         0\n",
      "            GO:0031965       0.00      0.00      0.00         0\n",
      "            GO:0031982       0.54      1.00      0.70         7\n",
      "            GO:0032259       0.00      0.00      0.00         1\n",
      "            GO:0032391       0.00      0.00      0.00         3\n",
      "            GO:0032456       0.00      0.00      0.00         0\n",
      "            GO:0032502       0.64      0.90      0.75       317\n",
      "            GO:0032508       1.00      0.02      0.03        62\n",
      "            GO:0032991       0.80      0.88      0.84        56\n",
      "            GO:0033592       0.98      0.89      0.93        96\n",
      "            GO:0035102       0.00      0.00      0.00         5\n",
      "            GO:0035106       0.00      0.00      0.00         4\n",
      "            GO:0035212       0.00      0.00      0.00         0\n",
      "            GO:0035282       0.00      0.00      0.00         0\n",
      "            GO:0035315       0.00      0.00      0.00         0\n",
      "            GO:0040007       0.93      0.99      0.96        93\n",
      "            GO:0040011       0.67      0.57      0.62         7\n",
      "            GO:0042220       0.00      0.00      0.00         8\n",
      "            GO:0042384       0.00      0.00      0.00         4\n",
      "            GO:0042470       0.00      0.00      0.00         0\n",
      "            GO:0042552       0.00      0.00      0.00         0\n",
      "            GO:0042555       0.00      0.00      0.00        52\n",
      "            GO:0042592       0.00      0.00      0.00         0\n",
      "            GO:0042611       1.00      1.00      1.00         7\n",
      "            GO:0042730       0.00      0.00      0.00         0\n",
      "            GO:0042756       0.00      0.00      0.00         0\n",
      "            GO:0042995       0.00      0.00      0.00         7\n",
      "            GO:0043025       0.00      0.00      0.00         0\n",
      "            GO:0043065       0.00      0.00      0.00         2\n",
      "            GO:0043093       0.00      0.00      0.00         1\n",
      "            GO:0043111       0.00      0.00      0.00         1\n",
      "            GO:0043131       0.00      0.00      0.00         0\n",
      "            GO:0043204       0.00      0.00      0.00         0\n",
      "            GO:0043209       0.00      0.00      0.00         0\n",
      "            GO:0043226       0.00      0.00      0.00         0\n",
      "            GO:0043256       0.00      0.00      0.00         5\n",
      "            GO:0043412       0.73      0.73      0.73        11\n",
      "            GO:0043413       0.00      0.00      0.00         0\n",
      "            GO:0043473       0.00      0.00      0.00         0\n",
      "            GO:0043489       0.00      0.00      0.00         0\n",
      "            GO:0043500       0.00      0.00      0.00         0\n",
      "            GO:0043626       0.00      0.00      0.00         0\n",
      "            GO:0043627       0.00      0.00      0.00         0\n",
      "            GO:0043631       0.29      1.00      0.44         2\n",
      "            GO:0043679       0.00      0.00      0.00        23\n",
      "            GO:0045120       1.00      1.00      1.00         2\n",
      "            GO:0045123       0.00      0.00      0.00         0\n",
      "            GO:0045165       0.00      0.00      0.00         1\n",
      "            GO:0045177       0.80      0.80      0.80        10\n",
      "            GO:0045184       0.00      0.00      0.00         0\n",
      "            GO:0045202       1.00      0.55      0.71        31\n",
      "            GO:0045251       0.00      0.00      0.00         0\n",
      "            GO:0045277       0.00      0.00      0.00         0\n",
      "            GO:0045298       0.75      1.00      0.86         6\n",
      "            GO:0045333       0.00      0.00      0.00         0\n",
      "            GO:0045453       0.00      0.00      0.00         5\n",
      "            GO:0046581       0.00      0.00      0.00         2\n",
      "            GO:0046903       0.98      0.93      0.96        59\n",
      "            GO:0046911       0.00      0.00      0.00         1\n",
      "            GO:0046959       0.00      0.00      0.00         1\n",
      "            GO:0046983       0.00      0.00      0.00         0\n",
      "            GO:0048471       0.50      1.00      0.67         1\n",
      "            GO:0048477       0.00      0.00      0.00         0\n",
      "            GO:0048511       0.00      0.00      0.00         0\n",
      "            GO:0048513       0.00      0.00      0.00         3\n",
      "            GO:0048518       0.66      0.90      0.76        81\n",
      "            GO:0048519       0.89      0.62      0.73       137\n",
      "            GO:0048532       0.60      0.75      0.67         4\n",
      "            GO:0048666       1.00      1.00      1.00         2\n",
      "            GO:0048675       0.00      0.00      0.00         3\n",
      "            GO:0048771       0.00      0.00      0.00         9\n",
      "            GO:0048821       0.00      0.00      0.00         0\n",
      "            GO:0050729       0.00      0.00      0.00         0\n",
      "            GO:0050777       0.00      0.00      0.00         0\n",
      "            GO:0050779       0.00      0.00      0.00         0\n",
      "            GO:0050789       0.00      0.00      0.00         0\n",
      "            GO:0050793       0.00      0.00      0.00         1\n",
      "            GO:0050817       0.00      0.00      0.00         0\n",
      "            GO:0050819       0.00      0.00      0.00         0\n",
      "            GO:0050821       0.00      0.00      0.00         0\n",
      "            GO:0050879       0.96      0.83      0.89        52\n",
      "            GO:0050890       1.00      0.67      0.80         9\n",
      "            GO:0050892       1.00      1.00      1.00         1\n",
      "            GO:0050893       0.00      0.00      0.00         3\n",
      "            GO:0050896       0.84      0.73      0.78        59\n",
      "            GO:0050909       0.00      0.00      0.00        62\n",
      "            GO:0050918       0.00      0.00      0.00        24\n",
      "            GO:0050953       0.00      0.00      0.00         0\n",
      "            GO:0050975       0.00      0.00      0.00         1\n",
      "            GO:0051179       0.70      0.91      0.79        44\n",
      "            GO:0051216       0.00      0.00      0.00        25\n",
      "            GO:0051234       0.67      0.67      0.67         3\n",
      "            GO:0051235       1.00      1.00      1.00         1\n",
      "            GO:0051258       0.00      0.00      0.00         2\n",
      "            GO:0051301       0.00      0.00      0.00         0\n",
      "            GO:0051304       0.00      0.00      0.00         0\n",
      "            GO:0051312       0.00      0.00      0.00         0\n",
      "            GO:0051318       0.00      0.00      0.00         0\n",
      "            GO:0051320       0.00      0.00      0.00         0\n",
      "            GO:0051323       0.00      0.00      0.00         0\n",
      "            GO:0051324       0.00      0.00      0.00         0\n",
      "            GO:0051325       0.00      0.00      0.00         0\n",
      "            GO:0051604       0.00      0.00      0.00         0\n",
      "            GO:0051606       0.00      0.00      0.00         8\n",
      "            GO:0051866       0.00      0.00      0.00         1\n",
      "            GO:0051899       0.00      0.00      0.00         0\n",
      "            GO:0060004       0.00      0.00      0.00         5\n",
      "            GO:0060033       0.00      0.00      0.00         1\n",
      "            GO:0060041       0.00      0.00      0.00         1\n",
      "            GO:0060047       0.00      0.00      0.00         0\n",
      "            GO:0060073       0.00      0.00      0.00         0\n",
      "            GO:0065003       0.00      0.00      0.00         0\n",
      "            GO:0065007       0.84      0.49      0.62       192\n",
      "                     O       0.98      0.99      0.98     66159\n",
      "independent_continuant       0.81      0.45      0.58       448\n",
      "\n",
      "           avg / total       0.96      0.96      0.96     71871\n",
      "\n"
     ]
    },
    {
     "name": "stderr",
     "output_type": "stream",
     "text": [
      "/home/sdmohant/.virtualenvs/deeplearn/local/lib/python2.7/site-packages/sklearn/metrics/classification.py:1113: UndefinedMetricWarning: Precision and F-score are ill-defined and being set to 0.0 in labels with no predicted samples.\n",
      "  'precision', 'predicted', average, warn_for)\n",
      "/home/sdmohant/.virtualenvs/deeplearn/local/lib/python2.7/site-packages/sklearn/metrics/classification.py:1115: UndefinedMetricWarning: Recall and F-score are ill-defined and being set to 0.0 in labels with no true samples.\n",
      "  'recall', 'true', average, warn_for)\n"
     ]
    }
   ],
   "source": [
    "from sklearn.metrics import classification_report\n",
    "\n",
    "\n",
    "predicted = clf.predict(X_test)\n",
    "predicted_cat = np_utils.to_categorical(predicted)\n",
    "report = classification_report(y_test, predicted_cat, target_names=label_encoder.classes_)\n",
    "print \"\\n\"\n",
    "print report"
   ]
  },
  {
   "cell_type": "code",
   "execution_count": 23,
   "metadata": {
    "scrolled": true
   },
   "outputs": [
    {
     "name": "stdout",
     "output_type": "stream",
     "text": [
      "[357 357 357 ... 357 357 357] [[0. 0. 1. ... 0. 0. 0.]\n",
      " [0. 1. 0. ... 0. 0. 0.]\n",
      " [0. 1. 0. ... 0. 0. 0.]\n",
      " ...\n",
      " [0. 1. 0. ... 0. 0. 0.]\n",
      " [0. 1. 0. ... 0. 0. 0.]\n",
      " [0. 1. 0. ... 0. 0. 0.]]\n"
     ]
    }
   ],
   "source": [
    "print predicted, X_test"
   ]
  },
  {
   "cell_type": "code",
   "execution_count": 24,
   "metadata": {
    "scrolled": false
   },
   "outputs": [
    {
     "name": "stdout",
     "output_type": "stream",
     "text": [
      "[[0. 0. 0. ... 0. 1. 0.]\n",
      " [0. 0. 0. ... 0. 1. 0.]\n",
      " [0. 0. 0. ... 0. 1. 0.]\n",
      " ...\n",
      " [0. 0. 0. ... 0. 1. 0.]\n",
      " [0. 0. 0. ... 0. 1. 0.]\n",
      " [0. 0. 0. ... 0. 1. 0.]]\n"
     ]
    }
   ],
   "source": [
    "print y_test"
   ]
  },
  {
   "cell_type": "code",
   "execution_count": 25,
   "metadata": {},
   "outputs": [
    {
     "name": "stdout",
     "output_type": "stream",
     "text": [
      "['O' 'O' 'O' ... 'O' 'O' 'O']\n",
      "['O' 'O' 'O' ... 'O' 'O' 'O']\n"
     ]
    },
    {
     "name": "stderr",
     "output_type": "stream",
     "text": [
      "/home/sdmohant/.virtualenvs/deeplearn/local/lib/python2.7/site-packages/sklearn/preprocessing/label.py:171: DeprecationWarning: The truth value of an empty array is ambiguous. Returning False, but in future this will result in an error. Use `array.size > 0` to check that an array is not empty.\n",
      "  if diff:\n",
      "/home/sdmohant/.virtualenvs/deeplearn/local/lib/python2.7/site-packages/sklearn/preprocessing/label.py:171: DeprecationWarning: The truth value of an empty array is ambiguous. Returning False, but in future this will result in an error. Use `array.size > 0` to check that an array is not empty.\n",
      "  if diff:\n"
     ]
    }
   ],
   "source": [
    "import numpy as np\n",
    "\n",
    "\n",
    "y_test_classes = [np.argmax(y, axis=None, out=None) for y in y_test]\n",
    "y_pred_classes = [np.argmax(y, axis=None, out=None) for y in predicted_cat]\n",
    "\n",
    "p = label_encoder.inverse_transform(y_test_classes)\n",
    "t = label_encoder.inverse_transform(y_pred_classes)\n",
    "\n",
    "print p\n",
    "print t"
   ]
  },
  {
   "cell_type": "code",
   "execution_count": 26,
   "metadata": {
    "collapsed": true
   },
   "outputs": [],
   "source": [
    "# from sklearn.metrics import confusion_matrix\n",
    "\n",
    "# def plot_confusion_matrix(cm, classes,\n",
    "#                           normalize=False,\n",
    "#                           title='Confusion matrix',\n",
    "#                           cmap=plt.cm.Blues):\n",
    "#     \"\"\"\n",
    "#     This function prints and plots the confusion matrix.\n",
    "#     Normalization can be applied by setting `normalize=True`.\n",
    "#     \"\"\"\n",
    "#     plt.imshow(cm, interpolation='nearest', cmap=cmap)\n",
    "#     plt.title(title)\n",
    "#     plt.colorbar()\n",
    "#     tick_marks = np.arange(len(classes))\n",
    "#     plt.xticks(tick_marks, classes, rotation=45)\n",
    "#     plt.yticks(tick_marks, classes)\n",
    "\n",
    "#     if normalize:\n",
    "#         cm = cm.astype('float') / cm.sum(axis=1)[:, np.newaxis]\n",
    "#         print(\"Normalized confusion matrix\")\n",
    "#     else:\n",
    "#         print('Confusion matrix, without normalization')\n",
    "\n",
    "#     print(cm)\n",
    "\n",
    "#     thresh = cm.max() / 2.\n",
    "#     for i, j in itertools.product(range(cm.shape[0]), range(cm.shape[1])):\n",
    "#         plt.text(j, i, cm[i, j],\n",
    "#                  horizontalalignment=\"center\",\n",
    "#                  color=\"white\" if cm[i, j] > thresh else \"black\")\n",
    "\n",
    "#     plt.tight_layout()\n",
    "#     plt.ylabel('True label')\n",
    "#     plt.xlabel('Predicted label')\n",
    "\n",
    "# cnf_matrix = confusion_matrix(y_test_classes, y_pred_classes)\n",
    "\n",
    "# plot_confusion_matrix(cnf_matrix, classes=label_encoder.classes_, title='Confusion matrix, without normalization')"
   ]
  },
  {
   "cell_type": "code",
   "execution_count": 27,
   "metadata": {
    "collapsed": true
   },
   "outputs": [],
   "source": [
    "df = pd.DataFrame(\n",
    "{\n",
    "    'Predicted' : p,\n",
    "    'Ground Truth': t\n",
    "}\n",
    ")"
   ]
  },
  {
   "cell_type": "code",
   "execution_count": 28,
   "metadata": {
    "collapsed": true
   },
   "outputs": [],
   "source": [
    "df.to_csv('../data/results/GO_merged_Window_Based.tsv', sep='\\t')"
   ]
  },
  {
   "cell_type": "code",
   "execution_count": 29,
   "metadata": {},
   "outputs": [
    {
     "name": "stdout",
     "output_type": "stream",
     "text": [
      "Mean semantic similarity:  0.608\n"
     ]
    },
    {
     "data": {
      "text/plain": [
       "<matplotlib.figure.Figure at 0x7f91f6714490>"
      ]
     },
     "metadata": {},
     "output_type": "display_data"
    }
   ],
   "source": [
    "%run ./accuracy/src/computeSim.py ../data/results/GO_merged_Window_Based.tsv ../data/validation_data/GO_AllSubsumers.tsv"
   ]
  },
  {
   "cell_type": "code",
   "execution_count": null,
   "metadata": {
    "collapsed": true
   },
   "outputs": [],
   "source": []
  }
 ],
 "metadata": {
  "kernelspec": {
   "display_name": "Python 2",
   "language": "python",
   "name": "python2"
  },
  "language_info": {
   "codemirror_mode": {
    "name": "ipython",
    "version": 2
   },
   "file_extension": ".py",
   "mimetype": "text/x-python",
   "name": "python",
   "nbconvert_exporter": "python",
   "pygments_lexer": "ipython2",
   "version": "2.7.12"
  }
 },
 "nbformat": 4,
 "nbformat_minor": 2
}
