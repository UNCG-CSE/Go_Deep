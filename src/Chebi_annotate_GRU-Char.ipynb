{
 "cells": [
  {
   "cell_type": "code",
   "execution_count": 1,
   "metadata": {},
   "outputs": [
    {
     "name": "stderr",
     "output_type": "stream",
     "text": [
      "Using TensorFlow backend.\n"
     ]
    }
   ],
   "source": [
    "import json\n",
    "from keras.preprocessing import sequence\n",
    "from keras.models import Sequential\n",
    "from keras.layers.embeddings import Embedding\n",
    "from keras.layers.recurrent import SimpleRNN, GRU, LSTM\n",
    "from keras.layers.core import Dense, Dropout\n",
    "from keras.layers.wrappers import TimeDistributed\n",
    "from keras.layers import Convolution1D, MaxPooling1D\n",
    "from keras.utils import np_utils\n",
    "import itertools\n",
    "import ast\n",
    "from sklearn.model_selection import train_test_split\n",
    "from sklearn.preprocessing import LabelEncoder\n",
    "import sys, os\n",
    "import traceback\n",
    "from itertools import chain\n",
    "import numpy as np\n",
    "import pandas as pd\n",
    "\n",
    "import progressbar\n",
    "\n",
    "import tensorflow as tf\n",
    "os.environ[\"CUDA_DEVICE_ORDER\"] = \"PCI_BUS_ID\"   # see issue #152\n",
    "os.environ[\"CUDA_VISIBLE_DEVICES\"] = \"3\""
   ]
  },
  {
   "cell_type": "code",
   "execution_count": 2,
   "metadata": {
    "collapsed": true
   },
   "outputs": [],
   "source": [
    "import matplotlib.pyplot as plt\n",
    "\n",
    "%matplotlib inline"
   ]
  },
  {
   "cell_type": "code",
   "execution_count": 3,
   "metadata": {
    "collapsed": true
   },
   "outputs": [],
   "source": [
    "def read_data(rootdir):\n",
    "    data_list = []\n",
    "    for subdir, dirs, files in os.walk(rootdir):\n",
    "        for fname in files:\n",
    "            #print os.path.join(subdir, file)\n",
    "            filepath = subdir + os.sep + fname\n",
    "            with open(filepath) as f:\n",
    "                for line1,line2 in itertools.izip_longest(*[f]*2):\n",
    "                    try:\n",
    "                        text = ast.literal_eval(line1)\n",
    "                        label = ast.literal_eval(line2)\n",
    "                        \n",
    "#                         for i in range(len(label)):\n",
    "#                             if label[i] == 'NA':\n",
    "#                                 label[i] = 'O'\n",
    "                        n_labels = set(label)\n",
    "                        if len(text) > 3 and len(n_labels) > 1:\n",
    "                            sentence = zip(text, label)\n",
    "                            sentence.append(('.', 'O'))\n",
    "                            sentence = [item for item in sentence if item[0].strip() != '']\n",
    "                            data_list.append(sentence)\n",
    "                    except:\n",
    "                        pass\n",
    "            f.close()\n",
    "    return data_list"
   ]
  },
  {
   "cell_type": "code",
   "execution_count": 4,
   "metadata": {},
   "outputs": [
    {
     "name": "stdout",
     "output_type": "stream",
     "text": [
      "[('The', 'O'), ('functional', 'O'), ('diversity', 'O'), ('of', 'O'), ('the', 'O'), ('novel', 'O'), ('conespecific', 'O'), ('genes', 'O'), ('identified', 'O'), ('here', 'O'), ('indicates', 'O'), ('molecular', 'CHEBI:23367'), ('differences', 'O'), ('between', 'O'), ('rods', 'O'), ('and', 'O'), ('cones', 'O'), ('extending', 'O'), ('far', 'O'), ('beyond', 'O'), ('those', 'O'), ('previously', 'O'), ('discovered', 'O'), ('.', 'O')]\n",
      "3127\n",
      "11109\n",
      "309\n"
     ]
    }
   ],
   "source": [
    "data_list = read_data('../data/input/output_chebi/')\n",
    "\n",
    "print data_list[0]\n",
    "\n",
    "# data_list = data_list[:3000]\n",
    "\n",
    "# words = list(chain.from_iterable(data_list))\n",
    "# print words\n",
    "\n",
    "print len(data_list)\n",
    "\n",
    "words = list(set(y[0] for x in data_list for y in x))\n",
    "words.append(\"ENDPAD\")\n",
    "n_words = len(words)\n",
    "print n_words\n",
    "\n",
    "tags = list(set(y[1] for x in data_list for y in x))\n",
    "n_tags = len(tags)\n",
    "print n_tags"
   ]
  },
  {
   "cell_type": "code",
   "execution_count": 5,
   "metadata": {
    "collapsed": true
   },
   "outputs": [],
   "source": [
    "# from sklearn.preprocessing import LabelEncoder\n",
    "\n",
    "# le = LabelEncoder()\n",
    "# le.fit(list(y[1] for x in data_list for y in x))\n",
    "\n",
    "# labels2idx = dict(zip(le.classes_, le.transform(le.classes_)))\n",
    "\n",
    "# idx2la = {labels2idx[k]:k for k in labels2idx}"
   ]
  },
  {
   "cell_type": "code",
   "execution_count": 6,
   "metadata": {
    "collapsed": true
   },
   "outputs": [],
   "source": [
    "max_len = 75\n",
    "max_len_char = 10\n",
    "\n",
    "word2idx = {w: i + 2 for i, w in enumerate(words)}\n",
    "word2idx[\"UNK\"] = 1\n",
    "word2idx[\"O\"] = 0\n",
    "idx2word = {i: w for w, i in word2idx.items()}\n",
    "tag2idx = {t: i + 1 for i, t in enumerate(tags)}\n",
    "tag2idx[\"O\"] = 0\n",
    "idx2tag = {i: w for w, i in tag2idx.items()}\n",
    "\n",
    "# print word2idx['Hybrid']\n",
    "# print tag2idx[\"O\"]"
   ]
  },
  {
   "cell_type": "code",
   "execution_count": 7,
   "metadata": {},
   "outputs": [
    {
     "name": "stdout",
     "output_type": "stream",
     "text": [
      "{'CHEBI:32700': 1, 'CHEBI:27897': 2, 'CHEBI:16223': 3, 'CHEBI:28748': 290, 'CHEBI:23114': 6, 'CHEBI:17158': 7, 'CHEBI:32460': 8, 'CHEBI:39442': 9, 'CHEBI:26130': 10, 'CHEBI:49637': 12, 'CHEBI:22908': 13, 'CHEBI:15377': 139, 'CHEBI:25741': 14, 'CHEBI:26333': 15, 'CHEBI:32535': 266, 'CHEBI:16827': 16, 'CHEBI:22586': 17, 'CHEBI:36420': 98, 'CHEBI:22582': 72, 'CHEBI:15379': 19, 'CHEBI:34683': 20, 'CHEBI:26708': 21, 'CHEBI:22984': 22, 'CHEBI:16412': 23, 'CHEBI:24753': 24, 'CHEBI:6636': 25, 'CHEBI:23614': 26, 'CHEBI:16381': 27, 'CHEBI:23995': 28, 'CHEBI:16150': 29, 'CHEBI:24009': 213, 'CHEBI:15355': 274, 'CHEBI:32145': 33, 'CHEBI:37407': 106, 'CHEBI:16234': 35, 'CHEBI:17126': 36, 'CHEBI:16236': 37, 'CHEBI:42645': 38, 'CHEBI:24669': 291, 'CHEBI:29987': 40, 'CHEBI:22359': 41, 'CHEBI:27214': 42, 'CHEBI:41774': 43, 'CHEBI:17246': 108, 'CHEBI:22599': 45, 'CHEBI:42266': 46, 'CHEBI:30956': 47, 'CHEBI:15738': 48, 'CHEBI:28300': 49, 'CHEBI:32630': 245, 'CHEBI:22918': 50, 'CHEBI:16933': 32, 'CHEBI:15344': 53, 'CHEBI:17855': 54, 'CHEBI:15346': 175, 'CHEBI:30362': 56, 'CHEBI:42471': 57, 'CHEBI:37156': 58, 'CHEBI:8093': 59, 'CHEBI:23357': 60, 'CHEBI:30212': 279, 'CHEBI:26955': 74, 'CHEBI:25614': 286, 'CHEBI:33699': 84, 'CHEBI:36357': 183, 'CHEBI:30087': 65, 'CHEBI:33893': 66, 'CHEBI:46662': 67, 'CHEBI:24898': 68, 'CHEBI:30089': 69, 'CHEBI:37983': 70, 'CHEBI:48343': 71, 'CHEBI:35143': 73, 'CHEBI:17334': 75, 'CHEBI:27266': 76, 'CHEBI:18111': 77, 'CHEBI:7983': 78, 'CHEBI:17234': 80, 'CHEBI:33280': 81, 'CHEBI:15358': 82, 'CHEBI:27638': 83, 'CHEBI:8984': 64, 'CHEBI:17754': 226, 'CHEBI:37845': 85, 'CHEBI:46882': 86, 'CHEBI:46883': 87, 'CHEBI:24870': 88, 'CHEBI:15356': 89, 'CHEBI:16842': 90, 'CHEBI:26216': 91, 'CHEBI:33284': 228, 'CHEBI:30823': 95, 'CHEBI:17843': 96, 'CHEBI:17596': 169, 'CHEBI:33364': 62, 'CHEBI:37565': 51, 'CHEBI:5931': 100, 'CHEBI:36916': 101, 'CHEBI:46756': 102, 'CHEBI:25212': 306, 'CHEBI:44785': 103, 'CHEBI:30758': 225, 'CHEBI:22563': 105, 'CHEBI:15986': 92, 'CHEBI:27338': 280, 'CHEBI:24433': 44, 'CHEBI:32677': 185, 'CHEBI:30319': 110, 'CHEBI:35696': 111, 'CHEBI:22695': 112, 'CHEBI:22694': 113, 'CHEBI:32599': 79, 'CHEBI:48518': 94, 'CHEBI:28087': 118, 'O': 0, 'CHEBI:23240': 120, 'CHEBI:24869': 121, 'CHEBI:36080': 282, 'CHEBI:15889': 122, 'CHEBI:16113': 123, 'CHEBI:18303': 5, 'CHEBI:18291': 125, 'CHEBI:16856': 126, 'CHEBI:24621': 127, 'CHEBI:29889': 128, 'CHEBI:18295': 129, 'CHEBI:24866': 130, 'CHEBI:17737': 131, 'CHEBI:22972': 132, 'CHEBI:35780': 230, 'CHEBI:42191': 133, 'CHEBI:48561': 276, 'CHEBI:28201': 135, 'CHEBI:25016': 136, 'CHEBI:25017': 137, 'CHEBI:26833': 61, 'CHEBI:25107': 18, 'CHEBI:44658': 140, 'CHEBI:32568': 141, 'CHEBI:30756': 142, 'CHEBI:36364': 143, 'CHEBI:15858': 144, 'CHEBI:33290': 301, 'CHEBI:23888': 145, 'CHEBI:17997': 146, 'CHEBI:16750': 294, 'CHEBI:15854': 149, 'CHEBI:27570': 284, 'CHEBI:32588': 150, 'CHEBI:23019': 151, 'CHEBI:19260': 138, 'CHEBI:30808': 152, 'CHEBI:26178': 153, 'CHEBI:15347': 154, 'CHEBI:36807': 155, 'CHEBI:41237': 156, 'CHEBI:28741': 157, 'CHEBI:27363': 158, 'CHEBI:49475': 159, 'CHEBI:4911': 116, 'CHEBI:15956': 237, 'CHEBI:22925': 251, 'CHEBI:10545': 182, 'CHEBI:32952': 63, 'CHEBI:49575': 163, 'CHEBI:16865': 164, 'CHEBI:24858': 165, 'CHEBI:45536': 166, 'CHEBI:46787': 167, 'CHEBI:32958': 168, 'CHEBI:8502': 97, 'CHEBI:33708': 170, 'CHEBI:28984': 171, 'CHEBI:15033': 172, 'CHEBI:23367': 173, 'CHEBI:30687': 174, 'CHEBI:37586': 176, 'CHEBI:37585': 177, 'CHEBI:16516': 178, 'CHEBI:17996': 179, 'CHEBI:26710': 52, 'CHEBI:17992': 181, 'CHEBI:27693': 30, 'CHEBI:35406': 34, 'CHEBI:25523': 289, 'CHEBI:18421': 184, 'CHEBI:18059': 11, 'CHEBI:39015': 186, 'CHEBI:8102': 187, 'CHEBI:27594': 188, 'CHEBI:25613': 189, 'CHEBI:16199': 190, 'CHEBI:17790': 191, 'CHEBI:32835': 192, 'CHEBI:2511': 193, 'CHEBI:5032': 194, 'CHEBI:49168': 195, 'CHEBI:32441': 196, 'CHEBI:15361': 293, 'CHEBI:32861': 198, 'CHEBI:37958': 200, 'CHEBI:23243': 201, 'CHEBI:25679': 203, 'CHEBI:25939': 204, 'CHEBI:13643': 205, 'CHEBI:35195': 297, 'CHEBI:25179': 206, 'CHEBI:29019': 207, 'CHEBI:24848': 208, 'CHEBI:37926': 209, 'CHEBI:28623': 210, 'CHEBI:28619': 212, 'CHEBI:25675': 31, 'CHEBI:32139': 214, 'CHEBI:46442': 215, 'CHEBI:29021': 216, 'CHEBI:33791': 4, 'CHEBI:6495': 114, 'CHEBI:23414': 219, 'CHEBI:15428': 99, 'CHEBI:33294': 220, 'CHEBI:22977': 267, 'CHEBI:26619': 222, 'CHEBI:33567': 308, 'CHEBI:27998': 223, 'CHEBI:4056': 224, 'CHEBI:32503': 104, 'CHEBI:30616': 109, 'CHEBI:35782': 124, 'CHEBI:30751': 229, 'CHEBI:17418': 117, 'CHEBI:30757': 231, 'CHEBI:32035': 39, 'CHEBI:30755': 233, 'CHEBI:17568': 148, 'CHEBI:18320': 235, 'CHEBI:3312': 161, 'CHEBI:33839': 160, 'CHEBI:32789': 238, 'CHEBI:4883': 239, 'CHEBI:32874': 241, 'CHEBI:32875': 242, 'CHEBI:16247': 243, 'CHEBI:37396': 244, 'CHEBI:16240': 199, 'CHEBI:32648': 246, 'CHEBI:27780': 247, 'CHEBI:33521': 248, 'CHEBI:17625': 180, 'CHEBI:39026': 249, 'CHEBI:38867': 240, 'CHEBI:4917': 250, 'CHEBI:25555': 252, 'CHEBI:48706': 227, 'CHEBI:48705': 254, 'CHEBI:27026': 255, 'CHEBI:35224': 256, 'CHEBI:26714': 115, 'CHEBI:44577': 258, 'CHEBI:27902': 259, 'CHEBI:35222': 260, 'CHEBI:31624': 261, 'CHEBI:26959': 262, 'CHEBI:25435': 263, 'CHEBI:16474': 264, 'CHEBI:8040': 265, 'CHEBI:15740': 236, 'CHEBI:16761': 268, 'CHEBI:36976': 269, 'CHEBI:17478': 270, 'CHEBI:18035': 272, 'CHEBI:37527': 273, 'CHEBI:28694': 55, 'CHEBI:17578': 275, 'CHEBI:35808': 307, 'CHEBI:17632': 277, 'CHEBI:49706': 278, 'CHEBI:35225': 257, 'CHEBI:32848': 107, 'CHEBI:18248': 304, 'CHEBI:16397': 281, 'CHEBI:42098': 93, 'CHEBI:30512': 283, 'CHEBI:9754': 147, 'CHEBI:26125': 285, 'CHEBI:35211': 162, 'CHEBI:16526': 232, 'CHEBI:24849': 287, 'CHEBI:17087': 288, 'CHEBI:17387': 202, 'CHEBI:30879': 134, 'CHEBI:35456': 292, 'CHEBI:40574': 253, 'CHEBI:27641': 295, 'CHEBI:5086': 296, 'CHEBI:17076': 221, 'CHEBI:35350': 298, 'CHEBI:17748': 217, 'CHEBI:17544': 300, 'CHEBI:17939': 234, 'CHEBI:26977': 211, 'CHEBI:30779': 302, 'CHEBI:7044': 309, 'CHEBI:33250': 218, 'CHEBI:29287': 305, 'CHEBI:18245': 197, 'CHEBI:18243': 299, 'CHEBI:28112': 271, 'CHEBI:25195': 303}\n"
     ]
    }
   ],
   "source": [
    "print tag2idx"
   ]
  },
  {
   "cell_type": "code",
   "execution_count": 8,
   "metadata": {
    "collapsed": true
   },
   "outputs": [],
   "source": [
    "from keras.preprocessing.sequence import pad_sequences\n",
    "X_word = [[word2idx[w[0]] for w in s] for s in data_list]"
   ]
  },
  {
   "cell_type": "code",
   "execution_count": 9,
   "metadata": {
    "collapsed": true
   },
   "outputs": [],
   "source": [
    "X_word = pad_sequences(maxlen=max_len, sequences=X_word, value=word2idx[\"O\"], padding='post', truncating='post')"
   ]
  },
  {
   "cell_type": "code",
   "execution_count": 10,
   "metadata": {},
   "outputs": [
    {
     "name": "stdout",
     "output_type": "stream",
     "text": [
      "98\n"
     ]
    }
   ],
   "source": [
    "chars = set([w_i for w in words for w_i in w])\n",
    "n_chars = len(chars)\n",
    "print(n_chars)"
   ]
  },
  {
   "cell_type": "code",
   "execution_count": 11,
   "metadata": {
    "collapsed": true
   },
   "outputs": [],
   "source": [
    "char2idx = {c: i + 2 for i, c in enumerate(chars)}\n",
    "char2idx[\"UNK\"] = 1\n",
    "char2idx[\"O\"] = 0"
   ]
  },
  {
   "cell_type": "code",
   "execution_count": 12,
   "metadata": {
    "collapsed": true
   },
   "outputs": [],
   "source": [
    "X_char = []\n",
    "for sentence in data_list:\n",
    "    sent_seq = []\n",
    "    for i in range(max_len):\n",
    "        word_seq = []\n",
    "        for j in range(max_len_char):\n",
    "            try:\n",
    "                word_seq.append(char2idx.get(sentence[i][0][j]))\n",
    "            except:\n",
    "                word_seq.append(char2idx.get(\"PAD\"))\n",
    "        sent_seq.append(word_seq)\n",
    "    X_char.append(np.array(sent_seq))\n"
   ]
  },
  {
   "cell_type": "code",
   "execution_count": 13,
   "metadata": {
    "collapsed": true
   },
   "outputs": [],
   "source": [
    "y = [[tag2idx[w[1]] for w in s] for s in data_list]"
   ]
  },
  {
   "cell_type": "code",
   "execution_count": 14,
   "metadata": {
    "collapsed": true
   },
   "outputs": [],
   "source": [
    "y = pad_sequences(maxlen=max_len, sequences=y,value=tag2idx[\"O\"], padding='post', truncating='post')"
   ]
  },
  {
   "cell_type": "code",
   "execution_count": 15,
   "metadata": {
    "collapsed": true
   },
   "outputs": [],
   "source": [
    "from sklearn.model_selection import train_test_split\n",
    "X_word_tr, X_word_te, y_tr, y_te = train_test_split(X_word, y, test_size=0.3, random_state=2018)\n",
    "X_char_tr, X_char_te, _, _ = train_test_split(X_char, y, test_size=0.3, random_state=2018)"
   ]
  },
  {
   "cell_type": "code",
   "execution_count": 16,
   "metadata": {
    "collapsed": true
   },
   "outputs": [],
   "source": [
    "from keras.models import Model, Input\n",
    "from keras.layers import LSTM, Embedding, Dense, TimeDistributed, Dropout, Conv1D\n",
    "from keras.layers import Bidirectional, concatenate, SpatialDropout1D, GlobalMaxPooling1D\n",
    "\n",
    "# input and embedding for words\n",
    "word_in = Input(shape=(max_len,))\n",
    "emb_word = Embedding(input_dim=n_words + 2, output_dim=len(tag2idx),\n",
    "                     input_length=max_len, mask_zero=True)(word_in)\n",
    "\n",
    "# input and embeddings for characters\n",
    "char_in = Input(shape=(max_len, max_len_char,))\n",
    "emb_char = TimeDistributed(Embedding(input_dim=n_chars + 2, output_dim=30,\n",
    "                           input_length=max_len_char, mask_zero=True))(char_in)\n",
    "# character LSTM to get word encodings by characters\n",
    "char_enc = TimeDistributed(GRU(units=150, return_sequences=False,\n",
    "                                recurrent_dropout=0.5))(emb_char)\n",
    "\n",
    "# main LSTM\n",
    "x = concatenate([emb_word, char_enc])\n",
    "x = SpatialDropout1D(0.3)(x)\n",
    "main_lstm = Bidirectional(GRU(units=100, return_sequences=True,\n",
    "                               recurrent_dropout=0.6))(x)\n",
    "out = TimeDistributed(Dense(n_tags + 1, activation=\"sigmoid\"))(main_lstm)\n",
    "\n",
    "model = Model([word_in, char_in], out)"
   ]
  },
  {
   "cell_type": "code",
   "execution_count": 17,
   "metadata": {
    "collapsed": true
   },
   "outputs": [],
   "source": [
    "from keras.optimizers import RMSprop\n",
    "\n",
    "rmsopt = RMSprop(lr=0.01, rho=0.9, epsilon=None, decay=0.0)\n",
    "model.compile(optimizer=rmsopt, loss=\"sparse_categorical_crossentropy\", metrics=[\"acc\"])"
   ]
  },
  {
   "cell_type": "code",
   "execution_count": 18,
   "metadata": {},
   "outputs": [
    {
     "name": "stdout",
     "output_type": "stream",
     "text": [
      "__________________________________________________________________________________________________\n",
      "Layer (type)                    Output Shape         Param #     Connected to                     \n",
      "==================================================================================================\n",
      "input_2 (InputLayer)            (None, 75, 10)       0                                            \n",
      "__________________________________________________________________________________________________\n",
      "input_1 (InputLayer)            (None, 75)           0                                            \n",
      "__________________________________________________________________________________________________\n",
      "time_distributed_1 (TimeDistrib (None, 75, 10, 30)   3000        input_2[0][0]                    \n",
      "__________________________________________________________________________________________________\n",
      "embedding_1 (Embedding)         (None, 75, 309)      3433299     input_1[0][0]                    \n",
      "__________________________________________________________________________________________________\n",
      "time_distributed_2 (TimeDistrib (None, 75, 150)      81450       time_distributed_1[0][0]         \n",
      "__________________________________________________________________________________________________\n",
      "concatenate_1 (Concatenate)     (None, 75, 459)      0           embedding_1[0][0]                \n",
      "                                                                 time_distributed_2[0][0]         \n",
      "__________________________________________________________________________________________________\n",
      "spatial_dropout1d_1 (SpatialDro (None, 75, 459)      0           concatenate_1[0][0]              \n",
      "__________________________________________________________________________________________________\n",
      "bidirectional_1 (Bidirectional) (None, 75, 200)      336000      spatial_dropout1d_1[0][0]        \n",
      "__________________________________________________________________________________________________\n",
      "time_distributed_3 (TimeDistrib (None, 75, 310)      62310       bidirectional_1[0][0]            \n",
      "==================================================================================================\n",
      "Total params: 3,916,059\n",
      "Trainable params: 3,916,059\n",
      "Non-trainable params: 0\n",
      "__________________________________________________________________________________________________\n"
     ]
    }
   ],
   "source": [
    "model.summary()\n",
    "\n"
   ]
  },
  {
   "cell_type": "code",
   "execution_count": 19,
   "metadata": {
    "scrolled": true
   },
   "outputs": [
    {
     "name": "stdout",
     "output_type": "stream",
     "text": [
      "Train on 2188 samples, validate on 939 samples\n",
      "Epoch 1/15\n",
      "2188/2188 [==============================] - 19s 9ms/step - loss: 0.5178 - acc: 0.9324 - val_loss: 0.1756 - val_acc: 0.9538\n",
      "Epoch 2/15\n",
      "2188/2188 [==============================] - 19s 9ms/step - loss: 0.1137 - acc: 0.9767 - val_loss: 0.0874 - val_acc: 0.9844\n",
      "Epoch 3/15\n",
      "2188/2188 [==============================] - 19s 9ms/step - loss: 0.0521 - acc: 0.9887 - val_loss: 0.0655 - val_acc: 0.9875\n",
      "Epoch 4/15\n",
      "2188/2188 [==============================] - 21s 9ms/step - loss: 0.0299 - acc: 0.9927 - val_loss: 0.0658 - val_acc: 0.9905\n",
      "Epoch 5/15\n",
      "2188/2188 [==============================] - 24s 11ms/step - loss: 0.0187 - acc: 0.9948 - val_loss: 0.0508 - val_acc: 0.9915\n",
      "Epoch 6/15\n",
      "2188/2188 [==============================] - 23s 10ms/step - loss: 0.0139 - acc: 0.9962 - val_loss: 0.0506 - val_acc: 0.9913\n",
      "Epoch 7/15\n",
      "2188/2188 [==============================] - 23s 11ms/step - loss: 0.0091 - acc: 0.9972 - val_loss: 0.0476 - val_acc: 0.9929\n",
      "Epoch 8/15\n",
      "2188/2188 [==============================] - 23s 11ms/step - loss: 0.0073 - acc: 0.9978 - val_loss: 0.0485 - val_acc: 0.9919\n",
      "Epoch 9/15\n",
      "2188/2188 [==============================] - 23s 11ms/step - loss: 0.0061 - acc: 0.9985 - val_loss: 0.0816 - val_acc: 0.9871\n",
      "Epoch 10/15\n",
      "2188/2188 [==============================] - 23s 11ms/step - loss: 0.0052 - acc: 0.9985 - val_loss: 0.0507 - val_acc: 0.9922\n",
      "Epoch 11/15\n",
      "2188/2188 [==============================] - 23s 11ms/step - loss: 0.0041 - acc: 0.9990 - val_loss: 0.0496 - val_acc: 0.9927\n",
      "Epoch 12/15\n",
      "2188/2188 [==============================] - 23s 11ms/step - loss: 0.0033 - acc: 0.9994 - val_loss: 0.0576 - val_acc: 0.9913\n",
      "Epoch 13/15\n",
      "2188/2188 [==============================] - 23s 11ms/step - loss: 0.0034 - acc: 0.9992 - val_loss: 0.0509 - val_acc: 0.9921\n",
      "Epoch 14/15\n",
      "2188/2188 [==============================] - 23s 11ms/step - loss: 0.0027 - acc: 0.9993 - val_loss: 0.0550 - val_acc: 0.9924\n",
      "Epoch 15/15\n",
      "2188/2188 [==============================] - 23s 11ms/step - loss: 0.0026 - acc: 0.9994 - val_loss: 0.0542 - val_acc: 0.9926\n"
     ]
    }
   ],
   "source": [
    "history = model.fit([X_word_tr,\n",
    "                     np.array(X_char_tr).reshape((len(X_char_tr), max_len, max_len_char))],\n",
    "                    np.array(y_tr).reshape(len(y_tr), max_len, 1),\n",
    "                    batch_size=32, epochs=15, validation_data=([X_word_te,\n",
    "                     np.array(X_char_te).reshape((len(X_char_te), max_len, max_len_char))],\n",
    "                    np.array(y_te).reshape(len(y_te), max_len, 1)),\n",
    "                    verbose=1)"
   ]
  },
  {
   "cell_type": "code",
   "execution_count": 20,
   "metadata": {
    "collapsed": true
   },
   "outputs": [],
   "source": [
    "hist = pd.DataFrame(history.history)\n",
    "hist.to_csv('../data/results/performance/Chebi_CHAR_GRU_Based.tsv', sep='\\t')"
   ]
  },
  {
   "cell_type": "code",
   "execution_count": 21,
   "metadata": {},
   "outputs": [
    {
     "data": {
      "image/png": "[encoded data removed]",
      "text/plain": [
       "<matplotlib.figure.Figure at 0x7f55d1c48410>"
      ]
     },
     "metadata": {},
     "output_type": "display_data"
    }
   ],
   "source": [
    "import matplotlib.pyplot as plt\n",
    "\n",
    "plt.style.use(\"ggplot\")\n",
    "plt.figure(figsize=(12,12))\n",
    "plt.plot(hist[\"loss\"], label='Training Loss')\n",
    "plt.plot(hist[\"val_loss\"], label='Validation Loss')\n",
    "plt.legend()\n",
    "plt.show()"
   ]
  },
  {
   "cell_type": "code",
   "execution_count": 22,
   "metadata": {},
   "outputs": [
    {
     "data": {
      "image/png": "[encoded data removed]",
      "text/plain": [
       "<matplotlib.figure.Figure at 0x7f55d1b6c210>"
      ]
     },
     "metadata": {},
     "output_type": "display_data"
    }
   ],
   "source": [
    "plt.style.use(\"ggplot\")\n",
    "plt.figure(figsize=(12,12))\n",
    "plt.plot(hist[\"acc\"], label='Training Accuracy')\n",
    "plt.plot(hist[\"val_acc\"], label='Validation Accuracy')\n",
    "plt.legend()\n",
    "plt.show()"
   ]
  },
  {
   "cell_type": "code",
   "execution_count": 23,
   "metadata": {
    "scrolled": true
   },
   "outputs": [
    {
     "name": "stdout",
     "output_type": "stream",
     "text": [
      "[  532 10511  3279  7712  8053  8500   825  1302  6647  9636  7754  6661\n",
      "  1740  9881  3667  1364  6607  9732  2833  8279  8500  3751  5506  4532\n",
      " 10535  9306 10566  4959  5669  9306  2557  9306 10686 10205  4522  9624\n",
      "  1656  2095  9306  2138 10416   437     0     0     0     0     0     0\n",
      "     0     0     0     0     0     0     0     0     0     0     0     0\n",
      "     0     0     0     0     0     0     0     0     0     0     0     0\n",
      "     0     0     0]\n",
      "[  0   0   0   0   0   0   0   0   0   0   0   0   0   0   0   0   0   0\n",
      "   0   0   0   0   0   0   0   0   0   0   0   0   0   0   0   0   0   0\n",
      "   0   0   0 100   0   0   0   0   0   0   0   0   0   0   0   0   0   0\n",
      "   0   0   0   0   0   0   0   0   0   0   0   0   0   0   0   0   0   0\n",
      "   0   0   0]\n",
      "[  0   0   0   0   0   0   0   0   0   0   0   0   0   0   0   0   0   0\n",
      "   0   0   0   0   0   0   0   0   0   0   0   0   0   0   0   0   0   0\n",
      "   0   0   0 100   0   0   0   0   0   0   0   0   0   0   0   0   0   0\n",
      "   0   0   0   0   0   0   0   0   0   0   0   0   0   0   0   0   0   0\n",
      "   0   0   0]\n",
      "['Apart', 'from', 'the', 'obvious', 'genderspecific', 'diseases', 'such', 'as', 'cervical', 'or', 'prostate', 'cancer', 'sex', 'influences', 'susceptibility', 'to', 'nearly', 'all', 'highly', 'prevalent', 'diseases', 'that', 'affect', 'both', 'women', 'and', 'men', 'including', 'atherosclerosis', 'and', 'diabetes', 'and', 'their', 'precursor', 'conditions', 'of', 'hyperlipidemia', 'obesity', 'and', 'insulin', 'resistance', '.', 'O', 'O', 'O', 'O', 'O', 'O', 'O', 'O', 'O', 'O', 'O', 'O', 'O', 'O', 'O', 'O', 'O', 'O', 'O', 'O', 'O', 'O', 'O', 'O', 'O', 'O', 'O', 'O', 'O', 'O', 'O', 'O', 'O']\n",
      "['O', 'O', 'O', 'O', 'O', 'O', 'O', 'O', 'O', 'O', 'O', 'O', 'O', 'O', 'O', 'O', 'O', 'O', 'O', 'O', 'O', 'O', 'O', 'O', 'O', 'O', 'O', 'O', 'O', 'O', 'O', 'O', 'O', 'O', 'O', 'O', 'O', 'O', 'O', 'CHEBI:5931', 'O', 'O', 'O', 'O', 'O', 'O', 'O', 'O', 'O', 'O', 'O', 'O', 'O', 'O', 'O', 'O', 'O', 'O', 'O', 'O', 'O', 'O', 'O', 'O', 'O', 'O', 'O', 'O', 'O', 'O', 'O', 'O', 'O', 'O', 'O']\n",
      "['O', 'O', 'O', 'O', 'O', 'O', 'O', 'O', 'O', 'O', 'O', 'O', 'O', 'O', 'O', 'O', 'O', 'O', 'O', 'O', 'O', 'O', 'O', 'O', 'O', 'O', 'O', 'O', 'O', 'O', 'O', 'O', 'O', 'O', 'O', 'O', 'O', 'O', 'O', 'CHEBI:5931', 'O', 'O', 'O', 'O', 'O', 'O', 'O', 'O', 'O', 'O', 'O', 'O', 'O', 'O', 'O', 'O', 'O', 'O', 'O', 'O', 'O', 'O', 'O', 'O', 'O', 'O', 'O', 'O', 'O', 'O', 'O', 'O', 'O', 'O', 'O']\n",
      "\n",
      "\n",
      "             precision    recall  f1-score   support\n",
      "\n",
      "CHEBI:10545       1.00      1.00      1.00        23\n",
      "CHEBI:13643       0.00      0.00      0.00         1\n",
      "CHEBI:15346       1.00      1.00      1.00         1\n",
      "CHEBI:15355       1.00      1.00      1.00         1\n",
      "CHEBI:15358       1.00      1.00      1.00        10\n",
      "CHEBI:15361       1.00      1.00      1.00         2\n",
      "CHEBI:15377       0.94      1.00      0.97        33\n",
      "CHEBI:15379       1.00      1.00      1.00         8\n",
      "CHEBI:15428       0.00      0.00      0.00         2\n",
      "CHEBI:15738       1.00      1.00      1.00         1\n",
      "CHEBI:15740       0.00      0.00      0.00         1\n",
      "CHEBI:15854       1.00      1.00      1.00         3\n",
      "CHEBI:15858       1.00      1.00      1.00         1\n",
      "CHEBI:15889       1.00      1.00      1.00        30\n",
      "CHEBI:15956       0.00      0.00      0.00         1\n",
      "CHEBI:15986       0.00      0.00      0.00         1\n",
      "CHEBI:16113       1.00      1.00      1.00        23\n",
      "CHEBI:16199       1.00      1.00      1.00         2\n",
      "CHEBI:16223       1.00      1.00      1.00         3\n",
      "CHEBI:16234       1.00      1.00      1.00         1\n",
      "CHEBI:16236       1.00      1.00      1.00        11\n",
      "CHEBI:16247       1.00      1.00      1.00         4\n",
      "CHEBI:16397       1.00      1.00      1.00         1\n",
      "CHEBI:16412       1.00      1.00      1.00         5\n",
      "CHEBI:16516       1.00      1.00      1.00         2\n",
      "CHEBI:16526       1.00      1.00      1.00         6\n",
      "CHEBI:16761       0.00      0.00      0.00         1\n",
      "CHEBI:16827       1.00      1.00      1.00         1\n",
      "CHEBI:16842       1.00      1.00      1.00         4\n",
      "CHEBI:16856       1.00      1.00      1.00         5\n",
      "CHEBI:16865       1.00      1.00      1.00         5\n",
      "CHEBI:16933       0.00      0.00      0.00         1\n",
      "CHEBI:17076       1.00      1.00      1.00         1\n",
      "CHEBI:17158       0.00      0.00      0.00         1\n",
      "CHEBI:17234       1.00      1.00      1.00        29\n",
      "CHEBI:17334       1.00      1.00      1.00         1\n",
      "CHEBI:17387       1.00      0.50      0.67         2\n",
      "CHEBI:17418       0.50      1.00      0.67         1\n",
      "CHEBI:17544       1.00      1.00      1.00         1\n",
      "CHEBI:17596       0.00      0.00      0.00         1\n",
      "CHEBI:17625       1.00      1.00      1.00         3\n",
      "CHEBI:17632       1.00      1.00      1.00         1\n",
      "CHEBI:17748       1.00      1.00      1.00         2\n",
      "CHEBI:17754       1.00      1.00      1.00         2\n",
      "CHEBI:17790       1.00      0.50      0.67         2\n",
      "CHEBI:17855       1.00      1.00      1.00        11\n",
      "CHEBI:17939       1.00      1.00      1.00         2\n",
      "CHEBI:17992       1.00      1.00      1.00         4\n",
      "CHEBI:17996       0.33      1.00      0.50         1\n",
      "CHEBI:17997       0.67      1.00      0.80         2\n",
      "CHEBI:18035       0.00      0.00      0.00         1\n",
      "CHEBI:18059       1.00      1.00      1.00         6\n",
      "CHEBI:18111       1.00      1.00      1.00         3\n",
      "CHEBI:18243       1.00      1.00      1.00        13\n",
      "CHEBI:18245       0.00      0.00      0.00         1\n",
      "CHEBI:18295       0.00      0.00      0.00         1\n",
      "CHEBI:18303       1.00      1.00      1.00         7\n",
      "CHEBI:18320       1.00      1.00      1.00         1\n",
      "CHEBI:18421       1.00      1.00      1.00         1\n",
      "CHEBI:19260       0.00      0.00      0.00         2\n",
      "CHEBI:22563       0.00      0.00      0.00         1\n",
      "CHEBI:22582       0.00      0.00      0.00         1\n",
      "CHEBI:22586       1.00      1.00      1.00        14\n",
      "CHEBI:22695       0.00      0.00      0.00         2\n",
      "CHEBI:22918       1.00      1.00      1.00         6\n",
      "CHEBI:22977       1.00      1.00      1.00        19\n",
      "CHEBI:22984       0.00      0.00      0.00         2\n",
      "CHEBI:23019       1.00      1.00      1.00         2\n",
      "CHEBI:23114       0.00      0.00      0.00         2\n",
      "CHEBI:23243       1.00      1.00      1.00         2\n",
      "CHEBI:23357       0.33      1.00      0.50         1\n",
      "CHEBI:23367       0.74      0.75      0.75        53\n",
      "CHEBI:23414       1.00      1.00      1.00         1\n",
      "CHEBI:23614       1.00      1.00      1.00         1\n",
      "CHEBI:23888       0.75      1.00      0.86         3\n",
      "CHEBI:23995       1.00      1.00      1.00         2\n",
      "CHEBI:24009       1.00      1.00      1.00         2\n",
      "CHEBI:24433       0.50      0.50      0.50         2\n",
      "CHEBI:24621       1.00      0.82      0.90        11\n",
      "CHEBI:24669       0.00      0.00      0.00         1\n",
      "CHEBI:24849       1.00      1.00      1.00         1\n",
      "CHEBI:24858       1.00      1.00      1.00         1\n",
      "CHEBI:24866       0.00      0.00      0.00         0\n",
      "CHEBI:24870       1.00      1.00      1.00         6\n",
      "CHEBI:24898       1.00      1.00      1.00         1\n",
      "CHEBI:25016       1.00      0.67      0.80         3\n",
      "CHEBI:25017       1.00      0.50      0.67         2\n",
      "CHEBI:25107       1.00      1.00      1.00         3\n",
      " CHEBI:2511       1.00      1.00      1.00         5\n",
      "CHEBI:25555       0.00      0.00      0.00         1\n",
      "CHEBI:25613       0.94      0.85      0.89        20\n",
      "CHEBI:25614       1.00      1.00      1.00         3\n",
      "CHEBI:25675       1.00      1.00      1.00         2\n",
      "CHEBI:25939       0.00      0.00      0.00         1\n",
      "CHEBI:26125       0.00      0.00      0.00         1\n",
      "CHEBI:26130       1.00      1.00      1.00         9\n",
      "CHEBI:26216       0.67      1.00      0.80         2\n",
      "CHEBI:26333       0.00      0.00      0.00         1\n",
      "CHEBI:26619       0.00      0.00      0.00         1\n",
      "CHEBI:26708       1.00      0.67      0.80         3\n",
      "CHEBI:26710       1.00      1.00      1.00         9\n",
      "CHEBI:27026       1.00      1.00      1.00         2\n",
      "CHEBI:27214       1.00      1.00      1.00         3\n",
      "CHEBI:27266       0.50      1.00      0.67         1\n",
      "CHEBI:27338       1.00      1.00      1.00         3\n",
      "CHEBI:27363       1.00      1.00      1.00         3\n",
      "CHEBI:27570       0.00      0.00      0.00         2\n",
      "CHEBI:27594       1.00      1.00      1.00         1\n",
      "CHEBI:27638       1.00      1.00      1.00         3\n",
      "CHEBI:27693       1.00      1.00      1.00        15\n",
      "CHEBI:27902       1.00      1.00      1.00         2\n",
      "CHEBI:28201       1.00      1.00      1.00         1\n",
      "CHEBI:28300       1.00      1.00      1.00         1\n",
      "CHEBI:28619       1.00      1.00      1.00         1\n",
      "CHEBI:28623       0.00      0.00      0.00         6\n",
      "CHEBI:28748       1.00      1.00      1.00         2\n",
      "CHEBI:29019       1.00      1.00      1.00         1\n",
      "CHEBI:29287       0.00      0.00      0.00         0\n",
      "CHEBI:29987       1.00      0.50      0.67         2\n",
      "CHEBI:30089       1.00      1.00      1.00         5\n",
      "CHEBI:30319       0.00      0.00      0.00         2\n",
      "CHEBI:30512       1.00      0.75      0.86         4\n",
      "CHEBI:30616       1.00      1.00      1.00         9\n",
      "CHEBI:30687       1.00      1.00      1.00         2\n",
      "CHEBI:30751       1.00      1.00      1.00         4\n",
      "CHEBI:30755       0.00      0.00      0.00         3\n",
      "CHEBI:30756       0.69      0.61      0.65        33\n",
      "CHEBI:30757       1.00      0.88      0.93         8\n",
      "CHEBI:30758       1.00      0.33      0.50         3\n",
      "CHEBI:30779       1.00      1.00      1.00         2\n",
      "CHEBI:30808       1.00      1.00      1.00         1\n",
      "CHEBI:30823       1.00      1.00      1.00         2\n",
      "CHEBI:30879       1.00      1.00      1.00         1\n",
      "CHEBI:32035       1.00      1.00      1.00         1\n",
      "CHEBI:32145       1.00      1.00      1.00         1\n",
      "CHEBI:32441       1.00      1.00      1.00         1\n",
      "CHEBI:32460       1.00      1.00      1.00         1\n",
      "CHEBI:32503       1.00      0.50      0.67         4\n",
      "CHEBI:32535       0.00      0.00      0.00         0\n",
      "CHEBI:32588       1.00      1.00      1.00         1\n",
      "CHEBI:32630       0.67      1.00      0.80         2\n",
      "CHEBI:32648       1.00      1.00      1.00         3\n",
      "CHEBI:32700       1.00      1.00      1.00         2\n",
      "CHEBI:32789       1.00      1.00      1.00         3\n",
      "CHEBI:32835       0.00      0.00      0.00         1\n",
      "CHEBI:32848       1.00      1.00      1.00         1\n",
      "CHEBI:32861       0.00      0.00      0.00         2\n",
      "CHEBI:32952       0.00      0.00      0.00         1\n",
      "CHEBI:32958       0.00      0.00      0.00         2\n",
      " CHEBI:3312       1.00      1.00      1.00         1\n",
      "CHEBI:33284       1.00      1.00      1.00         2\n",
      "CHEBI:33290       1.00      0.96      0.98        24\n",
      "CHEBI:33294       1.00      1.00      1.00         2\n",
      "CHEBI:33521       1.00      1.00      1.00         6\n",
      "CHEBI:33699       1.00      1.00      1.00        46\n",
      "CHEBI:33708       0.90      1.00      0.95        18\n",
      "CHEBI:33839       1.00      1.00      1.00         1\n",
      "CHEBI:33893       1.00      1.00      1.00        12\n",
      "CHEBI:34683       0.00      0.00      0.00         1\n",
      "CHEBI:35143       1.00      1.00      1.00         1\n",
      "CHEBI:35195       1.00      1.00      1.00         2\n",
      "CHEBI:35211       1.00      1.00      1.00         1\n",
      "CHEBI:35222       1.00      0.94      0.97        16\n",
      "CHEBI:35224       1.00      1.00      1.00         2\n",
      "CHEBI:35225       0.60      0.43      0.50         7\n",
      "CHEBI:35350       0.00      0.00      0.00         1\n",
      "CHEBI:35456       0.00      0.00      0.00         1\n",
      "CHEBI:35696       0.00      0.00      0.00         1\n",
      "CHEBI:35780       0.71      0.83      0.77         6\n",
      "CHEBI:35808       1.00      1.00      1.00         3\n",
      "CHEBI:36080       1.00      1.00      1.00       320\n",
      "CHEBI:36357       0.46      0.46      0.46        24\n",
      "CHEBI:36364       1.00      1.00      1.00         4\n",
      "CHEBI:36420       1.00      1.00      1.00         2\n",
      "CHEBI:36807       1.00      1.00      1.00         1\n",
      "CHEBI:36916       1.00      1.00      1.00         1\n",
      "CHEBI:36976       0.50      1.00      0.67         2\n",
      "CHEBI:37156       1.00      1.00      1.00         3\n",
      "CHEBI:37407       0.00      0.00      0.00         1\n",
      "CHEBI:37527       0.81      1.00      0.90        47\n",
      "CHEBI:37585       0.00      0.00      0.00         1\n",
      "CHEBI:37845       1.00      1.00      1.00         2\n",
      "CHEBI:37926       1.00      1.00      1.00         3\n",
      "CHEBI:37983       1.00      1.00      1.00         1\n",
      "CHEBI:38867       1.00      1.00      1.00         3\n",
      "CHEBI:39015       1.00      1.00      1.00         1\n",
      "CHEBI:39442       1.00      1.00      1.00         1\n",
      " CHEBI:4056       0.00      0.00      0.00         0\n",
      "CHEBI:42098       1.00      0.50      0.67         2\n",
      "CHEBI:42191       1.00      1.00      1.00         5\n",
      "CHEBI:42471       0.00      0.00      0.00         1\n",
      "CHEBI:44577       1.00      1.00      1.00         2\n",
      "CHEBI:44658       0.50      1.00      0.67         1\n",
      "CHEBI:44785       1.00      1.00      1.00         4\n",
      "CHEBI:46662       1.00      1.00      1.00         1\n",
      "CHEBI:46756       1.00      1.00      1.00         1\n",
      "CHEBI:46882       0.43      1.00      0.60        12\n",
      "CHEBI:46883       0.64      0.58      0.61        24\n",
      "CHEBI:48343       0.00      0.00      0.00         1\n",
      "CHEBI:48518       0.00      0.00      0.00         1\n",
      "CHEBI:48561       1.00      1.00      1.00         2\n",
      "CHEBI:48705       1.00      0.33      0.50         3\n",
      "CHEBI:48706       1.00      1.00      1.00         4\n",
      " CHEBI:4883       1.00      1.00      1.00         1\n",
      "CHEBI:49637       1.00      1.00      1.00         1\n",
      " CHEBI:5032       0.00      0.00      0.00         0\n",
      " CHEBI:5931       1.00      1.00      1.00         5\n",
      " CHEBI:6636       1.00      1.00      1.00         3\n",
      " CHEBI:7044       1.00      1.00      1.00         1\n",
      " CHEBI:8984       1.00      1.00      1.00         9\n",
      " CHEBI:9754       1.00      1.00      1.00         5\n",
      "          O       1.00      1.00      1.00     69111\n",
      "\n",
      "avg / total       1.00      1.00      1.00     70425\n",
      "\n"
     ]
    },
    {
     "name": "stderr",
     "output_type": "stream",
     "text": [
      "/home/sdmohant/.virtualenvs/deeplearn/local/lib/python2.7/site-packages/sklearn/metrics/classification.py:1113: UndefinedMetricWarning: Precision and F-score are ill-defined and being set to 0.0 in labels with no predicted samples.\n",
      "  'precision', 'predicted', average, warn_for)\n",
      "/home/sdmohant/.virtualenvs/deeplearn/local/lib/python2.7/site-packages/sklearn/metrics/classification.py:1115: UndefinedMetricWarning: Recall and F-score are ill-defined and being set to 0.0 in labels with no true samples.\n",
      "  'recall', 'true', average, warn_for)\n"
     ]
    }
   ],
   "source": [
    "from sklearn.metrics import classification_report\n",
    "\n",
    "predicted = model.predict([X_word_te,\n",
    "                        np.array(X_char_te).reshape((len(X_char_te),\n",
    "                                                     max_len, max_len_char))])\n",
    "true = []\n",
    "predicted_val = []\n",
    "word = []\n",
    "for i in range(len(predicted)):\n",
    "    p_tmp = np.argmax(predicted[i], axis=-1)\n",
    "    t_tmp = y_te[i]\n",
    "    word.append(X_word_te[i])\n",
    "    predicted_val.append(p_tmp)\n",
    "    true.append(t_tmp)\n",
    "\n",
    "print word[2]\n",
    "print predicted_val[2]\n",
    "print true[2]\n",
    "\n",
    "wd = [list(map(lambda x: idx2word[x], y)) for y in word]    \n",
    "p = [list(map(lambda x: idx2tag[x], y)) for y in predicted_val]\n",
    "t = [list(map(lambda x: idx2tag[x], y)) for y in true]\n",
    "\n",
    "\n",
    "print wd[2]\n",
    "print p[2]\n",
    "print t[2]\n",
    "\n",
    "report = classification_report(list(itertools.chain.from_iterable(t)), \n",
    "                                    list(itertools.chain.from_iterable(p)))\n",
    "print \"\\n\"\n",
    "print report"
   ]
  },
  {
   "cell_type": "code",
   "execution_count": 24,
   "metadata": {},
   "outputs": [
    {
     "name": "stdout",
     "output_type": "stream",
     "text": [
      "Word           ||True ||Pred\n",
      "==============================\n",
      "descending     : O     O\n",
      "naturally      : O     O\n",
      "reinforcing    : O     O\n",
      "rRNA           : O     O\n",
      "enhanced       : O     O\n",
      "paralogous     : O     O\n",
      "4461–63      : O     O\n",
      "ascending      : O     O\n",
      "ATrich         : O     O\n",
      "reinforcing    : O     O\n",
      "4461–63      : O     O\n",
      "LSox5          : O     O\n",
      "platelets      : O     O\n",
      "space          : O     O\n",
      "paralogous     : O     O\n",
      "tetani         : CHEBI:46883 CHEBI:46883\n",
      "much           : O     O\n"
     ]
    }
   ],
   "source": [
    "i = 300\n",
    "pred = np.argmax(predicted[i], axis=-1)\n",
    "print(\"{:15}||{:5}||{}\".format(\"Word\", \"True\", \"Pred\"))\n",
    "print(30 * \"=\")\n",
    "for w, tr, pred in zip(X_word_te[i], y_te[i], pred):\n",
    "    if w != 0:\n",
    "        print(\"{:15}: {:5} {}\".format(words[w], idx2tag[tr], idx2tag[pred]))\n",
    "\n",
    "# pd = model.predict(np.array([X_te[i]]))\n",
    "# pd = np.argmax(pd, axis=-1)\n",
    "# true = np.argmax(y_te[i], -1)\n",
    "# print(\"{:15}||{:5}||{}\".format(\"Word\", \"True\", \"Pred\"))\n",
    "# print(30 * \"=\")\n",
    "\n",
    "# for w, t1, pred in zip(X_te[i], true, pd[0]):\n",
    "#     if w != 0:\n",
    "#         print(\"{:15}: {:5} {}\".format(words[w-1], tags[t1], tags[pred]))"
   ]
  },
  {
   "cell_type": "code",
   "execution_count": 25,
   "metadata": {
    "collapsed": true
   },
   "outputs": [],
   "source": [
    "import pandas as pd\n",
    "\n",
    "df = pd.DataFrame(\n",
    "{\n",
    "    'Predicted' : list(itertools.chain.from_iterable(p)),\n",
    "    'Ground Truth': list(itertools.chain.from_iterable(t)),\n",
    "    'Word' : list(itertools.chain.from_iterable(wd)),\n",
    "}\n",
    ")\n"
   ]
  },
  {
   "cell_type": "code",
   "execution_count": 26,
   "metadata": {
    "collapsed": true
   },
   "outputs": [],
   "source": [
    "df = df[df['Word'] != 'O']"
   ]
  },
  {
   "cell_type": "code",
   "execution_count": 27,
   "metadata": {
    "collapsed": true
   },
   "outputs": [],
   "source": [
    "df.to_csv('../data/results/Chebi_CHAR_GRU_Based.tsv', sep='\\t')"
   ]
  },
  {
   "cell_type": "code",
   "execution_count": 28,
   "metadata": {},
   "outputs": [
    {
     "name": "stdout",
     "output_type": "stream",
     "text": [
      "Mean semantic similarity:  0.878\n"
     ]
    },
    {
     "data": {
      "text/plain": [
       "<matplotlib.figure.Figure at 0x7f55cf4e6d10>"
      ]
     },
     "metadata": {},
     "output_type": "display_data"
    }
   ],
   "source": [
    "%run ./accuracy/src/computeSim.py ../data/results/Chebi_CHAR_GRU_Based.tsv ../data/validation_data/Chebi_AllSubsumers.tsv"
   ]
  },
  {
   "cell_type": "code",
   "execution_count": null,
   "metadata": {
    "collapsed": true
   },
   "outputs": [],
   "source": []
  }
 ],
 "metadata": {
  "kernelspec": {
   "display_name": "Python 2",
   "language": "python",
   "name": "python2"
  },
  "language_info": {
   "codemirror_mode": {
    "name": "ipython",
    "version": 2
   },
   "file_extension": ".py",
   "mimetype": "text/x-python",
   "name": "python",
   "nbconvert_exporter": "python",
   "pygments_lexer": "ipython2",
   "version": "2.7.12"
  }
 },
 "nbformat": 4,
 "nbformat_minor": 2
}
