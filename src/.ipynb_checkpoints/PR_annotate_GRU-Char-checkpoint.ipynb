{
 "cells": [
  {
   "cell_type": "code",
   "execution_count": 1,
   "metadata": {},
   "outputs": [
    {
     "name": "stderr",
     "output_type": "stream",
     "text": [
      "Using TensorFlow backend.\n"
     ]
    }
   ],
   "source": [
    "import json\n",
    "from keras.preprocessing import sequence\n",
    "from keras.models import Sequential\n",
    "from keras.layers.embeddings import Embedding\n",
    "from keras.layers.recurrent import SimpleRNN, GRU, LSTM\n",
    "from keras.layers.core import Dense, Dropout\n",
    "from keras.layers.wrappers import TimeDistributed\n",
    "from keras.layers import Convolution1D, MaxPooling1D\n",
    "from keras.utils import np_utils\n",
    "import itertools\n",
    "import ast\n",
    "from sklearn.model_selection import train_test_split\n",
    "from sklearn.preprocessing import LabelEncoder\n",
    "import sys, os\n",
    "import traceback\n",
    "from itertools import chain\n",
    "import numpy as np\n",
    "import pandas as pd\n",
    "\n",
    "import progressbar\n",
    "\n",
    "import tensorflow as tf\n",
    "os.environ[\"CUDA_DEVICE_ORDER\"] = \"PCI_BUS_ID\"   # see issue #152\n",
    "os.environ[\"CUDA_VISIBLE_DEVICES\"] = \"2\""
   ]
  },
  {
   "cell_type": "code",
   "execution_count": 2,
   "metadata": {
    "collapsed": true
   },
   "outputs": [],
   "source": [
    "import matplotlib.pyplot as plt\n",
    "\n",
    "%matplotlib inline"
   ]
  },
  {
   "cell_type": "code",
   "execution_count": 3,
   "metadata": {
    "collapsed": true
   },
   "outputs": [],
   "source": [
    "def read_data(rootdir):\n",
    "    data_list = []\n",
    "    for subdir, dirs, files in os.walk(rootdir):\n",
    "        for fname in files:\n",
    "            #print os.path.join(subdir, file)\n",
    "            filepath = subdir + os.sep + fname\n",
    "            with open(filepath) as f:\n",
    "                for line1,line2 in itertools.izip_longest(*[f]*2):\n",
    "                    try:\n",
    "                        text = ast.literal_eval(line1)\n",
    "                        label = ast.literal_eval(line2)\n",
    "                        \n",
    "#                         for i in range(len(label)):\n",
    "#                             if label[i] == 'NA':\n",
    "#                                 label[i] = 'O'\n",
    "                        n_labels = set(label)\n",
    "                        if len(text) > 3 and len(n_labels) > 1:\n",
    "                            sentence = zip(text, label)\n",
    "                            sentence.append(('.', 'O'))\n",
    "                            sentence = [item for item in sentence if item[0].strip() != '']\n",
    "                            data_list.append(sentence)\n",
    "                    except:\n",
    "                        pass\n",
    "            f.close()\n",
    "    return data_list"
   ]
  },
  {
   "cell_type": "code",
   "execution_count": 4,
   "metadata": {},
   "outputs": [
    {
     "name": "stdout",
     "output_type": "stream",
     "text": [
      "[('This', 'O'), ('mutant', 'O'), ('carries', 'O'), ('a', 'O'), ('spontaneous', 'O'), ('deletion', 'O'), ('in', 'O'), ('the', 'O'), ('mouse', 'O'), ('ortholog', 'O'), ('of', 'O'), ('NR2E3', 'PR:000011403'), ('an', 'O'), ('orphan', 'O'), ('nuclear', 'O'), ('receptor', 'O'), ('transcription', 'O'), ('factor', 'O'), ('mutated', 'O'), ('in', 'O'), ('ESCS', 'O'), ('.', 'O')]\n",
      "5153\n",
      "12621\n",
      "546\n"
     ]
    }
   ],
   "source": [
    "data_list = read_data('../data/input/output_pr/')\n",
    "\n",
    "print data_list[0]\n",
    "\n",
    "# data_list = data_list[:3000]\n",
    "\n",
    "# words = list(chain.from_iterable(data_list))\n",
    "# print words\n",
    "\n",
    "print len(data_list)\n",
    "\n",
    "words = list(set(y[0] for x in data_list for y in x))\n",
    "words.append(\"ENDPAD\")\n",
    "n_words = len(words)\n",
    "print n_words\n",
    "\n",
    "tags = list(set(y[1] for x in data_list for y in x))\n",
    "n_tags = len(tags)\n",
    "print n_tags"
   ]
  },
  {
   "cell_type": "code",
   "execution_count": 5,
   "metadata": {
    "collapsed": true
   },
   "outputs": [],
   "source": [
    "# from sklearn.preprocessing import LabelEncoder\n",
    "\n",
    "# le = LabelEncoder()\n",
    "# le.fit(list(y[1] for x in data_list for y in x))\n",
    "\n",
    "# labels2idx = dict(zip(le.classes_, le.transform(le.classes_)))\n",
    "\n",
    "# idx2la = {labels2idx[k]:k for k in labels2idx}"
   ]
  },
  {
   "cell_type": "code",
   "execution_count": 6,
   "metadata": {
    "collapsed": true
   },
   "outputs": [],
   "source": [
    "max_len = 75\n",
    "max_len_char = 10\n",
    "\n",
    "word2idx = {w: i + 2 for i, w in enumerate(words)}\n",
    "word2idx[\"UNK\"] = 1\n",
    "word2idx[\"O\"] = 0\n",
    "idx2word = {i: w for w, i in word2idx.items()}\n",
    "tag2idx = {t: i + 1 for i, t in enumerate(tags)}\n",
    "tag2idx[\"O\"] = 0\n",
    "idx2tag = {i: w for w, i in tag2idx.items()}\n",
    "\n",
    "# print word2idx['Hybrid']\n",
    "# print tag2idx[\"O\"]"
   ]
  },
  {
   "cell_type": "code",
   "execution_count": 7,
   "metadata": {},
   "outputs": [
    {
     "name": "stdout",
     "output_type": "stream",
     "text": [
      "{'PR:000003199': 1, 'PR:000015706': 2, 'PR:000010246': 3, 'PR:000015394': 4, 'PR:000015393': 5, 'PR:000010249': 6, 'PR:000015399': 7, 'PR:000007232': 8, 'PR:000025662': 9, 'PR:000007924': 10, 'PR:000007928': 11, 'PR:000017370': 12, 'PR:000013057': 13, 'PR:000013056': 14, 'PR:000017387': 480, 'PR:000013058': 15, 'PR:000007234': 188, 'PR:000011441': 17, 'PR:000013672': 18, 'PR:000016579': 19, 'PR:000008680': 279, 'PR:000013829': 21, 'PR:000013820': 22, 'PR:000005257': 23, 'PR:000013947': 24, 'PR:000006592': 25, 'PR:000015305': 26, 'PR:000006606': 27, 'PR:000006607': 28, 'PR:000009064': 29, 'PR:000006608': 30, 'PR:000007241': 31, 'PR:000010242': 32, 'PR:000009365': 33, 'PR:000001856': 34, 'PR:000010875': 36, 'PR:000008260': 37, 'PR:000008610': 38, 'PR:000014615': 39, 'PR:000009218': 40, 'PR:000006506': 41, 'PR:000006853': 42, 'PR:000006852': 43, 'PR:000006855': 44, 'PR:000006854': 45, 'PR:000006857': 46, 'PR:000006856': 47, 'PR:000010213': 475, 'PR:000010873': 48, 'PR:000003457': 49, 'PR:000010925': 50, 'PR:000009965': 321, 'PR:000000035': 52, 'PR:000000034': 53, 'PR:000000037': 54, 'PR:000000036': 55, 'PR:000000133': 56, 'PR:000012478': 57, 'PR:000007163': 374, 'PR:000004126': 308, 'PR:000001405': 60, 'PR:000004122': 61, 'PR:000005022': 62, 'PR:000016652': 63, 'PR:000010562': 478, 'PR:000016655': 65, 'PR:000010208': 66, 'PR:000003090': 67, 'PR:000016898': 68, 'PR:000016899': 69, 'PR:000016896': 70, 'PR:000010473': 71, 'PR:000016890': 72, 'PR:000016891': 73, 'PR:000007968': 74, 'PR:000016893': 75, 'PR:000000686': 76, 'PR:000017438': 77, 'PR:000003918': 78, 'PR:000000728': 79, 'PR:000006432': 80, 'PR:000017435': 81, 'PR:000000046': 82, 'PR:000005307': 220, 'PR:000016008': 84, 'PR:000016007': 85, 'PR:000016006': 86, 'PR:000013159': 87, 'PR:000016001': 88, 'PR:000011521': 89, 'PR:000000282': 147, 'PR:000013524': 91, 'PR:000011526': 92, 'PR:000013639': 93, 'PR:000018242': 94, 'PR:000004904': 95, 'PR:000011059': 96, 'PR:000002325': 97, 'PR:000010501': 98, 'PR:000002089': 99, 'PR:000007243': 100, 'PR:000002087': 101, 'PR:000006642': 102, 'PR:000015456': 103, 'PR:000014434': 104, 'PR:000007563': 106, 'PR:000017448': 107, 'PR:000017449': 108, 'PR:000013845': 200, 'PR:000017444': 110, 'PR:000017443': 111, 'PR:000007348': 112, 'PR:000001811': 113, 'PR:000011416': 114, 'PR:000013523': 115, 'PR:000013522': 116, 'PR:000003676': 117, 'PR:000003675': 118, 'PR:000003172': 119, 'PR:000002112': 539, 'PR:000015235': 149, 'PR:000006542': 121, 'PR:000006545': 122, 'PR:000006549': 123, 'PR:000008534': 125, 'PR:000009439': 126, 'PR:000014364': 127, 'PR:000014365': 128, 'PR:000008942': 129, 'PR:000003710': 130, 'PR:000004499': 131, 'PR:000003715': 132, 'PR:000002193': 133, 'PR:000003719': 134, 'PR:000003718': 135, 'PR:000002198': 136, 'PR:000004168': 137, 'PR:000001886': 231, 'PR:000016340': 236, 'PR:000007749': 140, 'PR:000001447': 141, 'PR:000010704': 142, 'PR:000005848': 143, 'PR:000008233': 144, 'PR:000009481': 145, 'PR:000025572': 146, 'PR:000005845': 148, 'PR:000008210': 460, 'PR:000008307': 120, 'PR:000007840': 150, 'PR:000012199': 151, 'PR:000005908': 213, 'PR:000002107': 153, 'PR:000017104': 332, 'PR:000012421': 155, 'PR:000000005': 156, 'PR:000016043': 157, 'PR:000000166': 158, 'PR:000000165': 159, 'PR:000000164': 160, 'PR:000026878': 161, 'PR:000005015': 162, 'PR:000000168': 163, 'PR:000012605': 164, 'PR:000015308': 165, 'PR:000000782': 166, 'PR:000007939': 167, 'PR:000010277': 168, 'PR:000005402': 169, 'PR:000003328': 170, 'PR:000005404': 171, 'PR:000010425': 172, 'PR:000001044': 389, 'PR:000010788': 174, 'PR:000003969': 175, 'PR:000022321': 176, 'PR:000022320': 177, 'PR:000012516': 178, 'PR:000006902': 179, 'PR:000006901': 180, 'PR:000004937': 181, 'PR:000016548': 182, 'PR:000015665': 183, 'PR:000003035': 184, 'PR:000005121': 185, 'PR:000009116': 186, 'PR:000009054': 187, 'PR:000025601': 16, 'PR:000010496': 189, 'PR:000015966': 190, 'PR:000005836': 191, 'PR:000009279': 35, 'PR:000005835': 193, 'PR:000009274': 194, 'PR:000004615': 195, 'PR:000008442': 305, 'PR:000016269': 197, 'PR:000008278': 198, 'PR:000001245': 199, 'PR:000016262': 109, 'PR:000016261': 201, 'PR:000004759': 202, 'PR:000001242': 203, 'PR:000009758': 204, 'PR:000016146': 205, 'PR:000016145': 206, 'PR:000004967': 393, 'PR:000009751': 208, 'PR:000006536': 209, 'PR:000006534': 210, 'PR:000004185': 211, 'PR:000008159': 212, 'PR:000011157': 380, 'PR:000004183': 152, 'PR:000004182': 214, 'PR:000005907': 215, 'PR:000005904': 216, 'PR:000008871': 217, 'PR:000008870': 218, 'PR:000009871': 219, 'PR:000008081': 221, 'PR:000004503': 222, 'PR:000000216': 489, 'PR:000016642': 223, 'PR:000016649': 224, 'PR:000013712': 490, 'PR:000007499': 491, 'PR:000008703': 227, 'PR:000002004': 228, 'PR:000002005': 229, 'PR:000003537': 230, 'PR:000026474': 138, 'PR:000006153': 232, 'PR:000017035': 233, 'PR:000004372': 234, 'PR:000017653': 235, 'PR:000005061': 139, 'PR:000017527': 237, 'PR:000001119': 238, 'PR:000010303': 241, 'PR:000015435': 405, 'PR:000010514': 243, 'PR:000000940': 244, 'PR:000002091': 245, 'PR:000009158': 331, 'PR:000010903': 247, 'PR:000010173': 442, 'PR:000015039': 248, 'PR:000006499': 249, 'PR:000006498': 250, 'PR:000017354': 251, 'PR:000017355': 252, 'PR:000017459': 253, 'PR:000017453': 254, 'PR:000017452': 255, 'PR:000010869': 256, 'PR:000011469': 257, 'PR:000007299': 258, 'PR:000006874': 259, 'PR:000013043': 410, 'PR:000004804': 260, 'PR:000006459': 261, 'PR:000009255': 496, 'PR:000004716': 263, 'PR:000004803': 264, 'PR:000014258': 265, 'PR:000014395': 266, 'PR:000014397': 267, 'PR:000003107': 268, 'PR:000013965': 269, 'PR:000005274': 270, 'PR:000009655': 271, 'PR:000007998': 272, 'PR:000012946': 273, 'PR:000008523': 274, 'PR:000008292': 275, 'PR:000009345': 276, 'PR:000012867': 277, 'PR:000014373': 278, 'PR:000007124': 20, 'PR:000001937': 280, 'PR:000004621': 281, 'PR:000006858': 282, 'PR:000010162': 283, 'PR:000004257': 284, 'PR:000001831': 413, 'PR:000001479': 286, 'PR:000025584': 287, 'PR:000015553': 288, 'PR:000025583': 289, 'PR:000015921': 290, 'PR:000009882': 291, 'PR:000005308': 292, 'PR:000008636': 105, 'PR:000007050': 294, 'PR:000010706': 296, 'PR:000003573': 297, 'PR:000003572': 298, 'PR:000008840': 299, 'PR:000005958': 300, 'PR:000003809': 301, 'PR:000009744': 302, 'PR:000022850': 303, 'PR:000005009': 192, 'PR:000005005': 196, 'PR:000016672': 306, 'PR:000003980': 307, 'PR:000005430': 309, 'PR:000015073': 310, 'PR:000008317': 500, 'PR:000010799': 312, 'PR:000003979': 313, 'PR:000013773': 314, 'PR:000006454': 315, 'PR:000006453': 316, 'PR:000004445': 317, 'PR:000012076': 318, 'PR:000025365': 502, 'PR:000011508': 322, 'PR:000015288': 323, 'PR:000007229': 324, 'PR:000007228': 325, 'PR:000014925': 326, 'PR:000009289': 327, 'PR:000007227': 328, 'PR:000007223': 329, 'PR:000009167': 330, 'PR:000004427': 154, 'PR:000007897': 333, 'PR:000007895': 334, 'PR:000013428': 335, 'PR:000013429': 336, 'PR:000012825': 337, 'PR:000008396': 338, 'PR:000012826': 339, 'PR:000015919': 340, 'PR:000010687': 341, 'PR:000010686': 342, 'PR:000011432': 343, 'PR:000001875': 344, 'PR:000010124': 345, 'PR:000000167': 346, 'PR:000013858': 347, 'PR:000016154': 348, 'PR:000016150': 349, 'PR:000008248': 350, 'PR:000005591': 351, 'PR:000006523': 352, 'PR:000006939': 353, 'PR:000007315': 354, 'PR:000019036': 355, 'PR:000016801': 356, 'PR:000009415': 357, 'PR:000009416': 358, 'PR:000015827': 359, 'PR:000008418': 360, 'PR:000009863': 361, 'PR:000001195': 362, 'PR:000003732': 363, 'PR:000012086': 364, 'PR:000008099': 365, 'PR:000012318': 366, 'PR:000005505': 367, 'PR:000012316': 368, 'PR:000016321': 369, 'PR:000015851': 320, 'PR:000007167': 371, 'PR:000007164': 372, 'PR:000007165': 373, 'PR:000001349': 58, 'PR:000010228': 375, 'PR:000004080': 376, 'PR:000008735': 377, 'PR:000003549': 378, 'PR:000006067': 124, 'PR:000016877': 59, 'PR:000013039': 381, 'PR:000004362': 382, 'PR:000006148': 383, 'PR:000008786': 384, 'PR:000008785': 385, 'PR:000000067': 386, 'PR:000008028': 387, 'PR:000008026': 388, 'PR:000004564': 173, 'PR:000007037': 433, 'PR:000016871': 392, 'PR:000010250': 207, 'PR:000014963': 394, 'PR:000010252': 395, 'PR:000002307': 396, 'PR:000004968': 397, 'PR:000013290': 398, 'PR:000014968': 399, 'PR:000002060': 400, 'PR:000014413': 401, 'PR:000007500': 402, 'PR:000015432': 403, 'PR:000015431': 404, 'PR:000007506': 242, 'PR:000000365': 406, 'PR:000000364': 407, 'PR:000013041': 408, 'PR:000013042': 239, 'PR:000006300': 246, 'PR:000012101': 411, 'PR:000002092': 412, 'PR:000013502': 285, 'PR:000015790': 293, 'PR:000011470': 415, 'PR:000001979': 416, 'PR:000021998': 417, 'PR:000011245': 418, 'PR:000008321': 419, 'PR:000008320': 420, 'PR:000003058': 421, 'PR:000015643': 422, 'PR:000015312': 423, 'PR:000005265': 424, 'PR:000007603': 425, 'PR:000014480': 426, 'PR:000012351': 304, 'PR:000009450': 427, 'PR:000015862': 428, 'PR:000009454': 429, 'PR:000007130': 379, 'PR:000004140': 439, 'PR:000009458': 432, 'PR:000009822': 390, 'PR:000001903': 434, 'PR:000002090': 435, 'PR:000001904': 436, 'PR:000005082': 438, 'PR:000005086': 431, 'PR:000004145': 440, 'PR:000010170': 240, 'PR:000001467': 441, 'PR:000003606': 443, 'PR:000016206': 444, 'PR:000003602': 295, 'PR:000003601': 446, 'PR:000008212': 447, 'PR:000005645': 448, 'PR:000005644': 449, 'PR:000005646': 450, 'PR:000005643': 451, 'PR:000014662': 391, 'PR:000006847': 453, 'PR:000011396': 454, 'PR:000008608': 455, 'PR:000008609': 456, 'PR:000022460': 457, 'PR:000003604': 458, 'PR:000009231': 459, 'PR:000015865': 430, 'PR:000015890': 445, 'PR:000011194': 461, 'PR:000011196': 462, 'PR:000005720': 463, 'PR:000010717': 464, 'PR:000009235': 465, 'PR:000000027': 466, 'PR:000000021': 467, 'PR:000016062': 468, 'PR:000023591': 469, 'PR:000016892': 470, 'PR:000004683': 471, 'PR:000012285': 472, 'PR:000012286': 473, 'PR:000005311': 474, 'PR:000000363': 409, 'PR:000005310': 452, 'O': 0, 'PR:000014841': 477, 'PR:000015169': 64, 'PR:000003263': 526, 'PR:000010764': 90, 'PR:000000281': 481, 'PR:000000287': 482, 'PR:000000731': 483, 'PR:000004453': 484, 'PR:000014702': 370, 'PR:000004918': 485, 'PR:000005693': 486, 'PR:000004855': 487, 'PR:000014441': 488, 'PR:000000047': 83, 'PR:000007551': 225, 'PR:000015445': 226, 'PR:000010968': 492, 'PR:000007070': 493, 'PR:000009312': 494, 'PR:000008867': 51, 'PR:000023661': 495, 'PR:000001949': 262, 'PR:000011403': 497, 'PR:000008258': 498, 'PR:000025349': 499, 'PR:000001224': 311, 'PR:000006928': 501, 'PR:000014237': 319, 'PR:000005215': 503, 'PR:000015619': 504, 'PR:000008131': 505, 'PR:000008813': 506, 'PR:000008816': 507, 'PR:000011471': 414, 'PR:000001683': 508, 'PR:000001891': 509, 'PR:000000105': 510, 'PR:000008038': 540, 'PR:000001450': 512, 'PR:000001451': 513, 'PR:000004177': 514, 'PR:000009495': 515, 'PR:000005776': 516, 'PR:000005770': 517, 'PR:000005850': 518, 'PR:000008654': 519, 'PR:000016585': 520, 'PR:000001672': 521, 'PR:000003264': 522, 'PR:000016904': 523, 'PR:000003266': 524, 'PR:000016902': 525, 'PR:000016900': 479, 'PR:000003262': 527, 'PR:000007856': 528, 'PR:000007857': 529, 'PR:000010443': 530, 'PR:000010442': 531, 'PR:000015124': 532, 'PR:000009921': 533, 'PR:000007858': 534, 'PR:000007859': 535, 'PR:000011141': 536, 'PR:000010248': 537, 'PR:000017504': 538, 'PR:000000073': 437, 'PR:000017298': 511, 'PR:000001177': 541, 'PR:000001175': 542, 'PR:000016057': 543, 'PR:000001179': 544, 'PR:000001178': 545, 'PR:000017296': 546}\n"
     ]
    }
   ],
   "source": [
    "print tag2idx"
   ]
  },
  {
   "cell_type": "code",
   "execution_count": 8,
   "metadata": {
    "collapsed": true
   },
   "outputs": [],
   "source": [
    "from keras.preprocessing.sequence import pad_sequences\n",
    "X_word = [[word2idx[w[0]] for w in s] for s in data_list]"
   ]
  },
  {
   "cell_type": "code",
   "execution_count": 9,
   "metadata": {
    "collapsed": true
   },
   "outputs": [],
   "source": [
    "X_word = pad_sequences(maxlen=max_len, sequences=X_word, value=word2idx[\"O\"], padding='post', truncating='post')"
   ]
  },
  {
   "cell_type": "code",
   "execution_count": 10,
   "metadata": {},
   "outputs": [
    {
     "name": "stdout",
     "output_type": "stream",
     "text": [
      "95\n"
     ]
    }
   ],
   "source": [
    "chars = set([w_i for w in words for w_i in w])\n",
    "n_chars = len(chars)\n",
    "print(n_chars)"
   ]
  },
  {
   "cell_type": "code",
   "execution_count": 11,
   "metadata": {
    "collapsed": true
   },
   "outputs": [],
   "source": [
    "char2idx = {c: i + 2 for i, c in enumerate(chars)}\n",
    "char2idx[\"UNK\"] = 1\n",
    "char2idx[\"O\"] = 0"
   ]
  },
  {
   "cell_type": "code",
   "execution_count": 12,
   "metadata": {
    "collapsed": true
   },
   "outputs": [],
   "source": [
    "X_char = []\n",
    "for sentence in data_list:\n",
    "    sent_seq = []\n",
    "    for i in range(max_len):\n",
    "        word_seq = []\n",
    "        for j in range(max_len_char):\n",
    "            try:\n",
    "                word_seq.append(char2idx.get(sentence[i][0][j]))\n",
    "            except:\n",
    "                word_seq.append(char2idx.get(\"PAD\"))\n",
    "        sent_seq.append(word_seq)\n",
    "    X_char.append(np.array(sent_seq))\n"
   ]
  },
  {
   "cell_type": "code",
   "execution_count": 13,
   "metadata": {
    "collapsed": true
   },
   "outputs": [],
   "source": [
    "y = [[tag2idx[w[1]] for w in s] for s in data_list]"
   ]
  },
  {
   "cell_type": "code",
   "execution_count": 14,
   "metadata": {
    "collapsed": true
   },
   "outputs": [],
   "source": [
    "y = pad_sequences(maxlen=max_len, sequences=y,value=tag2idx[\"O\"], padding='post', truncating='post')"
   ]
  },
  {
   "cell_type": "code",
   "execution_count": 15,
   "metadata": {
    "collapsed": true
   },
   "outputs": [],
   "source": [
    "from sklearn.model_selection import train_test_split\n",
    "X_word_tr, X_word_te, y_tr, y_te = train_test_split(X_word, y, test_size=0.3, random_state=2018)\n",
    "X_char_tr, X_char_te, _, _ = train_test_split(X_char, y, test_size=0.3, random_state=2018)"
   ]
  },
  {
   "cell_type": "code",
   "execution_count": 16,
   "metadata": {
    "collapsed": true
   },
   "outputs": [],
   "source": [
    "from keras.models import Model, Input\n",
    "from keras.layers import LSTM, Embedding, Dense, TimeDistributed, Dropout, Conv1D\n",
    "from keras.layers import Bidirectional, concatenate, SpatialDropout1D, GlobalMaxPooling1D\n",
    "\n",
    "# input and embedding for words\n",
    "word_in = Input(shape=(max_len,))\n",
    "emb_word = Embedding(input_dim=n_words + 2, output_dim=len(tag2idx),\n",
    "                     input_length=max_len, mask_zero=True)(word_in)\n",
    "\n",
    "# input and embeddings for characters\n",
    "char_in = Input(shape=(max_len, max_len_char,))\n",
    "emb_char = TimeDistributed(Embedding(input_dim=n_chars + 2, output_dim=30,\n",
    "                           input_length=max_len_char, mask_zero=True))(char_in)\n",
    "# character LSTM to get word encodings by characters\n",
    "char_enc = TimeDistributed(GRU(units=150, return_sequences=False,\n",
    "                                recurrent_dropout=0.5))(emb_char)\n",
    "\n",
    "# main LSTM\n",
    "x = concatenate([emb_word, char_enc])\n",
    "x = SpatialDropout1D(0.3)(x)\n",
    "main_lstm = Bidirectional(GRU(units=100, return_sequences=True,\n",
    "                               recurrent_dropout=0.6))(x)\n",
    "out = TimeDistributed(Dense(n_tags + 1, activation=\"sigmoid\"))(main_lstm)\n",
    "\n",
    "model = Model([word_in, char_in], out)"
   ]
  },
  {
   "cell_type": "code",
   "execution_count": 17,
   "metadata": {
    "collapsed": true
   },
   "outputs": [],
   "source": [
    "from keras.optimizers import RMSprop\n",
    "\n",
    "rmsopt = RMSprop(lr=0.01, rho=0.9, epsilon=None, decay=0.0)\n",
    "model.compile(optimizer=rmsopt, loss=\"sparse_categorical_crossentropy\", metrics=[\"acc\"])"
   ]
  },
  {
   "cell_type": "code",
   "execution_count": 18,
   "metadata": {},
   "outputs": [
    {
     "name": "stdout",
     "output_type": "stream",
     "text": [
      "__________________________________________________________________________________________________\n",
      "Layer (type)                    Output Shape         Param #     Connected to                     \n",
      "==================================================================================================\n",
      "input_2 (InputLayer)            (None, 75, 10)       0                                            \n",
      "__________________________________________________________________________________________________\n",
      "input_1 (InputLayer)            (None, 75)           0                                            \n",
      "__________________________________________________________________________________________________\n",
      "time_distributed_1 (TimeDistrib (None, 75, 10, 30)   2910        input_2[0][0]                    \n",
      "__________________________________________________________________________________________________\n",
      "embedding_1 (Embedding)         (None, 75, 546)      6892158     input_1[0][0]                    \n",
      "__________________________________________________________________________________________________\n",
      "time_distributed_2 (TimeDistrib (None, 75, 150)      81450       time_distributed_1[0][0]         \n",
      "__________________________________________________________________________________________________\n",
      "concatenate_1 (Concatenate)     (None, 75, 696)      0           embedding_1[0][0]                \n",
      "                                                                 time_distributed_2[0][0]         \n",
      "__________________________________________________________________________________________________\n",
      "spatial_dropout1d_1 (SpatialDro (None, 75, 696)      0           concatenate_1[0][0]              \n",
      "__________________________________________________________________________________________________\n",
      "bidirectional_1 (Bidirectional) (None, 75, 200)      478200      spatial_dropout1d_1[0][0]        \n",
      "__________________________________________________________________________________________________\n",
      "time_distributed_3 (TimeDistrib (None, 75, 547)      109947      bidirectional_1[0][0]            \n",
      "==================================================================================================\n",
      "Total params: 7,564,665\n",
      "Trainable params: 7,564,665\n",
      "Non-trainable params: 0\n",
      "__________________________________________________________________________________________________\n"
     ]
    }
   ],
   "source": [
    "model.summary()\n",
    "\n"
   ]
  },
  {
   "cell_type": "code",
   "execution_count": 19,
   "metadata": {
    "scrolled": true
   },
   "outputs": [
    {
     "name": "stdout",
     "output_type": "stream",
     "text": [
      "Train on 3607 samples, validate on 1546 samples\n",
      "Epoch 1/15\n",
      "3607/3607 [==============================] - 39s 11ms/step - loss: 0.4190 - acc: 0.9484 - val_loss: 0.1067 - val_acc: 0.9869\n",
      "Epoch 2/15\n",
      "3607/3607 [==============================] - 38s 11ms/step - loss: 0.0541 - acc: 0.9923 - val_loss: 0.0646 - val_acc: 0.9923\n",
      "Epoch 3/15\n",
      "3607/3607 [==============================] - 38s 11ms/step - loss: 0.0268 - acc: 0.9960 - val_loss: 0.0520 - val_acc: 0.9939\n",
      "Epoch 4/15\n",
      "3607/3607 [==============================] - 38s 11ms/step - loss: 0.0178 - acc: 0.9970 - val_loss: 0.0497 - val_acc: 0.9947\n",
      "Epoch 5/15\n",
      "3607/3607 [==============================] - 38s 11ms/step - loss: 0.0133 - acc: 0.9977 - val_loss: 0.0507 - val_acc: 0.9949\n",
      "Epoch 6/15\n",
      "3607/3607 [==============================] - 38s 11ms/step - loss: 0.0114 - acc: 0.9981 - val_loss: 0.0506 - val_acc: 0.9950\n",
      "Epoch 7/15\n",
      "3607/3607 [==============================] - 37s 10ms/step - loss: 0.0095 - acc: 0.9984 - val_loss: 0.0564 - val_acc: 0.9951\n",
      "Epoch 8/15\n",
      "3607/3607 [==============================] - 32s 9ms/step - loss: 0.0090 - acc: 0.9984 - val_loss: 0.0514 - val_acc: 0.9954\n",
      "Epoch 9/15\n",
      "3607/3607 [==============================] - 32s 9ms/step - loss: 0.0089 - acc: 0.9985 - val_loss: 0.0485 - val_acc: 0.9954\n",
      "Epoch 10/15\n",
      "3607/3607 [==============================] - 32s 9ms/step - loss: 0.0085 - acc: 0.9987 - val_loss: 0.0526 - val_acc: 0.9953\n",
      "Epoch 11/15\n",
      "3607/3607 [==============================] - 32s 9ms/step - loss: 0.0081 - acc: 0.9987 - val_loss: 0.0561 - val_acc: 0.9951\n",
      "Epoch 12/15\n",
      "3607/3607 [==============================] - 32s 9ms/step - loss: 0.0081 - acc: 0.9987 - val_loss: 0.0532 - val_acc: 0.9950\n",
      "Epoch 13/15\n",
      "3607/3607 [==============================] - 32s 9ms/step - loss: 0.0080 - acc: 0.9987 - val_loss: 0.0564 - val_acc: 0.9951\n",
      "Epoch 14/15\n",
      "3607/3607 [==============================] - 32s 9ms/step - loss: 0.0079 - acc: 0.9988 - val_loss: 0.0558 - val_acc: 0.9953\n",
      "Epoch 15/15\n",
      "3607/3607 [==============================] - 32s 9ms/step - loss: 0.0077 - acc: 0.9988 - val_loss: 0.0615 - val_acc: 0.9953\n"
     ]
    }
   ],
   "source": [
    "history = model.fit([X_word_tr,\n",
    "                     np.array(X_char_tr).reshape((len(X_char_tr), max_len, max_len_char))],\n",
    "                    np.array(y_tr).reshape(len(y_tr), max_len, 1),\n",
    "                    batch_size=32, epochs=15, validation_data=([X_word_te,\n",
    "                     np.array(X_char_te).reshape((len(X_char_te), max_len, max_len_char))],\n",
    "                    np.array(y_te).reshape(len(y_te), max_len, 1)),\n",
    "                    verbose=1)"
   ]
  },
  {
   "cell_type": "code",
   "execution_count": 20,
   "metadata": {
    "collapsed": true
   },
   "outputs": [],
   "source": [
    "hist = pd.DataFrame(history.history)\n",
    "hist.to_csv('../data/results/performance/PR_merged_CHAR_GRU_Based.tsv', sep='\\t')"
   ]
  },
  {
   "cell_type": "code",
   "execution_count": 21,
   "metadata": {},
   "outputs": [
    {
     "data": {
      "image/png": "[encoded data removed]",
      "text/plain": [
       "<matplotlib.figure.Figure at 0x7f4e23755910>"
      ]
     },
     "metadata": {},
     "output_type": "display_data"
    }
   ],
   "source": [
    "import matplotlib.pyplot as plt\n",
    "\n",
    "plt.style.use(\"ggplot\")\n",
    "plt.figure(figsize=(12,12))\n",
    "plt.plot(hist[\"loss\"], label='Training Loss')\n",
    "plt.plot(hist[\"val_loss\"], label='Validation Loss')\n",
    "plt.legend()\n",
    "plt.show()"
   ]
  },
  {
   "cell_type": "code",
   "execution_count": 22,
   "metadata": {},
   "outputs": [
    {
     "data": {
      "image/png": "[encoded data removed]",
      "text/plain": [
       "<matplotlib.figure.Figure at 0x7f4e1c4b5310>"
      ]
     },
     "metadata": {},
     "output_type": "display_data"
    }
   ],
   "source": [
    "plt.style.use(\"ggplot\")\n",
    "plt.figure(figsize=(12,12))\n",
    "plt.plot(hist[\"acc\"], label='Training Accuracy')\n",
    "plt.plot(hist[\"val_acc\"], label='Validation Accuracy')\n",
    "plt.legend()\n",
    "plt.show()"
   ]
  },
  {
   "cell_type": "code",
   "execution_count": 23,
   "metadata": {
    "scrolled": true
   },
   "outputs": [
    {
     "name": "stdout",
     "output_type": "stream",
     "text": [
      "[2816 7449 6794 9350 2167 7449 6721 9350 8371 8902 6794 7703 3234 8902\n",
      " 6721 7703  500    0    0    0    0    0    0    0    0    0    0    0\n",
      "    0    0    0    0    0    0    0    0    0    0    0    0    0    0\n",
      "    0    0    0    0    0    0    0    0    0    0    0    0    0    0\n",
      "    0    0    0    0    0    0    0    0    0    0    0    0    0    0\n",
      "    0    0    0    0    0]\n",
      "[ 0  0  0 35  0  0  0 35  0  0  0  0  0  0  0  0  0  0  0  0  0  0  0  0\n",
      "  0  0  0  0  0  0  0  0  0  0  0  0  0  0  0  0  0  0  0  0  0  0  0  0\n",
      "  0  0  0  0  0  0  0  0  0  0  0  0  0  0  0  0  0  0  0  0  0  0  0  0\n",
      "  0  0  0]\n",
      "[ 0  0  0 35  0  0  0 35  0  0  0  0  0  0  0  0  0  0  0  0  0  0  0  0\n",
      "  0  0  0  0  0  0  0  0  0  0  0  0  0  0  0  0  0  0  0  0  0  0  0  0\n",
      "  0  0  0  0  0  0  0  0  0  0  0  0  0  0  0  0  0  0  0  0  0  0  0  0\n",
      "  0  0  0]\n",
      "['Solid', 'black', '4monthold', 'Sam68', 'hatched', 'black', '12monthold', 'Sam68', 'solid', 'red', '4monthold', 'Sam68\\xe2\\x88\\x92\\xe2\\x88\\x92', 'stippled', 'red', '12monthold', 'Sam68\\xe2\\x88\\x92\\xe2\\x88\\x92', '.', 'O', 'O', 'O', 'O', 'O', 'O', 'O', 'O', 'O', 'O', 'O', 'O', 'O', 'O', 'O', 'O', 'O', 'O', 'O', 'O', 'O', 'O', 'O', 'O', 'O', 'O', 'O', 'O', 'O', 'O', 'O', 'O', 'O', 'O', 'O', 'O', 'O', 'O', 'O', 'O', 'O', 'O', 'O', 'O', 'O', 'O', 'O', 'O', 'O', 'O', 'O', 'O', 'O', 'O', 'O', 'O', 'O', 'O']\n",
      "['O', 'O', 'O', 'PR:000009279', 'O', 'O', 'O', 'PR:000009279', 'O', 'O', 'O', 'O', 'O', 'O', 'O', 'O', 'O', 'O', 'O', 'O', 'O', 'O', 'O', 'O', 'O', 'O', 'O', 'O', 'O', 'O', 'O', 'O', 'O', 'O', 'O', 'O', 'O', 'O', 'O', 'O', 'O', 'O', 'O', 'O', 'O', 'O', 'O', 'O', 'O', 'O', 'O', 'O', 'O', 'O', 'O', 'O', 'O', 'O', 'O', 'O', 'O', 'O', 'O', 'O', 'O', 'O', 'O', 'O', 'O', 'O', 'O', 'O', 'O', 'O', 'O']\n",
      "['O', 'O', 'O', 'PR:000009279', 'O', 'O', 'O', 'PR:000009279', 'O', 'O', 'O', 'O', 'O', 'O', 'O', 'O', 'O', 'O', 'O', 'O', 'O', 'O', 'O', 'O', 'O', 'O', 'O', 'O', 'O', 'O', 'O', 'O', 'O', 'O', 'O', 'O', 'O', 'O', 'O', 'O', 'O', 'O', 'O', 'O', 'O', 'O', 'O', 'O', 'O', 'O', 'O', 'O', 'O', 'O', 'O', 'O', 'O', 'O', 'O', 'O', 'O', 'O', 'O', 'O', 'O', 'O', 'O', 'O', 'O', 'O', 'O', 'O', 'O', 'O', 'O']\n",
      "\n",
      "\n",
      "              precision    recall  f1-score   support\n",
      "\n",
      "           O       1.00      1.00      1.00    113551\n",
      "PR:000000005       1.00      1.00      1.00         2\n",
      "PR:000000021       1.00      1.00      1.00         2\n",
      "PR:000000027       1.00      0.67      0.80         3\n",
      "PR:000000034       1.00      1.00      1.00        35\n",
      "PR:000000035       1.00      0.94      0.97        18\n",
      "PR:000000036       0.00      0.00      0.00         2\n",
      "PR:000000047       1.00      1.00      1.00        12\n",
      "PR:000000067       1.00      1.00      1.00         2\n",
      "PR:000000073       1.00      1.00      1.00         1\n",
      "PR:000000105       1.00      1.00      1.00         5\n",
      "PR:000000133       1.00      1.00      1.00         6\n",
      "PR:000000164       1.00      1.00      1.00        36\n",
      "PR:000000165       1.00      1.00      1.00        29\n",
      "PR:000000167       1.00      1.00      1.00         3\n",
      "PR:000000168       1.00      1.00      1.00         9\n",
      "PR:000000216       0.00      0.00      0.00         1\n",
      "PR:000000281       1.00      1.00      1.00        11\n",
      "PR:000000287       1.00      1.00      1.00         5\n",
      "PR:000000364       1.00      1.00      1.00         1\n",
      "PR:000000686       1.00      1.00      1.00         1\n",
      "PR:000000728       1.00      1.00      1.00         7\n",
      "PR:000000782       0.00      0.00      0.00         2\n",
      "PR:000000940       0.00      0.00      0.00         1\n",
      "PR:000001044       1.00      1.00      1.00        11\n",
      "PR:000001119       1.00      0.50      0.67         2\n",
      "PR:000001177       1.00      0.95      0.97        19\n",
      "PR:000001224       0.00      0.00      0.00         1\n",
      "PR:000001242       0.00      0.00      0.00         1\n",
      "PR:000001245       1.00      1.00      1.00        11\n",
      "PR:000001349       1.00      1.00      1.00         1\n",
      "PR:000001405       1.00      0.50      0.67         4\n",
      "PR:000001447       0.00      0.00      0.00         1\n",
      "PR:000001451       0.00      0.00      0.00         1\n",
      "PR:000001479       1.00      0.50      0.67         2\n",
      "PR:000001672       1.00      1.00      1.00         1\n",
      "PR:000001683       1.00      0.50      0.67         4\n",
      "PR:000001811       0.00      0.00      0.00         2\n",
      "PR:000001856       1.00      1.00      1.00        13\n",
      "PR:000001875       1.00      1.00      1.00         1\n",
      "PR:000001886       0.00      0.00      0.00         1\n",
      "PR:000001904       1.00      1.00      1.00         2\n",
      "PR:000001937       1.00      1.00      1.00         1\n",
      "PR:000001949       0.00      0.00      0.00         0\n",
      "PR:000001979       1.00      0.86      0.92         7\n",
      "PR:000002004       0.00      0.00      0.00         1\n",
      "PR:000002005       0.00      0.00      0.00         1\n",
      "PR:000002060       1.00      1.00      1.00         7\n",
      "PR:000002087       0.00      0.00      0.00         1\n",
      "PR:000002090       0.00      0.00      0.00         1\n",
      "PR:000002193       1.00      1.00      1.00        12\n",
      "PR:000002198       0.00      0.00      0.00         1\n",
      "PR:000002307       0.00      0.00      0.00         2\n",
      "PR:000002325       1.00      1.00      1.00        16\n",
      "PR:000003035       1.00      1.00      1.00        17\n",
      "PR:000003058       0.00      0.00      0.00         3\n",
      "PR:000003107       0.00      0.00      0.00         1\n",
      "PR:000003172       0.00      0.00      0.00         1\n",
      "PR:000003199       1.00      1.00      1.00        10\n",
      "PR:000003262       1.00      0.50      0.67         6\n",
      "PR:000003263       0.00      0.00      0.00         1\n",
      "PR:000003264       1.00      1.00      1.00         2\n",
      "PR:000003266       1.00      1.00      1.00         6\n",
      "PR:000003457       0.00      0.00      0.00         1\n",
      "PR:000003549       0.00      0.00      0.00         1\n",
      "PR:000003572       1.00      0.40      0.57         5\n",
      "PR:000003573       1.00      0.90      0.95        30\n",
      "PR:000003601       0.84      1.00      0.91        26\n",
      "PR:000003604       0.00      0.00      0.00         1\n",
      "PR:000003606       1.00      0.75      0.86         4\n",
      "PR:000003676       0.00      0.00      0.00         4\n",
      "PR:000003710       1.00      1.00      1.00        11\n",
      "PR:000003718       1.00      1.00      1.00        20\n",
      "PR:000003719       1.00      1.00      1.00         3\n",
      "PR:000003809       1.00      1.00      1.00         1\n",
      "PR:000003969       1.00      1.00      1.00         1\n",
      "PR:000003979       1.00      1.00      1.00         4\n",
      "PR:000003980       1.00      1.00      1.00         2\n",
      "PR:000004080       1.00      1.00      1.00         6\n",
      "PR:000004122       1.00      1.00      1.00        34\n",
      "PR:000004126       1.00      1.00      1.00        11\n",
      "PR:000004168       1.00      1.00      1.00        20\n",
      "PR:000004182       1.00      1.00      1.00        42\n",
      "PR:000004183       1.00      1.00      1.00         1\n",
      "PR:000004185       1.00      1.00      1.00         1\n",
      "PR:000004362       0.00      0.00      0.00         1\n",
      "PR:000004372       0.95      0.74      0.83        27\n",
      "PR:000004445       0.00      0.00      0.00         1\n",
      "PR:000004503       1.00      1.00      1.00        45\n",
      "PR:000004564       0.00      0.00      0.00         1\n",
      "PR:000004615       0.00      0.00      0.00         1\n",
      "PR:000004621       0.00      0.00      0.00         1\n",
      "PR:000004716       1.00      1.00      1.00         9\n",
      "PR:000004759       1.00      1.00      1.00         2\n",
      "PR:000004804       1.00      0.90      0.95        10\n",
      "PR:000004855       1.00      1.00      1.00         2\n",
      "PR:000004918       1.00      1.00      1.00         2\n",
      "PR:000004937       0.00      0.00      0.00         2\n",
      "PR:000004967       1.00      0.67      0.80         3\n",
      "PR:000004968       1.00      1.00      1.00         8\n",
      "PR:000005005       1.00      1.00      1.00         3\n",
      "PR:000005015       1.00      1.00      1.00        14\n",
      "PR:000005022       1.00      1.00      1.00         3\n",
      "PR:000005082       1.00      1.00      1.00         6\n",
      "PR:000005086       1.00      1.00      1.00         8\n",
      "PR:000005121       0.00      0.00      0.00         2\n",
      "PR:000005307       1.00      1.00      1.00         1\n",
      "PR:000005308       0.00      0.00      0.00         1\n",
      "PR:000005311       1.00      1.00      1.00         8\n",
      "PR:000005402       0.91      1.00      0.95        10\n",
      "PR:000005404       1.00      1.00      1.00         5\n",
      "PR:000005430       0.00      0.00      0.00         2\n",
      "PR:000005591       1.00      0.83      0.91        12\n",
      "PR:000005643       1.00      1.00      1.00         7\n",
      "PR:000005644       1.00      1.00      1.00         5\n",
      "PR:000005645       1.00      1.00      1.00         7\n",
      "PR:000005646       1.00      1.00      1.00         7\n",
      "PR:000005693       1.00      1.00      1.00         3\n",
      "PR:000005720       0.00      0.00      0.00         1\n",
      "PR:000005770       1.00      1.00      1.00        19\n",
      "PR:000005845       0.00      0.00      0.00         1\n",
      "PR:000005848       0.00      0.00      0.00         1\n",
      "PR:000005904       1.00      1.00      1.00        50\n",
      "PR:000005907       1.00      0.86      0.92         7\n",
      "PR:000005908       1.00      1.00      1.00         5\n",
      "PR:000005958       1.00      1.00      1.00         6\n",
      "PR:000006148       1.00      1.00      1.00         1\n",
      "PR:000006153       0.00      0.00      0.00         1\n",
      "PR:000006300       1.00      1.00      1.00        23\n",
      "PR:000006454       0.94      1.00      0.97        17\n",
      "PR:000006459       0.00      0.00      0.00         2\n",
      "PR:000006498       0.00      0.00      0.00         2\n",
      "PR:000006499       1.00      1.00      1.00         9\n",
      "PR:000006523       1.00      1.00      1.00         1\n",
      "PR:000006536       1.00      1.00      1.00         1\n",
      "PR:000006542       1.00      1.00      1.00         1\n",
      "PR:000006549       1.00      1.00      1.00        49\n",
      "PR:000006606       0.00      0.00      0.00         0\n",
      "PR:000006847       1.00      1.00      1.00        22\n",
      "PR:000006852       1.00      1.00      1.00        22\n",
      "PR:000006853       1.00      1.00      1.00         1\n",
      "PR:000006854       1.00      1.00      1.00        14\n",
      "PR:000006855       1.00      1.00      1.00         1\n",
      "PR:000006856       1.00      1.00      1.00         1\n",
      "PR:000006874       0.00      0.00      0.00         3\n",
      "PR:000006901       1.00      1.00      1.00         2\n",
      "PR:000006902       0.00      0.00      0.00         1\n",
      "PR:000006939       0.00      0.00      0.00         2\n",
      "PR:000007037       0.00      0.00      0.00         1\n",
      "PR:000007070       1.00      1.00      1.00         3\n",
      "PR:000007164       0.92      1.00      0.96        12\n",
      "PR:000007165       1.00      1.00      1.00         1\n",
      "PR:000007167       1.00      1.00      1.00         2\n",
      "PR:000007223       1.00      1.00      1.00        10\n",
      "PR:000007241       1.00      1.00      1.00         2\n",
      "PR:000007348       0.00      0.00      0.00         0\n",
      "PR:000007499       1.00      1.00      1.00         4\n",
      "PR:000007500       1.00      1.00      1.00        35\n",
      "PR:000007551       0.00      0.00      0.00         2\n",
      "PR:000007603       1.00      0.67      0.80         3\n",
      "PR:000007749       0.00      0.00      0.00         1\n",
      "PR:000007840       1.00      1.00      1.00         4\n",
      "PR:000007856       0.00      0.00      0.00         2\n",
      "PR:000007857       1.00      1.00      1.00        10\n",
      "PR:000007858       0.00      0.00      0.00         3\n",
      "PR:000007859       0.00      0.00      0.00         2\n",
      "PR:000007939       1.00      1.00      1.00         2\n",
      "PR:000007968       1.00      1.00      1.00         3\n",
      "PR:000007998       1.00      1.00      1.00         1\n",
      "PR:000008026       1.00      1.00      1.00         2\n",
      "PR:000008028       1.00      1.00      1.00         2\n",
      "PR:000008038       0.00      0.00      0.00         1\n",
      "PR:000008099       0.00      0.00      0.00         2\n",
      "PR:000008159       0.00      0.00      0.00         0\n",
      "PR:000008210       1.00      1.00      1.00         2\n",
      "PR:000008212       1.00      1.00      1.00         1\n",
      "PR:000008260       0.00      0.00      0.00         1\n",
      "PR:000008278       1.00      1.00      1.00         4\n",
      "PR:000008317       1.00      1.00      1.00         1\n",
      "PR:000008396       0.00      0.00      0.00         1\n",
      "PR:000008418       1.00      1.00      1.00         2\n",
      "PR:000008442       0.00      0.00      0.00         1\n",
      "PR:000008534       1.00      1.00      1.00         3\n",
      "PR:000008608       1.00      1.00      1.00        30\n",
      "PR:000008654       1.00      1.00      1.00         2\n",
      "PR:000008680       1.00      1.00      1.00        17\n",
      "PR:000008735       1.00      0.75      0.86         4\n",
      "PR:000008785       0.00      0.00      0.00         1\n",
      "PR:000008786       0.00      0.00      0.00         1\n",
      "PR:000008840       1.00      1.00      1.00        29\n",
      "PR:000008867       0.00      0.00      0.00         1\n",
      "PR:000008870       0.00      0.00      0.00         1\n",
      "PR:000008942       0.00      0.00      0.00         1\n",
      "PR:000009054       1.00      1.00      1.00         4\n",
      "PR:000009064       0.00      0.00      0.00         1\n",
      "PR:000009116       1.00      1.00      1.00         5\n",
      "PR:000009158       1.00      1.00      1.00        16\n",
      "PR:000009167       1.00      0.67      0.80         3\n",
      "PR:000009218       1.00      1.00      1.00        60\n",
      "PR:000009231       1.00      1.00      1.00        10\n",
      "PR:000009255       1.00      1.00      1.00         3\n",
      "PR:000009274       0.00      0.00      0.00         1\n",
      "PR:000009279       1.00      1.00      1.00        25\n",
      "PR:000009415       1.00      1.00      1.00         1\n",
      "PR:000009439       0.00      0.00      0.00         1\n",
      "PR:000009450       0.50      1.00      0.67         1\n",
      "PR:000009454       1.00      1.00      1.00        11\n",
      "PR:000009458       0.00      0.00      0.00         1\n",
      "PR:000009481       1.00      1.00      1.00         5\n",
      "PR:000009495       1.00      1.00      1.00         3\n",
      "PR:000009655       1.00      1.00      1.00         1\n",
      "PR:000009744       0.00      0.00      0.00         1\n",
      "PR:000009751       1.00      1.00      1.00         1\n",
      "PR:000009758       1.00      1.00      1.00         1\n",
      "PR:000009822       1.00      1.00      1.00         1\n",
      "PR:000009871       1.00      1.00      1.00         1\n",
      "PR:000009882       1.00      0.50      0.67         2\n",
      "PR:000009921       1.00      1.00      1.00         2\n",
      "PR:000010124       1.00      1.00      1.00         3\n",
      "PR:000010173       1.00      1.00      1.00         6\n",
      "PR:000010208       1.00      1.00      1.00         1\n",
      "PR:000010213       1.00      1.00      1.00         1\n",
      "PR:000010228       1.00      1.00      1.00         2\n",
      "PR:000010252       1.00      1.00      1.00        17\n",
      "PR:000010425       1.00      1.00      1.00         4\n",
      "PR:000010442       1.00      1.00      1.00         1\n",
      "PR:000010443       1.00      1.00      1.00         1\n",
      "PR:000010562       0.00      0.00      0.00         1\n",
      "PR:000010687       1.00      1.00      1.00         3\n",
      "PR:000010704       1.00      1.00      1.00         2\n",
      "PR:000010717       1.00      1.00      1.00        12\n",
      "PR:000010764       1.00      1.00      1.00         2\n",
      "PR:000010799       0.00      0.00      0.00         2\n",
      "PR:000010873       1.00      0.50      0.67         4\n",
      "PR:000010903       0.00      0.00      0.00         1\n",
      "PR:000010925       1.00      1.00      1.00         2\n",
      "PR:000011059       1.00      1.00      1.00         7\n",
      "PR:000011141       0.00      0.00      0.00         2\n",
      "PR:000011157       0.00      0.00      0.00         1\n",
      "PR:000011194       1.00      1.00      1.00         3\n",
      "PR:000011196       1.00      1.00      1.00         1\n",
      "PR:000011245       1.00      1.00      1.00         1\n",
      "PR:000011396       0.00      0.00      0.00         1\n",
      "PR:000011403       0.67      1.00      0.80         8\n",
      "PR:000011432       1.00      1.00      1.00         9\n",
      "PR:000011441       0.00      0.00      0.00         1\n",
      "PR:000011471       1.00      1.00      1.00         9\n",
      "PR:000011526       0.00      0.00      0.00         1\n",
      "PR:000012076       0.00      0.00      0.00         3\n",
      "PR:000012086       0.45      1.00      0.62         5\n",
      "PR:000012285       0.00      0.00      0.00         1\n",
      "PR:000012318       1.00      1.00      1.00        21\n",
      "PR:000012421       1.00      1.00      1.00         3\n",
      "PR:000012867       1.00      1.00      1.00        14\n",
      "PR:000012946       0.00      0.00      0.00         3\n",
      "PR:000013042       1.00      1.00      1.00         2\n",
      "PR:000013043       1.00      1.00      1.00        18\n",
      "PR:000013057       1.00      1.00      1.00        13\n",
      "PR:000013159       1.00      1.00      1.00         1\n",
      "PR:000013428       0.00      0.00      0.00         1\n",
      "PR:000013429       1.00      1.00      1.00         1\n",
      "PR:000013502       1.00      1.00      1.00         5\n",
      "PR:000013522       1.00      1.00      1.00         1\n",
      "PR:000013523       1.00      1.00      1.00        16\n",
      "PR:000013524       1.00      1.00      1.00        26\n",
      "PR:000013639       1.00      1.00      1.00         1\n",
      "PR:000013672       1.00      1.00      1.00        13\n",
      "PR:000013712       1.00      1.00      1.00        44\n",
      "PR:000013773       1.00      1.00      1.00        50\n",
      "PR:000013845       0.00      0.00      0.00         2\n",
      "PR:000013858       0.00      0.00      0.00         2\n",
      "PR:000013965       0.00      0.00      0.00         1\n",
      "PR:000014258       1.00      1.00      1.00         3\n",
      "PR:000014364       1.00      1.00      1.00         1\n",
      "PR:000014395       0.50      1.00      0.67         1\n",
      "PR:000014397       1.00      1.00      1.00         2\n",
      "PR:000014434       0.00      0.00      0.00         1\n",
      "PR:000014441       0.94      1.00      0.97        31\n",
      "PR:000014480       0.00      0.00      0.00         1\n",
      "PR:000014662       1.00      1.00      1.00         8\n",
      "PR:000014702       0.00      0.00      0.00         1\n",
      "PR:000014841       1.00      1.00      1.00        22\n",
      "PR:000014925       1.00      1.00      1.00         1\n",
      "PR:000014968       1.00      1.00      1.00        11\n",
      "PR:000015039       1.00      0.96      0.98        23\n",
      "PR:000015124       1.00      1.00      1.00         7\n",
      "PR:000015288       1.00      1.00      1.00         2\n",
      "PR:000015305       0.00      0.00      0.00         1\n",
      "PR:000015308       1.00      1.00      1.00        50\n",
      "PR:000015312       0.00      0.00      0.00         1\n",
      "PR:000015393       1.00      1.00      1.00         1\n",
      "PR:000015399       1.00      1.00      1.00         2\n",
      "PR:000015431       1.00      1.00      1.00         1\n",
      "PR:000015432       1.00      1.00      1.00         3\n",
      "PR:000015435       1.00      1.00      1.00        37\n",
      "PR:000015445       1.00      1.00      1.00         1\n",
      "PR:000015456       1.00      1.00      1.00         1\n",
      "PR:000015553       1.00      1.00      1.00         2\n",
      "PR:000015619       1.00      1.00      1.00         3\n",
      "PR:000015643       1.00      1.00      1.00        11\n",
      "PR:000015706       0.00      0.00      0.00         2\n",
      "PR:000015827       1.00      1.00      1.00         3\n",
      "PR:000015851       0.00      0.00      0.00         1\n",
      "PR:000015862       0.00      0.00      0.00         2\n",
      "PR:000015865       1.00      1.00      1.00         6\n",
      "PR:000016001       0.60      0.75      0.67         4\n",
      "PR:000016006       1.00      1.00      1.00         3\n",
      "PR:000016007       1.00      1.00      1.00         4\n",
      "PR:000016008       1.00      0.94      0.97        16\n",
      "PR:000016043       0.67      1.00      0.80         4\n",
      "PR:000016145       1.00      0.97      0.98        29\n",
      "PR:000016146       1.00      1.00      1.00         1\n",
      "PR:000016150       1.00      1.00      1.00         2\n",
      "PR:000016154       1.00      1.00      1.00         1\n",
      "PR:000016206       1.00      1.00      1.00         2\n",
      "PR:000016321       1.00      1.00      1.00         3\n",
      "PR:000016548       1.00      1.00      1.00         2\n",
      "PR:000016579       0.00      0.00      0.00         1\n",
      "PR:000016585       1.00      1.00      1.00        15\n",
      "PR:000016642       1.00      1.00      1.00        12\n",
      "PR:000016649       1.00      1.00      1.00         6\n",
      "PR:000016652       1.00      1.00      1.00         3\n",
      "PR:000016655       1.00      1.00      1.00        59\n",
      "PR:000016672       0.97      1.00      0.98        32\n",
      "PR:000016871       0.00      0.00      0.00         1\n",
      "PR:000016877       1.00      0.60      0.75         5\n",
      "PR:000016892       0.00      0.00      0.00         1\n",
      "PR:000016899       0.00      0.00      0.00         1\n",
      "PR:000016902       1.00      1.00      1.00         2\n",
      "PR:000017035       0.00      0.00      0.00         1\n",
      "PR:000017104       0.00      0.00      0.00         1\n",
      "PR:000017354       0.00      0.00      0.00         1\n",
      "PR:000017355       0.00      0.00      0.00         1\n",
      "PR:000017370       0.00      0.00      0.00         1\n",
      "PR:000017387       0.00      0.00      0.00         1\n",
      "PR:000017435       0.00      0.00      0.00         1\n",
      "PR:000017443       0.80      1.00      0.89         4\n",
      "PR:000017444       1.00      1.00      1.00        17\n",
      "PR:000017448       1.00      1.00      1.00         2\n",
      "PR:000017452       0.00      0.00      0.00         1\n",
      "PR:000017453       1.00      1.00      1.00         1\n",
      "PR:000017504       1.00      1.00      1.00         3\n",
      "PR:000017527       1.00      1.00      1.00         2\n",
      "PR:000017653       1.00      1.00      1.00        25\n",
      "PR:000018242       0.00      0.00      0.00         2\n",
      "PR:000019036       1.00      1.00      1.00        28\n",
      "PR:000021998       1.00      0.86      0.92        14\n",
      "PR:000022321       1.00      1.00      1.00         2\n",
      "PR:000022850       1.00      1.00      1.00         3\n",
      "PR:000025349       0.00      0.00      0.00         1\n",
      "PR:000025572       0.00      0.00      0.00         1\n",
      "PR:000025583       1.00      1.00      1.00         6\n",
      "PR:000025584       1.00      1.00      1.00         4\n",
      "PR:000025601       1.00      1.00      1.00         1\n",
      "PR:000025662       1.00      1.00      1.00         2\n",
      "PR:000026474       1.00      1.00      1.00         7\n",
      "PR:000026878       1.00      1.00      1.00         1\n",
      "\n",
      " avg / total       1.00      1.00      1.00    115950\n",
      "\n"
     ]
    },
    {
     "name": "stderr",
     "output_type": "stream",
     "text": [
      "/home/sdmohant/.virtualenvs/deeplearn/local/lib/python2.7/site-packages/sklearn/metrics/classification.py:1113: UndefinedMetricWarning: Precision and F-score are ill-defined and being set to 0.0 in labels with no predicted samples.\n",
      "  'precision', 'predicted', average, warn_for)\n",
      "/home/sdmohant/.virtualenvs/deeplearn/local/lib/python2.7/site-packages/sklearn/metrics/classification.py:1115: UndefinedMetricWarning: Recall and F-score are ill-defined and being set to 0.0 in labels with no true samples.\n",
      "  'recall', 'true', average, warn_for)\n"
     ]
    }
   ],
   "source": [
    "from sklearn.metrics import classification_report\n",
    "\n",
    "predicted = model.predict([X_word_te,\n",
    "                        np.array(X_char_te).reshape((len(X_char_te),\n",
    "                                                     max_len, max_len_char))])\n",
    "true = []\n",
    "predicted_val = []\n",
    "word = []\n",
    "for i in range(len(predicted)):\n",
    "    p_tmp = np.argmax(predicted[i], axis=-1)\n",
    "    t_tmp = y_te[i]\n",
    "    word.append(X_word_te[i])\n",
    "    predicted_val.append(p_tmp)\n",
    "    true.append(t_tmp)\n",
    "\n",
    "print word[2]\n",
    "print predicted_val[2]\n",
    "print true[2]\n",
    "\n",
    "wd = [list(map(lambda x: idx2word[x], y)) for y in word]    \n",
    "p = [list(map(lambda x: idx2tag[x], y)) for y in predicted_val]\n",
    "t = [list(map(lambda x: idx2tag[x], y)) for y in true]\n",
    "\n",
    "\n",
    "print wd[2]\n",
    "print p[2]\n",
    "print t[2]\n",
    "\n",
    "report = classification_report(list(itertools.chain.from_iterable(t)), \n",
    "                                    list(itertools.chain.from_iterable(p)))\n",
    "print \"\\n\"\n",
    "print report"
   ]
  },
  {
   "cell_type": "code",
   "execution_count": 24,
   "metadata": {},
   "outputs": [
    {
     "name": "stdout",
     "output_type": "stream",
     "text": [
      "Word           ||True ||Pred\n",
      "==============================\n",
      "TGCs           : O     O\n",
      "pGBKT7         : O     O\n",
      "tree           : O     O\n",
      "insitu         : O     O\n",
      "obstacles      : PR:000009279 PR:000009279\n",
      "Cyto           : O     O\n",
      "bioinformatic  : O     O\n",
      "electrolyte    : O     O\n",
      "BCAA           : O     O\n",
      "erythroid      : O     O\n",
      "tried          : O     O\n",
      "pCRIITOPO      : O     O\n",
      "revealed       : O     O\n",
      "insitu         : O     O\n",
      "unbranched     : O     O\n",
      "rapidly        : O     O\n",
      "Amyloidosis    : O     O\n",
      "Cardiac        : O     O\n",
      "−80          : O     O\n",
      "8p2111         : O     O\n",
      "sitespecific   : O     O\n",
      "WNTs           : O     O\n",
      "unbranched     : O     O\n",
      "UTSW           : O     O\n",
      "Developmental  : O     O\n",
      "180            : O     O\n",
      "8p2111         : O     O\n",
      "Chondrogenesis : O     O\n",
      "BCAA           : O     O\n",
      "Developmental  : O     O\n",
      "GGGAGGGAACAGAAATCCTT: O     O\n",
      "much           : O     O\n"
     ]
    }
   ],
   "source": [
    "i = 300\n",
    "pred = np.argmax(predicted[i], axis=-1)\n",
    "print(\"{:15}||{:5}||{}\".format(\"Word\", \"True\", \"Pred\"))\n",
    "print(30 * \"=\")\n",
    "for w, tr, pred in zip(X_word_te[i], y_te[i], pred):\n",
    "    if w != 0:\n",
    "        print(\"{:15}: {:5} {}\".format(words[w], idx2tag[tr], idx2tag[pred]))\n",
    "\n",
    "# pd = model.predict(np.array([X_te[i]]))\n",
    "# pd = np.argmax(pd, axis=-1)\n",
    "# true = np.argmax(y_te[i], -1)\n",
    "# print(\"{:15}||{:5}||{}\".format(\"Word\", \"True\", \"Pred\"))\n",
    "# print(30 * \"=\")\n",
    "\n",
    "# for w, t1, pred in zip(X_te[i], true, pd[0]):\n",
    "#     if w != 0:\n",
    "#         print(\"{:15}: {:5} {}\".format(words[w-1], tags[t1], tags[pred]))"
   ]
  },
  {
   "cell_type": "code",
   "execution_count": 25,
   "metadata": {
    "collapsed": true
   },
   "outputs": [],
   "source": [
    "import pandas as pd\n",
    "\n",
    "df = pd.DataFrame(\n",
    "{\n",
    "    'Predicted' : list(itertools.chain.from_iterable(p)),\n",
    "    'Ground Truth': list(itertools.chain.from_iterable(t)),\n",
    "    'Word' : list(itertools.chain.from_iterable(wd)),\n",
    "}\n",
    ")\n"
   ]
  },
  {
   "cell_type": "code",
   "execution_count": 26,
   "metadata": {
    "collapsed": true
   },
   "outputs": [],
   "source": [
    "df = df[df['Word'] != 'O']"
   ]
  },
  {
   "cell_type": "code",
   "execution_count": 27,
   "metadata": {
    "collapsed": true
   },
   "outputs": [],
   "source": [
    "df.to_csv('../data/results/PR_CHAR_GRU_Based.tsv', sep='\\t')"
   ]
  },
  {
   "cell_type": "code",
   "execution_count": 28,
   "metadata": {},
   "outputs": [
    {
     "name": "stdout",
     "output_type": "stream",
     "text": [
      "Mean semantic similarity:  0.931\n"
     ]
    },
    {
     "data": {
      "text/plain": [
       "<matplotlib.figure.Figure at 0x7f4e906cc810>"
      ]
     },
     "metadata": {},
     "output_type": "display_data"
    }
   ],
   "source": [
    "%run ./accuracy/src/computeSim.py ../data/results/PR_CHAR_GRU_Based.tsv ../data/validation_data/PR_AllSubsumers.tsv"
   ]
  },
  {
   "cell_type": "code",
   "execution_count": null,
   "metadata": {
    "collapsed": true
   },
   "outputs": [],
   "source": []
  }
 ],
 "metadata": {
  "kernelspec": {
   "display_name": "Python 2",
   "language": "python",
   "name": "python2"
  },
  "language_info": {
   "codemirror_mode": {
    "name": "ipython",
    "version": 2
   },
   "file_extension": ".py",
   "mimetype": "text/x-python",
   "name": "python",
   "nbconvert_exporter": "python",
   "pygments_lexer": "ipython2",
   "version": "2.7.12"
  }
 },
 "nbformat": 4,
 "nbformat_minor": 2
}
