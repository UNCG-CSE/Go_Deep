{
 "cells": [
  {
   "cell_type": "code",
   "execution_count": 1,
   "metadata": {},
   "outputs": [
    {
     "name": "stderr",
     "output_type": "stream",
     "text": [
      "Using TensorFlow backend.\n"
     ]
    }
   ],
   "source": [
    "import json\n",
    "from keras.preprocessing import sequence\n",
    "from keras.models import Sequential\n",
    "from keras.layers.embeddings import Embedding\n",
    "from keras.layers.recurrent import SimpleRNN, GRU, LSTM\n",
    "from keras.layers.core import Dense, Dropout\n",
    "from keras.layers.wrappers import TimeDistributed\n",
    "from keras.layers import Convolution1D, MaxPooling1D\n",
    "import itertools\n",
    "import ast\n",
    "from sklearn.model_selection import train_test_split\n",
    "from sklearn.preprocessing import LabelEncoder\n",
    "from sklearn.metrics import classification_report\n",
    "import numpy as np\n",
    "import os\n",
    "\n",
    "import progressbar\n",
    "\n",
    "import tensorflow as tf\n",
    "os.environ[\"CUDA_DEVICE_ORDER\"] = \"PCI_BUS_ID\"   # see issue #152\n",
    "os.environ[\"CUDA_VISIBLE_DEVICES\"] = \"0\""
   ]
  },
  {
   "cell_type": "code",
   "execution_count": 2,
   "metadata": {
    "collapsed": true
   },
   "outputs": [],
   "source": [
    "import matplotlib.pyplot as plt\n",
    "\n",
    "%matplotlib inline"
   ]
  },
  {
   "cell_type": "code",
   "execution_count": 3,
   "metadata": {
    "collapsed": true
   },
   "outputs": [],
   "source": [
    "def read_data(rootdir):\n",
    "    text_l = []\n",
    "    label_l = []\n",
    "    for subdir, dirs, files in os.walk(rootdir):\n",
    "        for fname in files:\n",
    "            #print os.path.join(subdir, file)\n",
    "            filepath = subdir + os.sep + fname\n",
    "            with open(filepath) as f:\n",
    "                for line1,line2 in itertools.izip_longest(*[f]*2):\n",
    "                    try:\n",
    "                        text = ast.literal_eval(line1)\n",
    "                        label = ast.literal_eval(line2)\n",
    "                        n_labels = set(label)\n",
    "                        if len(text) > 3 and len(n_labels) > 1:\n",
    "                            text_l.append(text)\n",
    "                            label_l.append(label)\n",
    "                    except:\n",
    "                        pass\n",
    "            f.close()\n",
    "    return text_l, label_l"
   ]
  },
  {
   "cell_type": "code",
   "execution_count": 4,
   "metadata": {
    "scrolled": true
   },
   "outputs": [
    {
     "name": "stdout",
     "output_type": "stream",
     "text": [
      "9571 9571\n",
      "{0: 'GO:0000003', 1: 'GO:0000075', 2: 'GO:0000237', 3: 'GO:0000238', 4: 'GO:0000239', 5: 'GO:0000240', 6: 'GO:0000267', 7: 'GO:0000279', 8: 'GO:0000502', 9: 'GO:0000718', 10: 'GO:0000732', 11: 'GO:0000775', 12: 'GO:0000785', 13: 'GO:0000786', 14: 'GO:0000791', 15: 'GO:0000792', 16: 'GO:0000795', 17: 'GO:0000805', 18: 'GO:0000806', 19: 'GO:0000811', 20: 'GO:0001501', 21: 'GO:0001503', 22: 'GO:0001525', 23: 'GO:0001570', 24: 'GO:0001669', 25: 'GO:0001708', 26: 'GO:0001709', 27: 'GO:0001750', 28: 'GO:0001756', 29: 'GO:0001763', 30: 'GO:0001775', 31: 'GO:0001822', 32: 'GO:0001837', 33: 'GO:0001889', 34: 'GO:0001917', 35: 'GO:0001944', 36: 'GO:0001947', 37: 'GO:0001966', 38: 'GO:0001967', 39: 'GO:0002024', 40: 'GO:0002027', 41: 'GO:0002076', 42: 'GO:0003077', 43: 'GO:0005488', 44: 'GO:0005575', 45: 'GO:0005576', 46: 'GO:0005577', 47: 'GO:0005581', 48: 'GO:0005585', 49: 'GO:0005610', 50: 'GO:0005622', 51: 'GO:0005623', 52: 'GO:0005634', 53: 'GO:0005643', 54: 'GO:0005654', 55: 'GO:0005656', 56: 'GO:0005657', 57: 'GO:0005675', 58: 'GO:0005694', 59: 'GO:0005712', 60: 'GO:0005730', 61: 'GO:0005737', 62: 'GO:0005739', 63: 'GO:0005764', 64: 'GO:0005768', 65: 'GO:0005773', 66: 'GO:0005776', 67: 'GO:0005777', 68: 'GO:0005783', 69: 'GO:0005792', 70: 'GO:0005813', 71: 'GO:0005819', 72: 'GO:0005829', 73: 'GO:0005833', 74: 'GO:0005835', 75: 'GO:0005840', 76: 'GO:0005856', 77: 'GO:0005871', 78: 'GO:0005874', 79: 'GO:0005883', 80: 'GO:0005886', 81: 'GO:0005901', 82: 'GO:0005902', 83: 'GO:0005912', 84: 'GO:0005929', 85: 'GO:0005966', 86: 'GO:0006094', 87: 'GO:0006096', 88: 'GO:0006260', 89: 'GO:0006266', 90: 'GO:0006271', 91: 'GO:0006281', 92: 'GO:0006289', 93: 'GO:0006310', 94: 'GO:0006311', 95: 'GO:0006323', 96: 'GO:0006349', 97: 'GO:0006350', 98: 'GO:0006353', 99: 'GO:0006412', 100: 'GO:0006413', 101: 'GO:0006415', 102: 'GO:0006457', 103: 'GO:0006473', 104: 'GO:0006508', 105: 'GO:0006517', 106: 'GO:0006605', 107: 'GO:0006810', 108: 'GO:0006887', 109: 'GO:0006897', 110: 'GO:0006900', 111: 'GO:0006909', 112: 'GO:0006911', 113: 'GO:0006914', 114: 'GO:0006915', 115: 'GO:0006928', 116: 'GO:0006936', 117: 'GO:0006952', 118: 'GO:0006954', 119: 'GO:0007050', 120: 'GO:0007059', 121: 'GO:0007067', 122: 'GO:0007114', 123: 'GO:0007126', 124: 'GO:0007129', 125: 'GO:0007131', 126: 'GO:0007132', 127: 'GO:0007154', 128: 'GO:0007155', 129: 'GO:0007164', 130: 'GO:0007165', 131: 'GO:0007268', 132: 'GO:0007276', 133: 'GO:0007283', 134: 'GO:0007286', 135: 'GO:0007369', 136: 'GO:0007389', 137: 'GO:0007399', 138: 'GO:0007411', 139: 'GO:0007416', 140: 'GO:0007517', 141: 'GO:0007530', 142: 'GO:0007565', 143: 'GO:0007566', 144: 'GO:0007567', 145: 'GO:0007568', 146: 'GO:0007569', 147: 'GO:0007586', 148: 'GO:0007596', 149: 'GO:0007599', 150: 'GO:0007600', 151: 'GO:0007601', 152: 'GO:0007602', 153: 'GO:0007605', 154: 'GO:0007608', 155: 'GO:0007610', 156: 'GO:0007612', 157: 'GO:0007613', 158: 'GO:0007618', 159: 'GO:0007620', 160: 'GO:0007631', 161: 'GO:0008037', 162: 'GO:0008039', 163: 'GO:0008091', 164: 'GO:0008152', 165: 'GO:0008218', 166: 'GO:0008283', 167: 'GO:0008305', 168: 'GO:0008380', 169: 'GO:0008610', 170: 'GO:0009056', 171: 'GO:0009058', 172: 'GO:0009293', 173: 'GO:0009294', 174: 'GO:0009305', 175: 'GO:0009566', 176: 'GO:0009653', 177: 'GO:0009790', 178: 'GO:0009887', 179: 'GO:0009986', 180: 'GO:0010369', 181: 'GO:0010467', 182: 'GO:0012501', 183: 'GO:0014069', 184: 'GO:0016020', 185: 'GO:0016021', 186: 'GO:0016028', 187: 'GO:0016234', 188: 'GO:0016246', 189: 'GO:0016265', 190: 'GO:0016310', 191: 'GO:0016458', 192: 'GO:0016459', 193: 'GO:0016477', 194: 'GO:0016485', 195: 'GO:0016528', 196: 'GO:0016540', 197: 'GO:0016567', 198: 'GO:0017086', 199: 'GO:0018023', 200: 'GO:0018027', 201: 'GO:0018032', 202: 'GO:0018991', 203: 'GO:0019226', 204: 'GO:0019228', 205: 'GO:0019230', 206: 'GO:0019233', 207: 'GO:0019814', 208: 'GO:0019835', 209: 'GO:0019882', 210: 'GO:0020021', 211: 'GO:0021700', 212: 'GO:0022008', 213: 'GO:0022401', 214: 'GO:0022403', 215: 'GO:0022411', 216: 'GO:0022607', 217: 'GO:0022610', 218: 'GO:0022616', 219: 'GO:0030010', 220: 'GO:0030016', 221: 'GO:0030054', 222: 'GO:0030056', 223: 'GO:0030097', 224: 'GO:0030154', 225: 'GO:0030164', 226: 'GO:0030194', 227: 'GO:0030261', 228: 'GO:0030263', 229: 'GO:0030286', 230: 'GO:0030424', 231: 'GO:0030425', 232: 'GO:0030674', 233: 'GO:0030849', 234: 'GO:0030908', 235: 'GO:0031012', 236: 'GO:0031099', 237: 'GO:0031128', 238: 'GO:0031143', 239: 'GO:0031214', 240: 'GO:0031240', 241: 'GO:0031424', 242: 'GO:0031507', 243: 'GO:0031648', 244: 'GO:0031649', 245: 'GO:0031965', 246: 'GO:0031982', 247: 'GO:0032259', 248: 'GO:0032391', 249: 'GO:0032456', 250: 'GO:0032502', 251: 'GO:0032508', 252: 'GO:0032991', 253: 'GO:0033592', 254: 'GO:0035102', 255: 'GO:0035106', 256: 'GO:0035212', 257: 'GO:0035282', 258: 'GO:0035315', 259: 'GO:0040007', 260: 'GO:0040011', 261: 'GO:0042220', 262: 'GO:0042384', 263: 'GO:0042470', 264: 'GO:0042552', 265: 'GO:0042555', 266: 'GO:0042592', 267: 'GO:0042611', 268: 'GO:0042730', 269: 'GO:0042756', 270: 'GO:0042995', 271: 'GO:0043025', 272: 'GO:0043065', 273: 'GO:0043093', 274: 'GO:0043111', 275: 'GO:0043131', 276: 'GO:0043204', 277: 'GO:0043209', 278: 'GO:0043226', 279: 'GO:0043256', 280: 'GO:0043412', 281: 'GO:0043413', 282: 'GO:0043473', 283: 'GO:0043489', 284: 'GO:0043500', 285: 'GO:0043626', 286: 'GO:0043627', 287: 'GO:0043631', 288: 'GO:0043679', 289: 'GO:0045120', 290: 'GO:0045123', 291: 'GO:0045165', 292: 'GO:0045177', 293: 'GO:0045184', 294: 'GO:0045202', 295: 'GO:0045251', 296: 'GO:0045277', 297: 'GO:0045298', 298: 'GO:0045333', 299: 'GO:0045453', 300: 'GO:0046581', 301: 'GO:0046903', 302: 'GO:0046911', 303: 'GO:0046959', 304: 'GO:0046983', 305: 'GO:0048471', 306: 'GO:0048477', 307: 'GO:0048511', 308: 'GO:0048513', 309: 'GO:0048518', 310: 'GO:0048519', 311: 'GO:0048532', 312: 'GO:0048666', 313: 'GO:0048675', 314: 'GO:0048771', 315: 'GO:0048821', 316: 'GO:0050729', 317: 'GO:0050777', 318: 'GO:0050779', 319: 'GO:0050789', 320: 'GO:0050793', 321: 'GO:0050817', 322: 'GO:0050819', 323: 'GO:0050821', 324: 'GO:0050879', 325: 'GO:0050890', 326: 'GO:0050892', 327: 'GO:0050893', 328: 'GO:0050896', 329: 'GO:0050909', 330: 'GO:0050918', 331: 'GO:0050953', 332: 'GO:0050975', 333: 'GO:0051179', 334: 'GO:0051216', 335: 'GO:0051234', 336: 'GO:0051235', 337: 'GO:0051258', 338: 'GO:0051301', 339: 'GO:0051304', 340: 'GO:0051312', 341: 'GO:0051318', 342: 'GO:0051320', 343: 'GO:0051323', 344: 'GO:0051324', 345: 'GO:0051325', 346: 'GO:0051604', 347: 'GO:0051606', 348: 'GO:0051866', 349: 'GO:0051899', 350: 'GO:0060004', 351: 'GO:0060033', 352: 'GO:0060041', 353: 'GO:0060047', 354: 'GO:0060073', 355: 'GO:0065003', 356: 'GO:0065007', 357: 'O', 358: 'independent_continuant'}\n"
     ]
    }
   ],
   "source": [
    "X_text, y_text = read_data('../data/input/GO/merged/')\n",
    "\n",
    "print len(X_text), len(y_text)\n",
    "\n",
    "text = list(set(itertools.chain(*X_text)))\n",
    "\n",
    "le = LabelEncoder()\n",
    "le.fit(text)\n",
    "\n",
    "w2idx = dict(zip(le.classes_, le.transform(le.classes_)))\n",
    "\n",
    "idx2w  = {w2idx[k]:k for k in w2idx}\n",
    "\n",
    "X = []\n",
    "for each in X_text:\n",
    "    X.append(le.transform(each))\n",
    "\n",
    "label = list(set(itertools.chain(*y_text)))\n",
    "\n",
    "le = LabelEncoder()\n",
    "le.fit(label)\n",
    "\n",
    "labels2idx = dict(zip(le.classes_, le.transform(le.classes_)))\n",
    "\n",
    "idx2la = {labels2idx[k]:k for k in labels2idx}\n",
    "\n",
    "y = []\n",
    "for each in y_text:\n",
    "    y.append(le.transform(each))\n",
    "\n",
    "print idx2la\n",
    "\n",
    "X_train, X_test, y_train, y_test = train_test_split(X, y, test_size=0.30, random_state=42)\n",
    "\n",
    "words_val = [ list(map(lambda x: idx2w[x], w)) for w in X_test]\n",
    "groundtruth_val = [ list(map(lambda x: idx2la[x], y)) for y in y_test] # y values test\n",
    "words_train = [ list(map(lambda x: idx2w[x], w)) for w in X_train]\n",
    "groundtruth_train = [ list(map(lambda x: idx2la[x], y)) for y in y_train] # y values train\n",
    "\n",
    "n_classes = len(idx2la)\n",
    "n_vocab = len(idx2w)"
   ]
  },
  {
   "cell_type": "code",
   "execution_count": 5,
   "metadata": {},
   "outputs": [
    {
     "name": "stdout",
     "output_type": "stream",
     "text": [
      "['GO:0000003' 'GO:0000075' 'GO:0000237' 'GO:0000238' 'GO:0000239'\n",
      " 'GO:0000240' 'GO:0000267' 'GO:0000279' 'GO:0000502' 'GO:0000718'\n",
      " 'GO:0000732' 'GO:0000775' 'GO:0000785' 'GO:0000786' 'GO:0000791'\n",
      " 'GO:0000792' 'GO:0000795' 'GO:0000805' 'GO:0000806' 'GO:0000811'\n",
      " 'GO:0001501' 'GO:0001503' 'GO:0001525' 'GO:0001570' 'GO:0001669'\n",
      " 'GO:0001708' 'GO:0001709' 'GO:0001750' 'GO:0001756' 'GO:0001763'\n",
      " 'GO:0001775' 'GO:0001822' 'GO:0001837' 'GO:0001889' 'GO:0001917'\n",
      " 'GO:0001944' 'GO:0001947' 'GO:0001966' 'GO:0001967' 'GO:0002024'\n",
      " 'GO:0002027' 'GO:0002076' 'GO:0003077' 'GO:0005488' 'GO:0005575'\n",
      " 'GO:0005576' 'GO:0005577' 'GO:0005581' 'GO:0005585' 'GO:0005610'\n",
      " 'GO:0005622' 'GO:0005623' 'GO:0005634' 'GO:0005643' 'GO:0005654'\n",
      " 'GO:0005656' 'GO:0005657' 'GO:0005675' 'GO:0005694' 'GO:0005712'\n",
      " 'GO:0005730' 'GO:0005737' 'GO:0005739' 'GO:0005764' 'GO:0005768'\n",
      " 'GO:0005773' 'GO:0005776' 'GO:0005777' 'GO:0005783' 'GO:0005792'\n",
      " 'GO:0005813' 'GO:0005819' 'GO:0005829' 'GO:0005833' 'GO:0005835'\n",
      " 'GO:0005840' 'GO:0005856' 'GO:0005871' 'GO:0005874' 'GO:0005883'\n",
      " 'GO:0005886' 'GO:0005901' 'GO:0005902' 'GO:0005912' 'GO:0005929'\n",
      " 'GO:0005966' 'GO:0006094' 'GO:0006096' 'GO:0006260' 'GO:0006266'\n",
      " 'GO:0006271' 'GO:0006281' 'GO:0006289' 'GO:0006310' 'GO:0006311'\n",
      " 'GO:0006323' 'GO:0006349' 'GO:0006350' 'GO:0006353' 'GO:0006412'\n",
      " 'GO:0006413' 'GO:0006415' 'GO:0006457' 'GO:0006473' 'GO:0006508'\n",
      " 'GO:0006517' 'GO:0006605' 'GO:0006810' 'GO:0006887' 'GO:0006897'\n",
      " 'GO:0006900' 'GO:0006909' 'GO:0006911' 'GO:0006914' 'GO:0006915'\n",
      " 'GO:0006928' 'GO:0006936' 'GO:0006952' 'GO:0006954' 'GO:0007050'\n",
      " 'GO:0007059' 'GO:0007067' 'GO:0007114' 'GO:0007126' 'GO:0007129'\n",
      " 'GO:0007131' 'GO:0007132' 'GO:0007154' 'GO:0007155' 'GO:0007164'\n",
      " 'GO:0007165' 'GO:0007268' 'GO:0007276' 'GO:0007283' 'GO:0007286'\n",
      " 'GO:0007369' 'GO:0007389' 'GO:0007399' 'GO:0007411' 'GO:0007416'\n",
      " 'GO:0007517' 'GO:0007530' 'GO:0007565' 'GO:0007566' 'GO:0007567'\n",
      " 'GO:0007568' 'GO:0007569' 'GO:0007586' 'GO:0007596' 'GO:0007599'\n",
      " 'GO:0007600' 'GO:0007601' 'GO:0007602' 'GO:0007605' 'GO:0007608'\n",
      " 'GO:0007610' 'GO:0007612' 'GO:0007613' 'GO:0007618' 'GO:0007620'\n",
      " 'GO:0007631' 'GO:0008037' 'GO:0008039' 'GO:0008091' 'GO:0008152'\n",
      " 'GO:0008218' 'GO:0008283' 'GO:0008305' 'GO:0008380' 'GO:0008610'\n",
      " 'GO:0009056' 'GO:0009058' 'GO:0009293' 'GO:0009294' 'GO:0009305'\n",
      " 'GO:0009566' 'GO:0009653' 'GO:0009790' 'GO:0009887' 'GO:0009986'\n",
      " 'GO:0010369' 'GO:0010467' 'GO:0012501' 'GO:0014069' 'GO:0016020'\n",
      " 'GO:0016021' 'GO:0016028' 'GO:0016234' 'GO:0016246' 'GO:0016265'\n",
      " 'GO:0016310' 'GO:0016458' 'GO:0016459' 'GO:0016477' 'GO:0016485'\n",
      " 'GO:0016528' 'GO:0016540' 'GO:0016567' 'GO:0017086' 'GO:0018023'\n",
      " 'GO:0018027' 'GO:0018032' 'GO:0018991' 'GO:0019226' 'GO:0019228'\n",
      " 'GO:0019230' 'GO:0019233' 'GO:0019814' 'GO:0019835' 'GO:0019882'\n",
      " 'GO:0020021' 'GO:0021700' 'GO:0022008' 'GO:0022401' 'GO:0022403'\n",
      " 'GO:0022411' 'GO:0022607' 'GO:0022610' 'GO:0022616' 'GO:0030010'\n",
      " 'GO:0030016' 'GO:0030054' 'GO:0030056' 'GO:0030097' 'GO:0030154'\n",
      " 'GO:0030164' 'GO:0030194' 'GO:0030261' 'GO:0030263' 'GO:0030286'\n",
      " 'GO:0030424' 'GO:0030425' 'GO:0030674' 'GO:0030849' 'GO:0030908'\n",
      " 'GO:0031012' 'GO:0031099' 'GO:0031128' 'GO:0031143' 'GO:0031214'\n",
      " 'GO:0031240' 'GO:0031424' 'GO:0031507' 'GO:0031648' 'GO:0031649'\n",
      " 'GO:0031965' 'GO:0031982' 'GO:0032259' 'GO:0032391' 'GO:0032456'\n",
      " 'GO:0032502' 'GO:0032508' 'GO:0032991' 'GO:0033592' 'GO:0035102'\n",
      " 'GO:0035106' 'GO:0035212' 'GO:0035282' 'GO:0035315' 'GO:0040007'\n",
      " 'GO:0040011' 'GO:0042220' 'GO:0042384' 'GO:0042470' 'GO:0042552'\n",
      " 'GO:0042555' 'GO:0042592' 'GO:0042611' 'GO:0042730' 'GO:0042756'\n",
      " 'GO:0042995' 'GO:0043025' 'GO:0043065' 'GO:0043093' 'GO:0043111'\n",
      " 'GO:0043131' 'GO:0043204' 'GO:0043209' 'GO:0043226' 'GO:0043256'\n",
      " 'GO:0043412' 'GO:0043413' 'GO:0043473' 'GO:0043489' 'GO:0043500'\n",
      " 'GO:0043626' 'GO:0043627' 'GO:0043631' 'GO:0043679' 'GO:0045120'\n",
      " 'GO:0045123' 'GO:0045165' 'GO:0045177' 'GO:0045184' 'GO:0045202'\n",
      " 'GO:0045251' 'GO:0045277' 'GO:0045298' 'GO:0045333' 'GO:0045453'\n",
      " 'GO:0046581' 'GO:0046903' 'GO:0046911' 'GO:0046959' 'GO:0046983'\n",
      " 'GO:0048471' 'GO:0048477' 'GO:0048511' 'GO:0048513' 'GO:0048518'\n",
      " 'GO:0048519' 'GO:0048532' 'GO:0048666' 'GO:0048675' 'GO:0048771'\n",
      " 'GO:0048821' 'GO:0050729' 'GO:0050777' 'GO:0050779' 'GO:0050789'\n",
      " 'GO:0050793' 'GO:0050817' 'GO:0050819' 'GO:0050821' 'GO:0050879'\n",
      " 'GO:0050890' 'GO:0050892' 'GO:0050893' 'GO:0050896' 'GO:0050909'\n",
      " 'GO:0050918' 'GO:0050953' 'GO:0050975' 'GO:0051179' 'GO:0051216'\n",
      " 'GO:0051234' 'GO:0051235' 'GO:0051258' 'GO:0051301' 'GO:0051304'\n",
      " 'GO:0051312' 'GO:0051318' 'GO:0051320' 'GO:0051323' 'GO:0051324'\n",
      " 'GO:0051325' 'GO:0051604' 'GO:0051606' 'GO:0051866' 'GO:0051899'\n",
      " 'GO:0060004' 'GO:0060033' 'GO:0060041' 'GO:0060047' 'GO:0060073'\n",
      " 'GO:0065003' 'GO:0065007' 'O' 'independent_continuant']\n"
     ]
    }
   ],
   "source": [
    "print le.classes_"
   ]
  },
  {
   "cell_type": "code",
   "execution_count": 6,
   "metadata": {
    "scrolled": false
   },
   "outputs": [
    {
     "name": "stdout",
     "output_type": "stream",
     "text": [
      "Example sentence : ['Horizontal', 'sections', 'of', 'the', 'indicated', 'genotypes', 'and', 'ages', 'were', 'stained', 'for', 'nuclei', 'DAPI', 'blue', 'and', 'A', 'Sphase', 'antiBrdU', 'red', 'or', 'B', 'apoptosis', 'TUNEL', 'red']\n",
      "Encoded form: [ 4221 15898 13962 16858 12246 11543  8079  7915 17610 16356 11348 13883\n",
      "  2898  8763  8079  1424  6746  8146 15371 14043  1956  8303  7042 15371]\n",
      "\n",
      "It's label : ['O', 'O', 'O', 'O', 'O', 'O', 'O', 'O', 'O', 'O', 'O', 'GO:0005634', 'O', 'O', 'O', 'O', 'O', 'O', 'O', 'O', 'O', 'GO:0006915', 'O', 'O']\n",
      "Encoded form: [357 357 357 357 357 357 357 357 357 357 357  52 357 357 357 357 357 357\n",
      " 357 357 357 114 357 357]\n"
     ]
    }
   ],
   "source": [
    "print(\"Example sentence : {}\".format(words_train[0]))\n",
    "print(\"Encoded form: {}\".format(X_train[0]))\n",
    "print \n",
    "print(\"It's label : {}\".format(groundtruth_train[0]))\n",
    "print(\"Encoded form: {}\".format(y_train[0]))"
   ]
  },
  {
   "cell_type": "markdown",
   "metadata": {},
   "source": [
    "## RNN Based"
   ]
  },
  {
   "cell_type": "code",
   "execution_count": 7,
   "metadata": {
    "collapsed": true
   },
   "outputs": [],
   "source": [
    "model = Sequential()\n",
    "model.add(Embedding(n_vocab,100))\n",
    "model.add(Dropout(0.25))\n",
    "model.add(SimpleRNN(200,return_sequences=True))\n",
    "model.add(TimeDistributed(Dense(n_classes, activation='softmax')))\n",
    "model.compile('rmsprop', 'categorical_crossentropy')"
   ]
  },
  {
   "cell_type": "code",
   "execution_count": 8,
   "metadata": {
    "scrolled": true
   },
   "outputs": [
    {
     "name": "stdout",
     "output_type": "stream",
     "text": [
      "Epoch 0\n",
      "Training =>\n"
     ]
    },
    {
     "name": "stderr",
     "output_type": "stream",
     "text": [
      "100% |########################################################################|\n",
      "  0% |                                                                        |\r"
     ]
    },
    {
     "name": "stdout",
     "output_type": "stream",
     "text": [
      "Validating =>\n"
     ]
    },
    {
     "name": "stderr",
     "output_type": "stream",
     "text": [
      "100% |########################################################################|\n",
      "  0% |                                                                        |\r"
     ]
    },
    {
     "name": "stdout",
     "output_type": "stream",
     "text": [
      "Epoch 1\n",
      "Training =>\n"
     ]
    },
    {
     "name": "stderr",
     "output_type": "stream",
     "text": [
      "100% |########################################################################|\n",
      "  0% |                                                                        |\r"
     ]
    },
    {
     "name": "stdout",
     "output_type": "stream",
     "text": [
      "Validating =>\n"
     ]
    },
    {
     "name": "stderr",
     "output_type": "stream",
     "text": [
      "100% |########################################################################|\n",
      "  0% |                                                                        |\r"
     ]
    },
    {
     "name": "stdout",
     "output_type": "stream",
     "text": [
      "Epoch 2\n",
      "Training =>\n"
     ]
    },
    {
     "name": "stderr",
     "output_type": "stream",
     "text": [
      "100% |########################################################################|\n",
      "  0% |                                                                        |\r"
     ]
    },
    {
     "name": "stdout",
     "output_type": "stream",
     "text": [
      "Validating =>\n"
     ]
    },
    {
     "name": "stderr",
     "output_type": "stream",
     "text": [
      "100% |########################################################################|\n",
      "  0% |                                                                        |\r"
     ]
    },
    {
     "name": "stdout",
     "output_type": "stream",
     "text": [
      "Epoch 3\n",
      "Training =>\n"
     ]
    },
    {
     "name": "stderr",
     "output_type": "stream",
     "text": [
      "100% |########################################################################|\n",
      "  0% |                                                                        |\r"
     ]
    },
    {
     "name": "stdout",
     "output_type": "stream",
     "text": [
      "Validating =>\n"
     ]
    },
    {
     "name": "stderr",
     "output_type": "stream",
     "text": [
      "100% |########################################################################|\n",
      "  0% |                                                                        |\r"
     ]
    },
    {
     "name": "stdout",
     "output_type": "stream",
     "text": [
      "Epoch 4\n",
      "Training =>\n"
     ]
    },
    {
     "name": "stderr",
     "output_type": "stream",
     "text": [
      "100% |########################################################################|\n",
      "  0% |                                                                        |\r"
     ]
    },
    {
     "name": "stdout",
     "output_type": "stream",
     "text": [
      "Validating =>\n"
     ]
    },
    {
     "name": "stderr",
     "output_type": "stream",
     "text": [
      "100% |########################################################################|\n",
      "  0% |                                                                        |\r"
     ]
    },
    {
     "name": "stdout",
     "output_type": "stream",
     "text": [
      "Epoch 5\n",
      "Training =>\n"
     ]
    },
    {
     "name": "stderr",
     "output_type": "stream",
     "text": [
      "100% |########################################################################|\n",
      "  0% |                                                                        |\r"
     ]
    },
    {
     "name": "stdout",
     "output_type": "stream",
     "text": [
      "Validating =>\n"
     ]
    },
    {
     "name": "stderr",
     "output_type": "stream",
     "text": [
      "100% |########################################################################|\n",
      "  0% |                                                                        |\r"
     ]
    },
    {
     "name": "stdout",
     "output_type": "stream",
     "text": [
      "Epoch 6\n",
      "Training =>\n"
     ]
    },
    {
     "name": "stderr",
     "output_type": "stream",
     "text": [
      "100% |########################################################################|\n",
      "  0% |                                                                        |\r"
     ]
    },
    {
     "name": "stdout",
     "output_type": "stream",
     "text": [
      "Validating =>\n"
     ]
    },
    {
     "name": "stderr",
     "output_type": "stream",
     "text": [
      "100% |########################################################################|\n",
      "  0% |                                                                        |\r"
     ]
    },
    {
     "name": "stdout",
     "output_type": "stream",
     "text": [
      "Epoch 7\n",
      "Training =>\n"
     ]
    },
    {
     "name": "stderr",
     "output_type": "stream",
     "text": [
      "100% |########################################################################|\n",
      "  0% |                                                                        |\r"
     ]
    },
    {
     "name": "stdout",
     "output_type": "stream",
     "text": [
      "Validating =>\n"
     ]
    },
    {
     "name": "stderr",
     "output_type": "stream",
     "text": [
      "100% |########################################################################|\n",
      "  0% |                                                                        |\r"
     ]
    },
    {
     "name": "stdout",
     "output_type": "stream",
     "text": [
      "Epoch 8\n",
      "Training =>\n"
     ]
    },
    {
     "name": "stderr",
     "output_type": "stream",
     "text": [
      "100% |########################################################################|\n",
      "  0% |                                                                        |\r"
     ]
    },
    {
     "name": "stdout",
     "output_type": "stream",
     "text": [
      "Validating =>\n"
     ]
    },
    {
     "name": "stderr",
     "output_type": "stream",
     "text": [
      "100% |########################################################################|\n",
      "  0% |                                                                        |\r"
     ]
    },
    {
     "name": "stdout",
     "output_type": "stream",
     "text": [
      "Epoch 9\n",
      "Training =>\n"
     ]
    },
    {
     "name": "stderr",
     "output_type": "stream",
     "text": [
      "100% |########################################################################|\n",
      "  0% |                                                                        |\r"
     ]
    },
    {
     "name": "stdout",
     "output_type": "stream",
     "text": [
      "Validating =>\n"
     ]
    },
    {
     "name": "stderr",
     "output_type": "stream",
     "text": [
      "100% |########################################################################|\n"
     ]
    }
   ],
   "source": [
    "### Training\n",
    "n_epochs = 10\n",
    "\n",
    "train_loss = []\n",
    "val_loss = []\n",
    "\n",
    "for i in range(n_epochs):\n",
    "    print(\"Epoch {}\".format(i))\n",
    "    \n",
    "    print(\"Training =>\")\n",
    "    train_pred_label = []\n",
    "    avgLoss = 0\n",
    "\n",
    "\n",
    "    bar = progressbar.ProgressBar(maxval=len(X_train))\n",
    "    for n_batch, sent in bar(enumerate(X_train)):\n",
    "        label = y_train[n_batch]\n",
    "        label = np.eye(n_classes)[label][np.newaxis,:]\n",
    "        sent = sent[np.newaxis,:]\n",
    "\n",
    "        if sent.shape[1] > 1: #some bug in keras\n",
    "            loss = model.train_on_batch(sent, label)\n",
    "            avgLoss += loss\n",
    "\n",
    "        pred = model.predict_on_batch(sent)\n",
    "        pred = np.argmax(pred,-1)[0]\n",
    "        train_pred_label.append(pred)\n",
    "\n",
    "    avgLoss = avgLoss/n_batch\n",
    "    train_loss.append(avgLoss)\n",
    "    \n",
    "    \n",
    "    predword_train = [ list(map(lambda x: idx2la[x], y)) for y in train_pred_label]\n",
    "    \n",
    "    print(\"Validating =>\")\n",
    "    \n",
    "    val_pred_label = []\n",
    "    avgLoss = 0\n",
    "    \n",
    "    bar = progressbar.ProgressBar(maxval=len(X_test))\n",
    "    for n_batch, sent in bar(enumerate(X_test)):\n",
    "        label = y_test[n_batch]\n",
    "        label = np.eye(n_classes)[label][np.newaxis,:]\n",
    "        sent = sent[np.newaxis,:]\n",
    "        \n",
    "        if sent.shape[1] > 1: #some bug in keras\n",
    "            loss = model.test_on_batch(sent, label)\n",
    "            avgLoss += loss\n",
    "\n",
    "        pred = model.predict_on_batch(sent)\n",
    "        pred = np.argmax(pred,-1)[0]\n",
    "        val_pred_label.append(pred)\n",
    "\n",
    "    avgLoss = avgLoss/n_batch\n",
    "    val_loss.append(avgLoss)\n",
    "    predword_val = [ list(map(lambda x: idx2la[x], y)) for y in val_pred_label]\n",
    "\n"
   ]
  },
  {
   "cell_type": "code",
   "execution_count": 9,
   "metadata": {},
   "outputs": [
    {
     "data": {
      "image/png": "[encoded data removed]",
      "text/plain": [
       "<matplotlib.figure.Figure at 0x7f7193bc3cd0>"
      ]
     },
     "metadata": {},
     "output_type": "display_data"
    }
   ],
   "source": [
    "import matplotlib.pyplot as plt\n",
    "plt.style.use(\"ggplot\")\n",
    "plt.figure(figsize=(12,12))\n",
    "plt.plot(train_loss, label='Training Loss')\n",
    "plt.plot(val_loss, label='Validation Loss')\n",
    "plt.show()"
   ]
  },
  {
   "cell_type": "code",
   "execution_count": 10,
   "metadata": {
    "scrolled": true
   },
   "outputs": [
    {
     "name": "stdout",
     "output_type": "stream",
     "text": [
      "                        precision    recall  f1-score   support\n",
      "\n",
      "            GO:0000003       0.61      0.50      0.55       133\n",
      "            GO:0000075       0.00      0.00      0.00        13\n",
      "            GO:0000237       0.00      0.00      0.00         3\n",
      "            GO:0000238       0.00      0.00      0.00         2\n",
      "            GO:0000239       0.95      0.88      0.91        24\n",
      "            GO:0000240       0.00      0.00      0.00        16\n",
      "            GO:0000267       0.00      0.00      0.00         8\n",
      "            GO:0000718       0.00      0.00      0.00         1\n",
      "            GO:0000732       0.00      0.00      0.00         9\n",
      "            GO:0000775       0.00      0.00      0.00         5\n",
      "            GO:0000785       0.97      0.94      0.96        35\n",
      "            GO:0000786       0.00      0.00      0.00         5\n",
      "            GO:0000791       0.00      0.00      0.00         2\n",
      "            GO:0000792       1.00      1.00      1.00        21\n",
      "            GO:0000795       0.00      0.00      0.00         1\n",
      "            GO:0000805       0.00      0.00      0.00         8\n",
      "            GO:0000806       0.00      0.00      0.00         3\n",
      "            GO:0001501       0.00      0.00      0.00         1\n",
      "            GO:0001503       0.00      0.00      0.00         7\n",
      "            GO:0001708       0.00      0.00      0.00         3\n",
      "            GO:0001709       0.00      0.00      0.00         1\n",
      "            GO:0001750       0.00      0.00      0.00         2\n",
      "            GO:0001763       0.00      0.00      0.00         9\n",
      "            GO:0001775       0.00      0.00      0.00        13\n",
      "            GO:0001822       0.00      0.00      0.00         3\n",
      "            GO:0001917       0.00      0.00      0.00        10\n",
      "            GO:0003077       0.00      0.00      0.00         1\n",
      "            GO:0005488       0.86      0.96      0.91        52\n",
      "            GO:0005576       0.00      0.00      0.00         8\n",
      "            GO:0005577       0.00      0.00      0.00         3\n",
      "            GO:0005581       0.00      0.00      0.00         6\n",
      "            GO:0005585       0.00      0.00      0.00         2\n",
      "            GO:0005610       0.00      0.00      0.00         1\n",
      "            GO:0005622       0.00      0.00      0.00         3\n",
      "            GO:0005623       1.00      1.00      1.00       907\n",
      "            GO:0005634       0.97      0.97      0.97       120\n",
      "            GO:0005643       0.00      0.00      0.00         3\n",
      "            GO:0005654       0.00      0.00      0.00         2\n",
      "            GO:0005656       0.00      0.00      0.00         1\n",
      "            GO:0005657       0.00      0.00      0.00         5\n",
      "            GO:0005675       0.00      0.00      0.00         8\n",
      "            GO:0005694       0.98      1.00      0.99       119\n",
      "            GO:0005712       0.00      0.00      0.00         1\n",
      "            GO:0005730       0.00      0.00      0.00         3\n",
      "            GO:0005737       1.00      0.20      0.33        20\n",
      "            GO:0005739       1.00      0.95      0.97        40\n",
      "            GO:0005764       0.00      0.00      0.00         5\n",
      "            GO:0005768       0.00      0.00      0.00         2\n",
      "            GO:0005773       0.00      0.00      0.00         1\n",
      "            GO:0005777       0.00      0.00      0.00         2\n",
      "            GO:0005783       0.00      0.00      0.00         5\n",
      "            GO:0005813       0.00      0.00      0.00         3\n",
      "            GO:0005819       0.00      0.00      0.00         2\n",
      "            GO:0005829       0.00      0.00      0.00         7\n",
      "            GO:0005835       0.00      0.00      0.00         1\n",
      "            GO:0005840       0.00      0.00      0.00         6\n",
      "            GO:0005856       0.00      0.00      0.00         6\n",
      "            GO:0005874       0.00      0.00      0.00         3\n",
      "            GO:0005883       0.00      0.00      0.00         1\n",
      "            GO:0005886       0.00      0.00      0.00         1\n",
      "            GO:0005902       0.00      0.00      0.00         1\n",
      "            GO:0005912       0.00      0.00      0.00         9\n",
      "            GO:0005929       0.00      0.00      0.00         4\n",
      "            GO:0006094       0.00      0.00      0.00         2\n",
      "            GO:0006096       0.00      0.00      0.00         3\n",
      "            GO:0006260       0.00      0.00      0.00        16\n",
      "            GO:0006266       0.00      0.00      0.00         3\n",
      "            GO:0006281       0.87      0.96      0.91        27\n",
      "            GO:0006289       0.00      0.00      0.00         1\n",
      "            GO:0006310       0.92      0.90      0.91        68\n",
      "            GO:0006311       0.00      0.00      0.00         3\n",
      "            GO:0006349       0.00      0.00      0.00         6\n",
      "            GO:0006350       0.80      0.97      0.88        74\n",
      "            GO:0006353       0.00      0.00      0.00         1\n",
      "            GO:0006412       0.00      0.00      0.00         5\n",
      "            GO:0006413       0.00      0.00      0.00         3\n",
      "            GO:0006415       0.00      0.00      0.00         9\n",
      "            GO:0006473       0.00      0.00      0.00         3\n",
      "            GO:0006508       0.00      0.00      0.00         2\n",
      "            GO:0006517       0.00      0.00      0.00         1\n",
      "            GO:0006605       0.00      0.00      0.00         4\n",
      "            GO:0006810       0.00      0.00      0.00        15\n",
      "            GO:0006887       0.00      0.00      0.00         1\n",
      "            GO:0006897       0.00      0.00      0.00         2\n",
      "            GO:0006900       0.00      0.00      0.00         1\n",
      "            GO:0006909       0.00      0.00      0.00         7\n",
      "            GO:0006911       0.00      0.00      0.00         6\n",
      "            GO:0006915       0.98      0.94      0.96        64\n",
      "            GO:0006928       0.00      0.00      0.00         2\n",
      "            GO:0006936       0.00      0.00      0.00         2\n",
      "            GO:0006952       0.00      0.00      0.00         2\n",
      "            GO:0006954       0.00      0.00      0.00         4\n",
      "            GO:0007050       0.00      0.00      0.00        12\n",
      "            GO:0007067       0.00      0.00      0.00        13\n",
      "            GO:0007114       0.00      0.00      0.00         3\n",
      "            GO:0007126       0.96      0.81      0.88        27\n",
      "            GO:0007129       0.00      0.00      0.00        13\n",
      "            GO:0007131       0.00      0.00      0.00         1\n",
      "            GO:0007155       0.00      0.00      0.00         1\n",
      "            GO:0007164       0.00      0.00      0.00         2\n",
      "            GO:0007165       0.89      0.96      0.92        81\n",
      "            GO:0007276       0.00      0.00      0.00         1\n",
      "            GO:0007369       0.00      0.00      0.00         2\n",
      "            GO:0007389       0.81      0.87      0.84        15\n",
      "            GO:0007399       0.00      0.00      0.00         1\n",
      "            GO:0007411       0.00      0.00      0.00         2\n",
      "            GO:0007416       0.00      0.00      0.00         2\n",
      "            GO:0007517       0.00      0.00      0.00         6\n",
      "            GO:0007530       0.00      0.00      0.00         1\n",
      "            GO:0007565       0.00      0.00      0.00        22\n",
      "            GO:0007566       0.00      0.00      0.00         3\n",
      "            GO:0007567       0.97      0.97      0.97        40\n",
      "            GO:0007568       0.00      0.00      0.00        15\n",
      "            GO:0007569       0.00      0.00      0.00         1\n",
      "            GO:0007596       0.00      0.00      0.00         9\n",
      "            GO:0007599       0.00      0.00      0.00         3\n",
      "            GO:0007600       1.00      1.00      1.00        25\n",
      "            GO:0007601       0.00      0.00      0.00         3\n",
      "            GO:0007602       0.00      0.00      0.00         2\n",
      "            GO:0007608       0.99      0.99      0.99       104\n",
      "            GO:0007610       1.00      0.52      0.68        27\n",
      "            GO:0007612       1.00      0.89      0.94        35\n",
      "            GO:0007613       1.00      1.00      1.00        40\n",
      "            GO:0007618       0.97      0.79      0.87        42\n",
      "            GO:0007631       0.00      0.00      0.00        16\n",
      "            GO:0008037       0.00      0.00      0.00         4\n",
      "            GO:0008091       0.00      0.00      0.00         1\n",
      "            GO:0008152       0.92      0.92      0.92        25\n",
      "            GO:0008283       0.70      0.78      0.74        36\n",
      "            GO:0008305       0.00      0.00      0.00         2\n",
      "            GO:0008380       0.95      0.95      0.95        19\n",
      "            GO:0008610       0.00      0.00      0.00         1\n",
      "            GO:0009056       0.95      0.80      0.87        25\n",
      "            GO:0009058       0.43      0.63      0.51       115\n",
      "            GO:0009293       0.00      0.00      0.00         3\n",
      "            GO:0009294       1.00      0.88      0.93        24\n",
      "            GO:0009305       0.00      0.00      0.00         3\n",
      "            GO:0009566       0.00      0.00      0.00         4\n",
      "            GO:0009653       0.00      0.00      0.00        14\n",
      "            GO:0009790       1.00      0.91      0.95        11\n",
      "            GO:0009887       0.00      0.00      0.00         1\n",
      "            GO:0009986       0.00      0.00      0.00         9\n",
      "            GO:0010369       0.00      0.00      0.00         1\n",
      "            GO:0010467       0.99      0.99      0.99       609\n",
      "            GO:0012501       0.00      0.00      0.00         3\n",
      "            GO:0014069       0.00      0.00      0.00         1\n",
      "            GO:0016020       0.70      0.94      0.80        47\n",
      "            GO:0016021       0.00      0.00      0.00         8\n",
      "            GO:0016234       0.00      0.00      0.00         2\n",
      "            GO:0016246       0.00      0.00      0.00         6\n",
      "            GO:0016265       0.89      0.90      0.90        62\n",
      "            GO:0016310       0.00      0.00      0.00         5\n",
      "            GO:0016458       0.00      0.00      0.00         7\n",
      "            GO:0016477       0.00      0.00      0.00         9\n",
      "            GO:0016485       0.00      0.00      0.00         8\n",
      "            GO:0016528       0.00      0.00      0.00         1\n",
      "            GO:0016540       0.00      0.00      0.00         2\n",
      "            GO:0017086       0.00      0.00      0.00        11\n",
      "            GO:0018023       0.00      0.00      0.00         1\n",
      "            GO:0018032       0.00      0.00      0.00         1\n",
      "            GO:0019226       0.00      0.00      0.00         1\n",
      "            GO:0019230       1.00      0.54      0.70        24\n",
      "            GO:0019814       1.00      0.96      0.98       164\n",
      "            GO:0019835       0.00      0.00      0.00         9\n",
      "            GO:0019882       0.00      0.00      0.00         1\n",
      "            GO:0021700       0.00      0.00      0.00        14\n",
      "            GO:0022008       0.00      0.00      0.00         2\n",
      "            GO:0022401       0.00      0.00      0.00         1\n",
      "            GO:0022403       0.00      0.00      0.00         3\n",
      "            GO:0022411       0.00      0.00      0.00         3\n",
      "            GO:0022607       0.50      0.05      0.09        40\n",
      "            GO:0022610       0.00      0.00      0.00        10\n",
      "            GO:0022616       0.00      0.00      0.00         3\n",
      "            GO:0030010       0.00      0.00      0.00         2\n",
      "            GO:0030016       0.00      0.00      0.00         1\n",
      "            GO:0030054       0.00      0.00      0.00         4\n",
      "            GO:0030056       0.00      0.00      0.00         1\n",
      "            GO:0030097       1.00      0.65      0.79        23\n",
      "            GO:0030154       0.94      1.00      0.97       104\n",
      "            GO:0030164       0.00      0.00      0.00         1\n",
      "            GO:0030261       0.00      0.00      0.00         1\n",
      "            GO:0030263       0.00      0.00      0.00         1\n",
      "            GO:0030424       1.00      0.77      0.87        39\n",
      "            GO:0030425       0.00      0.00      0.00         4\n",
      "            GO:0030674       0.00      0.00      0.00         2\n",
      "            GO:0030849       0.00      0.00      0.00         8\n",
      "            GO:0030908       0.00      0.00      0.00         3\n",
      "            GO:0031012       0.00      0.00      0.00         9\n",
      "            GO:0031128       0.00      0.00      0.00        15\n",
      "            GO:0031214       0.00      0.00      0.00         6\n",
      "            GO:0031424       0.00      0.00      0.00         1\n",
      "            GO:0031649       0.00      0.00      0.00         3\n",
      "            GO:0031982       0.00      0.00      0.00         8\n",
      "            GO:0032259       0.00      0.00      0.00         5\n",
      "            GO:0032502       0.84      0.80      0.82       341\n",
      "            GO:0032508       1.00      0.53      0.70        15\n",
      "            GO:0032991       0.00      0.00      0.00        22\n",
      "            GO:0033592       1.00      0.96      0.98        91\n",
      "            GO:0035102       0.00      0.00      0.00         4\n",
      "            GO:0035106       0.00      0.00      0.00         2\n",
      "            GO:0035212       0.00      0.00      0.00         1\n",
      "            GO:0035282       0.00      0.00      0.00         1\n",
      "            GO:0035315       0.00      0.00      0.00         2\n",
      "            GO:0040007       0.87      0.86      0.87        64\n",
      "            GO:0040011       0.00      0.00      0.00        10\n",
      "            GO:0042220       0.00      0.00      0.00         3\n",
      "            GO:0042384       0.00      0.00      0.00         2\n",
      "            GO:0042552       0.00      0.00      0.00         2\n",
      "            GO:0042555       1.00      0.89      0.94        18\n",
      "            GO:0042592       0.00      0.00      0.00         2\n",
      "            GO:0042611       0.00      0.00      0.00         3\n",
      "            GO:0042730       0.00      0.00      0.00         1\n",
      "            GO:0042995       0.00      0.00      0.00        13\n",
      "            GO:0043025       0.00      0.00      0.00         4\n",
      "            GO:0043065       0.00      0.00      0.00         1\n",
      "            GO:0043093       0.00      0.00      0.00         1\n",
      "            GO:0043111       0.00      0.00      0.00         1\n",
      "            GO:0043131       0.00      0.00      0.00         1\n",
      "            GO:0043209       0.00      0.00      0.00         6\n",
      "            GO:0043226       0.00      0.00      0.00         2\n",
      "            GO:0043256       0.00      0.00      0.00         1\n",
      "            GO:0043412       0.00      0.00      0.00         7\n",
      "            GO:0043413       0.00      0.00      0.00         2\n",
      "            GO:0043473       0.89      1.00      0.94         8\n",
      "            GO:0043626       0.00      0.00      0.00         5\n",
      "            GO:0043631       0.00      0.00      0.00         2\n",
      "            GO:0043679       0.00      0.00      0.00         9\n",
      "            GO:0045120       0.00      0.00      0.00         3\n",
      "            GO:0045165       0.00      0.00      0.00         2\n",
      "            GO:0045177       0.00      0.00      0.00        11\n",
      "            GO:0045184       0.00      0.00      0.00         1\n",
      "            GO:0045202       0.00      0.00      0.00        11\n",
      "            GO:0045277       0.00      0.00      0.00         1\n",
      "            GO:0045298       0.00      0.00      0.00         4\n",
      "            GO:0045333       0.00      0.00      0.00        12\n",
      "            GO:0045453       0.00      0.00      0.00         1\n",
      "            GO:0046581       0.00      0.00      0.00         1\n",
      "            GO:0046903       1.00      0.59      0.75        32\n",
      "            GO:0048471       0.00      0.00      0.00        10\n",
      "            GO:0048513       0.00      0.00      0.00         1\n",
      "            GO:0048518       0.77      0.67      0.72        49\n",
      "            GO:0048519       0.93      0.85      0.89        65\n",
      "            GO:0048532       0.00      0.00      0.00         8\n",
      "            GO:0048666       0.00      0.00      0.00         5\n",
      "            GO:0048675       0.00      0.00      0.00         1\n",
      "            GO:0048771       0.00      0.00      0.00         5\n",
      "            GO:0048821       0.00      0.00      0.00         5\n",
      "            GO:0050729       0.00      0.00      0.00         1\n",
      "            GO:0050777       0.00      0.00      0.00         1\n",
      "            GO:0050793       0.00      0.00      0.00         1\n",
      "            GO:0050817       0.00      0.00      0.00         4\n",
      "            GO:0050821       0.00      0.00      0.00         2\n",
      "            GO:0050879       1.00      0.67      0.80        24\n",
      "            GO:0050890       0.00      0.00      0.00         1\n",
      "            GO:0050896       0.96      0.78      0.86        58\n",
      "            GO:0050909       1.00      0.43      0.60        21\n",
      "            GO:0050918       0.00      0.00      0.00         5\n",
      "            GO:0050953       0.00      0.00      0.00         2\n",
      "            GO:0051179       0.87      0.87      0.87        83\n",
      "            GO:0051216       0.00      0.00      0.00         6\n",
      "            GO:0051234       0.00      0.00      0.00         4\n",
      "            GO:0051235       0.00      0.00      0.00         3\n",
      "            GO:0051258       0.00      0.00      0.00         2\n",
      "            GO:0051301       0.00      0.00      0.00        17\n",
      "            GO:0051312       0.00      0.00      0.00         2\n",
      "            GO:0051318       0.00      0.00      0.00         1\n",
      "            GO:0051320       0.00      0.00      0.00         1\n",
      "            GO:0051323       0.00      0.00      0.00         1\n",
      "            GO:0051324       0.00      0.00      0.00         2\n",
      "            GO:0051325       0.00      0.00      0.00         1\n",
      "            GO:0051606       0.00      0.00      0.00         6\n",
      "            GO:0060004       0.00      0.00      0.00         1\n",
      "            GO:0060033       0.00      0.00      0.00         2\n",
      "            GO:0060073       0.00      0.00      0.00         2\n",
      "            GO:0065007       0.79      0.85      0.82       169\n",
      "                     O       0.98      1.00      0.99     65525\n",
      "independent_continuant       0.93      0.87      0.90       358\n",
      "\n",
      "           avg / total       0.96      0.98      0.97     71387\n",
      "\n"
     ]
    },
    {
     "name": "stderr",
     "output_type": "stream",
     "text": [
      "/home/sdmohant/.virtualenvs/deeplearn/local/lib/python2.7/site-packages/sklearn/metrics/classification.py:1113: UndefinedMetricWarning: Precision and F-score are ill-defined and being set to 0.0 in labels with no predicted samples.\n",
      "  'precision', 'predicted', average, warn_for)\n"
     ]
    }
   ],
   "source": [
    "print classification_report(list(itertools.chain.from_iterable(groundtruth_val)), \n",
    "                            list(itertools.chain.from_iterable(predword_val)))"
   ]
  },
  {
   "cell_type": "code",
   "execution_count": 11,
   "metadata": {
    "collapsed": true
   },
   "outputs": [],
   "source": [
    "import pandas as pd\n",
    "\n",
    "df1 = pd.DataFrame(\n",
    "{\n",
    "    'Predicted' : list(itertools.chain.from_iterable(predword_val)),\n",
    "    'Ground Truth': list(itertools.chain.from_iterable(groundtruth_val))\n",
    "}\n",
    ")"
   ]
  },
  {
   "cell_type": "code",
   "execution_count": 12,
   "metadata": {
    "collapsed": true
   },
   "outputs": [],
   "source": [
    "df1.to_csv('../data/results/GO_merged_RNN_Based.tsv', sep='\\t')"
   ]
  },
  {
   "cell_type": "code",
   "execution_count": 13,
   "metadata": {},
   "outputs": [
    {
     "name": "stdout",
     "output_type": "stream",
     "text": [
      "Mean semantic similarity:  0.717\n"
     ]
    },
    {
     "data": {
      "text/plain": [
       "<matplotlib.figure.Figure at 0x7f7200aed710>"
      ]
     },
     "metadata": {},
     "output_type": "display_data"
    }
   ],
   "source": [
    "%run ./accuracy/src/computeSim.py ../data/results/GO_merged_RNN_Based.tsv ../data/validation_data/GO_AllSubsumers.tsv"
   ]
  },
  {
   "cell_type": "markdown",
   "metadata": {},
   "source": [
    "## GRU Based"
   ]
  },
  {
   "cell_type": "code",
   "execution_count": 16,
   "metadata": {},
   "outputs": [
    {
     "name": "stdout",
     "output_type": "stream",
     "text": [
      "Build model...\n"
     ]
    },
    {
     "name": "stderr",
     "output_type": "stream",
     "text": [
      "/home/sdmohant/.virtualenvs/deeplearn/lib/python2.7/site-packages/ipykernel_launcher.py:4: UserWarning: Update your `Conv1D` call to the Keras 2 API: `Conv1D(64, 5, padding=\"same\", activation=\"relu\")`\n",
      "  after removing the cwd from sys.path.\n"
     ]
    }
   ],
   "source": [
    "print('Build model...')\n",
    "model = Sequential()\n",
    "model.add(Embedding(n_vocab,100))\n",
    "model.add(Convolution1D(64,5,border_mode='same', activation='relu'))\n",
    "model.add(Dropout(0.25))\n",
    "model.add(GRU(200,return_sequences=True))\n",
    "model.add(TimeDistributed(Dense(n_classes, activation='softmax')))\n",
    "model.compile('rmsprop', 'categorical_crossentropy')"
   ]
  },
  {
   "cell_type": "code",
   "execution_count": 17,
   "metadata": {
    "scrolled": true
   },
   "outputs": [
    {
     "name": "stdout",
     "output_type": "stream",
     "text": [
      "Epoch 0\n",
      "Training =>\n"
     ]
    },
    {
     "name": "stderr",
     "output_type": "stream",
     "text": [
      "100% |########################################################################|\n",
      "  0% |                                                                        |\r"
     ]
    },
    {
     "name": "stdout",
     "output_type": "stream",
     "text": [
      "Validating =>\n"
     ]
    },
    {
     "name": "stderr",
     "output_type": "stream",
     "text": [
      "100% |########################################################################|\n",
      "  0% |                                                                        |\r"
     ]
    },
    {
     "name": "stdout",
     "output_type": "stream",
     "text": [
      "Epoch 1\n",
      "Training =>\n"
     ]
    },
    {
     "name": "stderr",
     "output_type": "stream",
     "text": [
      "100% |########################################################################|\n",
      "  0% |                                                                        |\r"
     ]
    },
    {
     "name": "stdout",
     "output_type": "stream",
     "text": [
      "Validating =>\n"
     ]
    },
    {
     "name": "stderr",
     "output_type": "stream",
     "text": [
      "100% |########################################################################|\n",
      "  0% |                                                                        |\r"
     ]
    },
    {
     "name": "stdout",
     "output_type": "stream",
     "text": [
      "Epoch 2\n",
      "Training =>\n"
     ]
    },
    {
     "name": "stderr",
     "output_type": "stream",
     "text": [
      "100% |########################################################################|\n",
      "  0% |                                                                        |\r"
     ]
    },
    {
     "name": "stdout",
     "output_type": "stream",
     "text": [
      "Validating =>\n"
     ]
    },
    {
     "name": "stderr",
     "output_type": "stream",
     "text": [
      "100% |########################################################################|\n",
      "  0% |                                                                        |\r"
     ]
    },
    {
     "name": "stdout",
     "output_type": "stream",
     "text": [
      "Epoch 3\n",
      "Training =>\n"
     ]
    },
    {
     "name": "stderr",
     "output_type": "stream",
     "text": [
      "100% |########################################################################|\n",
      "  0% |                                                                        |\r"
     ]
    },
    {
     "name": "stdout",
     "output_type": "stream",
     "text": [
      "Validating =>\n"
     ]
    },
    {
     "name": "stderr",
     "output_type": "stream",
     "text": [
      "100% |########################################################################|\n",
      "  0% |                                                                        |\r"
     ]
    },
    {
     "name": "stdout",
     "output_type": "stream",
     "text": [
      "Epoch 4\n",
      "Training =>\n"
     ]
    },
    {
     "name": "stderr",
     "output_type": "stream",
     "text": [
      "100% |########################################################################|\n",
      "  0% |                                                                        |\r"
     ]
    },
    {
     "name": "stdout",
     "output_type": "stream",
     "text": [
      "Validating =>\n"
     ]
    },
    {
     "name": "stderr",
     "output_type": "stream",
     "text": [
      "100% |########################################################################|\n",
      "  0% |                                                                        |\r"
     ]
    },
    {
     "name": "stdout",
     "output_type": "stream",
     "text": [
      "Epoch 5\n",
      "Training =>\n"
     ]
    },
    {
     "name": "stderr",
     "output_type": "stream",
     "text": [
      "100% |########################################################################|\n",
      "  0% |                                                                        |\r"
     ]
    },
    {
     "name": "stdout",
     "output_type": "stream",
     "text": [
      "Validating =>\n"
     ]
    },
    {
     "name": "stderr",
     "output_type": "stream",
     "text": [
      "100% |########################################################################|\n",
      "  0% |                                                                        |\r"
     ]
    },
    {
     "name": "stdout",
     "output_type": "stream",
     "text": [
      "Epoch 6\n",
      "Training =>\n"
     ]
    },
    {
     "name": "stderr",
     "output_type": "stream",
     "text": [
      "100% |########################################################################|\n",
      "  0% |                                                                        |\r"
     ]
    },
    {
     "name": "stdout",
     "output_type": "stream",
     "text": [
      "Validating =>\n"
     ]
    },
    {
     "name": "stderr",
     "output_type": "stream",
     "text": [
      "100% |########################################################################|\n",
      "  0% |                                                                        |\r"
     ]
    },
    {
     "name": "stdout",
     "output_type": "stream",
     "text": [
      "Epoch 7\n",
      "Training =>\n"
     ]
    },
    {
     "name": "stderr",
     "output_type": "stream",
     "text": [
      "100% |########################################################################|\n",
      "  0% |                                                                        |\r"
     ]
    },
    {
     "name": "stdout",
     "output_type": "stream",
     "text": [
      "Validating =>\n"
     ]
    },
    {
     "name": "stderr",
     "output_type": "stream",
     "text": [
      "100% |########################################################################|\n",
      "  0% |                                                                        |\r"
     ]
    },
    {
     "name": "stdout",
     "output_type": "stream",
     "text": [
      "Epoch 8\n",
      "Training =>\n"
     ]
    },
    {
     "name": "stderr",
     "output_type": "stream",
     "text": [
      "100% |########################################################################|\n",
      "  0% |                                                                        |\r"
     ]
    },
    {
     "name": "stdout",
     "output_type": "stream",
     "text": [
      "Validating =>\n"
     ]
    },
    {
     "name": "stderr",
     "output_type": "stream",
     "text": [
      "100% |########################################################################|\n",
      "  0% |                                                                        |\r"
     ]
    },
    {
     "name": "stdout",
     "output_type": "stream",
     "text": [
      "Epoch 9\n",
      "Training =>\n"
     ]
    },
    {
     "name": "stderr",
     "output_type": "stream",
     "text": [
      "100% |########################################################################|\n",
      "  0% |                                                                        |\r"
     ]
    },
    {
     "name": "stdout",
     "output_type": "stream",
     "text": [
      "Validating =>\n"
     ]
    },
    {
     "name": "stderr",
     "output_type": "stream",
     "text": [
      "100% |########################################################################|\n"
     ]
    },
    {
     "name": "stdout",
     "output_type": "stream",
     "text": [
      "                        precision    recall  f1-score   support\n",
      "\n",
      "            GO:0000003       0.48      0.52      0.50       133\n",
      "            GO:0000075       0.00      0.00      0.00        13\n",
      "            GO:0000237       0.00      0.00      0.00         3\n",
      "            GO:0000238       0.00      0.00      0.00         1\n",
      "            GO:0000239       0.48      0.58      0.53        24\n",
      "            GO:0000240       0.00      0.00      0.00         9\n",
      "            GO:0000267       0.00      0.00      0.00        10\n",
      "            GO:0000732       0.00      0.00      0.00        12\n",
      "            GO:0000775       0.00      0.00      0.00         4\n",
      "            GO:0000785       0.00      0.00      0.00        30\n",
      "            GO:0000786       0.00      0.00      0.00         4\n",
      "            GO:0000791       0.00      0.00      0.00         2\n",
      "            GO:0000792       0.73      0.86      0.79        22\n",
      "            GO:0000795       0.00      0.00      0.00         4\n",
      "            GO:0000805       0.00      0.00      0.00         8\n",
      "            GO:0000806       0.00      0.00      0.00         4\n",
      "            GO:0001501       0.00      0.00      0.00         2\n",
      "            GO:0001503       0.00      0.00      0.00         6\n",
      "            GO:0001708       0.00      0.00      0.00         1\n",
      "            GO:0001709       0.00      0.00      0.00         2\n",
      "            GO:0001750       0.00      0.00      0.00         1\n",
      "            GO:0001763       0.00      0.00      0.00         7\n",
      "            GO:0001775       0.00      0.00      0.00        14\n",
      "            GO:0001822       0.00      0.00      0.00         3\n",
      "            GO:0001889       0.00      0.00      0.00         1\n",
      "            GO:0001917       0.00      0.00      0.00         2\n",
      "            GO:0001944       0.00      0.00      0.00         1\n",
      "            GO:0001967       0.00      0.00      0.00         1\n",
      "            GO:0005488       0.64      0.96      0.77        51\n",
      "            GO:0005575       0.00      0.00      0.00         2\n",
      "            GO:0005576       0.00      0.00      0.00         4\n",
      "            GO:0005577       0.00      0.00      0.00         3\n",
      "            GO:0005581       0.00      0.00      0.00         7\n",
      "            GO:0005585       0.00      0.00      0.00         3\n",
      "            GO:0005622       0.00      0.00      0.00         4\n",
      "            GO:0005623       0.59      0.82      0.68       924\n",
      "            GO:0005634       0.66      0.75      0.70       100\n",
      "            GO:0005643       0.00      0.00      0.00         2\n",
      "            GO:0005654       0.00      0.00      0.00         5\n",
      "            GO:0005657       0.00      0.00      0.00         5\n",
      "            GO:0005675       0.00      0.00      0.00         5\n",
      "            GO:0005694       0.70      0.83      0.76       129\n",
      "            GO:0005712       0.00      0.00      0.00         1\n",
      "            GO:0005730       0.00      0.00      0.00         2\n",
      "            GO:0005737       0.60      0.88      0.71        17\n",
      "            GO:0005739       0.48      0.75      0.59        36\n",
      "            GO:0005764       0.00      0.00      0.00         9\n",
      "            GO:0005768       0.00      0.00      0.00         3\n",
      "            GO:0005773       0.00      0.00      0.00         3\n",
      "            GO:0005777       0.00      0.00      0.00         2\n",
      "            GO:0005783       0.00      0.00      0.00         6\n",
      "            GO:0005792       0.00      0.00      0.00         1\n",
      "            GO:0005813       0.00      0.00      0.00         2\n",
      "            GO:0005819       0.00      0.00      0.00         3\n",
      "            GO:0005829       0.00      0.00      0.00         6\n",
      "            GO:0005833       0.00      0.00      0.00         1\n",
      "            GO:0005840       0.00      0.00      0.00         2\n",
      "            GO:0005856       0.00      0.00      0.00         4\n",
      "            GO:0005874       0.00      0.00      0.00         2\n",
      "            GO:0005883       0.00      0.00      0.00         1\n",
      "            GO:0005902       0.00      0.00      0.00         1\n",
      "            GO:0005912       0.00      0.00      0.00         7\n",
      "            GO:0005929       0.00      0.00      0.00         5\n",
      "            GO:0006094       0.00      0.00      0.00         1\n",
      "            GO:0006096       0.00      0.00      0.00         2\n",
      "            GO:0006260       0.00      0.00      0.00        11\n",
      "            GO:0006266       0.00      0.00      0.00         3\n",
      "            GO:0006281       0.58      0.81      0.68        27\n",
      "            GO:0006289       0.00      0.00      0.00         2\n",
      "            GO:0006310       0.75      0.87      0.81        70\n",
      "            GO:0006311       0.00      0.00      0.00         3\n",
      "            GO:0006349       0.00      0.00      0.00         4\n",
      "            GO:0006350       0.72      0.56      0.63        89\n",
      "            GO:0006412       0.00      0.00      0.00         6\n",
      "            GO:0006413       0.00      0.00      0.00         6\n",
      "            GO:0006415       0.00      0.00      0.00         9\n",
      "            GO:0006457       0.00      0.00      0.00         2\n",
      "            GO:0006517       0.00      0.00      0.00         1\n",
      "            GO:0006605       0.00      0.00      0.00         4\n",
      "            GO:0006810       0.00      0.00      0.00        16\n",
      "            GO:0006887       0.00      0.00      0.00         1\n",
      "            GO:0006897       0.00      0.00      0.00         1\n",
      "            GO:0006900       0.00      0.00      0.00         1\n",
      "            GO:0006909       0.00      0.00      0.00         7\n",
      "            GO:0006911       0.00      0.00      0.00         3\n",
      "            GO:0006914       0.00      0.00      0.00         1\n",
      "            GO:0006915       0.55      0.84      0.67        63\n",
      "            GO:0006936       0.00      0.00      0.00         4\n",
      "            GO:0006952       0.00      0.00      0.00         3\n",
      "            GO:0006954       0.00      0.00      0.00         4\n",
      "            GO:0007050       0.00      0.00      0.00         9\n",
      "            GO:0007059       0.00      0.00      0.00         1\n",
      "            GO:0007067       0.00      0.00      0.00         8\n",
      "            GO:0007114       0.00      0.00      0.00         1\n",
      "            GO:0007126       0.63      0.81      0.71        32\n",
      "            GO:0007129       0.00      0.00      0.00        14\n",
      "            GO:0007131       0.00      0.00      0.00         2\n",
      "            GO:0007132       0.00      0.00      0.00         1\n",
      "            GO:0007154       0.00      0.00      0.00         1\n",
      "            GO:0007165       0.75      0.80      0.77        70\n",
      "            GO:0007276       0.00      0.00      0.00         2\n",
      "            GO:0007283       0.00      0.00      0.00         2\n",
      "            GO:0007369       0.00      0.00      0.00         7\n",
      "            GO:0007389       0.85      0.79      0.81        14\n",
      "            GO:0007399       0.00      0.00      0.00         1\n",
      "            GO:0007411       0.00      0.00      0.00         2\n",
      "            GO:0007416       0.00      0.00      0.00         2\n",
      "            GO:0007517       0.00      0.00      0.00         2\n",
      "            GO:0007565       0.00      0.00      0.00        14\n",
      "            GO:0007566       0.00      0.00      0.00         2\n",
      "            GO:0007567       0.83      1.00      0.91        39\n",
      "            GO:0007568       0.00      0.00      0.00        13\n",
      "            GO:0007569       0.00      0.00      0.00         2\n",
      "            GO:0007596       0.00      0.00      0.00        12\n",
      "            GO:0007599       0.00      0.00      0.00         6\n",
      "            GO:0007600       0.78      0.89      0.83        28\n",
      "            GO:0007601       0.00      0.00      0.00        11\n",
      "            GO:0007602       0.00      0.00      0.00         2\n",
      "            GO:0007605       0.00      0.00      0.00         1\n",
      "            GO:0007608       0.92      0.95      0.94       110\n",
      "            GO:0007610       0.76      1.00      0.87        13\n",
      "            GO:0007612       0.94      0.97      0.96        33\n",
      "            GO:0007613       1.00      0.88      0.94        41\n",
      "            GO:0007618       0.84      0.76      0.80        34\n",
      "            GO:0007631       0.00      0.00      0.00        18\n",
      "            GO:0008152       0.73      0.63      0.68        30\n",
      "            GO:0008283       0.56      0.45      0.50        44\n",
      "            GO:0008305       0.00      0.00      0.00         3\n",
      "            GO:0008380       0.79      0.92      0.85        25\n",
      "            GO:0008610       0.00      0.00      0.00         1\n",
      "            GO:0009056       0.40      0.09      0.14        23\n",
      "            GO:0009058       0.34      0.29      0.31       117\n",
      "            GO:0009293       0.00      0.00      0.00         1\n",
      "            GO:0009294       0.54      0.33      0.41        40\n",
      "            GO:0009305       0.00      0.00      0.00         3\n",
      "            GO:0009566       0.00      0.00      0.00         3\n",
      "            GO:0009653       0.55      0.38      0.44        16\n",
      "            GO:0009790       0.00      0.00      0.00         9\n",
      "            GO:0009986       0.00      0.00      0.00         6\n",
      "            GO:0010369       0.00      0.00      0.00         1\n",
      "            GO:0010467       0.79      0.83      0.81       603\n",
      "            GO:0012501       0.00      0.00      0.00         3\n",
      "            GO:0014069       0.00      0.00      0.00         2\n",
      "            GO:0016020       0.56      0.79      0.65        38\n",
      "            GO:0016021       0.00      0.00      0.00         3\n",
      "            GO:0016028       0.00      0.00      0.00         1\n",
      "            GO:0016234       0.00      0.00      0.00         2\n",
      "            GO:0016246       0.00      0.00      0.00         6\n",
      "            GO:0016265       0.71      0.71      0.71        69\n",
      "            GO:0016310       0.00      0.00      0.00         7\n",
      "            GO:0016458       0.00      0.00      0.00         5\n",
      "            GO:0016459       0.00      0.00      0.00         3\n",
      "            GO:0016477       0.00      0.00      0.00         7\n",
      "            GO:0016485       0.00      0.00      0.00        10\n",
      "            GO:0016528       0.00      0.00      0.00         1\n",
      "            GO:0016567       0.00      0.00      0.00         1\n",
      "            GO:0017086       0.00      0.00      0.00         9\n",
      "            GO:0018023       0.00      0.00      0.00         1\n",
      "            GO:0018027       0.00      0.00      0.00         1\n",
      "            GO:0018032       0.00      0.00      0.00         1\n",
      "            GO:0019226       0.00      0.00      0.00         1\n",
      "            GO:0019230       0.61      0.91      0.73        22\n",
      "            GO:0019233       0.00      0.00      0.00         2\n",
      "            GO:0019814       0.75      0.94      0.84       146\n",
      "            GO:0019835       0.00      0.00      0.00         7\n",
      "            GO:0019882       0.00      0.00      0.00         1\n",
      "            GO:0020021       0.00      0.00      0.00         1\n",
      "            GO:0021700       0.00      0.00      0.00         9\n",
      "            GO:0022008       0.00      0.00      0.00         1\n",
      "            GO:0022401       0.00      0.00      0.00         2\n",
      "            GO:0022403       0.00      0.00      0.00         4\n",
      "            GO:0022607       0.00      0.00      0.00        65\n",
      "            GO:0022610       0.00      0.00      0.00         4\n",
      "            GO:0022616       0.00      0.00      0.00         5\n",
      "            GO:0030010       0.00      0.00      0.00         2\n",
      "            GO:0030016       0.00      0.00      0.00         2\n",
      "            GO:0030054       0.00      0.00      0.00         3\n",
      "            GO:0030097       0.54      0.81      0.65        16\n",
      "            GO:0030154       0.62      0.95      0.75       113\n",
      "            GO:0030164       0.00      0.00      0.00         2\n",
      "            GO:0030261       0.00      0.00      0.00         1\n",
      "            GO:0030286       0.00      0.00      0.00         1\n",
      "            GO:0030424       0.00      0.00      0.00        46\n",
      "            GO:0030425       0.00      0.00      0.00         6\n",
      "            GO:0030849       0.00      0.00      0.00         5\n",
      "            GO:0030908       0.00      0.00      0.00         3\n",
      "            GO:0031012       0.00      0.00      0.00         1\n",
      "            GO:0031128       0.00      0.00      0.00        13\n",
      "            GO:0031214       0.00      0.00      0.00         9\n",
      "            GO:0031424       0.00      0.00      0.00         1\n",
      "            GO:0031507       0.00      0.00      0.00         1\n",
      "            GO:0031648       0.00      0.00      0.00         1\n",
      "            GO:0031649       0.00      0.00      0.00         6\n",
      "            GO:0031965       0.00      0.00      0.00         1\n",
      "            GO:0031982       0.00      0.00      0.00        12\n",
      "            GO:0032259       0.00      0.00      0.00         1\n",
      "            GO:0032502       0.66      0.72      0.69       335\n",
      "            GO:0032508       0.80      0.27      0.40        15\n",
      "            GO:0032991       0.00      0.00      0.00        19\n",
      "            GO:0033592       0.86      0.97      0.91        87\n",
      "            GO:0035102       0.00      0.00      0.00         1\n",
      "            GO:0035106       0.00      0.00      0.00         1\n",
      "            GO:0035212       0.00      0.00      0.00         1\n",
      "            GO:0035282       0.00      0.00      0.00         1\n",
      "            GO:0035315       0.00      0.00      0.00         1\n",
      "            GO:0040007       0.65      0.74      0.69        53\n",
      "            GO:0040011       0.00      0.00      0.00         6\n",
      "            GO:0042220       0.00      0.00      0.00         2\n",
      "            GO:0042552       0.00      0.00      0.00         2\n",
      "            GO:0042555       0.00      0.00      0.00        15\n",
      "            GO:0042592       0.00      0.00      0.00         2\n",
      "            GO:0042611       0.00      0.00      0.00         2\n",
      "            GO:0042730       0.00      0.00      0.00         3\n",
      "            GO:0042995       0.00      0.00      0.00        14\n",
      "            GO:0043025       0.00      0.00      0.00         6\n",
      "            GO:0043065       0.00      0.00      0.00         1\n",
      "            GO:0043131       0.00      0.00      0.00         1\n",
      "            GO:0043209       0.00      0.00      0.00         6\n",
      "            GO:0043226       0.00      0.00      0.00         4\n",
      "            GO:0043412       0.00      0.00      0.00         9\n",
      "            GO:0043413       0.00      0.00      0.00         4\n",
      "            GO:0043473       0.79      0.69      0.73        16\n",
      "            GO:0043489       0.00      0.00      0.00         1\n",
      "            GO:0043626       0.00      0.00      0.00         5\n",
      "            GO:0043631       0.00      0.00      0.00         3\n",
      "            GO:0043679       0.00      0.00      0.00         8\n",
      "            GO:0045120       0.00      0.00      0.00         3\n",
      "            GO:0045165       0.00      0.00      0.00         2\n",
      "            GO:0045177       0.00      0.00      0.00        10\n",
      "            GO:0045202       0.00      0.00      0.00        12\n",
      "            GO:0045251       0.00      0.00      0.00         2\n",
      "            GO:0045277       0.00      0.00      0.00         1\n",
      "            GO:0045298       0.00      0.00      0.00         6\n",
      "            GO:0045333       0.00      0.00      0.00        16\n",
      "            GO:0045453       0.00      0.00      0.00         3\n",
      "            GO:0046903       0.89      0.73      0.80        33\n",
      "            GO:0046983       0.00      0.00      0.00         1\n",
      "            GO:0048471       0.00      0.00      0.00        12\n",
      "            GO:0048511       0.00      0.00      0.00         1\n",
      "            GO:0048513       0.00      0.00      0.00         1\n",
      "            GO:0048518       0.61      0.32      0.42        59\n",
      "            GO:0048519       0.80      0.63      0.70        59\n",
      "            GO:0048532       0.00      0.00      0.00         5\n",
      "            GO:0048666       0.00      0.00      0.00         4\n",
      "            GO:0048675       0.00      0.00      0.00         1\n",
      "            GO:0048771       0.00      0.00      0.00         4\n",
      "            GO:0048821       0.00      0.00      0.00         6\n",
      "            GO:0050729       0.00      0.00      0.00         1\n",
      "            GO:0050777       0.00      0.00      0.00         1\n",
      "            GO:0050789       0.00      0.00      0.00         1\n",
      "            GO:0050817       0.00      0.00      0.00         1\n",
      "            GO:0050879       0.72      0.62      0.67        21\n",
      "            GO:0050890       0.00      0.00      0.00         1\n",
      "            GO:0050892       0.00      0.00      0.00         1\n",
      "            GO:0050893       0.00      0.00      0.00         1\n",
      "            GO:0050896       0.72      0.84      0.77        51\n",
      "            GO:0050909       0.00      0.00      0.00        24\n",
      "            GO:0050918       0.00      0.00      0.00         7\n",
      "            GO:0050953       0.00      0.00      0.00         4\n",
      "            GO:0051179       0.43      0.57      0.49        70\n",
      "            GO:0051216       0.00      0.00      0.00         7\n",
      "            GO:0051234       0.00      0.00      0.00         7\n",
      "            GO:0051235       0.00      0.00      0.00         2\n",
      "            GO:0051301       0.00      0.00      0.00        15\n",
      "            GO:0051312       0.00      0.00      0.00         2\n",
      "            GO:0051324       0.00      0.00      0.00         4\n",
      "            GO:0051325       0.00      0.00      0.00         1\n",
      "            GO:0051606       0.00      0.00      0.00         1\n",
      "            GO:0051899       0.00      0.00      0.00         1\n",
      "            GO:0060004       0.00      0.00      0.00         2\n",
      "            GO:0060033       0.00      0.00      0.00         2\n",
      "            GO:0065003       0.00      0.00      0.00         3\n",
      "            GO:0065007       0.68      0.77      0.73       186\n",
      "                     O       0.98      0.98      0.98     82710\n",
      "independent_continuant       0.60      0.81      0.69       333\n",
      "\n",
      "           avg / total       0.95      0.96      0.95     88512\n",
      "\n"
     ]
    }
   ],
   "source": [
    "### Training\n",
    "n_epochs = 10\n",
    "\n",
    "train_f_scores = []\n",
    "val_f_scores = []\n",
    "best_val_f1 = 0\n",
    "\n",
    "for i in range(n_epochs):\n",
    "    print(\"Epoch {}\".format(i))\n",
    "    \n",
    "    print(\"Training =>\")\n",
    "    train_pred_label = []\n",
    "    avgLoss = 0\n",
    "\n",
    "\n",
    "    bar = progressbar.ProgressBar(maxval=len(X_train))\n",
    "    for n_batch, sent in bar(enumerate(X_train)):\n",
    "        label = y_train[n_batch]\n",
    "        label = np.eye(n_classes)[label][np.newaxis,:]\n",
    "        sent = sent[np.newaxis,:]\n",
    "\n",
    "        if sent.shape[1] > 1: #some bug in keras\n",
    "            loss = model.train_on_batch(sent, label)\n",
    "            avgLoss += loss\n",
    "\n",
    "        pred = model.predict_on_batch(sent)\n",
    "        pred = np.argmax(pred,-1)[0]\n",
    "        train_pred_label.append(pred)\n",
    "\n",
    "    avgLoss = avgLoss/n_batch\n",
    "    \n",
    "    predword_train = [ list(map(lambda x: idx2la[x], y)) for y in train_pred_label]\n",
    "    \n",
    "    \n",
    "    print(\"Validating =>\")\n",
    "    \n",
    "    val_pred_label = []\n",
    "    avgLoss = 0\n",
    "    \n",
    "    bar = progressbar.ProgressBar(maxval=len(X_test))\n",
    "    for n_batch, sent in bar(enumerate(X_test)):\n",
    "        label = y_test[n_batch]\n",
    "        label = np.eye(n_classes)[label][np.newaxis,:]\n",
    "        sent = sent[np.newaxis,:]\n",
    "        \n",
    "        if sent.shape[1] > 1: #some bug in keras\n",
    "            loss = model.test_on_batch(sent, label)\n",
    "            avgLoss += loss\n",
    "\n",
    "        pred = model.predict_on_batch(sent)\n",
    "        pred = np.argmax(pred,-1)[0]\n",
    "        val_pred_label.append(pred)\n",
    "\n",
    "    avgLoss = avgLoss/n_batch\n",
    "    \n",
    "    predword_val = [ list(map(lambda x: idx2la[x], y)) for y in val_pred_label]\n",
    "\n",
    "print classification_report(list(itertools.chain.from_iterable(groundtruth_val)), \n",
    "                            list(itertools.chain.from_iterable(predword_val)))"
   ]
  },
  {
   "cell_type": "code",
   "execution_count": 18,
   "metadata": {},
   "outputs": [
    {
     "data": {
      "image/png": "[encoded data removed]",
      "text/plain": [
       "<matplotlib.figure.Figure at 0x7f9e28197950>"
      ]
     },
     "metadata": {},
     "output_type": "display_data"
    }
   ],
   "source": [
    "plt.style.use(\"ggplot\")\n",
    "plt.figure(figsize=(12,12))\n",
    "plt.plot(train_loss, label='Training Loss')\n",
    "plt.plot(val_loss, label='Validation Loss')\n",
    "plt.legend()\n",
    "plt.show()"
   ]
  },
  {
   "cell_type": "code",
   "execution_count": 19,
   "metadata": {
    "collapsed": true
   },
   "outputs": [],
   "source": [
    "# print groundtruth_val, predword_val"
   ]
  },
  {
   "cell_type": "code",
   "execution_count": 20,
   "metadata": {
    "collapsed": true
   },
   "outputs": [],
   "source": [
    "import pandas as pd\n",
    "\n",
    "df = pd.DataFrame(\n",
    "{\n",
    "    'Predicted' : list(itertools.chain.from_iterable(predword_val)),\n",
    "    'Ground Truth': list(itertools.chain.from_iterable(groundtruth_val))\n",
    "}\n",
    ")"
   ]
  },
  {
   "cell_type": "code",
   "execution_count": 21,
   "metadata": {
    "collapsed": true
   },
   "outputs": [],
   "source": [
    "df.to_csv('../data/results/GRU_Based.tsv', sep='\\t')"
   ]
  },
  {
   "cell_type": "code",
   "execution_count": 22,
   "metadata": {},
   "outputs": [
    {
     "name": "stdout",
     "output_type": "stream",
     "text": [
      "Mean semantic similarity:  0.485\n"
     ]
    },
    {
     "data": {
      "text/plain": [
       "<matplotlib.figure.Figure at 0x7f9e48776bd0>"
      ]
     },
     "metadata": {},
     "output_type": "display_data"
    }
   ],
   "source": [
    "%run ./accuracy/src/computeSim.py ../data/results/GRU_Based.tsv ../data/validation_data/GO_AllSubsumers.tsv"
   ]
  },
  {
   "cell_type": "code",
   "execution_count": null,
   "metadata": {
    "collapsed": true
   },
   "outputs": [],
   "source": []
  }
 ],
 "metadata": {
  "kernelspec": {
   "display_name": "Python 2",
   "language": "python",
   "name": "python2"
  },
  "language_info": {
   "codemirror_mode": {
    "name": "ipython",
    "version": 2
   },
   "file_extension": ".py",
   "mimetype": "text/x-python",
   "name": "python",
   "nbconvert_exporter": "python",
   "pygments_lexer": "ipython2",
   "version": "2.7.12"
  }
 },
 "nbformat": 4,
 "nbformat_minor": 2
}
