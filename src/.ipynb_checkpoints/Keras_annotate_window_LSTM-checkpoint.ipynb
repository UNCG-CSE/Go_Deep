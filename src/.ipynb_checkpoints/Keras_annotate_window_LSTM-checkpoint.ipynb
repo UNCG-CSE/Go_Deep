{
 "cells": [
  {
   "cell_type": "code",
   "execution_count": 1,
   "metadata": {},
   "outputs": [
    {
     "name": "stderr",
     "output_type": "stream",
     "text": [
      "Using TensorFlow backend.\n"
     ]
    }
   ],
   "source": [
    "import json\n",
    "from keras.preprocessing import sequence\n",
    "from keras.models import Sequential\n",
    "from keras.layers.embeddings import Embedding\n",
    "from keras.layers.recurrent import SimpleRNN, GRU, LSTM\n",
    "from keras.layers.core import Dense, Dropout\n",
    "from keras.layers.wrappers import TimeDistributed\n",
    "from keras.layers import Convolution1D, MaxPooling1D\n",
    "from keras.utils import np_utils\n",
    "import itertools\n",
    "import ast\n",
    "from sklearn.model_selection import train_test_split\n",
    "from sklearn.preprocessing import LabelEncoder\n",
    "import sys, os\n",
    "import traceback\n",
    "from itertools import chain\n",
    "import numpy as np\n",
    "import pandas as pd\n",
    "\n",
    "import progressbar\n",
    "\n",
    "import tensorflow as tf\n",
    "os.environ[\"CUDA_DEVICE_ORDER\"] = \"PCI_BUS_ID\"   # see issue #152\n",
    "os.environ[\"CUDA_VISIBLE_DEVICES\"] = \"2\""
   ]
  },
  {
   "cell_type": "code",
   "execution_count": 2,
   "metadata": {
    "collapsed": true
   },
   "outputs": [],
   "source": [
    "import matplotlib.pyplot as plt\n",
    "\n",
    "%matplotlib inline"
   ]
  },
  {
   "cell_type": "code",
   "execution_count": 3,
   "metadata": {
    "collapsed": true
   },
   "outputs": [],
   "source": [
    "def read_data(rootdir):\n",
    "    data_list = []\n",
    "    for subdir, dirs, files in os.walk(rootdir):\n",
    "        for fname in files:\n",
    "            #print os.path.join(subdir, file)\n",
    "            filepath = subdir + os.sep + fname\n",
    "            with open(filepath) as f:\n",
    "                for line1,line2 in itertools.izip_longest(*[f]*2):\n",
    "                    try:\n",
    "                        text = ast.literal_eval(line1)\n",
    "                        label = ast.literal_eval(line2)\n",
    "                        if len(text) > 3:\n",
    "                            sentence = zip(text, label)\n",
    "                            sentence = [item for item in sentence if item[0].strip() != '']\n",
    "                            data_list.append(sentence)\n",
    "                    except:\n",
    "                        pass\n",
    "            f.close()\n",
    "    return data_list"
   ]
  },
  {
   "cell_type": "code",
   "execution_count": 4,
   "metadata": {},
   "outputs": [
    {
     "name": "stdout",
     "output_type": "stream",
     "text": [
      "[('A', 'NA'), ('Hybrid', 'NA'), ('Photoreceptor', 'NA'), ('Expressing', 'NA'), ('Both', 'NA'), ('Rod', 'NA'), ('and', 'NA'), ('Cone', 'NA'), ('Genes', 'NA'), ('in', 'NA'), ('a', 'NA'), ('Mouse', 'NA'), ('Model', 'NA'), ('of', 'NA'), ('Enhanced', 'NA'), ('SCone', 'NA'), ('Syndrome', 'NA')]\n"
     ]
    },
    {
     "data": {
      "text/plain": [
       "104"
      ]
     },
     "execution_count": 4,
     "metadata": {},
     "output_type": "execute_result"
    }
   ],
   "source": [
    "data_list = read_data('../data/')\n",
    "\n",
    "print data_list[0]\n",
    "\n",
    "# data_list = data_list[:3000]\n",
    "\n",
    "# words = list(chain.from_iterable(data_list))\n",
    "# print words\n",
    "\n",
    "words = list(set(y[0] for x in data_list for y in x))\n",
    "words.append(\"ENDPAD\")\n",
    "n_words = len(words); n_words\n",
    "\n",
    "tags = list(set(y[1] for x in data_list for y in x))\n",
    "n_tags = len(tags); n_tags"
   ]
  },
  {
   "cell_type": "code",
   "execution_count": 5,
   "metadata": {},
   "outputs": [],
   "source": [
    "# from sklearn.preprocessing import LabelEncoder\n",
    "\n",
    "# le = LabelEncoder()\n",
    "# le.fit(list(y[1] for x in data_list for y in x))\n",
    "\n",
    "# labels2idx = dict(zip(le.classes_, le.transform(le.classes_)))\n",
    "\n",
    "# idx2la = {labels2idx[k]:k for k in labels2idx}"
   ]
  },
  {
   "cell_type": "code",
   "execution_count": 6,
   "metadata": {},
   "outputs": [
    {
     "name": "stdout",
     "output_type": "stream",
     "text": [
      "12457\n",
      "68\n"
     ]
    }
   ],
   "source": [
    "max_len = 75\n",
    "word2idx = {w: i + 1 for i, w in enumerate(words)}\n",
    "tag2idx = {t: i for i, t in enumerate(tags)}\n",
    "\n",
    "idx2tag = {v: k for k, v in tag2idx.iteritems()}\n",
    "\n",
    "print word2idx['Hybrid']\n",
    "print tag2idx[\"NA\"]"
   ]
  },
  {
   "cell_type": "code",
   "execution_count": 7,
   "metadata": {},
   "outputs": [],
   "source": [
    "from keras.preprocessing.sequence import pad_sequences\n",
    "X = [[word2idx[w[0]] for w in s] for s in data_list]"
   ]
  },
  {
   "cell_type": "code",
   "execution_count": 8,
   "metadata": {
    "collapsed": true
   },
   "outputs": [],
   "source": [
    "X = pad_sequences(maxlen=max_len, sequences=X, padding=\"post\", value=0)"
   ]
  },
  {
   "cell_type": "code",
   "execution_count": 9,
   "metadata": {},
   "outputs": [],
   "source": [
    "y = [[tag2idx[w[1]] for w in s] for s in data_list]"
   ]
  },
  {
   "cell_type": "code",
   "execution_count": 10,
   "metadata": {},
   "outputs": [],
   "source": [
    "y = pad_sequences(maxlen=max_len, sequences=y, padding=\"post\", value=tag2idx[\"NA\"])"
   ]
  },
  {
   "cell_type": "code",
   "execution_count": 11,
   "metadata": {
    "collapsed": true
   },
   "outputs": [],
   "source": [
    "from keras.utils import to_categorical\n",
    "\n",
    "y = [to_categorical(i, num_classes=n_tags) for i in y]"
   ]
  },
  {
   "cell_type": "code",
   "execution_count": 12,
   "metadata": {},
   "outputs": [],
   "source": [
    "from sklearn.model_selection import train_test_split\n",
    "\n",
    "X_tr, X_te, y_tr, y_te = train_test_split(X, y, test_size=0.3)"
   ]
  },
  {
   "cell_type": "code",
   "execution_count": 13,
   "metadata": {},
   "outputs": [
    {
     "name": "stdout",
     "output_type": "stream",
     "text": [
      "(3545, 75) (1520, 75) (3545, 75, 104) (1520, 75, 104)\n"
     ]
    }
   ],
   "source": [
    "print np.shape(X_tr), np.shape(X_te), np.shape(y_tr), np.shape(y_te)"
   ]
  },
  {
   "cell_type": "code",
   "execution_count": 35,
   "metadata": {
    "scrolled": true
   },
   "outputs": [],
   "source": [
    "from keras.models import Model, Input\n",
    "from keras.layers import LSTM, Embedding, Dense, TimeDistributed, Dropout, Bidirectional\n",
    "from keras_contrib.layers import CRF\n",
    "\n",
    "input = Input(shape=(max_len,))\n",
    "model = Embedding(input_dim=n_words + 1, output_dim=20,\n",
    "                  input_length=max_len, mask_zero=True)(input)  # 20-dim embedding\n",
    "model = Bidirectional(LSTM(units=150, return_sequences=True,\n",
    "                           recurrent_dropout=0.1))(model)  # variational biLSTM\n",
    "model = TimeDistributed(Dense(512, activation=\"relu\"))(model)  # a dense layer as suggested by neuralNer\n",
    "crf = CRF(n_tags)  # CRF layer\n",
    "out = crf(model)  # output"
   ]
  },
  {
   "cell_type": "code",
   "execution_count": 36,
   "metadata": {
    "collapsed": true
   },
   "outputs": [],
   "source": [
    "model = Model(input, out)"
   ]
  },
  {
   "cell_type": "code",
   "execution_count": 37,
   "metadata": {},
   "outputs": [],
   "source": [
    "model.compile(optimizer=\"rmsprop\", loss=crf.loss_function, metrics=[crf.accuracy])"
   ]
  },
  {
   "cell_type": "code",
   "execution_count": 38,
   "metadata": {},
   "outputs": [
    {
     "name": "stdout",
     "output_type": "stream",
     "text": [
      "_________________________________________________________________\n",
      "Layer (type)                 Output Shape              Param #   \n",
      "=================================================================\n",
      "input_3 (InputLayer)         (None, 75)                0         \n",
      "_________________________________________________________________\n",
      "embedding_3 (Embedding)      (None, 75, 20)            487280    \n",
      "_________________________________________________________________\n",
      "bidirectional_3 (Bidirection (None, 75, 300)           205200    \n",
      "_________________________________________________________________\n",
      "time_distributed_3 (TimeDist (None, 75, 512)           154112    \n",
      "_________________________________________________________________\n",
      "crf_3 (CRF)                  (None, 75, 104)           64376     \n",
      "=================================================================\n",
      "Total params: 910,968\n",
      "Trainable params: 910,968\n",
      "Non-trainable params: 0\n",
      "_________________________________________________________________\n"
     ]
    }
   ],
   "source": [
    "model.summary()"
   ]
  },
  {
   "cell_type": "code",
   "execution_count": 39,
   "metadata": {},
   "outputs": [
    {
     "name": "stdout",
     "output_type": "stream",
     "text": [
      "Train on 2836 samples, validate on 709 samples\n",
      "Epoch 1/15\n",
      "2836/2836 [==============================] - 28s 10ms/step - loss: 17.3477 - viterbi_acc: 0.9531 - val_loss: 14.9343 - val_viterbi_acc: 0.9820\n",
      "Epoch 2/15\n",
      "2836/2836 [==============================] - 27s 10ms/step - loss: 16.9739 - viterbi_acc: 0.9875 - val_loss: 14.8861 - val_viterbi_acc: 0.9907\n",
      "Epoch 3/15\n",
      "2836/2836 [==============================] - 27s 10ms/step - loss: 16.9399 - viterbi_acc: 0.9910 - val_loss: 14.8729 - val_viterbi_acc: 0.9922\n",
      "Epoch 4/15\n",
      "2836/2836 [==============================] - 27s 10ms/step - loss: 16.9301 - viterbi_acc: 0.9919 - val_loss: 14.8684 - val_viterbi_acc: 0.9928\n",
      "Epoch 5/15\n",
      "2836/2836 [==============================] - 26s 9ms/step - loss: 16.9246 - viterbi_acc: 0.9923 - val_loss: 14.8697 - val_viterbi_acc: 0.9937\n",
      "Epoch 6/15\n",
      "2836/2836 [==============================] - 27s 9ms/step - loss: 16.9208 - viterbi_acc: 0.9931 - val_loss: 14.8687 - val_viterbi_acc: 0.9941\n",
      "Epoch 7/15\n",
      "2836/2836 [==============================] - 26s 9ms/step - loss: 16.9174 - viterbi_acc: 0.9941 - val_loss: 14.8686 - val_viterbi_acc: 0.9943\n",
      "Epoch 8/15\n",
      "2836/2836 [==============================] - 26s 9ms/step - loss: 16.9133 - viterbi_acc: 0.9946 - val_loss: 14.8719 - val_viterbi_acc: 0.9940\n",
      "Epoch 9/15\n",
      "2836/2836 [==============================] - 26s 9ms/step - loss: 16.9102 - viterbi_acc: 0.9953 - val_loss: 14.8706 - val_viterbi_acc: 0.9946\n",
      "Epoch 10/15\n",
      "2836/2836 [==============================] - 26s 9ms/step - loss: 16.9078 - viterbi_acc: 0.9957 - val_loss: 14.8723 - val_viterbi_acc: 0.9940\n",
      "Epoch 11/15\n",
      "2836/2836 [==============================] - 27s 9ms/step - loss: 16.9049 - viterbi_acc: 0.9962 - val_loss: 14.8736 - val_viterbi_acc: 0.9940\n",
      "Epoch 12/15\n",
      "2836/2836 [==============================] - 26s 9ms/step - loss: 16.9031 - viterbi_acc: 0.9964 - val_loss: 14.8812 - val_viterbi_acc: 0.9907\n",
      "Epoch 13/15\n",
      "2836/2836 [==============================] - 26s 9ms/step - loss: 16.9011 - viterbi_acc: 0.9971 - val_loss: 14.8860 - val_viterbi_acc: 0.9889\n",
      "Epoch 14/15\n",
      "2836/2836 [==============================] - 27s 10ms/step - loss: 16.8993 - viterbi_acc: 0.9975 - val_loss: 14.8894 - val_viterbi_acc: 0.9877\n",
      "Epoch 15/15\n",
      "2836/2836 [==============================] - 27s 10ms/step - loss: 16.8979 - viterbi_acc: 0.9978 - val_loss: 14.8842 - val_viterbi_acc: 0.9905\n"
     ]
    }
   ],
   "source": [
    "history = model.fit(X_tr, np.array(y_tr), batch_size=32, epochs=15,\n",
    "                    validation_split=0.2, verbose=1)"
   ]
  },
  {
   "cell_type": "code",
   "execution_count": 40,
   "metadata": {},
   "outputs": [],
   "source": [
    "hist = pd.DataFrame(history.history)"
   ]
  },
  {
   "cell_type": "code",
   "execution_count": 41,
   "metadata": {},
   "outputs": [
    {
     "name": "stdout",
     "output_type": "stream",
     "text": [
      "         loss   val_loss  val_viterbi_acc  viterbi_acc\n",
      "0   17.347713  14.934302         0.981978     0.953144\n",
      "1   16.973872  14.886065         0.990730     0.987473\n",
      "2   16.939877  14.872930         0.992233     0.991011\n",
      "3   16.930099  14.868379         0.992823     0.991909\n",
      "4   16.924642  14.869696         0.993686     0.992289\n",
      "5   16.920810  14.868719         0.994128     0.993131\n",
      "6   16.917417  14.868624         0.994329     0.994145\n",
      "7   16.913297  14.871926         0.994007     0.994609\n",
      "8   16.910247  14.870615         0.994634     0.995261\n",
      "9   16.907815  14.872311         0.994018     0.995657\n",
      "10  16.904901  14.873625         0.994013     0.996169\n",
      "11  16.903073  14.881235         0.990726     0.996423\n",
      "12  16.901086  14.885989         0.988896     0.997105\n",
      "13  16.899266  14.889371         0.987674     0.997462\n",
      "14  16.897891  14.884166         0.990473     0.997839\n"
     ]
    }
   ],
   "source": [
    "print hist"
   ]
  },
  {
   "cell_type": "code",
   "execution_count": 42,
   "metadata": {},
   "outputs": [
    {
     "data": {
      "image/png": "[encoded data removed]",
      "text/plain": [
       "<matplotlib.figure.Figure at 0x7fbb4867ce90>"
      ]
     },
     "metadata": {},
     "output_type": "display_data"
    }
   ],
   "source": [
    "import matplotlib.pyplot as plt\n",
    "plt.style.use(\"ggplot\")\n",
    "plt.figure(figsize=(12,12))\n",
    "plt.plot(hist[\"viterbi_acc\"], label='Training Accuracy')\n",
    "plt.plot(hist[\"val_viterbi_acc\"], label='Validation Accuracy')\n",
    "plt.show()"
   ]
  },
  {
   "cell_type": "code",
   "execution_count": 43,
   "metadata": {
    "scrolled": false
   },
   "outputs": [
    {
     "name": "stdout",
     "output_type": "stream",
     "text": [
      "[68 68 68 68 68 68 68 68 68 68 68 68 68 68 68 68 68 68 68 68 68 68 68 68\n",
      " 68 68 68 68 68 68 68 68 68 68 68 68 68 68 68 68 68 68 68 68 68 68 68 68\n",
      " 68 68 68 68 68 68 68 68 68 68 68 68 68 68 68 68 68 68 68 68 68 68 68 68\n",
      " 68 68 68]\n",
      "[68 68 68 68 68 68 68 68 68 68 68 68 68 68 68 68 68 68 68 68 68 68 68 68\n",
      " 68 68 68 68 68 68 68 68 68 68 68 68 68 68 68 68 68 68 68 68 68 68 68 68\n",
      " 68 68 68 68 68 68 68 68 68 68 68 68 68 68 68 68 68 68 68 68 68 68 68 68\n",
      " 68 68 68]\n",
      "['NA', 'NA', 'NA', 'NA', 'NA', 'NA', 'NA', 'NA', 'NA', 'NA', 'NA', 'NA', 'NA', 'NA', 'NA', 'NA', 'NA', 'NA', 'NA', 'NA', 'NA', 'NA', 'NA', 'NA', 'NA', 'NA', 'NA', 'NA', 'NA', 'NA', 'NA', 'NA', 'NA', 'NA', 'NA', 'NA', 'NA', 'NA', 'NA', 'NA', 'NA', 'NA', 'NA', 'NA', 'NA', 'NA', 'NA', 'NA', 'NA', 'NA', 'NA', 'NA', 'NA', 'NA', 'NA', 'NA', 'NA', 'NA', 'NA', 'NA', 'NA', 'NA', 'NA', 'NA', 'NA', 'NA', 'NA', 'NA', 'NA', 'NA', 'NA', 'NA', 'NA', 'NA', 'NA']\n",
      "['NA', 'NA', 'NA', 'NA', 'NA', 'NA', 'NA', 'NA', 'NA', 'NA', 'NA', 'NA', 'NA', 'NA', 'NA', 'NA', 'NA', 'NA', 'NA', 'NA', 'NA', 'NA', 'NA', 'NA', 'NA', 'NA', 'NA', 'NA', 'NA', 'NA', 'NA', 'NA', 'NA', 'NA', 'NA', 'NA', 'NA', 'NA', 'NA', 'NA', 'NA', 'NA', 'NA', 'NA', 'NA', 'NA', 'NA', 'NA', 'NA', 'NA', 'NA', 'NA', 'NA', 'NA', 'NA', 'NA', 'NA', 'NA', 'NA', 'NA', 'NA', 'NA', 'NA', 'NA', 'NA', 'NA', 'NA', 'NA', 'NA', 'NA', 'NA', 'NA', 'NA', 'NA', 'NA']\n",
      "\n",
      "\n",
      "             precision    recall  f1-score   support\n",
      "\n",
      " GO:0000267       0.00      0.00      0.00         1\n",
      " GO:0000775       0.00      0.00      0.00         2\n",
      " GO:0000785       0.56      0.45      0.50        11\n",
      " GO:0000786       0.00      0.00      0.00         1\n",
      " GO:0000792       0.72      0.87      0.79        15\n",
      " GO:0000805       0.06      1.00      0.12         1\n",
      " GO:0000806       0.00      0.00      0.00         1\n",
      " GO:0001750       0.00      0.00      0.00         2\n",
      " GO:0001917       0.00      0.00      0.00         4\n",
      " GO:0005576       0.00      0.00      0.00         2\n",
      " GO:0005577       0.00      0.00      0.00         0\n",
      " GO:0005581       1.00      0.20      0.33         5\n",
      " GO:0005585       0.00      0.00      0.00         4\n",
      " GO:0005622       0.00      0.00      0.00         3\n",
      " GO:0005623       1.00      1.00      1.00       492\n",
      " GO:0005634       0.95      0.95      0.95        60\n",
      " GO:0005654       0.00      0.00      0.00         1\n",
      " GO:0005657       0.00      0.00      0.00         3\n",
      " GO:0005675       0.29      0.40      0.33         5\n",
      " GO:0005694       1.00      0.95      0.98        87\n",
      " GO:0005737       0.05      0.86      0.09         7\n",
      " GO:0005739       0.85      0.83      0.84        41\n",
      " GO:0005764       0.06      0.33      0.11         3\n",
      " GO:0005768       0.00      0.00      0.00         2\n",
      " GO:0005773       0.00      0.00      0.00         4\n",
      " GO:0005776       0.00      0.00      0.00         1\n",
      " GO:0005783       0.00      0.00      0.00         3\n",
      " GO:0005792       0.00      0.00      0.00         1\n",
      " GO:0005813       0.00      0.00      0.00         3\n",
      " GO:0005819       0.00      0.00      0.00         2\n",
      " GO:0005829       0.00      0.00      0.00         3\n",
      " GO:0005833       0.00      0.00      0.00         1\n",
      " GO:0005840       0.00      0.00      0.00         2\n",
      " GO:0005856       0.00      0.00      0.00         1\n",
      " GO:0005883       0.00      0.00      0.00         1\n",
      " GO:0005901       0.00      0.00      0.00         1\n",
      " GO:0005912       0.00      0.00      0.00         7\n",
      " GO:0005929       0.00      0.00      0.00         2\n",
      " GO:0008091       0.00      0.00      0.00         1\n",
      " GO:0008305       0.00      0.00      0.00         1\n",
      " GO:0009986       0.00      0.00      0.00         9\n",
      " GO:0010369       0.00      0.00      0.00         1\n",
      " GO:0014069       0.00      0.00      0.00         3\n",
      " GO:0016020       0.32      0.62      0.42        32\n",
      " GO:0016021       0.00      0.00      0.00         1\n",
      " GO:0016028       0.00      0.00      0.00         1\n",
      " GO:0016234       0.00      0.00      0.00         2\n",
      " GO:0017086       0.00      0.00      0.00         2\n",
      " GO:0019814       0.96      0.95      0.96       111\n",
      " GO:0030054       0.00      0.00      0.00         4\n",
      " GO:0030056       0.00      0.00      0.00         2\n",
      " GO:0030286       0.00      0.00      0.00         1\n",
      " GO:0030424       0.94      0.59      0.73        27\n",
      " GO:0030425       0.00      0.00      0.00         1\n",
      " GO:0030849       0.29      0.80      0.42         5\n",
      " GO:0031012       0.00      0.00      0.00         7\n",
      " GO:0031240       0.00      0.00      0.00         1\n",
      " GO:0031982       0.09      0.33      0.14         3\n",
      " GO:0032391       0.00      0.00      0.00         3\n",
      " GO:0032991       0.07      0.25      0.11        16\n",
      " GO:0035102       0.00      0.00      0.00         2\n",
      " GO:0042555       0.56      0.62      0.59         8\n",
      " GO:0042611       0.00      0.00      0.00         5\n",
      " GO:0042995       0.06      0.20      0.10         5\n",
      " GO:0043025       0.00      0.00      0.00         3\n",
      " GO:0043209       0.00      0.00      0.00         1\n",
      " GO:0043679       0.00      0.00      0.00         6\n",
      " GO:0045120       0.00      0.00      0.00         1\n",
      " GO:0045177       0.00      0.00      0.00         7\n",
      " GO:0045202       0.24      0.55      0.33        11\n",
      " GO:0045251       0.00      0.00      0.00         2\n",
      " GO:0045277       0.00      0.00      0.00         1\n",
      " GO:0045298       0.40      0.67      0.50         3\n",
      " GO:0048471       0.00      0.00      0.00         1\n",
      "         NA       1.00      0.58      0.73    112925\n",
      "\n",
      "avg / total       1.00      0.58      0.74    114000\n",
      "\n"
     ]
    }
   ],
   "source": [
    "from sklearn.metrics import classification_report\n",
    "\n",
    "predicted = model.predict(X_te)\n",
    "\n",
    "true = []\n",
    "predicted_val = []\n",
    "for i in range(len(predicted)):\n",
    "    p_tmp = np.argmax(predicted[i], axis=-1)\n",
    "    t_tmp = np.argmax(y_te[i], -1)\n",
    "    predicted_val.append(p_tmp)\n",
    "    true.append(t_tmp)\n",
    "\n",
    "    \n",
    "p = [list(map(lambda x: idx2tag[x], y)) for y in predicted_val]\n",
    "t = [list(map(lambda x: idx2tag[x], y)) for y in true]\n",
    "\n",
    "print predicted_val[1]\n",
    "print true[1]\n",
    "\n",
    "print p[1]\n",
    "print t[1]\n",
    "report = classification_report(list(itertools.chain.from_iterable(t)), \n",
    "                                    list(itertools.chain.from_iterable(p)))\n",
    "print \"\\n\"\n",
    "print report"
   ]
  },
  {
   "cell_type": "code",
   "execution_count": null,
   "metadata": {},
   "outputs": [],
   "source": [
    "i = 300\n",
    "p = model.predict(np.array([X_te[i]]))\n",
    "p = np.argmax(p, axis=-1)\n",
    "true = np.argmax(y_te[i], -1)\n",
    "print(\"{:15}||{:5}||{}\".format(\"Word\", \"True\", \"Pred\"))\n",
    "print(30 * \"=\")\n",
    "for w, t, pred in zip(X_te[i], true, p[0]):\n",
    "    if w != 0:\n",
    "        print(\"{:15}: {:5} {}\".format(words[w-1], tags[t], tags[pred]))"
   ]
  },
  {
   "cell_type": "code",
   "execution_count": 44,
   "metadata": {
    "collapsed": true
   },
   "outputs": [],
   "source": [
    "import pandas as pd\n",
    "\n",
    "df = pd.DataFrame(\n",
    "{\n",
    "    'Predicted' : list(itertools.chain.from_iterable(t)),\n",
    "    'Ground Truth': list(itertools.chain.from_iterable(p))\n",
    "}\n",
    ")"
   ]
  },
  {
   "cell_type": "code",
   "execution_count": 45,
   "metadata": {
    "collapsed": true
   },
   "outputs": [],
   "source": [
    "df.to_csv('./LSTM_Based.tsv', sep='\\t')"
   ]
  },
  {
   "cell_type": "code",
   "execution_count": null,
   "metadata": {
    "collapsed": true
   },
   "outputs": [],
   "source": []
  }
 ],
 "metadata": {
  "kernelspec": {
   "display_name": "Python 2",
   "language": "python",
   "name": "python2"
  },
  "language_info": {
   "codemirror_mode": {
    "name": "ipython",
    "version": 2
   },
   "file_extension": ".py",
   "mimetype": "text/x-python",
   "name": "python",
   "nbconvert_exporter": "python",
   "pygments_lexer": "ipython2",
   "version": "2.7.12"
  }
 },
 "nbformat": 4,
 "nbformat_minor": 2
}
