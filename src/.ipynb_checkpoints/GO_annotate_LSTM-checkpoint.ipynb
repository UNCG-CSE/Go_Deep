{
 "cells": [
  {
   "cell_type": "code",
   "execution_count": 1,
   "metadata": {},
   "outputs": [
    {
     "name": "stderr",
     "output_type": "stream",
     "text": [
      "Using TensorFlow backend.\n"
     ]
    }
   ],
   "source": [
    "import json\n",
    "from keras.preprocessing import sequence\n",
    "from keras.models import Sequential\n",
    "from keras.layers.embeddings import Embedding\n",
    "from keras.layers.recurrent import SimpleRNN, GRU, LSTM\n",
    "from keras.layers.core import Dense, Dropout\n",
    "from keras.layers.wrappers import TimeDistributed\n",
    "from keras.layers import Convolution1D, MaxPooling1D\n",
    "from keras.utils import np_utils\n",
    "import itertools\n",
    "import ast\n",
    "from sklearn.model_selection import train_test_split\n",
    "from sklearn.preprocessing import LabelEncoder\n",
    "import sys, os\n",
    "import traceback\n",
    "from itertools import chain\n",
    "import numpy as np\n",
    "import pandas as pd\n",
    "\n",
    "import progressbar\n",
    "\n",
    "import tensorflow as tf\n",
    "os.environ[\"CUDA_DEVICE_ORDER\"] = \"PCI_BUS_ID\"   # see issue #152\n",
    "os.environ[\"CUDA_VISIBLE_DEVICES\"] = \"3\""
   ]
  },
  {
   "cell_type": "code",
   "execution_count": 2,
   "metadata": {
    "collapsed": true
   },
   "outputs": [],
   "source": [
    "import matplotlib.pyplot as plt\n",
    "\n",
    "%matplotlib inline"
   ]
  },
  {
   "cell_type": "code",
   "execution_count": 3,
   "metadata": {
    "collapsed": true
   },
   "outputs": [],
   "source": [
    "def read_data(rootdir):\n",
    "    data_list = []\n",
    "    for subdir, dirs, files in os.walk(rootdir):\n",
    "        for fname in files:\n",
    "            #print os.path.join(subdir, file)\n",
    "            filepath = subdir + os.sep + fname\n",
    "            with open(filepath) as f:\n",
    "                for line1,line2 in itertools.izip_longest(*[f]*2):\n",
    "                    try:\n",
    "                        text = ast.literal_eval(line1)\n",
    "                        label = ast.literal_eval(line2)\n",
    "                        n_labels = set(label)\n",
    "                        if len(text) > 2 and len(n_labels) > 1:\n",
    "                            sentence = zip(text, label)\n",
    "                            sentence.append(('.', 'O'))\n",
    "                            sentence = [item for item in sentence if item[0].strip() != '']\n",
    "                            data_list.append(sentence)\n",
    "                    except:\n",
    "                        pass\n",
    "            f.close()\n",
    "    return data_list"
   ]
  },
  {
   "cell_type": "code",
   "execution_count": 4,
   "metadata": {},
   "outputs": [
    {
     "name": "stdout",
     "output_type": "stream",
     "text": [
      "[('A', 'O'), ('Hybrid', 'O'), ('Photoreceptor', 'O'), ('Expressing', 'GO:0010467'), ('Both', 'O'), ('Rod', 'O'), ('and', 'O'), ('Cone', 'O'), ('Genes', 'O'), ('in', 'O'), ('a', 'O'), ('Mouse', 'O'), ('Model', 'O'), ('of', 'O'), ('Enhanced', 'O'), ('SCone', 'O'), ('Syndrome', 'O'), ('.', 'O')]\n"
     ]
    },
    {
     "data": {
      "text/plain": [
       "359"
      ]
     },
     "execution_count": 4,
     "metadata": {},
     "output_type": "execute_result"
    }
   ],
   "source": [
    "data_list = read_data('../data/input/GO/merged/')\n",
    "\n",
    "print data_list[0]\n",
    "\n",
    "# data_list = data_list[:3000]\n",
    "\n",
    "# words = list(chain.from_iterable(data_list))\n",
    "# print words\n",
    "\n",
    "words = list(set(y[0] for x in data_list for y in x))\n",
    "words.append(\"ENDPAD\")\n",
    "n_words = len(words); n_words\n",
    "\n",
    "tags = list(set(y[1] for x in data_list for y in x))\n",
    "n_tags = len(tags); n_tags"
   ]
  },
  {
   "cell_type": "code",
   "execution_count": 5,
   "metadata": {},
   "outputs": [
    {
     "name": "stdout",
     "output_type": "stream",
     "text": [
      "9612\n"
     ]
    }
   ],
   "source": [
    "print len(data_list)"
   ]
  },
  {
   "cell_type": "code",
   "execution_count": 6,
   "metadata": {
    "collapsed": true
   },
   "outputs": [],
   "source": [
    "# from sklearn.preprocessing import LabelEncoder\n",
    "\n",
    "# le = LabelEncoder()\n",
    "# le.fit(list(y[1] for x in data_list for y in x))\n",
    "\n",
    "# labels2idx = dict(zip(le.classes_, le.transform(le.classes_)))\n",
    "\n",
    "# idx2la = {labels2idx[k]:k for k in labels2idx}"
   ]
  },
  {
   "cell_type": "code",
   "execution_count": 7,
   "metadata": {},
   "outputs": [
    {
     "name": "stdout",
     "output_type": "stream",
     "text": [
      "964\n",
      "0\n"
     ]
    }
   ],
   "source": [
    "max_len = 75\n",
    "word2idx = {w: i + 1 for i, w in enumerate(words)}\n",
    "word2idx[\"O\"] = 0\n",
    "idx2word = {i: w for w, i in word2idx.items()}\n",
    "\n",
    "tag2idx = {t: i for i, t in enumerate(tags, 1)}\n",
    "tag2idx['O'] = 0\n",
    "n_tags += 1\n",
    "\n",
    "idx2tag = {v: k for k, v in tag2idx.iteritems()}\n",
    "\n",
    "print word2idx['Hybrid']\n",
    "print tag2idx[\"O\"]"
   ]
  },
  {
   "cell_type": "code",
   "execution_count": 8,
   "metadata": {},
   "outputs": [
    {
     "name": "stdout",
     "output_type": "stream",
     "text": [
      "{'GO:0007599': 1, 'GO:0007596': 2, 'GO:0006900': 3, 'GO:0001501': 4, 'GO:0001503': 5, 'GO:0006909': 6, 'GO:0001966': 296, 'GO:0000003': 8, 'GO:0043209': 9, 'GO:0005835': 10, 'GO:0005833': 11, 'GO:0016458': 12, 'GO:0016459': 13, 'GO:0018032': 14, 'GO:0006281': 15, 'GO:0006289': 16, 'GO:0007283': 17, 'GO:0007286': 18, 'GO:0001756': 19, 'GO:0001750': 20, 'GO:0000718': 21, 'GO:0045251': 22, 'GO:0006271': 23, 'GO:0009566': 24, 'GO:0020021': 25, 'GO:0006457': 26, 'GO:0000811': 27, 'GO:0005488': 28, 'GO:0050789': 29, 'GO:0042555': 30, 'GO:0042552': 31, 'GO:0043679': 32, 'GO:0006887': 33, 'GO:0005712': 34, 'GO:0005654': 35, 'GO:0005656': 36, 'GO:0005657': 37, 'GO:0032259': 38, 'GO:0043025': 39, 'GO:0019882': 40, 'GO:0007620': 41, 'GO:0009305': 42, 'GO:0007050': 43, 'GO:0043412': 44, 'GO:0043413': 45, 'GO:0000237': 46, 'GO:0000239': 47, 'GO:0000238': 48, 'GO:0043204': 49, 'GO:0030674': 50, 'GO:0005776': 186, 'GO:0005871': 52, 'GO:0019814': 53, 'GO:0005874': 54, 'GO:0045177': 306, 'GO:0043489': 56, 'GO:0007129': 58, 'GO:0050975': 59, 'GO:0008283': 60, 'GO:0005912': 61, 'GO:0005840': 313, 'GO:0031424': 63, 'GO:0016528': 64, 'GO:0042592': 65, 'GO:0001889': 66, 'GO:0022403': 67, 'GO:0022401': 68, 'GO:0043631': 69, 'GO:0035282': 70, 'GO:0050909': 252, 'GO:0006096': 72, 'GO:0051301': 79, 'GO:0006094': 74, 'GO:0005610': 75, 'GO:0008218': 71, 'GO:0005966': 77, 'GO:0043065': 78, 'GO:0007276': 73, 'GO:0000279': 80, 'GO:0007602': 57, 'GO:0040011': 82, 'GO:0001837': 83, 'GO:0005764': 84, 'GO:0032456': 85, 'GO:0043111': 86, 'GO:0006415': 87, 'GO:0006413': 176, 'GO:0006412': 89, 'GO:0048675': 90, 'GO:0007618': 91, 'GO:0007612': 92, 'GO:0048771': 93, 'GO:0007610': 94, 'GO:0007164': 95, 'GO:0007165': 96, 'GO:0009293': 97, 'GO:0009294': 98, 'GO:0016028': 99, 'GO:0016021': 100, 'GO:0007369': 101, 'GO:0006936': 102, 'GO:0000792': 103, 'GO:0000791': 104, 'GO:0000795': 105, 'GO:0042995': 106, 'GO:0042611': 107, 'GO:0031507': 108, 'GO:0009790': 109, 'GO:0005829': 110, 'GO:0005902': 111, 'GO:0016567': 112, 'GO:0043627': 113, 'GO:0030849': 114, 'GO:0018027': 115, 'GO:0018023': 116, 'GO:0050821': 117, 'GO:0001763': 118, 'GO:0005929': 119, 'GO:0030286': 120, 'GO:0051179': 121, 'GO:0007530': 122, 'GO:0046911': 123, 'GO:0009887': 124, 'GO:0050793': 125, 'GO:0060073': 126, 'GO:0051235': 127, 'GO:0051234': 128, 'GO:0006897': 129, 'GO:0005643': 130, 'GO:0050896': 131, 'GO:0050890': 132, 'GO:0050892': 133, 'GO:0050893': 134, 'GO:0017086': 135, 'GO:0006517': 136, 'GO:0046983': 137, 'GO:0033592': 138, 'GO:0031099': 139, 'GO:0005585': 140, 'GO:0005581': 141, 'GO:0000806': 142, 'GO:0000805': 143, 'GO:0001944': 144, 'GO:0001947': 145, 'GO:0002027': 146, 'GO:0002024': 147, 'GO:0048821': 148, 'GO:0008037': 149, 'GO:0008039': 150, 'GO:0014069': 151, 'GO:0007132': 152, 'GO:0007131': 153, 'GO:0007613': 196, 'GO:0043473': 154, 'GO:0008380': 328, 'GO:0016234': 156, 'GO:0045202': 157, 'GO:0046959': 158, 'GO:0001525': 159, 'GO:0005819': 160, 'GO:0005813': 161, 'GO:0006323': 162, 'GO:0016246': 163, 'GO:0005856': 208, 'GO:0031128': 165, 'GO:0060033': 167, 'GO:0031649': 168, 'GO:0022411': 169, 'GO:0007268': 170, 'GO:0042220': 171, 'GO:0050918': 322, 'GO:0022008': 173, 'GO:0008610': 174, 'GO:0045277': 175, 'GO:0005768': 88, 'GO:0000240': 177, 'GO:0019226': 178, 'GO:0005783': 179, 'GO:0006473': 180, 'GO:0019228': 181, 'GO:0030056': 182, 'GO:0030054': 183, 'GO:0005773': 184, 'GO:0005777': 185, 'GO:0001822': 51, 'GO:0048511': 187, 'GO:0048513': 188, 'GO:0005675': 189, 'GO:0048518': 190, 'GO:0048519': 191, 'GO:0007608': 192, 'GO:0007605': 193, 'GO:0007601': 194, 'GO:0007600': 195, 'GO:0006605': 81, 'GO:0045184': 197, 'GO:0042756': 198, 'GO:0010369': 199, 'GO:0001917': 200, 'GO:0002076': 201, 'GO:0022607': 202, 'GO:0006928': 203, 'GO:0000785': 204, 'GO:0000786': 205, 'GO:0021700': 206, 'GO:0043226': 207, 'GO:0019835': 164, 'GO:0003077': 209, 'GO:0016477': 210, 'GO:0006810': 211, 'GO:0050953': 212, 'GO:0008305': 166, 'GO:0012501': 214, 'GO:0001775': 215, 'GO:0050817': 216, 'GO:0045333': 217, 'GO:0006954': 218, 'GO:0050819': 219, 'GO:0006952': 213, 'GO:0046903': 221, 'GO:0008091': 222, 'GO:0051604': 223, 'GO:0043093': 224, 'GO:0000732': 225, 'GO:0006350': 226, 'GO:0006353': 227, 'GO:0016020': 228, 'GO:0030154': 229, 'GO:0031012': 230, 'GO:0030016': 231, 'GO:0060047': 232, 'GO:0060041': 233, 'GO:0030010': 234, 'GO:0007059': 235, 'GO:0051325': 236, 'GO:0051324': 237, 'GO:0051320': 238, 'GO:0051323': 239, 'GO:0005730': 240, 'GO:0001708': 241, 'GO:0001709': 242, 'GO:0005739': 243, 'GO:0006508': 244, 'GO:0032502': 245, 'GO:0001570': 220, 'GO:0032508': 246, 'GO:0016485': 247, 'GO:0051606': 248, 'GO:0051258': 249, 'GO:0050777': 250, 'GO:0050779': 251, 'independent_continuant': 253, 'GO:0043500': 254, 'GO:0007389': 255, 'GO:0035212': 256, 'GO:0007586': 257, 'GO:0006914': 258, 'GO:0006915': 259, 'GO:0006911': 260, 'GO:0009058': 261, 'GO:0046581': 262, 'GO:0009056': 263, 'GO:0000775': 264, 'GO:0006310': 265, 'GO:0006311': 266, 'GO:0000075': 267, 'GO:0045123': 268, 'GO:0045120': 269, 'GO:0030908': 270, 'GO:0060004': 271, 'GO:0035102': 272, 'GO:0035106': 273, 'GO:0030425': 274, 'GO:0030424': 275, 'GO:0051899': 276, 'GO:0007517': 277, 'GO:0031982': 278, 'GO:0006266': 279, 'GO:0006260': 280, 'GO:0032391': 281, 'GO:0005792': 282, 'GO:0031965': 283, 'GO:0030164': 284, 'GO:0000502': 285, 'GO:0051216': 286, 'GO:0018991': 287, 'GO:0048532': 347, 'GO:0051866': 289, 'GO:0043131': 290, 'GO:0030194': 291, 'GO:0007631': 292, 'GO:0031240': 293, 'GO:0007067': 294, 'GO:0035315': 295, 'GO:0065003': 7, 'GO:0001967': 297, 'GO:0065007': 298, 'GO:0019233': 299, 'GO:0048471': 300, 'GO:0019230': 301, 'GO:0048477': 302, 'GO:0016265': 303, 'GO:0005737': 304, 'GO:0042384': 305, 'GO:0007126': 55, 'O': 0, 'GO:0008152': 308, 'GO:0043256': 309, 'GO:0042730': 310, 'GO:0045165': 311, 'GO:0031648': 312, 'GO:0007114': 62, 'GO:0016540': 314, 'GO:0005634': 315, 'GO:0016310': 316, 'GO:0031214': 351, 'GO:0030261': 318, 'GO:0005901': 319, 'GO:0030263': 320, 'GO:0001669': 321, 'GO:0043626': 172, 'GO:0007411': 323, 'GO:0009653': 324, 'GO:0007416': 325, 'GO:0006349': 326, 'GO:0022610': 327, 'GO:0051304': 76, 'GO:0022616': 155, 'GO:0031143': 329, 'GO:0051318': 330, 'GO:0051312': 331, 'GO:0045453': 332, 'GO:0045298': 333, 'GO:0007568': 334, 'GO:0007569': 335, 'GO:0007565': 336, 'GO:0007566': 337, 'GO:0007567': 338, 'GO:0005623': 339, 'GO:0005622': 340, 'GO:0050729': 341, 'GO:0030097': 342, 'GO:0000267': 343, 'GO:0040007': 344, 'GO:0050879': 345, 'GO:0010467': 346, 'GO:0005694': 288, 'GO:0009986': 348, 'GO:0048666': 349, 'GO:0005883': 350, 'GO:0005886': 317, 'GO:0007155': 352, 'GO:0007154': 353, 'GO:0042470': 354, 'GO:0032991': 355, 'GO:0007399': 356, 'GO:0005575': 357, 'GO:0005577': 358, 'GO:0005576': 359}\n"
     ]
    }
   ],
   "source": [
    "print tag2idx"
   ]
  },
  {
   "cell_type": "code",
   "execution_count": 9,
   "metadata": {
    "collapsed": true
   },
   "outputs": [],
   "source": [
    "from keras.preprocessing.sequence import pad_sequences\n",
    "X = [[word2idx[w[0]] for w in s] for s in data_list]"
   ]
  },
  {
   "cell_type": "code",
   "execution_count": 10,
   "metadata": {
    "collapsed": true
   },
   "outputs": [],
   "source": [
    "X = pad_sequences(maxlen=max_len, sequences=X, padding=\"post\", value=word2idx[\"O\"])"
   ]
  },
  {
   "cell_type": "code",
   "execution_count": 11,
   "metadata": {
    "collapsed": true
   },
   "outputs": [],
   "source": [
    "y = [[tag2idx[w[1]] for w in s] for s in data_list]"
   ]
  },
  {
   "cell_type": "code",
   "execution_count": 12,
   "metadata": {
    "collapsed": true
   },
   "outputs": [],
   "source": [
    "y = pad_sequences(maxlen=max_len, sequences=y, padding=\"post\", value=tag2idx[\"O\"])"
   ]
  },
  {
   "cell_type": "code",
   "execution_count": 13,
   "metadata": {
    "collapsed": true
   },
   "outputs": [],
   "source": [
    "from keras.utils import to_categorical\n",
    "\n",
    "y = [to_categorical(i, num_classes=n_tags+1) for i in y]"
   ]
  },
  {
   "cell_type": "code",
   "execution_count": 14,
   "metadata": {
    "collapsed": true
   },
   "outputs": [],
   "source": [
    "from sklearn.model_selection import train_test_split\n",
    "\n",
    "X_tr, X_te, y_tr, y_te = train_test_split(X, y, test_size=0.3)"
   ]
  },
  {
   "cell_type": "code",
   "execution_count": 15,
   "metadata": {
    "collapsed": true
   },
   "outputs": [],
   "source": [
    "# from sklearn.utils import class_weight\n",
    "# import numpy as np\n",
    "\n",
    "# cw = class_weight.compute_class_weight('balanced',\n",
    "#                                                  np.unique(y_tr),\n",
    "#                                                  y_tr)"
   ]
  },
  {
   "cell_type": "code",
   "execution_count": 16,
   "metadata": {},
   "outputs": [
    {
     "name": "stdout",
     "output_type": "stream",
     "text": [
      "(6728, 75) (2884, 75) (6728, 75, 361) (2884, 75, 361)\n"
     ]
    }
   ],
   "source": [
    "print np.shape(X_tr), np.shape(X_te), np.shape(y_tr), np.shape(y_te)"
   ]
  },
  {
   "cell_type": "code",
   "execution_count": 17,
   "metadata": {
    "collapsed": true,
    "scrolled": true
   },
   "outputs": [],
   "source": [
    "from keras.models import Model, Input\n",
    "from keras.layers import LSTM, Embedding, Dense, TimeDistributed, Dropout, Bidirectional\n",
    "from keras_contrib.layers import CRF\n",
    "\n",
    "input = Input(shape=(max_len,))\n",
    "model = Embedding(input_dim=n_words + 1, output_dim=100,\n",
    "                  input_length=max_len, mask_zero=True)(input)  # 100-dim embedding\n",
    "model = Bidirectional(LSTM(units=150, return_sequences=True,\n",
    "                           recurrent_dropout=0.6))(model)  # variational LSTM\n",
    "model = TimeDistributed(Dense(n_tags+1, activation=\"sigmoid\"))(model)  # a dense layer as suggested by neuralNer\n",
    "crf = CRF(n_tags+1)  # CRF layer\n",
    "out = crf(model)  # output"
   ]
  },
  {
   "cell_type": "code",
   "execution_count": 18,
   "metadata": {
    "collapsed": true
   },
   "outputs": [],
   "source": [
    "model = Model(input, out)"
   ]
  },
  {
   "cell_type": "code",
   "execution_count": 19,
   "metadata": {
    "collapsed": true
   },
   "outputs": [],
   "source": [
    "model.compile(optimizer=\"rmsprop\", loss=crf.loss_function, metrics=[crf.accuracy])"
   ]
  },
  {
   "cell_type": "code",
   "execution_count": 20,
   "metadata": {},
   "outputs": [
    {
     "name": "stdout",
     "output_type": "stream",
     "text": [
      "_________________________________________________________________\n",
      "Layer (type)                 Output Shape              Param #   \n",
      "=================================================================\n",
      "input_1 (InputLayer)         (None, 75)                0         \n",
      "_________________________________________________________________\n",
      "embedding_1 (Embedding)      (None, 75, 100)           1792900   \n",
      "_________________________________________________________________\n",
      "bidirectional_1 (Bidirection (None, 75, 300)           301200    \n",
      "_________________________________________________________________\n",
      "time_distributed_1 (TimeDist (None, 75, 361)           108661    \n",
      "_________________________________________________________________\n",
      "crf_1 (CRF)                  (None, 75, 361)           261725    \n",
      "=================================================================\n",
      "Total params: 2,464,486\n",
      "Trainable params: 2,464,486\n",
      "Non-trainable params: 0\n",
      "_________________________________________________________________\n"
     ]
    }
   ],
   "source": [
    "model.summary()\n",
    "\n"
   ]
  },
  {
   "cell_type": "code",
   "execution_count": 21,
   "metadata": {
    "scrolled": true
   },
   "outputs": [
    {
     "name": "stdout",
     "output_type": "stream",
     "text": [
      "Train on 6728 samples, validate on 2884 samples\n",
      "Epoch 1/15\n",
      "6728/6728 [==============================] - 121s 18ms/step - loss: 17.4409 - viterbi_acc: 0.9202 - val_loss: 16.9096 - val_viterbi_acc: 0.9399\n",
      "Epoch 2/15\n",
      "6728/6728 [==============================] - 119s 18ms/step - loss: 17.1508 - viterbi_acc: 0.9414 - val_loss: 16.8533 - val_viterbi_acc: 0.9448\n",
      "Epoch 3/15\n",
      "6728/6728 [==============================] - 120s 18ms/step - loss: 17.1011 - viterbi_acc: 0.9467 - val_loss: 16.8180 - val_viterbi_acc: 0.9465\n",
      "Epoch 4/15\n",
      "6728/6728 [==============================] - 120s 18ms/step - loss: 17.0666 - viterbi_acc: 0.9495 - val_loss: 16.8087 - val_viterbi_acc: 0.9512\n",
      "Epoch 5/15\n",
      "6728/6728 [==============================] - 120s 18ms/step - loss: 17.0363 - viterbi_acc: 0.9548 - val_loss: 16.7771 - val_viterbi_acc: 0.9538\n",
      "Epoch 6/15\n",
      "6728/6728 [==============================] - 120s 18ms/step - loss: 17.0063 - viterbi_acc: 0.9597 - val_loss: 16.7590 - val_viterbi_acc: 0.9604\n",
      "Epoch 7/15\n",
      "6728/6728 [==============================] - 116s 17ms/step - loss: 16.9791 - viterbi_acc: 0.9640 - val_loss: 16.7434 - val_viterbi_acc: 0.9585\n",
      "Epoch 8/15\n",
      "6728/6728 [==============================] - 105s 16ms/step - loss: 16.9564 - viterbi_acc: 0.9690 - val_loss: 16.7210 - val_viterbi_acc: 0.9678\n",
      "Epoch 9/15\n",
      "6728/6728 [==============================] - 105s 16ms/step - loss: 16.9380 - viterbi_acc: 0.9727 - val_loss: 16.7326 - val_viterbi_acc: 0.9554\n",
      "Epoch 10/15\n",
      "6728/6728 [==============================] - 104s 15ms/step - loss: 16.9223 - viterbi_acc: 0.9758 - val_loss: 16.7123 - val_viterbi_acc: 0.9691\n",
      "Epoch 11/15\n",
      "6728/6728 [==============================] - 105s 16ms/step - loss: 16.9089 - viterbi_acc: 0.9777 - val_loss: 16.7094 - val_viterbi_acc: 0.9758\n",
      "Epoch 12/15\n",
      "6728/6728 [==============================] - 113s 17ms/step - loss: 16.8990 - viterbi_acc: 0.9796 - val_loss: 16.6858 - val_viterbi_acc: 0.9776\n",
      "Epoch 13/15\n",
      "6728/6728 [==============================] - 117s 17ms/step - loss: 16.8900 - viterbi_acc: 0.9811 - val_loss: 16.6834 - val_viterbi_acc: 0.9790\n",
      "Epoch 14/15\n",
      "6728/6728 [==============================] - 108s 16ms/step - loss: 16.8828 - viterbi_acc: 0.9830 - val_loss: 16.6775 - val_viterbi_acc: 0.9801\n",
      "Epoch 15/15\n",
      "6728/6728 [==============================] - 105s 16ms/step - loss: 16.8763 - viterbi_acc: 0.9841 - val_loss: 16.7066 - val_viterbi_acc: 0.9723\n"
     ]
    }
   ],
   "source": [
    "history = model.fit(X_tr, np.array(y_tr), batch_size=32, epochs=15,\n",
    "                    validation_data=(X_te, np.array(y_te)), verbose=1)"
   ]
  },
  {
   "cell_type": "code",
   "execution_count": 22,
   "metadata": {
    "collapsed": true
   },
   "outputs": [],
   "source": [
    "hist = pd.DataFrame(history.history)\n",
    "hist.to_csv('../data/results/performance/GO_merged_LSTM_Based.tsv', sep='\\t')"
   ]
  },
  {
   "cell_type": "code",
   "execution_count": 23,
   "metadata": {},
   "outputs": [
    {
     "data": {
      "image/png": "[encoded data removed]",
      "text/plain": [
       "<matplotlib.figure.Figure at 0x7efd08382d90>"
      ]
     },
     "metadata": {},
     "output_type": "display_data"
    }
   ],
   "source": [
    "import matplotlib.pyplot as plt\n",
    "\n",
    "plt.style.use(\"ggplot\")\n",
    "plt.figure(figsize=(12,12))\n",
    "plt.plot(hist[\"loss\"], label='Training Loss')\n",
    "plt.plot(hist[\"val_loss\"], label='Validation Loss')\n",
    "plt.legend()\n",
    "plt.show()"
   ]
  },
  {
   "cell_type": "code",
   "execution_count": 24,
   "metadata": {},
   "outputs": [
    {
     "data": {
      "image/png": "[encoded data removed]",
      "text/plain": [
       "<matplotlib.figure.Figure at 0x7efd8a43fe10>"
      ]
     },
     "metadata": {},
     "output_type": "display_data"
    }
   ],
   "source": [
    "plt.style.use(\"ggplot\")\n",
    "plt.figure(figsize=(12,12))\n",
    "plt.plot(hist[\"viterbi_acc\"], label='Training Accuracy')\n",
    "plt.plot(hist[\"val_viterbi_acc\"], label='Validation Accuracy')\n",
    "plt.legend()\n",
    "plt.show()"
   ]
  },
  {
   "cell_type": "code",
   "execution_count": 25,
   "metadata": {
    "scrolled": true
   },
   "outputs": [
    {
     "name": "stdout",
     "output_type": "stream",
     "text": [
      "['Alternatively', 'in', 'the', 'absence', 'of', 'Atrx', 'the', 'paternal', 'allele', 'may', 'partially', 'escape', 'the', 'normal', 'process', 'of', 'silencing', '.', 'O', 'O', 'O', 'O', 'O', 'O', 'O', 'O', 'O', 'O', 'O', 'O', 'O', 'O', 'O', 'O', 'O', 'O', 'O', 'O', 'O', 'O', 'O', 'O', 'O', 'O', 'O', 'O', 'O', 'O', 'O', 'O', 'O', 'O', 'O', 'O', 'O', 'O', 'O', 'O', 'O', 'O', 'O', 'O', 'O', 'O', 'O', 'O', 'O', 'O', 'O', 'O', 'O', 'O', 'O', 'O', 'O']\n",
      "[0 0 0 0 0 0 0 0 0 0 0 0 0 0 0 0 0 0 0 0 0 0 0 0 0 0 0 0 0 0 0 0 0 0 0 0 0\n",
      " 0 0 0 0 0 0 0 0 0 0 0 0 0 0 0 0 0 0 0 0 0 0 0 0 0 0 0 0 0 0 0 0 0 0 0 0 0\n",
      " 0]\n",
      "[ 0  0  0  0  0  0  0  0  0  0  0  0  0  0  0  0 12  0  0  0  0  0  0  0\n",
      "  0  0  0  0  0  0  0  0  0  0  0  0  0  0  0  0  0  0  0  0  0  0  0  0\n",
      "  0  0  0  0  0  0  0  0  0  0  0  0  0  0  0  0  0  0  0  0  0  0  0  0\n",
      "  0  0  0]\n",
      "['O', 'O', 'O', 'O', 'O', 'O', 'O', 'O', 'O', 'O', 'O', 'O', 'O', 'O', 'O', 'O', 'O', 'O', 'O', 'O', 'O', 'O', 'O', 'O', 'O', 'O', 'O', 'O', 'O', 'O', 'O', 'O', 'O', 'O', 'O', 'O', 'O', 'O', 'O', 'O', 'O', 'O', 'O', 'O', 'O', 'O', 'O', 'O', 'O', 'O', 'O', 'O', 'O', 'O', 'O', 'O', 'O', 'O', 'O', 'O', 'O', 'O', 'O', 'O', 'O', 'O', 'O', 'O', 'O', 'O', 'O', 'O', 'O', 'O', 'O']\n",
      "['O', 'O', 'O', 'O', 'O', 'O', 'O', 'O', 'O', 'O', 'O', 'O', 'O', 'O', 'O', 'O', 'GO:0016458', 'O', 'O', 'O', 'O', 'O', 'O', 'O', 'O', 'O', 'O', 'O', 'O', 'O', 'O', 'O', 'O', 'O', 'O', 'O', 'O', 'O', 'O', 'O', 'O', 'O', 'O', 'O', 'O', 'O', 'O', 'O', 'O', 'O', 'O', 'O', 'O', 'O', 'O', 'O', 'O', 'O', 'O', 'O', 'O', 'O', 'O', 'O', 'O', 'O', 'O', 'O', 'O', 'O', 'O', 'O', 'O', 'O', 'O']\n",
      "\n",
      "\n",
      "                        precision    recall  f1-score   support\n",
      "\n",
      "            GO:0000003       0.64      0.64      0.64       124\n",
      "            GO:0000075       0.82      0.64      0.72        14\n",
      "            GO:0000237       0.00      0.00      0.00         2\n",
      "            GO:0000238       0.00      0.00      0.00         4\n",
      "            GO:0000239       0.90      0.90      0.90        31\n",
      "            GO:0000240       0.91      1.00      0.95        10\n",
      "            GO:0000267       0.00      0.00      0.00        11\n",
      "            GO:0000718       0.00      0.00      0.00         1\n",
      "            GO:0000732       0.02      0.46      0.04        13\n",
      "            GO:0000775       0.00      0.00      0.00         2\n",
      "            GO:0000785       0.96      0.92      0.94        24\n",
      "            GO:0000786       0.00      0.00      0.00         4\n",
      "            GO:0000791       0.00      0.00      0.00         1\n",
      "            GO:0000792       1.00      1.00      1.00        22\n",
      "            GO:0000795       0.00      0.00      0.00         2\n",
      "            GO:0000805       1.00      0.50      0.67         6\n",
      "            GO:0000806       0.00      0.00      0.00         4\n",
      "            GO:0000811       0.00      0.00      0.00         1\n",
      "            GO:0001501       0.00      0.00      0.00         2\n",
      "            GO:0001503       1.00      0.22      0.36         9\n",
      "            GO:0001525       0.00      0.00      0.00         1\n",
      "            GO:0001708       0.00      0.00      0.00         3\n",
      "            GO:0001750       0.00      0.00      0.00         1\n",
      "            GO:0001763       0.00      0.00      0.00         8\n",
      "            GO:0001775       0.00      0.00      0.00        18\n",
      "            GO:0001822       0.00      0.00      0.00         1\n",
      "            GO:0001917       0.00      0.00      0.00         8\n",
      "            GO:0001967       0.00      0.00      0.00         3\n",
      "            GO:0002024       0.00      0.00      0.00         1\n",
      "            GO:0002027       0.00      0.00      0.00         1\n",
      "            GO:0005488       0.85      0.97      0.90        58\n",
      "            GO:0005575       0.00      0.00      0.00         2\n",
      "            GO:0005576       0.00      0.00      0.00         6\n",
      "            GO:0005577       0.00      0.00      0.00         1\n",
      "            GO:0005581       0.36      0.50      0.42         8\n",
      "            GO:0005585       0.00      0.00      0.00         1\n",
      "            GO:0005622       0.00      0.00      0.00         8\n",
      "            GO:0005623       0.99      1.00      1.00       855\n",
      "            GO:0005634       0.98      0.98      0.98       117\n",
      "            GO:0005643       0.00      0.00      0.00         1\n",
      "            GO:0005654       0.00      0.00      0.00         9\n",
      "            GO:0005657       0.17      0.20      0.18         5\n",
      "            GO:0005675       0.33      0.60      0.43         5\n",
      "            GO:0005694       0.99      0.97      0.98       144\n",
      "            GO:0005712       0.00      0.00      0.00         1\n",
      "            GO:0005730       0.00      0.00      0.00         1\n",
      "            GO:0005737       0.95      0.95      0.95        22\n",
      "            GO:0005739       1.00      0.98      0.99        51\n",
      "            GO:0005764       0.00      0.00      0.00         6\n",
      "            GO:0005768       0.00      0.00      0.00         3\n",
      "            GO:0005773       0.00      0.00      0.00         4\n",
      "            GO:0005777       0.00      0.00      0.00         4\n",
      "            GO:0005783       0.46      0.86      0.60         7\n",
      "            GO:0005813       0.00      0.00      0.00         1\n",
      "            GO:0005819       0.00      0.00      0.00         2\n",
      "            GO:0005829       0.20      1.00      0.33         2\n",
      "            GO:0005840       1.00      0.33      0.50         3\n",
      "            GO:0005856       0.00      0.00      0.00         5\n",
      "            GO:0005874       0.00      0.00      0.00         1\n",
      "            GO:0005883       0.00      0.00      0.00         1\n",
      "            GO:0005886       0.00      0.00      0.00         1\n",
      "            GO:0005912       0.00      0.00      0.00         5\n",
      "            GO:0005929       0.00      0.00      0.00         2\n",
      "            GO:0006094       0.00      0.00      0.00         2\n",
      "            GO:0006096       0.00      0.00      0.00         2\n",
      "            GO:0006260       0.50      0.38      0.43        13\n",
      "            GO:0006266       0.00      0.00      0.00         3\n",
      "            GO:0006271       0.00      0.00      0.00         1\n",
      "            GO:0006281       0.88      0.94      0.91        31\n",
      "            GO:0006289       0.00      0.00      0.00         1\n",
      "            GO:0006310       0.98      0.94      0.96        69\n",
      "            GO:0006311       0.00      0.00      0.00         6\n",
      "            GO:0006323       0.00      0.00      0.00         1\n",
      "            GO:0006349       0.00      0.00      0.00         6\n",
      "            GO:0006350       0.69      0.91      0.79        70\n",
      "            GO:0006412       0.00      0.00      0.00         7\n",
      "            GO:0006413       0.00      0.00      0.00         6\n",
      "            GO:0006415       0.80      1.00      0.89         4\n",
      "            GO:0006457       0.00      0.00      0.00         2\n",
      "            GO:0006508       0.00      0.00      0.00         1\n",
      "            GO:0006605       0.00      0.00      0.00         3\n",
      "            GO:0006810       0.05      0.50      0.09        22\n",
      "            GO:0006897       0.00      0.00      0.00         1\n",
      "            GO:0006909       0.71      0.83      0.77        12\n",
      "            GO:0006911       1.00      0.33      0.50         3\n",
      "            GO:0006915       0.94      0.98      0.96        63\n",
      "            GO:0006928       0.00      0.00      0.00         1\n",
      "            GO:0006936       0.00      0.00      0.00         5\n",
      "            GO:0006952       0.00      0.00      0.00         2\n",
      "            GO:0006954       0.25      0.17      0.20         6\n",
      "            GO:0007050       0.50      0.67      0.57         6\n",
      "            GO:0007067       0.50      0.82      0.62        11\n",
      "            GO:0007114       0.00      0.00      0.00         2\n",
      "            GO:0007126       1.00      0.93      0.96        29\n",
      "            GO:0007129       0.33      0.22      0.27        18\n",
      "            GO:0007131       0.00      0.00      0.00         2\n",
      "            GO:0007132       0.00      0.00      0.00         1\n",
      "            GO:0007155       0.00      0.00      0.00         1\n",
      "            GO:0007164       0.00      0.00      0.00         1\n",
      "            GO:0007165       0.95      0.88      0.91        80\n",
      "            GO:0007276       0.00      0.00      0.00         2\n",
      "            GO:0007283       0.00      0.00      0.00         3\n",
      "            GO:0007369       0.00      0.00      0.00         6\n",
      "            GO:0007389       0.93      0.70      0.80        20\n",
      "            GO:0007399       0.00      0.00      0.00         1\n",
      "            GO:0007411       0.00      0.00      0.00         2\n",
      "            GO:0007416       0.00      0.00      0.00         3\n",
      "            GO:0007517       0.00      0.00      0.00         5\n",
      "            GO:0007530       0.00      0.00      0.00         1\n",
      "            GO:0007565       0.88      0.93      0.90        15\n",
      "            GO:0007566       0.00      0.00      0.00         3\n",
      "            GO:0007567       0.88      0.95      0.92        40\n",
      "            GO:0007568       0.38      0.50      0.43        10\n",
      "            GO:0007569       0.00      0.00      0.00         1\n",
      "            GO:0007586       0.00      0.00      0.00         2\n",
      "            GO:0007596       1.00      0.09      0.17        11\n",
      "            GO:0007599       0.00      0.00      0.00         6\n",
      "            GO:0007600       1.00      0.97      0.99        38\n",
      "            GO:0007601       0.00      0.00      0.00         8\n",
      "            GO:0007602       0.00      0.00      0.00         2\n",
      "            GO:0007608       0.99      0.99      0.99       107\n",
      "            GO:0007610       0.76      0.92      0.83        24\n",
      "            GO:0007612       1.00      1.00      1.00        37\n",
      "            GO:0007613       1.00      0.97      0.98        30\n",
      "            GO:0007618       0.94      0.78      0.85        37\n",
      "            GO:0007620       0.00      0.00      0.00         1\n",
      "            GO:0007631       0.39      0.75      0.51        12\n",
      "            GO:0008037       0.00      0.00      0.00         7\n",
      "            GO:0008152       0.68      0.70      0.69        27\n",
      "            GO:0008283       0.76      0.94      0.84        31\n",
      "            GO:0008305       0.00      0.00      0.00         2\n",
      "            GO:0008380       0.79      1.00      0.89        27\n",
      "            GO:0008610       0.00      0.00      0.00         1\n",
      "            GO:0009056       0.76      1.00      0.86        16\n",
      "            GO:0009058       0.62      0.43      0.51       108\n",
      "            GO:0009293       0.00      0.00      0.00         2\n",
      "            GO:0009294       1.00      0.94      0.97        31\n",
      "            GO:0009305       0.00      0.00      0.00         3\n",
      "            GO:0009566       0.00      0.00      0.00         2\n",
      "            GO:0009653       0.88      0.88      0.88        16\n",
      "            GO:0009790       1.00      1.00      1.00         9\n",
      "            GO:0009986       0.50      0.50      0.50         6\n",
      "            GO:0010369       0.00      0.00      0.00         2\n",
      "            GO:0010467       0.99      1.00      0.99       640\n",
      "            GO:0012501       0.00      0.00      0.00         4\n",
      "            GO:0014069       0.00      0.00      0.00         3\n",
      "            GO:0016020       0.80      0.77      0.78        47\n",
      "            GO:0016021       0.38      0.71      0.50         7\n",
      "            GO:0016246       0.00      0.00      0.00         6\n",
      "            GO:0016265       0.97      0.71      0.82        48\n",
      "            GO:0016310       0.27      1.00      0.43         6\n",
      "            GO:0016458       0.00      0.00      0.00         3\n",
      "            GO:0016477       0.00      0.00      0.00         9\n",
      "            GO:0016485       0.00      0.00      0.00         7\n",
      "            GO:0016528       0.00      0.00      0.00         1\n",
      "            GO:0016540       0.00      0.00      0.00         1\n",
      "            GO:0016567       0.00      0.00      0.00         1\n",
      "            GO:0017086       0.43      0.67      0.52         9\n",
      "            GO:0018023       0.00      0.00      0.00         1\n",
      "            GO:0019226       0.00      0.00      0.00         1\n",
      "            GO:0019230       1.00      0.95      0.98        21\n",
      "            GO:0019814       1.00      0.97      0.99       148\n",
      "            GO:0019835       0.00      0.00      0.00        11\n",
      "            GO:0020021       0.00      0.00      0.00         1\n",
      "            GO:0021700       0.29      0.67      0.40         6\n",
      "            GO:0022401       0.00      0.00      0.00         4\n",
      "            GO:0022403       0.00      0.00      0.00         4\n",
      "            GO:0022607       0.67      0.16      0.25        51\n",
      "            GO:0022610       0.00      0.00      0.00         6\n",
      "            GO:0022616       0.00      0.00      0.00         5\n",
      "            GO:0030010       0.00      0.00      0.00         2\n",
      "            GO:0030016       0.00      0.00      0.00         1\n",
      "            GO:0030054       0.00      0.00      0.00         3\n",
      "            GO:0030056       0.00      0.00      0.00         1\n",
      "            GO:0030097       0.90      0.90      0.90        21\n",
      "            GO:0030154       0.92      1.00      0.96       111\n",
      "            GO:0030164       0.00      0.00      0.00         2\n",
      "            GO:0030261       0.00      0.00      0.00         2\n",
      "            GO:0030263       0.00      0.00      0.00         1\n",
      "            GO:0030286       0.00      0.00      0.00         1\n",
      "            GO:0030424       0.87      0.98      0.92        42\n",
      "            GO:0030425       0.00      0.00      0.00         3\n",
      "            GO:0030849       0.29      0.46      0.35        13\n",
      "            GO:0030908       0.00      0.00      0.00         1\n",
      "            GO:0031012       0.00      0.00      0.00         9\n",
      "            GO:0031099       0.00      0.00      0.00         1\n",
      "            GO:0031128       0.00      0.00      0.00        18\n",
      "            GO:0031143       0.00      0.00      0.00         1\n",
      "            GO:0031214       0.00      0.00      0.00         5\n",
      "            GO:0031424       0.00      0.00      0.00         1\n",
      "            GO:0031649       1.00      1.00      1.00         2\n",
      "            GO:0031982       0.67      1.00      0.80        10\n",
      "            GO:0032259       0.00      0.00      0.00         1\n",
      "            GO:0032391       0.00      0.00      0.00         2\n",
      "            GO:0032502       0.83      0.72      0.77       326\n",
      "            GO:0032508       1.00      0.87      0.93        23\n",
      "            GO:0032991       0.69      0.85      0.76        26\n",
      "            GO:0033592       0.93      0.94      0.94       101\n",
      "            GO:0035102       0.00      0.00      0.00         2\n",
      "            GO:0035106       0.00      0.00      0.00         1\n",
      "            GO:0035212       0.00      0.00      0.00         1\n",
      "            GO:0040007       0.83      1.00      0.91        59\n",
      "            GO:0040011       0.00      0.00      0.00        11\n",
      "            GO:0042220       0.00      0.00      0.00         1\n",
      "            GO:0042384       0.00      0.00      0.00         1\n",
      "            GO:0042552       0.00      0.00      0.00         2\n",
      "            GO:0042555       1.00      1.00      1.00        16\n",
      "            GO:0042592       0.00      0.00      0.00         1\n",
      "            GO:0042611       0.00      0.00      0.00         6\n",
      "            GO:0042730       0.00      0.00      0.00         2\n",
      "            GO:0042756       0.00      0.00      0.00         1\n",
      "            GO:0042995       0.56      0.48      0.51        21\n",
      "            GO:0043025       0.00      0.00      0.00         4\n",
      "            GO:0043065       0.00      0.00      0.00         3\n",
      "            GO:0043204       0.00      0.00      0.00         2\n",
      "            GO:0043209       0.00      0.00      0.00         4\n",
      "            GO:0043226       0.00      0.00      0.00         2\n",
      "            GO:0043256       0.00      0.00      0.00         2\n",
      "            GO:0043412       0.00      0.00      0.00        12\n",
      "            GO:0043413       0.00      0.00      0.00         3\n",
      "            GO:0043473       1.00      0.94      0.97        18\n",
      "            GO:0043489       0.00      0.00      0.00         1\n",
      "            GO:0043626       0.00      0.00      0.00         4\n",
      "            GO:0043627       0.00      0.00      0.00         1\n",
      "            GO:0043631       0.00      0.00      0.00         2\n",
      "            GO:0043679       0.10      0.50      0.17         6\n",
      "            GO:0045120       0.00      0.00      0.00         1\n",
      "            GO:0045123       0.00      0.00      0.00         1\n",
      "            GO:0045165       0.00      0.00      0.00         1\n",
      "            GO:0045177       0.91      0.83      0.87        12\n",
      "            GO:0045202       0.65      0.72      0.68        18\n",
      "            GO:0045277       0.00      0.00      0.00         2\n",
      "            GO:0045298       1.00      0.17      0.29         6\n",
      "            GO:0045333       1.00      1.00      1.00        13\n",
      "            GO:0045453       0.00      0.00      0.00         3\n",
      "            GO:0046903       0.92      0.85      0.88        39\n",
      "            GO:0048471       0.50      0.20      0.29         5\n",
      "            GO:0048513       0.00      0.00      0.00         3\n",
      "            GO:0048518       0.85      0.72      0.78        54\n",
      "            GO:0048519       0.84      0.81      0.83        53\n",
      "            GO:0048532       0.00      0.00      0.00         5\n",
      "            GO:0048666       0.00      0.00      0.00         7\n",
      "            GO:0048675       0.00      0.00      0.00         2\n",
      "            GO:0048771       0.00      0.00      0.00         4\n",
      "            GO:0048821       0.00      0.00      0.00         3\n",
      "            GO:0050779       0.00      0.00      0.00         1\n",
      "            GO:0050789       0.00      0.00      0.00         1\n",
      "            GO:0050817       0.00      0.00      0.00         4\n",
      "            GO:0050879       0.94      0.91      0.93        34\n",
      "            GO:0050890       0.00      0.00      0.00         1\n",
      "            GO:0050893       0.00      0.00      0.00         1\n",
      "            GO:0050896       0.89      0.95      0.92        42\n",
      "            GO:0050909       0.96      1.00      0.98        24\n",
      "            GO:0050918       0.00      0.00      0.00        10\n",
      "            GO:0050953       0.00      0.00      0.00         3\n",
      "            GO:0051179       0.86      0.92      0.89        88\n",
      "            GO:0051216       0.00      0.00      0.00         9\n",
      "            GO:0051234       0.00      0.00      0.00         5\n",
      "            GO:0051235       0.00      0.00      0.00         2\n",
      "            GO:0051301       0.35      1.00      0.52         8\n",
      "            GO:0051323       0.00      0.00      0.00         1\n",
      "            GO:0051324       1.00      0.17      0.29         6\n",
      "            GO:0051325       0.00      0.00      0.00         1\n",
      "            GO:0051606       0.00      0.00      0.00         4\n",
      "            GO:0060004       0.00      0.00      0.00         2\n",
      "            GO:0060033       0.00      0.00      0.00         4\n",
      "            GO:0060073       0.00      0.00      0.00         2\n",
      "            GO:0065007       0.78      0.93      0.85       181\n",
      "                     O       1.00      1.00      1.00    210433\n",
      "independent_continuant       0.95      0.91      0.93       346\n",
      "\n",
      "           avg / total       0.99      0.99      0.99    216300\n",
      "\n"
     ]
    },
    {
     "name": "stderr",
     "output_type": "stream",
     "text": [
      "/home/sdmohant/.virtualenvs/deeplearn/local/lib/python2.7/site-packages/sklearn/metrics/classification.py:1113: UndefinedMetricWarning: Precision and F-score are ill-defined and being set to 0.0 in labels with no predicted samples.\n",
      "  'precision', 'predicted', average, warn_for)\n"
     ]
    }
   ],
   "source": [
    "from sklearn.metrics import classification_report\n",
    "\n",
    "predicted = model.predict(X_te)\n",
    "\n",
    "true = []\n",
    "predicted_val = []\n",
    "word = []\n",
    "for i in range(len(predicted)):\n",
    "    p_tmp = np.argmax(predicted[i], axis=-1)\n",
    "    t_tmp = np.argmax(y_te[i], -1)\n",
    "    word.append(X_te[i])\n",
    "    predicted_val.append(p_tmp)\n",
    "    true.append(t_tmp)\n",
    "\n",
    "wd = [list(map(lambda x: idx2word[x], y)) for y in word]\n",
    "p = [list(map(lambda x: idx2tag[x], y)) for y in predicted_val]\n",
    "t = [list(map(lambda x: idx2tag[x], y)) for y in true]\n",
    "\n",
    "print wd[2]\n",
    "print predicted_val[2]\n",
    "print true[2]\n",
    "\n",
    "\n",
    "print p[2]\n",
    "print t[2]\n",
    "\n",
    "report = classification_report(list(itertools.chain.from_iterable(t)), \n",
    "                                    list(itertools.chain.from_iterable(p)))\n",
    "print \"\\n\"\n",
    "print report"
   ]
  },
  {
   "cell_type": "code",
   "execution_count": 26,
   "metadata": {},
   "outputs": [
    {
     "name": "stdout",
     "output_type": "stream",
     "text": [
      "[11042 15502  7956  8828  7640 13524  7321 12763   563   309 15484  6431\n",
      "  8377 11960   703     0     0     0     0     0     0     0     0     0\n",
      "     0     0     0     0     0     0     0     0     0     0     0     0\n",
      "     0     0     0     0     0     0     0     0     0     0     0     0\n",
      "     0     0     0     0     0     0     0     0     0     0     0     0\n",
      "     0     0     0     0     0     0     0     0     0     0     0     0\n",
      "     0     0     0] [[  0   0   0 288   0   0   0   0 303   0   0   0   0 245   0   0   0   0\n",
      "    0   0   0   0   0   0   0   0   0   0   0   0   0   0   0   0   0   0\n",
      "    0   0   0   0   0   0   0   0   0   0   0   0   0   0   0   0   0   0\n",
      "    0   0   0   0   0   0   0   0   0   0   0   0   0   0   0   0   0   0\n",
      "    0   0   0]] [  0   0   0 288   0   0   0   0 303   0   0   0   0 245   0   0   0   0\n",
      "   0   0   0   0   0   0   0   0   0   0   0   0   0   0   0   0   0   0\n",
      "   0   0   0   0   0   0   0   0   0   0   0   0   0   0   0   0   0   0\n",
      "   0   0   0   0   0   0   0   0   0   0   0   0   0   0   0   0   0   0\n",
      "   0   0   0]\n",
      "Word           ||True ||Pred\n",
      "==============================\n",
      "Polyspermy     : O     O\n",
      "or             : O     O\n",
      "defective      : O     O\n",
      "chromosome     : GO:0005694 GO:0005694\n",
      "segregation    : O     O\n",
      "would          : O     O\n",
      "both           : O     O\n",
      "have           : O     O\n",
      "lethal         : GO:0016265 GO:0016265\n",
      "effects        : O     O\n",
      "on             : O     O\n",
      "early          : O     O\n",
      "embryonic      : O     O\n",
      "development    : GO:0032502 GO:0032502\n",
      ".              : O     O\n"
     ]
    }
   ],
   "source": [
    "i = 300\n",
    "pd = model.predict(np.array([X_te[i]]))\n",
    "pd = np.argmax(pd, axis=-1)\n",
    "true = np.argmax(y_te[i], -1)\n",
    "\n",
    "print X_te[i], pd, true\n",
    "print(\"{:15}||{:5}||{}\".format(\"Word\", \"True\", \"Pred\"))\n",
    "print(30 * \"=\")\n",
    "\n",
    "for w, t1, pred in zip(X_te[i], true, pd[0]):\n",
    "    if w != 0:\n",
    "#         print t1, pred\n",
    "        print(\"{:15}: {:5} {}\".format(words[w-1], idx2tag[t1], idx2tag[pred]))"
   ]
  },
  {
   "cell_type": "code",
   "execution_count": 27,
   "metadata": {
    "collapsed": true
   },
   "outputs": [],
   "source": [
    "import pandas as pd\n",
    "\n",
    "df = pd.DataFrame(\n",
    "{\n",
    "    'Predicted' : list(itertools.chain.from_iterable(p)),\n",
    "    'Ground Truth': list(itertools.chain.from_iterable(t)),\n",
    "    'Word' : list(itertools.chain.from_iterable(wd)),\n",
    "}\n",
    ")\n"
   ]
  },
  {
   "cell_type": "code",
   "execution_count": 28,
   "metadata": {
    "collapsed": true
   },
   "outputs": [],
   "source": [
    "df = df[df['Word'] != 'O']"
   ]
  },
  {
   "cell_type": "code",
   "execution_count": 29,
   "metadata": {},
   "outputs": [
    {
     "name": "stdout",
     "output_type": "stream",
     "text": [
      "\n",
      "\n",
      "                        precision    recall  f1-score   support\n",
      "\n",
      "            GO:0000003       0.64      0.64      0.64       124\n",
      "            GO:0000075       0.82      0.64      0.72        14\n",
      "            GO:0000237       0.00      0.00      0.00         2\n",
      "            GO:0000238       0.00      0.00      0.00         4\n",
      "            GO:0000239       0.90      0.90      0.90        31\n",
      "            GO:0000240       0.91      1.00      0.95        10\n",
      "            GO:0000267       0.00      0.00      0.00        11\n",
      "            GO:0000718       0.00      0.00      0.00         1\n",
      "            GO:0000732       0.02      0.46      0.04        13\n",
      "            GO:0000775       0.00      0.00      0.00         2\n",
      "            GO:0000785       0.96      0.92      0.94        24\n",
      "            GO:0000786       0.00      0.00      0.00         4\n",
      "            GO:0000791       0.00      0.00      0.00         1\n",
      "            GO:0000792       1.00      1.00      1.00        22\n",
      "            GO:0000795       0.00      0.00      0.00         2\n",
      "            GO:0000805       1.00      0.50      0.67         6\n",
      "            GO:0000806       0.00      0.00      0.00         4\n",
      "            GO:0000811       0.00      0.00      0.00         1\n",
      "            GO:0001501       0.00      0.00      0.00         2\n",
      "            GO:0001503       1.00      0.22      0.36         9\n",
      "            GO:0001525       0.00      0.00      0.00         1\n",
      "            GO:0001708       0.00      0.00      0.00         3\n",
      "            GO:0001750       0.00      0.00      0.00         1\n",
      "            GO:0001763       0.00      0.00      0.00         8\n",
      "            GO:0001775       0.00      0.00      0.00        18\n",
      "            GO:0001822       0.00      0.00      0.00         1\n",
      "            GO:0001917       0.00      0.00      0.00         8\n",
      "            GO:0001967       0.00      0.00      0.00         3\n",
      "            GO:0002024       0.00      0.00      0.00         1\n",
      "            GO:0002027       0.00      0.00      0.00         1\n",
      "            GO:0005488       0.85      0.97      0.90        58\n",
      "            GO:0005575       0.00      0.00      0.00         2\n",
      "            GO:0005576       0.00      0.00      0.00         6\n",
      "            GO:0005577       0.00      0.00      0.00         1\n",
      "            GO:0005581       0.36      0.50      0.42         8\n",
      "            GO:0005585       0.00      0.00      0.00         1\n",
      "            GO:0005622       0.00      0.00      0.00         8\n",
      "            GO:0005623       0.99      1.00      1.00       855\n",
      "            GO:0005634       0.98      0.98      0.98       117\n",
      "            GO:0005643       0.00      0.00      0.00         1\n",
      "            GO:0005654       0.00      0.00      0.00         9\n",
      "            GO:0005657       0.17      0.20      0.18         5\n",
      "            GO:0005675       0.33      0.60      0.43         5\n",
      "            GO:0005694       0.99      0.97      0.98       144\n",
      "            GO:0005712       0.00      0.00      0.00         1\n",
      "            GO:0005730       0.00      0.00      0.00         1\n",
      "            GO:0005737       0.95      0.95      0.95        22\n",
      "            GO:0005739       1.00      0.98      0.99        51\n",
      "            GO:0005764       0.00      0.00      0.00         6\n",
      "            GO:0005768       0.00      0.00      0.00         3\n",
      "            GO:0005773       0.00      0.00      0.00         4\n",
      "            GO:0005777       0.00      0.00      0.00         4\n",
      "            GO:0005783       0.46      0.86      0.60         7\n",
      "            GO:0005813       0.00      0.00      0.00         1\n",
      "            GO:0005819       0.00      0.00      0.00         2\n",
      "            GO:0005829       0.20      1.00      0.33         2\n",
      "            GO:0005840       1.00      0.33      0.50         3\n",
      "            GO:0005856       0.00      0.00      0.00         5\n",
      "            GO:0005874       0.00      0.00      0.00         1\n",
      "            GO:0005883       0.00      0.00      0.00         1\n",
      "            GO:0005886       0.00      0.00      0.00         1\n",
      "            GO:0005912       0.00      0.00      0.00         5\n",
      "            GO:0005929       0.00      0.00      0.00         2\n",
      "            GO:0006094       0.00      0.00      0.00         2\n",
      "            GO:0006096       0.00      0.00      0.00         2\n",
      "            GO:0006260       0.50      0.38      0.43        13\n",
      "            GO:0006266       0.00      0.00      0.00         3\n",
      "            GO:0006271       0.00      0.00      0.00         1\n",
      "            GO:0006281       0.88      0.94      0.91        31\n",
      "            GO:0006289       0.00      0.00      0.00         1\n",
      "            GO:0006310       0.98      0.94      0.96        69\n",
      "            GO:0006311       0.00      0.00      0.00         6\n",
      "            GO:0006323       0.00      0.00      0.00         1\n",
      "            GO:0006349       0.00      0.00      0.00         6\n",
      "            GO:0006350       0.69      0.91      0.79        70\n",
      "            GO:0006412       0.00      0.00      0.00         7\n",
      "            GO:0006413       0.00      0.00      0.00         6\n",
      "            GO:0006415       0.80      1.00      0.89         4\n",
      "            GO:0006457       0.00      0.00      0.00         2\n",
      "            GO:0006508       0.00      0.00      0.00         1\n",
      "            GO:0006605       0.00      0.00      0.00         3\n",
      "            GO:0006810       0.05      0.50      0.09        22\n",
      "            GO:0006897       0.00      0.00      0.00         1\n",
      "            GO:0006909       0.71      0.83      0.77        12\n",
      "            GO:0006911       1.00      0.33      0.50         3\n",
      "            GO:0006915       0.94      0.98      0.96        63\n",
      "            GO:0006928       0.00      0.00      0.00         1\n",
      "            GO:0006936       0.00      0.00      0.00         5\n",
      "            GO:0006952       0.00      0.00      0.00         2\n",
      "            GO:0006954       0.25      0.17      0.20         6\n",
      "            GO:0007050       0.50      0.67      0.57         6\n",
      "            GO:0007067       0.50      0.82      0.62        11\n",
      "            GO:0007114       0.00      0.00      0.00         2\n",
      "            GO:0007126       1.00      0.93      0.96        29\n",
      "            GO:0007129       0.33      0.22      0.27        18\n",
      "            GO:0007131       0.00      0.00      0.00         2\n",
      "            GO:0007132       0.00      0.00      0.00         1\n",
      "            GO:0007155       0.00      0.00      0.00         1\n",
      "            GO:0007164       0.00      0.00      0.00         1\n",
      "            GO:0007165       0.95      0.88      0.91        80\n",
      "            GO:0007276       0.00      0.00      0.00         2\n",
      "            GO:0007283       0.00      0.00      0.00         3\n",
      "            GO:0007369       0.00      0.00      0.00         6\n",
      "            GO:0007389       0.93      0.70      0.80        20\n",
      "            GO:0007399       0.00      0.00      0.00         1\n",
      "            GO:0007411       0.00      0.00      0.00         2\n",
      "            GO:0007416       0.00      0.00      0.00         3\n",
      "            GO:0007517       0.00      0.00      0.00         5\n",
      "            GO:0007530       0.00      0.00      0.00         1\n",
      "            GO:0007565       0.88      0.93      0.90        15\n",
      "            GO:0007566       0.00      0.00      0.00         3\n",
      "            GO:0007567       0.88      0.95      0.92        40\n",
      "            GO:0007568       0.38      0.50      0.43        10\n",
      "            GO:0007569       0.00      0.00      0.00         1\n",
      "            GO:0007586       0.00      0.00      0.00         2\n",
      "            GO:0007596       1.00      0.09      0.17        11\n",
      "            GO:0007599       0.00      0.00      0.00         6\n",
      "            GO:0007600       1.00      0.97      0.99        38\n",
      "            GO:0007601       0.00      0.00      0.00         8\n",
      "            GO:0007602       0.00      0.00      0.00         2\n",
      "            GO:0007608       0.99      0.99      0.99       107\n",
      "            GO:0007610       0.76      0.92      0.83        24\n",
      "            GO:0007612       1.00      1.00      1.00        37\n",
      "            GO:0007613       1.00      0.97      0.98        30\n",
      "            GO:0007618       0.94      0.78      0.85        37\n",
      "            GO:0007620       0.00      0.00      0.00         1\n",
      "            GO:0007631       0.39      0.75      0.51        12\n",
      "            GO:0008037       0.00      0.00      0.00         7\n",
      "            GO:0008152       0.68      0.70      0.69        27\n",
      "            GO:0008283       0.76      0.94      0.84        31\n",
      "            GO:0008305       0.00      0.00      0.00         2\n",
      "            GO:0008380       0.79      1.00      0.89        27\n",
      "            GO:0008610       0.00      0.00      0.00         1\n",
      "            GO:0009056       0.76      1.00      0.86        16\n",
      "            GO:0009058       0.62      0.43      0.51       108\n",
      "            GO:0009293       0.00      0.00      0.00         2\n",
      "            GO:0009294       1.00      0.94      0.97        31\n",
      "            GO:0009305       0.00      0.00      0.00         3\n",
      "            GO:0009566       0.00      0.00      0.00         2\n",
      "            GO:0009653       0.88      0.88      0.88        16\n",
      "            GO:0009790       1.00      1.00      1.00         9\n",
      "            GO:0009986       0.50      0.50      0.50         6\n",
      "            GO:0010369       0.00      0.00      0.00         2\n",
      "            GO:0010467       0.99      1.00      0.99       640\n",
      "            GO:0012501       0.00      0.00      0.00         4\n",
      "            GO:0014069       0.00      0.00      0.00         3\n",
      "            GO:0016020       0.80      0.77      0.78        47\n",
      "            GO:0016021       0.38      0.71      0.50         7\n",
      "            GO:0016246       0.00      0.00      0.00         6\n",
      "            GO:0016265       0.97      0.71      0.82        48\n",
      "            GO:0016310       0.27      1.00      0.43         6\n",
      "            GO:0016458       0.00      0.00      0.00         3\n",
      "            GO:0016477       0.00      0.00      0.00         9\n",
      "            GO:0016485       0.00      0.00      0.00         7\n",
      "            GO:0016528       0.00      0.00      0.00         1\n",
      "            GO:0016540       0.00      0.00      0.00         1\n",
      "            GO:0016567       0.00      0.00      0.00         1\n",
      "            GO:0017086       0.43      0.67      0.52         9\n",
      "            GO:0018023       0.00      0.00      0.00         1\n",
      "            GO:0019226       0.00      0.00      0.00         1\n",
      "            GO:0019230       1.00      0.95      0.98        21\n",
      "            GO:0019814       1.00      0.97      0.99       148\n",
      "            GO:0019835       0.00      0.00      0.00        11\n",
      "            GO:0020021       0.00      0.00      0.00         1\n",
      "            GO:0021700       0.29      0.67      0.40         6\n",
      "            GO:0022401       0.00      0.00      0.00         4\n",
      "            GO:0022403       0.00      0.00      0.00         4\n",
      "            GO:0022607       0.67      0.16      0.25        51\n",
      "            GO:0022610       0.00      0.00      0.00         6\n",
      "            GO:0022616       0.00      0.00      0.00         5\n",
      "            GO:0030010       0.00      0.00      0.00         2\n",
      "            GO:0030016       0.00      0.00      0.00         1\n",
      "            GO:0030054       0.00      0.00      0.00         3\n",
      "            GO:0030056       0.00      0.00      0.00         1\n",
      "            GO:0030097       0.90      0.90      0.90        21\n",
      "            GO:0030154       0.92      1.00      0.96       111\n",
      "            GO:0030164       0.00      0.00      0.00         2\n",
      "            GO:0030261       0.00      0.00      0.00         2\n",
      "            GO:0030263       0.00      0.00      0.00         1\n",
      "            GO:0030286       0.00      0.00      0.00         1\n",
      "            GO:0030424       0.87      0.98      0.92        42\n",
      "            GO:0030425       0.00      0.00      0.00         3\n",
      "            GO:0030849       0.29      0.46      0.35        13\n",
      "            GO:0030908       0.00      0.00      0.00         1\n",
      "            GO:0031012       0.00      0.00      0.00         9\n",
      "            GO:0031099       0.00      0.00      0.00         1\n",
      "            GO:0031128       0.00      0.00      0.00        18\n",
      "            GO:0031143       0.00      0.00      0.00         1\n",
      "            GO:0031214       0.00      0.00      0.00         5\n",
      "            GO:0031424       0.00      0.00      0.00         1\n",
      "            GO:0031649       1.00      1.00      1.00         2\n",
      "            GO:0031982       0.67      1.00      0.80        10\n",
      "            GO:0032259       0.00      0.00      0.00         1\n",
      "            GO:0032391       0.00      0.00      0.00         2\n",
      "            GO:0032502       0.83      0.72      0.77       326\n",
      "            GO:0032508       1.00      0.87      0.93        23\n",
      "            GO:0032991       0.69      0.85      0.76        26\n",
      "            GO:0033592       0.93      0.94      0.94       101\n",
      "            GO:0035102       0.00      0.00      0.00         2\n",
      "            GO:0035106       0.00      0.00      0.00         1\n",
      "            GO:0035212       0.00      0.00      0.00         1\n",
      "            GO:0040007       0.83      1.00      0.91        59\n",
      "            GO:0040011       0.00      0.00      0.00        11\n",
      "            GO:0042220       0.00      0.00      0.00         1\n",
      "            GO:0042384       0.00      0.00      0.00         1\n",
      "            GO:0042552       0.00      0.00      0.00         2\n",
      "            GO:0042555       1.00      1.00      1.00        16\n",
      "            GO:0042592       0.00      0.00      0.00         1\n",
      "            GO:0042611       0.00      0.00      0.00         6\n",
      "            GO:0042730       0.00      0.00      0.00         2\n",
      "            GO:0042756       0.00      0.00      0.00         1\n",
      "            GO:0042995       0.56      0.48      0.51        21\n",
      "            GO:0043025       0.00      0.00      0.00         4\n",
      "            GO:0043065       0.00      0.00      0.00         3\n",
      "            GO:0043204       0.00      0.00      0.00         2\n",
      "            GO:0043209       0.00      0.00      0.00         4\n",
      "            GO:0043226       0.00      0.00      0.00         2\n",
      "            GO:0043256       0.00      0.00      0.00         2\n",
      "            GO:0043412       0.00      0.00      0.00        12\n",
      "            GO:0043413       0.00      0.00      0.00         3\n",
      "            GO:0043473       1.00      0.94      0.97        18\n",
      "            GO:0043489       0.00      0.00      0.00         1\n",
      "            GO:0043626       0.00      0.00      0.00         4\n",
      "            GO:0043627       0.00      0.00      0.00         1\n",
      "            GO:0043631       0.00      0.00      0.00         2\n",
      "            GO:0043679       0.10      0.50      0.17         6\n",
      "            GO:0045120       0.00      0.00      0.00         1\n",
      "            GO:0045123       0.00      0.00      0.00         1\n",
      "            GO:0045165       0.00      0.00      0.00         1\n",
      "            GO:0045177       0.91      0.83      0.87        12\n",
      "            GO:0045202       0.65      0.72      0.68        18\n",
      "            GO:0045277       0.00      0.00      0.00         2\n",
      "            GO:0045298       1.00      0.17      0.29         6\n",
      "            GO:0045333       1.00      1.00      1.00        13\n",
      "            GO:0045453       0.00      0.00      0.00         3\n",
      "            GO:0046903       0.92      0.85      0.88        39\n",
      "            GO:0048471       0.50      0.20      0.29         5\n",
      "            GO:0048513       0.00      0.00      0.00         3\n",
      "            GO:0048518       0.85      0.72      0.78        54\n",
      "            GO:0048519       0.84      0.81      0.83        53\n",
      "            GO:0048532       0.00      0.00      0.00         5\n",
      "            GO:0048666       0.00      0.00      0.00         7\n",
      "            GO:0048675       0.00      0.00      0.00         2\n",
      "            GO:0048771       0.00      0.00      0.00         4\n",
      "            GO:0048821       0.00      0.00      0.00         3\n",
      "            GO:0050779       0.00      0.00      0.00         1\n",
      "            GO:0050789       0.00      0.00      0.00         1\n",
      "            GO:0050817       0.00      0.00      0.00         4\n",
      "            GO:0050879       0.94      0.91      0.93        34\n",
      "            GO:0050890       0.00      0.00      0.00         1\n",
      "            GO:0050893       0.00      0.00      0.00         1\n",
      "            GO:0050896       0.89      0.95      0.92        42\n",
      "            GO:0050909       0.96      1.00      0.98        24\n",
      "            GO:0050918       0.00      0.00      0.00        10\n",
      "            GO:0050953       0.00      0.00      0.00         3\n",
      "            GO:0051179       0.86      0.92      0.89        88\n",
      "            GO:0051216       0.00      0.00      0.00         9\n",
      "            GO:0051234       0.00      0.00      0.00         5\n",
      "            GO:0051235       0.00      0.00      0.00         2\n",
      "            GO:0051301       0.35      1.00      0.52         8\n",
      "            GO:0051323       0.00      0.00      0.00         1\n",
      "            GO:0051324       1.00      0.17      0.29         6\n",
      "            GO:0051325       0.00      0.00      0.00         1\n",
      "            GO:0051606       0.00      0.00      0.00         4\n",
      "            GO:0060004       0.00      0.00      0.00         2\n",
      "            GO:0060033       0.00      0.00      0.00         4\n",
      "            GO:0060073       0.00      0.00      0.00         2\n",
      "            GO:0065007       0.78      0.93      0.85       181\n",
      "                     O       0.00      0.00      0.00       870\n",
      "independent_continuant       0.95      0.91      0.93       346\n",
      "\n",
      "           avg / total       0.70      0.70      0.70      6737\n",
      "\n"
     ]
    }
   ],
   "source": [
    "df1 = df[(df['Predicted'] != 'O') & (df['Ground Truth'] != 'O') | \n",
    "         (df['Predicted'] == 'O') & (df['Ground Truth'] != 'O') |\n",
    "         (df['Predicted'] != 'O') & (df['Ground Truth'] == 'O')\n",
    "        ]\n",
    "report = classification_report(df1['Ground Truth'], \n",
    "                                    df1['Predicted'])\n",
    "print \"\\n\"\n",
    "print report"
   ]
  },
  {
   "cell_type": "code",
   "execution_count": 30,
   "metadata": {
    "collapsed": true
   },
   "outputs": [],
   "source": [
    "df.to_csv('../data/results/GO_merged_LSTM_Based.tsv', sep='\\t')"
   ]
  },
  {
   "cell_type": "code",
   "execution_count": 31,
   "metadata": {},
   "outputs": [
    {
     "name": "stdout",
     "output_type": "stream",
     "text": [
      "Mean semantic similarity:  0.707\n"
     ]
    },
    {
     "data": {
      "text/plain": [
       "<matplotlib.figure.Figure at 0x7efd0cae2f90>"
      ]
     },
     "metadata": {},
     "output_type": "display_data"
    }
   ],
   "source": [
    "%run ./accuracy/src/computeSim.py ../data/results/GO_merged_LSTM_Based.tsv ../data/validation_data/GO_AllSubsumers.tsv"
   ]
  },
  {
   "cell_type": "code",
   "execution_count": null,
   "metadata": {
    "collapsed": true
   },
   "outputs": [],
   "source": []
  }
 ],
 "metadata": {
  "kernelspec": {
   "display_name": "Python 2",
   "language": "python",
   "name": "python2"
  },
  "language_info": {
   "codemirror_mode": {
    "name": "ipython",
    "version": 2
   },
   "file_extension": ".py",
   "mimetype": "text/x-python",
   "name": "python",
   "nbconvert_exporter": "python",
   "pygments_lexer": "ipython2",
   "version": "2.7.12"
  }
 },
 "nbformat": 4,
 "nbformat_minor": 2
}
