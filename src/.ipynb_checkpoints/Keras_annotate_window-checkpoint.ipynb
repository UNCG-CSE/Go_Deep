{
 "cells": [
  {
   "cell_type": "code",
   "execution_count": 11,
   "metadata": {},
   "outputs": [],
   "source": [
    "import json\n",
    "from keras.preprocessing import sequence\n",
    "from keras.models import Sequential\n",
    "from keras.layers.embeddings import Embedding\n",
    "from keras.layers.recurrent import SimpleRNN, GRU, LSTM\n",
    "from keras.layers.core import Dense, Dropout\n",
    "from keras.layers.wrappers import TimeDistributed\n",
    "from keras.layers import Convolution1D, MaxPooling1D\n",
    "from keras.utils import np_utils\n",
    "import itertools\n",
    "import ast\n",
    "from sklearn.model_selection import train_test_split\n",
    "from sklearn.preprocessing import LabelEncoder\n",
    "import sys, os\n",
    "import traceback\n",
    "\n",
    "import progressbar"
   ]
  },
  {
   "cell_type": "code",
   "execution_count": 12,
   "metadata": {},
   "outputs": [],
   "source": [
    "def read_data(rootdir):\n",
    "    data_list = []\n",
    "    for subdir, dirs, files in os.walk(rootdir):\n",
    "        for fname in files:\n",
    "            #print os.path.join(subdir, file)\n",
    "            filepath = subdir + os.sep + fname\n",
    "            with open(filepath) as f:\n",
    "                for line1,line2 in itertools.izip_longest(*[f]*2):\n",
    "                    try:\n",
    "                        text = ast.literal_eval(line1)\n",
    "                        label = ast.literal_eval(line2)\n",
    "                        if len(text) > 3:\n",
    "                            sentence = zip(text, label)\n",
    "                            sentence = [item for item in sentence if item[0].strip() != '']\n",
    "                            data_list.append(sentence)\n",
    "                    except:\n",
    "                        pass\n",
    "            f.close()\n",
    "    return data_list"
   ]
  },
  {
   "cell_type": "code",
   "execution_count": 13,
   "metadata": {},
   "outputs": [
    {
     "name": "stdout",
     "output_type": "stream",
     "text": [
      "[('A', 'NA'), ('Hybrid', 'NA'), ('Photoreceptor', 'NA'), ('Expressing', 'NA'), ('Both', 'NA'), ('Rod', 'NA'), ('and', 'NA'), ('Cone', 'NA'), ('Genes', 'NA'), ('in', 'NA'), ('a', 'NA'), ('Mouse', 'NA'), ('Model', 'NA'), ('of', 'NA'), ('Enhanced', 'NA'), ('SCone', 'NA'), ('Syndrome', 'NA')]\n"
     ]
    }
   ],
   "source": [
    "data_list = read_data('../data/')\n",
    "\n",
    "print data_list[0]\n",
    "\n",
    "data_list = data_list[:2000]\n",
    "\n",
    "train_test_cutoff = int(.70 * len(data_list)) \n",
    "training_sentences = data_list[:train_test_cutoff]\n",
    "testing_sentences = data_list[train_test_cutoff:]\n",
    " \n",
    "train_val_cutoff = int(.25 * len(training_sentences))\n",
    "validation_sentences = training_sentences[:train_val_cutoff]\n",
    "training_sentences = training_sentences[train_val_cutoff:]"
   ]
  },
  {
   "cell_type": "code",
   "execution_count": 14,
   "metadata": {},
   "outputs": [
    {
     "name": "stdout",
     "output_type": "stream",
     "text": [
      "[('Peptides', 'NA'), ('linked', 'NA'), ('to', 'NA'), ('KLH', 'NA'), ('keyhole', 'NA'), ('limpet', 'NA'), ('hemacyanin', 'NA'), ('from', 'NA'), ('Acdp1', 'NA'), ('N', 'NA'), ('and', 'NA'), ('Cterminals', 'NA'), ('and', 'NA'), ('the', 'NA'), ('conserved', 'NA'), ('domain', 'NA'), ('ACD', 'NA'), ('were', 'NA'), ('used', 'NA'), ('for', 'NA'), ('generation', 'NA'), ('of', 'NA'), ('antibodies', 'GO:0019814'), ('specifically', 'NA'), ('for', 'NA'), ('Acdp1', 'NA'), ('and', 'NA'), ('all', 'NA'), ('Acdp', 'NA'), ('members', 'NA'), ('as', 'NA'), ('reported', 'NA'), ('respectively', 'NA'), ('The', 'NA'), ('membranes', 'NA'), ('were', 'NA'), ('washed', 'NA'), ('extensively', 'NA'), ('after', 'NA'), ('incubation', 'NA'), ('with', 'NA'), ('primary', 'NA'), ('and', 'NA'), ('secondary', 'NA'), ('antibodies', 'GO:0019814'), ('and', 'NA'), ('were', 'NA'), ('then', 'NA'), ('developed', 'NA'), ('with', 'NA'), ('Xray', 'NA'), ('films', 'NA'), ('with', 'NA'), ('optimal', 'NA'), ('exposure', 'NA'), ('time', 'NA')]\n"
     ]
    }
   ],
   "source": [
    "print training_sentences[0]"
   ]
  },
  {
   "cell_type": "code",
   "execution_count": 15,
   "metadata": {},
   "outputs": [],
   "source": [
    "def add_basic_features(sentence_terms, index):\n",
    "    \"\"\" Compute some very basic word features.\n",
    " \n",
    "        :param sentence_terms: [w1, w2, ...] \n",
    "        :type sentence_terms: list\n",
    "        :param index: the index of the word \n",
    "        :type index: int\n",
    "        :return: dict containing features\n",
    "        :rtype: dict\n",
    "    \"\"\"\n",
    "\n",
    "    term = sentence_terms[index]\n",
    "\n",
    "    return {\n",
    "        'nb_terms': len(sentence_terms),\n",
    "        'term': term,\n",
    "        'is_first': index == 0,\n",
    "        'is_last': index == len(sentence_terms) - 1,\n",
    "        'is_capitalized': term[0].upper() == term[0],\n",
    "        'is_all_caps': term.upper() == term,\n",
    "        'is_all_lower': term.lower() == term,\n",
    "        'prefix-1': term[0],\n",
    "        'prefix-2': term[:2],\n",
    "        'prefix-3': term[:3],\n",
    "        'suffix-1': term[-1],\n",
    "        'suffix-2': term[-2:],\n",
    "        'suffix-3': term[-3:],\n",
    "        'prev_word': '' if index == 0 else sentence_terms[index - 1],\n",
    "        'next_word': '' if index == len(sentence_terms) - 1 else sentence_terms[index + 1]\n",
    "    }"
   ]
  },
  {
   "cell_type": "code",
   "execution_count": 16,
   "metadata": {},
   "outputs": [],
   "source": [
    "def untag(tagged_sentence):\n",
    "    \"\"\" \n",
    "    Remove the tag for each tagged term. \n",
    " \n",
    "    :param tagged_sentence: a POS tagged sentence\n",
    "    :type tagged_sentence: list\n",
    "    :return: a list of tags\n",
    "    :rtype: list of strings\n",
    "    \"\"\"\n",
    "    return [w for w, _ in tagged_sentence]\n",
    " \n",
    "def transform_to_dataset(tagged_sentences):\n",
    "    \"\"\"\n",
    "    Split tagged sentences to X and y datasets and append some basic features.\n",
    " \n",
    "    :param tagged_sentences: a list of POS tagged sentences\n",
    "    :param tagged_sentences: list of list of tuples (term_i, tag_i)\n",
    "    :return: \n",
    "    \"\"\"\n",
    "    X, y = [], []\n",
    " \n",
    "    for pos_tags in tagged_sentences:\n",
    "        for index, (term, class_) in enumerate(pos_tags):\n",
    "            # Add basic NLP features for each sentence term\n",
    "            X.append(add_basic_features(untag(pos_tags), index))\n",
    "            y.append(class_)\n",
    "    return X, y"
   ]
  },
  {
   "cell_type": "code",
   "execution_count": 17,
   "metadata": {},
   "outputs": [],
   "source": [
    "X_train, y_train = transform_to_dataset(training_sentences)\n",
    "X_test, y_test = transform_to_dataset(testing_sentences)\n",
    "X_val, y_val = transform_to_dataset(validation_sentences)"
   ]
  },
  {
   "cell_type": "code",
   "execution_count": 18,
   "metadata": {},
   "outputs": [
    {
     "data": {
      "text/plain": [
       "DictVectorizer(dtype=<type 'numpy.float64'>, separator='=', sort=True,\n",
       "        sparse=False)"
      ]
     },
     "execution_count": 18,
     "metadata": {},
     "output_type": "execute_result"
    }
   ],
   "source": [
    "from sklearn.feature_extraction import DictVectorizer\n",
    " \n",
    "# Fit our DictVectorizer with our set of features\n",
    "dict_vectorizer = DictVectorizer(sparse=False)\n",
    "dict_vectorizer.fit(X_train + X_test + X_val)"
   ]
  },
  {
   "cell_type": "code",
   "execution_count": 19,
   "metadata": {},
   "outputs": [],
   "source": [
    "# Convert dict features to vectors\n",
    "X_train = dict_vectorizer.transform(X_train)\n",
    "X_test = dict_vectorizer.transform(X_test)\n",
    "X_val = dict_vectorizer.transform(X_val)"
   ]
  },
  {
   "cell_type": "code",
   "execution_count": 20,
   "metadata": {},
   "outputs": [
    {
     "data": {
      "text/plain": [
       "LabelEncoder()"
      ]
     },
     "execution_count": 20,
     "metadata": {},
     "output_type": "execute_result"
    }
   ],
   "source": [
    "# Fit LabelEncoder with our list of classes\n",
    "from sklearn.preprocessing import LabelEncoder\n",
    "label_encoder = LabelEncoder()\n",
    "label_encoder.fit(y_train + y_test + y_val)"
   ]
  },
  {
   "cell_type": "code",
   "execution_count": 21,
   "metadata": {
    "collapsed": true
   },
   "outputs": [],
   "source": [
    "# Encode class values as integers\n",
    "y_train = label_encoder.transform(y_train)\n",
    "y_test = label_encoder.transform(y_test)\n",
    "y_val = label_encoder.transform(y_val)"
   ]
  },
  {
   "cell_type": "code",
   "execution_count": 22,
   "metadata": {},
   "outputs": [
    {
     "name": "stdout",
     "output_type": "stream",
     "text": [
      "(66636, 48032) (39712, 48032) (66636, 61) (39712, 61)\n"
     ]
    }
   ],
   "source": [
    "# Convert integers to dummy variables (one hot encoded)\n",
    "from keras.utils import np_utils\n",
    " \n",
    "y_train = np_utils.to_categorical(y_train)\n",
    "y_test = np_utils.to_categorical(y_test)\n",
    "y_val = np_utils.to_categorical(y_val)\n",
    "\n",
    "print X_train.shape, X_test.shape, y_train.shape, y_test.shape"
   ]
  },
  {
   "cell_type": "code",
   "execution_count": 23,
   "metadata": {
    "collapsed": true
   },
   "outputs": [],
   "source": [
    "from keras.models import Sequential\n",
    "from keras.layers import Dense, Dropout, Activation\n",
    " \n",
    "def build_model(input_dim, hidden_neurons, output_dim):\n",
    "    \"\"\"\n",
    "    Construct, compile and return a Keras model which will be used to fit/predict\n",
    "    \"\"\"\n",
    "    model = Sequential([\n",
    "        Dense(hidden_neurons, input_dim=input_dim),\n",
    "        Activation('relu'),\n",
    "        Dropout(0.2),\n",
    "        Dense(hidden_neurons),\n",
    "        Activation('relu'),\n",
    "        Dropout(0.2),\n",
    "        Dense(output_dim, activation='softmax')\n",
    "    ])\n",
    " \n",
    "    model.compile(loss='categorical_crossentropy', optimizer='adam', metrics=['accuracy'])\n",
    "    return model"
   ]
  },
  {
   "cell_type": "code",
   "execution_count": 24,
   "metadata": {},
   "outputs": [],
   "source": [
    "# from keras.callbacks import Callback\n",
    "# from sklearn.metrics import confusion_matrix, f1_score, precision_score, recall_score\n",
    "# import numpy as np\n",
    "\n",
    "# class Metrics(Callback):\n",
    "\n",
    "#     def on_train_begin(self, logs={}):\n",
    "#         self.val_f1s = []\n",
    "#         self.val_recalls = []\n",
    "#         self.val_precisions = []\n",
    "\n",
    "#     def on_epoch_end(self, epoch, logs={}):\n",
    "#         val_predict = (np.asarray(self.model.predict(self.model.validation_data[0]))).round()\n",
    "#         val_targ = self.model.validation_data[1]\n",
    "#         _val_f1 = f1_score(val_targ, val_predict)\n",
    "#         _val_recall = recall_score(val_targ, val_predict)\n",
    "#         _val_precision = precision_score(val_targ, val_predict)\n",
    "#         self.val_f1s.append(_val_f1)\n",
    "#         self.val_recalls.append(_val_recall)\n",
    "#         self.val_precisions.append(_val_precision)\n",
    "#         print \" — val_f1: %f — val_precision: %f — val_recall %f\" %(_val_f1, _val_precision, _val_recall)\n",
    "#         return\n",
    "\n",
    "# metrics = Metrics()"
   ]
  },
  {
   "cell_type": "code",
   "execution_count": 25,
   "metadata": {},
   "outputs": [],
   "source": [
    "from keras.wrappers.scikit_learn import KerasClassifier\n",
    " \n",
    "model_params = {\n",
    "    'build_fn': build_model,\n",
    "    'input_dim': X_train.shape[1],\n",
    "    'hidden_neurons': 512,\n",
    "    'output_dim': y_train.shape[1],\n",
    "    'epochs': 5,\n",
    "    'batch_size': 256,\n",
    "    'verbose': 1,\n",
    "    'validation_data': (X_val, y_val),\n",
    "    'shuffle': True\n",
    "}\n",
    " \n",
    "clf = KerasClassifier(**model_params)"
   ]
  },
  {
   "cell_type": "code",
   "execution_count": 26,
   "metadata": {},
   "outputs": [
    {
     "name": "stdout",
     "output_type": "stream",
     "text": [
      "Train on 66636 samples, validate on 21775 samples\n",
      "Epoch 1/5\n",
      "66636/66636 [==============================] - 118s - loss: 0.1779 - acc: 0.9833 - val_loss: 0.0734 - val_acc: 0.9929\n",
      "Epoch 2/5\n",
      "66636/66636 [==============================] - 115s - loss: 0.0256 - acc: 0.9953 - val_loss: 0.0584 - val_acc: 0.9948\n",
      "Epoch 3/5\n",
      "66636/66636 [==============================] - 115s - loss: 0.0133 - acc: 0.9973 - val_loss: 0.0630 - val_acc: 0.9951\n",
      "Epoch 4/5\n",
      "66636/66636 [==============================] - 117s - loss: 0.0097 - acc: 0.9980 - val_loss: 0.0630 - val_acc: 0.9950\n",
      "Epoch 5/5\n",
      "66636/66636 [==============================] - 116s - loss: 0.0080 - acc: 0.9982 - val_loss: 0.0599 - val_acc: 0.9938\n"
     ]
    }
   ],
   "source": [
    "hist = clf.fit(X_train, y_train)"
   ]
  },
  {
   "cell_type": "code",
   "execution_count": 27,
   "metadata": {
    "collapsed": true
   },
   "outputs": [],
   "source": [
    "import matplotlib.pyplot as plt\n",
    "\n",
    "%matplotlib inline\n",
    "\n",
    "def plot_model_performance(train_loss, train_acc, train_val_loss, train_val_acc):\n",
    "    \"\"\" Plot model loss and accuracy through epochs. \"\"\"\n",
    " \n",
    "    green = '#72C29B'\n",
    "    orange = '#FFA577'\n",
    " \n",
    "    with plt.xkcd():\n",
    "        # plot model loss\n",
    "        fig, ax1 = plt.subplots()\n",
    "        ax1.plot(range(1, len(train_loss) + 1), train_loss, green, linewidth=5,\n",
    "                 label='training')\n",
    "        ax1.plot(range(1, len(train_val_loss) + 1), train_val_loss, orange,\n",
    "                 linewidth=5, label='validation')\n",
    "        ax1.set_xlabel('# epoch')\n",
    "        ax1.set_ylabel('loss')\n",
    "        ax1.tick_params('y')\n",
    "        ax1.legend(loc='upper right', shadow=False)\n",
    "        # plot model accuracy\n",
    "        fig, ax2 = plt.subplots()\n",
    "        ax2.plot(range(1, len(train_acc) + 1), train_acc, green, linewidth=5,\n",
    "                 label='training')\n",
    "        ax2.plot(range(1, len(train_val_acc) + 1), train_val_acc, orange,\n",
    "                 linewidth=5, label='validation')\n",
    "        ax2.set_xlabel('# epoch')\n",
    "        ax2.set_ylabel('accuracy')\n",
    "        ax2.tick_params('y')\n",
    "        ax2.legend(loc='lower right', shadow=False)"
   ]
  },
  {
   "cell_type": "code",
   "execution_count": 28,
   "metadata": {},
   "outputs": [
    {
     "name": "stderr",
     "output_type": "stream",
     "text": [
      "/home/sdmohant/.virtualenvs/deeplearn/local/lib/python2.7/site-packages/matplotlib/font_manager.py:1297: UserWarning: findfont: Font family [u'xkcd', u'Humor Sans', u'Comic Sans MS'] not found. Falling back to DejaVu Sans\n",
      "  (prop.get_family(), self.defaultFamily[fontext]))\n"
     ]
    },
    {
     "data": {
      "image/png": "[encoded data removed]",
      "text/plain": [
       "<matplotlib.figure.Figure at 0x7fa5632a5a50>"
      ]
     },
     "metadata": {},
     "output_type": "display_data"
    },
    {
     "data": {
      "image/png": "[encoded data removed]",
      "text/plain": [
       "<matplotlib.figure.Figure at 0x7fa564961790>"
      ]
     },
     "metadata": {},
     "output_type": "display_data"
    }
   ],
   "source": [
    "# Plot model performance\n",
    "plot_model_performance(\n",
    "    train_loss=hist.history.get('loss', []),\n",
    "    train_acc=hist.history.get('acc', []),\n",
    "    train_val_loss=hist.history.get('val_loss', []),\n",
    "    train_val_acc=hist.history.get('val_acc', [])\n",
    ")"
   ]
  },
  {
   "cell_type": "code",
   "execution_count": 29,
   "metadata": {},
   "outputs": [
    {
     "name": "stdout",
     "output_type": "stream",
     "text": [
      "39680/39712 [============================>.] - ETA: 0s0.992521152297\n"
     ]
    }
   ],
   "source": [
    "score = clf.score(X_test, y_test)\n",
    "print(score)"
   ]
  },
  {
   "cell_type": "code",
   "execution_count": 31,
   "metadata": {},
   "outputs": [
    {
     "name": "stdout",
     "output_type": "stream",
     "text": [
      "39680/39712 [============================>.] - ETA: 0s             precision    recall  f1-score   support\n",
      "\n",
      "          0       0.00      0.00      0.00         1\n",
      "          1       0.00      0.00      0.00         0\n",
      "          2       0.00      0.00      0.00         0\n",
      "          3       0.94      1.00      0.97        47\n",
      "          4       0.00      0.00      0.00         0\n",
      "          5       0.00      0.00      0.00         0\n",
      "          6       0.08      1.00      0.16         5\n",
      "          7       0.00      0.00      0.00         8\n",
      "          8       0.78      1.00      0.88         7\n",
      "          9       0.00      0.00      0.00         7\n",
      "         10       0.00      0.00      0.00         0\n",
      "         11       0.00      0.00      0.00         1\n",
      "         12       0.00      0.00      0.00         2\n",
      "         13       0.00      0.00      0.00         5\n",
      "         14       0.00      0.00      0.00        11\n",
      "         15       0.00      0.00      0.00         2\n",
      "         16       0.96      1.00      0.98       363\n",
      "         17       0.88      1.00      0.94        46\n",
      "         18       0.00      0.00      0.00         0\n",
      "         19       0.00      0.00      0.00         0\n",
      "         20       0.99      0.86      0.92       106\n",
      "         21       0.00      0.00      0.00         2\n",
      "         22       0.00      0.00      0.00         0\n",
      "         23       1.00      1.00      1.00         9\n",
      "         24       0.32      1.00      0.48         6\n",
      "         25       0.00      0.00      0.00         0\n",
      "         26       0.00      0.00      0.00         0\n",
      "         27       0.00      0.00      0.00         0\n",
      "         28       0.00      0.00      0.00         0\n",
      "         29       0.00      0.00      0.00         0\n",
      "         30       0.00      0.00      0.00         0\n",
      "         31       0.00      0.00      0.00         0\n",
      "         32       0.00      0.00      0.00         0\n",
      "         33       0.00      0.00      0.00         5\n",
      "         34       0.00      0.00      0.00         0\n",
      "         35       0.00      0.00      0.00         7\n",
      "         36       0.00      0.00      0.00        11\n",
      "         37       0.00      0.00      0.00         1\n",
      "         38       0.00      0.00      0.00         1\n",
      "         39       0.00      0.00      0.00        23\n",
      "         40       0.66      1.00      0.80        76\n",
      "         41       0.00      0.00      0.00         5\n",
      "         42       0.00      0.00      0.00         3\n",
      "         43       0.00      0.00      0.00         4\n",
      "         44       0.00      0.00      0.00         0\n",
      "         45       0.00      0.00      0.00         7\n",
      "         46       0.00      0.00      0.00         1\n",
      "         47       0.50      0.88      0.64         8\n",
      "         48       0.00      0.00      0.00         0\n",
      "         49       0.00      0.00      0.00         0\n",
      "         50       0.00      0.00      0.00         0\n",
      "         51       0.00      0.00      0.00        13\n",
      "         52       0.00      0.00      0.00         0\n",
      "         53       0.00      0.00      0.00         0\n",
      "         54       0.00      0.00      0.00         1\n",
      "         55       0.00      0.00      0.00         6\n",
      "         56       0.50      0.50      0.50         4\n",
      "         57       0.00      0.00      0.00         0\n",
      "         58       1.00      1.00      1.00         1\n",
      "         59       0.00      0.00      0.00         0\n",
      "         60       1.00      1.00      1.00     38907\n",
      "\n",
      "avg / total       0.99      0.99      0.99     39712\n",
      "\n"
     ]
    }
   ],
   "source": [
    "from sklearn.metrics import classification_report\n",
    "predicted = clf.predict(X_test)\n",
    "predicted_cat = np_utils.to_categorical(predicted)"
   ]
  },
  {
   "cell_type": "code",
   "execution_count": 36,
   "metadata": {},
   "outputs": [
    {
     "name": "stdout",
     "output_type": "stream",
     "text": [
      "\n",
      "\n",
      "             precision    recall  f1-score   support\n",
      "\n",
      " GO:0000267       0.00      0.00      0.00         1\n",
      " GO:0000502       0.00      0.00      0.00         0\n",
      " GO:0000775       0.00      0.00      0.00         0\n",
      " GO:0000785       0.94      1.00      0.97        47\n",
      " GO:0000786       0.00      0.00      0.00         0\n",
      " GO:0000791       0.00      0.00      0.00         0\n",
      " GO:0000792       0.08      1.00      0.16         5\n",
      " GO:0000795       0.00      0.00      0.00         8\n",
      " GO:0000805       0.78      1.00      0.88         7\n",
      " GO:0000806       0.00      0.00      0.00         7\n",
      " GO:0001917       0.00      0.00      0.00         0\n",
      " GO:0005575       0.00      0.00      0.00         1\n",
      " GO:0005576       0.00      0.00      0.00         2\n",
      " GO:0005577       0.00      0.00      0.00         5\n",
      " GO:0005581       0.00      0.00      0.00        11\n",
      " GO:0005622       0.00      0.00      0.00         2\n",
      " GO:0005623       0.96      1.00      0.98       363\n",
      " GO:0005634       0.88      1.00      0.94        46\n",
      " GO:0005643       0.00      0.00      0.00         0\n",
      " GO:0005675       0.00      0.00      0.00         0\n",
      " GO:0005694       0.99      0.86      0.92       106\n",
      " GO:0005712       0.00      0.00      0.00         2\n",
      " GO:0005730       0.00      0.00      0.00         0\n",
      " GO:0005737       1.00      1.00      1.00         9\n",
      " GO:0005739       0.32      1.00      0.48         6\n",
      " GO:0005777       0.00      0.00      0.00         0\n",
      " GO:0005829       0.00      0.00      0.00         0\n",
      " GO:0005833       0.00      0.00      0.00         0\n",
      " GO:0005840       0.00      0.00      0.00         0\n",
      " GO:0005856       0.00      0.00      0.00         0\n",
      " GO:0005871       0.00      0.00      0.00         0\n",
      " GO:0005883       0.00      0.00      0.00         0\n",
      " GO:0005966       0.00      0.00      0.00         0\n",
      " GO:0008305       0.00      0.00      0.00         5\n",
      " GO:0010369       0.00      0.00      0.00         0\n",
      " GO:0014069       0.00      0.00      0.00         7\n",
      " GO:0016020       0.00      0.00      0.00        11\n",
      " GO:0016021       0.00      0.00      0.00         1\n",
      " GO:0016459       0.00      0.00      0.00         1\n",
      " GO:0017086       0.00      0.00      0.00        23\n",
      " GO:0019814       0.66      1.00      0.80        76\n",
      " GO:0030054       0.00      0.00      0.00         5\n",
      " GO:0030286       0.00      0.00      0.00         3\n",
      " GO:0030424       0.00      0.00      0.00         4\n",
      " GO:0030425       0.00      0.00      0.00         0\n",
      " GO:0030849       0.00      0.00      0.00         7\n",
      " GO:0031982       0.00      0.00      0.00         1\n",
      " GO:0032991       0.50      0.88      0.64         8\n",
      " GO:0042470       0.00      0.00      0.00         0\n",
      " GO:0042995       0.00      0.00      0.00         0\n",
      " GO:0043025       0.00      0.00      0.00         0\n",
      " GO:0043209       0.00      0.00      0.00        13\n",
      " GO:0043226       0.00      0.00      0.00         0\n",
      " GO:0043679       0.00      0.00      0.00         0\n",
      " GO:0045120       0.00      0.00      0.00         1\n",
      " GO:0045177       0.00      0.00      0.00         6\n",
      " GO:0045202       0.50      0.50      0.50         4\n",
      " GO:0045277       0.00      0.00      0.00         0\n",
      " GO:0045298       1.00      1.00      1.00         1\n",
      " GO:0048471       0.00      0.00      0.00         0\n",
      "         NA       1.00      1.00      1.00     38907\n",
      "\n",
      "avg / total       0.99      0.99      0.99     39712\n",
      "\n"
     ]
    }
   ],
   "source": [
    "# print y_test\n",
    "# print predicted_cat\n",
    "report = classification_report(y_test, predicted_cat, target_names=label_encoder.classes_)\n",
    "print \"\\n\"\n",
    "print report"
   ]
  },
  {
   "cell_type": "code",
   "execution_count": 35,
   "metadata": {},
   "outputs": [
    {
     "data": {
      "text/plain": [
       "array(['GO:0000267', 'GO:0000502', 'GO:0000775', 'GO:0000785',\n",
       "       'GO:0000786', 'GO:0000791', 'GO:0000792', 'GO:0000795',\n",
       "       'GO:0000805', 'GO:0000806', 'GO:0001917', 'GO:0005575',\n",
       "       'GO:0005576', 'GO:0005577', 'GO:0005581', 'GO:0005622',\n",
       "       'GO:0005623', 'GO:0005634', 'GO:0005643', 'GO:0005675',\n",
       "       'GO:0005694', 'GO:0005712', 'GO:0005730', 'GO:0005737',\n",
       "       'GO:0005739', 'GO:0005777', 'GO:0005829', 'GO:0005833',\n",
       "       'GO:0005840', 'GO:0005856', 'GO:0005871', 'GO:0005883',\n",
       "       'GO:0005966', 'GO:0008305', 'GO:0010369', 'GO:0014069',\n",
       "       'GO:0016020', 'GO:0016021', 'GO:0016459', 'GO:0017086',\n",
       "       'GO:0019814', 'GO:0030054', 'GO:0030286', 'GO:0030424',\n",
       "       'GO:0030425', 'GO:0030849', 'GO:0031982', 'GO:0032991',\n",
       "       'GO:0042470', 'GO:0042995', 'GO:0043025', 'GO:0043209',\n",
       "       'GO:0043226', 'GO:0043679', 'GO:0045120', 'GO:0045177',\n",
       "       'GO:0045202', 'GO:0045277', 'GO:0045298', 'GO:0048471', 'NA'],\n",
       "      dtype='|S10')"
      ]
     },
     "execution_count": 35,
     "metadata": {},
     "output_type": "execute_result"
    }
   ],
   "source": [
    "label_encoder.classes_"
   ]
  },
  {
   "cell_type": "code",
   "execution_count": null,
   "metadata": {
    "collapsed": true
   },
   "outputs": [],
   "source": []
  }
 ],
 "metadata": {
  "kernelspec": {
   "display_name": "Python 2",
   "language": "python",
   "name": "python2"
  },
  "language_info": {
   "codemirror_mode": {
    "name": "ipython",
    "version": 2
   },
   "file_extension": ".py",
   "mimetype": "text/x-python",
   "name": "python",
   "nbconvert_exporter": "python",
   "pygments_lexer": "ipython2",
   "version": "2.7.12"
  }
 },
 "nbformat": 4,
 "nbformat_minor": 2
}
