{
 "cells": [
  {
   "cell_type": "code",
   "execution_count": 1,
   "metadata": {},
   "outputs": [
    {
     "name": "stderr",
     "output_type": "stream",
     "text": [
      "Using TensorFlow backend.\n"
     ]
    }
   ],
   "source": [
    "import json\n",
    "from keras.preprocessing import sequence\n",
    "from keras.models import Sequential\n",
    "from keras.layers.embeddings import Embedding\n",
    "from keras.layers.recurrent import SimpleRNN, GRU, LSTM\n",
    "from keras.layers.core import Dense, Dropout\n",
    "from keras.layers.wrappers import TimeDistributed\n",
    "from keras.layers import Convolution1D, MaxPooling1D\n",
    "from keras.utils import np_utils\n",
    "import itertools\n",
    "import ast\n",
    "from sklearn.model_selection import train_test_split\n",
    "from sklearn.preprocessing import LabelEncoder\n",
    "import sys, os\n",
    "import traceback\n",
    "from itertools import chain\n",
    "import numpy as np\n",
    "import pandas as pd\n",
    "\n",
    "import progressbar\n",
    "\n",
    "import tensorflow as tf\n",
    "os.environ[\"CUDA_DEVICE_ORDER\"] = \"PCI_BUS_ID\"   # see issue #152\n",
    "os.environ[\"CUDA_VISIBLE_DEVICES\"] = \"3\""
   ]
  },
  {
   "cell_type": "code",
   "execution_count": 2,
   "metadata": {
    "collapsed": true
   },
   "outputs": [],
   "source": [
    "import matplotlib.pyplot as plt\n",
    "\n",
    "%matplotlib inline"
   ]
  },
  {
   "cell_type": "code",
   "execution_count": 3,
   "metadata": {
    "collapsed": true
   },
   "outputs": [],
   "source": [
    "def read_data(rootdir):\n",
    "    data_list = []\n",
    "    for subdir, dirs, files in os.walk(rootdir):\n",
    "        for fname in files:\n",
    "            #print os.path.join(subdir, file)\n",
    "            filepath = subdir + os.sep + fname\n",
    "            with open(filepath) as f:\n",
    "                for line1,line2 in itertools.izip_longest(*[f]*2):\n",
    "                    try:\n",
    "                        text = ast.literal_eval(line1)\n",
    "                        label = ast.literal_eval(line2)\n",
    "                        \n",
    "#                         for i in range(len(label)):\n",
    "#                             if label[i] == 'NA':\n",
    "#                                 label[i] = 'O'\n",
    "                        n_labels = set(label)\n",
    "                        if len(text) > 3 and len(n_labels) > 1:\n",
    "                            sentence = zip(text, label)\n",
    "                            sentence.append(('.', 'O'))\n",
    "                            sentence = [item for item in sentence if item[0].strip() != '']\n",
    "                            data_list.append(sentence)\n",
    "                    except:\n",
    "                        pass\n",
    "            f.close()\n",
    "    return data_list"
   ]
  },
  {
   "cell_type": "code",
   "execution_count": 4,
   "metadata": {},
   "outputs": [
    {
     "name": "stdout",
     "output_type": "stream",
     "text": [
      "[('A', 'O'), ('Hybrid', 'O'), ('Photoreceptor', 'CL:0000210'), ('Expressing', 'O'), ('Both', 'O'), ('Rod', 'CL:0000604'), ('and', 'O'), ('Cone', 'CL:0000573'), ('Genes', 'O'), ('in', 'O'), ('a', 'O'), ('Mouse', 'O'), ('Model', 'O'), ('of', 'O'), ('Enhanced', 'O'), ('SCone', 'O'), ('Syndrome', 'O'), ('.', 'O')]\n",
      "3042\n",
      "9088\n",
      "68\n"
     ]
    }
   ],
   "source": [
    "data_list = read_data('../data/input/output_cl/')\n",
    "\n",
    "print data_list[0]\n",
    "\n",
    "# data_list = data_list[:3000]\n",
    "\n",
    "# words = list(chain.from_iterable(data_list))\n",
    "# print words\n",
    "\n",
    "print len(data_list)\n",
    "\n",
    "words = list(set(y[0] for x in data_list for y in x))\n",
    "words.append(\"ENDPAD\")\n",
    "n_words = len(words)\n",
    "print n_words\n",
    "\n",
    "tags = list(set(y[1] for x in data_list for y in x))\n",
    "n_tags = len(tags)\n",
    "print n_tags"
   ]
  },
  {
   "cell_type": "code",
   "execution_count": 5,
   "metadata": {
    "collapsed": true
   },
   "outputs": [],
   "source": [
    "# from sklearn.preprocessing import LabelEncoder\n",
    "\n",
    "# le = LabelEncoder()\n",
    "# le.fit(list(y[1] for x in data_list for y in x))\n",
    "\n",
    "# labels2idx = dict(zip(le.classes_, le.transform(le.classes_)))\n",
    "\n",
    "# idx2la = {labels2idx[k]:k for k in labels2idx}"
   ]
  },
  {
   "cell_type": "code",
   "execution_count": 6,
   "metadata": {
    "collapsed": true
   },
   "outputs": [],
   "source": [
    "max_len = 75\n",
    "max_len_char = 10\n",
    "\n",
    "word2idx = {w: i + 2 for i, w in enumerate(words)}\n",
    "word2idx[\"UNK\"] = 1\n",
    "word2idx[\"O\"] = 0\n",
    "idx2word = {i: w for w, i in word2idx.items()}\n",
    "tag2idx = {t: i + 1 for i, t in enumerate(tags)}\n",
    "tag2idx[\"O\"] = 0\n",
    "idx2tag = {i: w for w, i in tag2idx.items()}\n",
    "\n",
    "# print word2idx['Hybrid']\n",
    "# print tag2idx[\"O\"]"
   ]
  },
  {
   "cell_type": "code",
   "execution_count": 7,
   "metadata": {},
   "outputs": [
    {
     "name": "stdout",
     "output_type": "stream",
     "text": [
      "{'O': 0, 'CL:0000775': 1, 'CL:0000558': 2, 'CL:0000100': 3, 'CL:0000127': 4, 'CL:0000771': 5, 'CL:0000103': 6, 'CL:0000129': 7, 'CL:0000556': 8, 'CL:0000670': 9, 'CL:0000573': 10, 'CL:0000738': 11, 'CL:0000636': 12, 'CL:0000120': 13, 'CL:0000300': 14, 'CL:0000576': 15, 'CL:0000540': 48, 'CL:0000365': 17, 'CL:0000187': 18, 'CL:0000836': 20, 'CL:0000209': 22, 'CL:0000125': 25, 'CL:0000232': 65, 'CL:0000031': 26, 'CL:0000182': 27, 'CL:0000018': 28, 'CL:0000019': 29, 'CL:0000017': 30, 'CL:0000609': 32, 'CL:0000763': 33, 'CL:0000764': 34, 'CL:0000057': 35, 'CL:0000748': 36, 'CL:0000136': 37, 'CL:0000210': 38, 'CL:0000138': 39, 'CL:0000601': 40, 'CL:0000745': 41, 'CL:0000333': 31, 'CL:0000740': 19, 'CL:0000604': 44, 'CL:0000589': 45, 'CL:0000059': 46, 'CL:0000561': 47, 'CL:0000092': 16, 'CL:0000216': 24, 'CL:0000542': 50, 'CL:0000312': 51, 'CL:0000353': 52, 'CL:0000584': 23, 'CL:0000586': 54, 'CL:0000099': 55, 'CL:0000214': 42, 'CL:0000135': 53, 'CL:0000234': 56, 'CL:0000767': 57, 'CL:0000846': 58, 'CL:0000233': 68, 'CL:0000025': 59, 'CL:0000235': 60, 'CL:0000023': 61, 'CL:0000652': 62, 'CL:0000020': 63, 'CL:0000148': 64, 'CL:0000062': 21, 'CL:0000547': 66, 'CL:0000000': 67, 'CL:0000541': 49}\n"
     ]
    }
   ],
   "source": [
    "print tag2idx"
   ]
  },
  {
   "cell_type": "code",
   "execution_count": 8,
   "metadata": {
    "collapsed": true
   },
   "outputs": [],
   "source": [
    "from keras.preprocessing.sequence import pad_sequences\n",
    "X_word = [[word2idx[w[0]] for w in s] for s in data_list]"
   ]
  },
  {
   "cell_type": "code",
   "execution_count": 9,
   "metadata": {
    "collapsed": true
   },
   "outputs": [],
   "source": [
    "X_word = pad_sequences(maxlen=max_len, sequences=X_word, value=word2idx[\"O\"], padding='post', truncating='post')"
   ]
  },
  {
   "cell_type": "code",
   "execution_count": 10,
   "metadata": {},
   "outputs": [
    {
     "name": "stdout",
     "output_type": "stream",
     "text": [
      "94\n"
     ]
    }
   ],
   "source": [
    "chars = set([w_i for w in words for w_i in w])\n",
    "n_chars = len(chars)\n",
    "print(n_chars)"
   ]
  },
  {
   "cell_type": "code",
   "execution_count": 11,
   "metadata": {
    "collapsed": true
   },
   "outputs": [],
   "source": [
    "char2idx = {c: i + 2 for i, c in enumerate(chars)}\n",
    "char2idx[\"UNK\"] = 1\n",
    "char2idx[\"O\"] = 0"
   ]
  },
  {
   "cell_type": "code",
   "execution_count": 12,
   "metadata": {
    "collapsed": true
   },
   "outputs": [],
   "source": [
    "X_char = []\n",
    "for sentence in data_list:\n",
    "    sent_seq = []\n",
    "    for i in range(max_len):\n",
    "        word_seq = []\n",
    "        for j in range(max_len_char):\n",
    "            try:\n",
    "                word_seq.append(char2idx.get(sentence[i][0][j]))\n",
    "            except:\n",
    "                word_seq.append(char2idx.get(\"PAD\"))\n",
    "        sent_seq.append(word_seq)\n",
    "    X_char.append(np.array(sent_seq))\n"
   ]
  },
  {
   "cell_type": "code",
   "execution_count": 13,
   "metadata": {
    "collapsed": true
   },
   "outputs": [],
   "source": [
    "y = [[tag2idx[w[1]] for w in s] for s in data_list]"
   ]
  },
  {
   "cell_type": "code",
   "execution_count": 14,
   "metadata": {
    "collapsed": true
   },
   "outputs": [],
   "source": [
    "y = pad_sequences(maxlen=max_len, sequences=y,value=tag2idx[\"O\"], padding='post', truncating='post')"
   ]
  },
  {
   "cell_type": "code",
   "execution_count": 15,
   "metadata": {
    "collapsed": true
   },
   "outputs": [],
   "source": [
    "from sklearn.model_selection import train_test_split\n",
    "X_word_tr, X_word_te, y_tr, y_te = train_test_split(X_word, y, test_size=0.3, random_state=2018)\n",
    "X_char_tr, X_char_te, _, _ = train_test_split(X_char, y, test_size=0.3, random_state=2018)"
   ]
  },
  {
   "cell_type": "code",
   "execution_count": 16,
   "metadata": {
    "collapsed": true
   },
   "outputs": [],
   "source": [
    "from keras.models import Model, Input\n",
    "from keras.layers import LSTM, Embedding, Dense, TimeDistributed, Dropout, Conv1D\n",
    "from keras.layers import Bidirectional, concatenate, SpatialDropout1D, GlobalMaxPooling1D\n",
    "\n",
    "# input and embedding for words\n",
    "word_in = Input(shape=(max_len,))\n",
    "emb_word = Embedding(input_dim=n_words + 2, output_dim=100,\n",
    "                     input_length=max_len, mask_zero=True)(word_in)\n",
    "\n",
    "# input and embeddings for characters\n",
    "char_in = Input(shape=(max_len, max_len_char,))\n",
    "emb_char = TimeDistributed(Embedding(input_dim=n_chars + 2, output_dim=100,\n",
    "                           input_length=max_len_char, mask_zero=True))(char_in)\n",
    "# character LSTM to get word encodings by characters\n",
    "char_enc = TimeDistributed(GRU(units=100, return_sequences=False,\n",
    "                                recurrent_dropout=0.5))(emb_char)\n",
    "\n",
    "# main LSTM\n",
    "x = concatenate([emb_word, char_enc])\n",
    "x = SpatialDropout1D(0.3)(x)\n",
    "main_lstm = Bidirectional(GRU(units=50, return_sequences=True,\n",
    "                               recurrent_dropout=0.6))(x)\n",
    "out = TimeDistributed(Dense(n_tags + 1, activation=\"sigmoid\"))(main_lstm)\n",
    "\n",
    "model = Model([word_in, char_in], out)"
   ]
  },
  {
   "cell_type": "code",
   "execution_count": 17,
   "metadata": {
    "collapsed": true
   },
   "outputs": [],
   "source": [
    "from keras.optimizers import RMSprop\n",
    "\n",
    "rmsopt = RMSprop(lr=0.01, rho=0.9, epsilon=None, decay=0.0)\n",
    "model.compile(optimizer=rmsopt, loss=\"sparse_categorical_crossentropy\", metrics=[\"acc\"])"
   ]
  },
  {
   "cell_type": "code",
   "execution_count": 18,
   "metadata": {},
   "outputs": [
    {
     "name": "stdout",
     "output_type": "stream",
     "text": [
      "__________________________________________________________________________________________________\n",
      "Layer (type)                    Output Shape         Param #     Connected to                     \n",
      "==================================================================================================\n",
      "input_2 (InputLayer)            (None, 75, 10)       0                                            \n",
      "__________________________________________________________________________________________________\n",
      "input_1 (InputLayer)            (None, 75)           0                                            \n",
      "__________________________________________________________________________________________________\n",
      "time_distributed_1 (TimeDistrib (None, 75, 10, 100)  9600        input_2[0][0]                    \n",
      "__________________________________________________________________________________________________\n",
      "embedding_1 (Embedding)         (None, 75, 100)      909000      input_1[0][0]                    \n",
      "__________________________________________________________________________________________________\n",
      "time_distributed_2 (TimeDistrib (None, 75, 100)      60300       time_distributed_1[0][0]         \n",
      "__________________________________________________________________________________________________\n",
      "concatenate_1 (Concatenate)     (None, 75, 200)      0           embedding_1[0][0]                \n",
      "                                                                 time_distributed_2[0][0]         \n",
      "__________________________________________________________________________________________________\n",
      "spatial_dropout1d_1 (SpatialDro (None, 75, 200)      0           concatenate_1[0][0]              \n",
      "__________________________________________________________________________________________________\n",
      "bidirectional_1 (Bidirectional) (None, 75, 100)      75300       spatial_dropout1d_1[0][0]        \n",
      "__________________________________________________________________________________________________\n",
      "time_distributed_3 (TimeDistrib (None, 75, 69)       6969        bidirectional_1[0][0]            \n",
      "==================================================================================================\n",
      "Total params: 1,061,169\n",
      "Trainable params: 1,061,169\n",
      "Non-trainable params: 0\n",
      "__________________________________________________________________________________________________\n"
     ]
    }
   ],
   "source": [
    "model.summary()\n",
    "\n"
   ]
  },
  {
   "cell_type": "code",
   "execution_count": 19,
   "metadata": {
    "scrolled": true
   },
   "outputs": [
    {
     "name": "stdout",
     "output_type": "stream",
     "text": [
      "Train on 2129 samples, validate on 913 samples\n",
      "Epoch 1/15\n",
      "2129/2129 [==============================] - 23s 11ms/step - loss: 0.3476 - acc: 0.9304 - val_loss: 0.0965 - val_acc: 0.9479\n",
      "Epoch 2/15\n",
      "2129/2129 [==============================] - 22s 10ms/step - loss: 0.0456 - acc: 0.9855 - val_loss: 0.0759 - val_acc: 0.9931\n",
      "Epoch 3/15\n",
      "2129/2129 [==============================] - 22s 10ms/step - loss: 0.0229 - acc: 0.9954 - val_loss: 0.0277 - val_acc: 0.9950\n",
      "Epoch 4/15\n",
      "2129/2129 [==============================] - 22s 10ms/step - loss: 0.0163 - acc: 0.9964 - val_loss: 0.0259 - val_acc: 0.9951\n",
      "Epoch 5/15\n",
      "2129/2129 [==============================] - 21s 10ms/step - loss: 0.0143 - acc: 0.9961 - val_loss: 0.0251 - val_acc: 0.9952\n",
      "Epoch 6/15\n",
      "2129/2129 [==============================] - 21s 10ms/step - loss: 0.0122 - acc: 0.9969 - val_loss: 0.0249 - val_acc: 0.9952\n",
      "Epoch 7/15\n",
      "2129/2129 [==============================] - 22s 10ms/step - loss: 0.0096 - acc: 0.9974 - val_loss: 0.0238 - val_acc: 0.9953\n",
      "Epoch 8/15\n",
      "2129/2129 [==============================] - 21s 10ms/step - loss: 0.0088 - acc: 0.9975 - val_loss: 0.0239 - val_acc: 0.9950\n",
      "Epoch 9/15\n",
      "2129/2129 [==============================] - 22s 10ms/step - loss: 0.0076 - acc: 0.9978 - val_loss: 0.0247 - val_acc: 0.9953\n",
      "Epoch 10/15\n",
      "2129/2129 [==============================] - 22s 10ms/step - loss: 0.0074 - acc: 0.9978 - val_loss: 0.0250 - val_acc: 0.9952\n",
      "Epoch 11/15\n",
      "2129/2129 [==============================] - 21s 10ms/step - loss: 0.0060 - acc: 0.9983 - val_loss: 0.0288 - val_acc: 0.9939\n",
      "Epoch 12/15\n",
      "2129/2129 [==============================] - 22s 10ms/step - loss: 0.0056 - acc: 0.9982 - val_loss: 0.0272 - val_acc: 0.9950\n",
      "Epoch 13/15\n",
      "2129/2129 [==============================] - 22s 10ms/step - loss: 0.0056 - acc: 0.9982 - val_loss: 0.0253 - val_acc: 0.9949\n",
      "Epoch 14/15\n",
      "2129/2129 [==============================] - 22s 10ms/step - loss: 0.0050 - acc: 0.9982 - val_loss: 0.0247 - val_acc: 0.9951\n",
      "Epoch 15/15\n",
      "2129/2129 [==============================] - 21s 10ms/step - loss: 0.0052 - acc: 0.9984 - val_loss: 0.0254 - val_acc: 0.9955\n"
     ]
    }
   ],
   "source": [
    "history = model.fit([X_word_tr,\n",
    "                     np.array(X_char_tr).reshape((len(X_char_tr), max_len, max_len_char))],\n",
    "                    np.array(y_tr).reshape(len(y_tr), max_len, 1),\n",
    "                    batch_size=32, epochs=15, validation_data=([X_word_te,\n",
    "                     np.array(X_char_te).reshape((len(X_char_te), max_len, max_len_char))],\n",
    "                    np.array(y_te).reshape(len(y_te), max_len, 1)),\n",
    "                    verbose=1)"
   ]
  },
  {
   "cell_type": "code",
   "execution_count": 20,
   "metadata": {
    "collapsed": true
   },
   "outputs": [],
   "source": [
    "hist = pd.DataFrame(history.history)\n",
    "hist.to_csv('../data/results/performance/CL_merged_CHAR_GRU_Based.tsv', sep='\\t')"
   ]
  },
  {
   "cell_type": "code",
   "execution_count": 21,
   "metadata": {},
   "outputs": [
    {
     "data": {
      "image/png": "[encoded data removed]",
      "text/plain": [
       "<matplotlib.figure.Figure at 0x7f9acdc4f7d0>"
      ]
     },
     "metadata": {},
     "output_type": "display_data"
    }
   ],
   "source": [
    "import matplotlib.pyplot as plt\n",
    "\n",
    "plt.style.use(\"ggplot\")\n",
    "plt.figure(figsize=(12,12))\n",
    "plt.plot(hist[\"loss\"], label='Training Loss')\n",
    "plt.plot(hist[\"val_loss\"], label='Validation Loss')\n",
    "plt.legend()\n",
    "plt.show()"
   ]
  },
  {
   "cell_type": "code",
   "execution_count": 22,
   "metadata": {},
   "outputs": [
    {
     "data": {
      "image/png": "[encoded data removed]",
      "text/plain": [
       "<matplotlib.figure.Figure at 0x7f9acdb4b0d0>"
      ]
     },
     "metadata": {},
     "output_type": "display_data"
    }
   ],
   "source": [
    "plt.style.use(\"ggplot\")\n",
    "plt.figure(figsize=(12,12))\n",
    "plt.plot(hist[\"acc\"], label='Training Accuracy')\n",
    "plt.plot(hist[\"val_acc\"], label='Validation Accuracy')\n",
    "plt.legend()\n",
    "plt.show()"
   ]
  },
  {
   "cell_type": "code",
   "execution_count": 23,
   "metadata": {
    "scrolled": true
   },
   "outputs": [
    {
     "name": "stdout",
     "output_type": "stream",
     "text": [
      "[ 132 2275 7878 7251 4390 7878 6950 5279 5311  918 4865 1742 2461  335\n",
      "    0    0    0    0    0    0    0    0    0    0    0    0    0    0\n",
      "    0    0    0    0    0    0    0    0    0    0    0    0    0    0\n",
      "    0    0    0    0    0    0    0    0    0    0    0    0    0    0\n",
      "    0    0    0    0    0    0    0    0    0    0    0    0    0    0\n",
      "    0    0    0    0    0]\n",
      "[ 0  0  0  0 67  0  0  0  0  0  0  0  0  0  0  0  0  0  0  0  0  0  0  0\n",
      "  0  0  0  0  0  0  0  0  0  0  0  0  0  0  0  0  0  0  0  0  0  0  0  0\n",
      "  0  0  0  0  0  0  0  0  0  0  0  0  0  0  0  0  0  0  0  0  0  0  0  0\n",
      "  0  0  0]\n",
      "[ 0  0  0  0 67  0  0  0  0  0  0  0  0  0  0  0  0  0  0  0  0  0  0  0\n",
      "  0  0  0  0  0  0  0  0  0  0  0  0  0  0  0  0  0  0  0  0  0  0  0  0\n",
      "  0  0  0  0  0  0  0  0  0  0  0  0  0  0  0  0  0  0  0  0  0  0  0  0\n",
      "  0  0  0]\n",
      "['A', 'total', 'of', '50', 'cells', 'of', 'each', 'genotype', 'were', 'quantitated', 'in', 'this', 'manner', '.', 'O', 'O', 'O', 'O', 'O', 'O', 'O', 'O', 'O', 'O', 'O', 'O', 'O', 'O', 'O', 'O', 'O', 'O', 'O', 'O', 'O', 'O', 'O', 'O', 'O', 'O', 'O', 'O', 'O', 'O', 'O', 'O', 'O', 'O', 'O', 'O', 'O', 'O', 'O', 'O', 'O', 'O', 'O', 'O', 'O', 'O', 'O', 'O', 'O', 'O', 'O', 'O', 'O', 'O', 'O', 'O', 'O', 'O', 'O', 'O', 'O']\n",
      "['O', 'O', 'O', 'O', 'CL:0000000', 'O', 'O', 'O', 'O', 'O', 'O', 'O', 'O', 'O', 'O', 'O', 'O', 'O', 'O', 'O', 'O', 'O', 'O', 'O', 'O', 'O', 'O', 'O', 'O', 'O', 'O', 'O', 'O', 'O', 'O', 'O', 'O', 'O', 'O', 'O', 'O', 'O', 'O', 'O', 'O', 'O', 'O', 'O', 'O', 'O', 'O', 'O', 'O', 'O', 'O', 'O', 'O', 'O', 'O', 'O', 'O', 'O', 'O', 'O', 'O', 'O', 'O', 'O', 'O', 'O', 'O', 'O', 'O', 'O', 'O']\n",
      "['O', 'O', 'O', 'O', 'CL:0000000', 'O', 'O', 'O', 'O', 'O', 'O', 'O', 'O', 'O', 'O', 'O', 'O', 'O', 'O', 'O', 'O', 'O', 'O', 'O', 'O', 'O', 'O', 'O', 'O', 'O', 'O', 'O', 'O', 'O', 'O', 'O', 'O', 'O', 'O', 'O', 'O', 'O', 'O', 'O', 'O', 'O', 'O', 'O', 'O', 'O', 'O', 'O', 'O', 'O', 'O', 'O', 'O', 'O', 'O', 'O', 'O', 'O', 'O', 'O', 'O', 'O', 'O', 'O', 'O', 'O', 'O', 'O', 'O', 'O', 'O']\n",
      "\n",
      "\n",
      "             precision    recall  f1-score   support\n",
      "\n",
      " CL:0000000       0.99      1.00      1.00       834\n",
      " CL:0000017       1.00      0.82      0.90        17\n",
      " CL:0000018       1.00      0.50      0.67         2\n",
      " CL:0000019       1.00      0.33      0.50         3\n",
      " CL:0000020       1.00      1.00      1.00         1\n",
      " CL:0000023       1.00      0.80      0.89         5\n",
      " CL:0000025       1.00      1.00      1.00         3\n",
      " CL:0000057       0.78      0.88      0.82         8\n",
      " CL:0000062       1.00      1.00      1.00         8\n",
      " CL:0000092       1.00      0.80      0.89         5\n",
      " CL:0000099       1.00      1.00      1.00         1\n",
      " CL:0000100       0.00      0.00      0.00         1\n",
      " CL:0000103       0.25      0.50      0.33         2\n",
      " CL:0000120       0.00      0.00      0.00         1\n",
      " CL:0000125       0.25      1.00      0.40         2\n",
      " CL:0000127       0.89      1.00      0.94         8\n",
      " CL:0000129       1.00      1.00      1.00         3\n",
      " CL:0000135       1.00      1.00      1.00         1\n",
      " CL:0000136       1.00      0.50      0.67         4\n",
      " CL:0000138       1.00      1.00      1.00         1\n",
      " CL:0000148       1.00      1.00      1.00         1\n",
      " CL:0000182       1.00      1.00      1.00         6\n",
      " CL:0000187       1.00      0.20      0.33         5\n",
      " CL:0000210       0.97      1.00      0.98        61\n",
      " CL:0000214       0.00      0.00      0.00         1\n",
      " CL:0000216       0.71      1.00      0.83        10\n",
      " CL:0000232       1.00      1.00      1.00         8\n",
      " CL:0000233       1.00      1.00      1.00        14\n",
      " CL:0000235       1.00      1.00      1.00        23\n",
      " CL:0000300       0.60      1.00      0.75         3\n",
      " CL:0000312       1.00      1.00      1.00        22\n",
      " CL:0000333       1.00      1.00      1.00         7\n",
      " CL:0000540       0.94      0.97      0.95       104\n",
      " CL:0000542       1.00      1.00      1.00         6\n",
      " CL:0000547       0.00      0.00      0.00         0\n",
      " CL:0000556       0.00      0.00      0.00         1\n",
      " CL:0000558       0.00      0.00      0.00         1\n",
      " CL:0000561       0.38      0.30      0.33        27\n",
      " CL:0000573       0.98      1.00      0.99        42\n",
      " CL:0000576       0.20      1.00      0.33         1\n",
      " CL:0000586       0.00      0.00      0.00         1\n",
      " CL:0000589       0.00      0.00      0.00         2\n",
      " CL:0000601       0.00      0.00      0.00         2\n",
      " CL:0000604       1.00      1.00      1.00        38\n",
      " CL:0000609       0.00      0.00      0.00         3\n",
      " CL:0000636       0.00      0.00      0.00         1\n",
      " CL:0000670       0.67      0.67      0.67         3\n",
      " CL:0000738       0.00      0.00      0.00         1\n",
      " CL:0000740       0.33      1.00      0.50         2\n",
      " CL:0000745       0.67      1.00      0.80         2\n",
      " CL:0000748       0.00      0.00      0.00         1\n",
      " CL:0000763       1.00      1.00      1.00         1\n",
      " CL:0000764       1.00      1.00      1.00         9\n",
      " CL:0000767       1.00      1.00      1.00         1\n",
      " CL:0000771       1.00      1.00      1.00         1\n",
      " CL:0000775       1.00      0.67      0.80         3\n",
      " CL:0000836       0.00      0.00      0.00         0\n",
      " CL:0000846       0.00      0.00      0.00         1\n",
      "          O       1.00      1.00      1.00     67150\n",
      "\n",
      "avg / total       1.00      1.00      1.00     68475\n",
      "\n"
     ]
    },
    {
     "name": "stderr",
     "output_type": "stream",
     "text": [
      "/home/sdmohant/.virtualenvs/deeplearn/local/lib/python2.7/site-packages/sklearn/metrics/classification.py:1113: UndefinedMetricWarning: Precision and F-score are ill-defined and being set to 0.0 in labels with no predicted samples.\n",
      "  'precision', 'predicted', average, warn_for)\n",
      "/home/sdmohant/.virtualenvs/deeplearn/local/lib/python2.7/site-packages/sklearn/metrics/classification.py:1115: UndefinedMetricWarning: Recall and F-score are ill-defined and being set to 0.0 in labels with no true samples.\n",
      "  'recall', 'true', average, warn_for)\n"
     ]
    }
   ],
   "source": [
    "from sklearn.metrics import classification_report\n",
    "\n",
    "predicted = model.predict([X_word_te,\n",
    "                        np.array(X_char_te).reshape((len(X_char_te),\n",
    "                                                     max_len, max_len_char))])\n",
    "true = []\n",
    "predicted_val = []\n",
    "word = []\n",
    "for i in range(len(predicted)):\n",
    "    p_tmp = np.argmax(predicted[i], axis=-1)\n",
    "    t_tmp = y_te[i]\n",
    "    word.append(X_word_te[i])\n",
    "    predicted_val.append(p_tmp)\n",
    "    true.append(t_tmp)\n",
    "\n",
    "print word[2]\n",
    "print predicted_val[2]\n",
    "print true[2]\n",
    "\n",
    "wd = [list(map(lambda x: idx2word[x], y)) for y in word]    \n",
    "p = [list(map(lambda x: idx2tag[x], y)) for y in predicted_val]\n",
    "t = [list(map(lambda x: idx2tag[x], y)) for y in true]\n",
    "\n",
    "\n",
    "print wd[2]\n",
    "print p[2]\n",
    "print t[2]\n",
    "\n",
    "report = classification_report(list(itertools.chain.from_iterable(t)), \n",
    "                                    list(itertools.chain.from_iterable(p)))\n",
    "print \"\\n\"\n",
    "print report"
   ]
  },
  {
   "cell_type": "code",
   "execution_count": 24,
   "metadata": {},
   "outputs": [
    {
     "name": "stdout",
     "output_type": "stream",
     "text": [
      "Word           ||True ||Pred\n",
      "==============================\n",
      "onethird       : O     O\n",
      "bluestained    : CL:0000000 CL:0000000\n",
      "DM             : O     O\n",
      "MMTV           : O     O\n",
      "amplify        : O     O\n",
      "20             : O     O\n",
      "lamina         : O     O\n",
      "postpartum     : O     O\n",
      "if             : O     O\n",
      "07             : O     O\n",
      "Ia             : O     O\n",
      "magnified      : O     O\n",
      "gonocytes      : O     O\n",
      "decline        : O     O\n",
      "TFIIH          : O     O\n",
      "Wnts           : O     O\n",
      "husbandry      : O     O\n",
      "fast           : O     O\n",
      "VectashieldDAPI: O     O\n",
      "bins           : O     O\n",
      "marrow         : O     O\n",
      "VectashieldDAPI: O     O\n",
      "Protein        : O     O\n",
      "Wnts           : O     O\n",
      "initial        : O     O\n",
      "edge           : O     O\n",
      "ameliorate     : O     O\n",
      "Most           : O     O\n",
      "much           : O     O\n"
     ]
    }
   ],
   "source": [
    "i = 300\n",
    "pred = np.argmax(predicted[i], axis=-1)\n",
    "print(\"{:15}||{:5}||{}\".format(\"Word\", \"True\", \"Pred\"))\n",
    "print(30 * \"=\")\n",
    "for w, tr, pred in zip(X_word_te[i], y_te[i], pred):\n",
    "    if w != 0:\n",
    "        print(\"{:15}: {:5} {}\".format(words[w], idx2tag[tr], idx2tag[pred]))\n",
    "\n",
    "# pd = model.predict(np.array([X_te[i]]))\n",
    "# pd = np.argmax(pd, axis=-1)\n",
    "# true = np.argmax(y_te[i], -1)\n",
    "# print(\"{:15}||{:5}||{}\".format(\"Word\", \"True\", \"Pred\"))\n",
    "# print(30 * \"=\")\n",
    "\n",
    "# for w, t1, pred in zip(X_te[i], true, pd[0]):\n",
    "#     if w != 0:\n",
    "#         print(\"{:15}: {:5} {}\".format(words[w-1], tags[t1], tags[pred]))"
   ]
  },
  {
   "cell_type": "code",
   "execution_count": 25,
   "metadata": {
    "collapsed": true
   },
   "outputs": [],
   "source": [
    "import pandas as pd\n",
    "\n",
    "df = pd.DataFrame(\n",
    "{\n",
    "    'Predicted' : list(itertools.chain.from_iterable(p)),\n",
    "    'Ground Truth': list(itertools.chain.from_iterable(t)),\n",
    "    'Word' : list(itertools.chain.from_iterable(wd)),\n",
    "}\n",
    ")\n"
   ]
  },
  {
   "cell_type": "code",
   "execution_count": 26,
   "metadata": {
    "collapsed": true
   },
   "outputs": [],
   "source": [
    "df = df[df['Word'] != 'O']"
   ]
  },
  {
   "cell_type": "code",
   "execution_count": 27,
   "metadata": {},
   "outputs": [
    {
     "name": "stdout",
     "output_type": "stream",
     "text": [
      "\n",
      "\n",
      "             precision    recall  f1-score   support\n",
      "\n",
      " CL:0000000       0.99      1.00      1.00       834\n",
      " CL:0000017       1.00      0.82      0.90        17\n",
      " CL:0000018       1.00      0.50      0.67         2\n",
      " CL:0000019       1.00      0.33      0.50         3\n",
      " CL:0000020       1.00      1.00      1.00         1\n",
      " CL:0000023       1.00      0.80      0.89         5\n",
      " CL:0000025       1.00      1.00      1.00         3\n",
      " CL:0000057       0.78      0.88      0.82         8\n",
      " CL:0000062       1.00      1.00      1.00         8\n",
      " CL:0000092       1.00      0.80      0.89         5\n",
      " CL:0000099       1.00      1.00      1.00         1\n",
      " CL:0000100       0.00      0.00      0.00         1\n",
      " CL:0000103       0.25      0.50      0.33         2\n",
      " CL:0000120       0.00      0.00      0.00         1\n",
      " CL:0000125       0.25      1.00      0.40         2\n",
      " CL:0000127       0.89      1.00      0.94         8\n",
      " CL:0000129       1.00      1.00      1.00         3\n",
      " CL:0000135       1.00      1.00      1.00         1\n",
      " CL:0000136       1.00      0.50      0.67         4\n",
      " CL:0000138       1.00      1.00      1.00         1\n",
      " CL:0000148       1.00      1.00      1.00         1\n",
      " CL:0000182       1.00      1.00      1.00         6\n",
      " CL:0000187       1.00      0.20      0.33         5\n",
      " CL:0000210       0.97      1.00      0.98        61\n",
      " CL:0000214       0.00      0.00      0.00         1\n",
      " CL:0000216       0.71      1.00      0.83        10\n",
      " CL:0000232       1.00      1.00      1.00         8\n",
      " CL:0000233       1.00      1.00      1.00        14\n",
      " CL:0000235       1.00      1.00      1.00        23\n",
      " CL:0000300       0.60      1.00      0.75         3\n",
      " CL:0000312       1.00      1.00      1.00        22\n",
      " CL:0000333       1.00      1.00      1.00         7\n",
      " CL:0000540       0.94      0.97      0.95       104\n",
      " CL:0000542       1.00      1.00      1.00         6\n",
      " CL:0000547       0.00      0.00      0.00         0\n",
      " CL:0000556       0.00      0.00      0.00         1\n",
      " CL:0000558       0.00      0.00      0.00         1\n",
      " CL:0000561       0.38      0.30      0.33        27\n",
      " CL:0000573       0.98      1.00      0.99        42\n",
      " CL:0000576       0.20      1.00      0.33         1\n",
      " CL:0000586       0.00      0.00      0.00         1\n",
      " CL:0000589       0.00      0.00      0.00         2\n",
      " CL:0000601       0.00      0.00      0.00         2\n",
      " CL:0000604       1.00      1.00      1.00        38\n",
      " CL:0000609       0.00      0.00      0.00         3\n",
      " CL:0000636       0.00      0.00      0.00         1\n",
      " CL:0000670       0.67      0.67      0.67         3\n",
      " CL:0000738       0.00      0.00      0.00         1\n",
      " CL:0000740       0.33      1.00      0.50         2\n",
      " CL:0000745       0.67      1.00      0.80         2\n",
      " CL:0000748       0.00      0.00      0.00         1\n",
      " CL:0000763       1.00      1.00      1.00         1\n",
      " CL:0000764       1.00      1.00      1.00         9\n",
      " CL:0000767       1.00      1.00      1.00         1\n",
      " CL:0000771       1.00      1.00      1.00         1\n",
      " CL:0000775       1.00      0.67      0.80         3\n",
      " CL:0000836       0.00      0.00      0.00         0\n",
      " CL:0000846       0.00      0.00      0.00         1\n",
      "          O       0.00      0.00      0.00        52\n",
      "\n",
      "avg / total       0.92      0.92      0.92      1377\n",
      "\n"
     ]
    }
   ],
   "source": [
    "df1 = df[(df['Predicted'] != 'O') & (df['Ground Truth'] != 'O') | \n",
    "         (df['Predicted'] == 'O') & (df['Ground Truth'] != 'O') |\n",
    "         (df['Predicted'] != 'O') & (df['Ground Truth'] == 'O')\n",
    "        ]\n",
    "report = classification_report(df1['Ground Truth'], \n",
    "                                    df1['Predicted'])\n",
    "print \"\\n\"\n",
    "print report"
   ]
  },
  {
   "cell_type": "code",
   "execution_count": 28,
   "metadata": {
    "collapsed": true
   },
   "outputs": [],
   "source": [
    "df.to_csv('../data/results/CL_CHAR_GRU_Based.tsv', sep='\\t')"
   ]
  },
  {
   "cell_type": "code",
   "execution_count": 29,
   "metadata": {},
   "outputs": [
    {
     "name": "stdout",
     "output_type": "stream",
     "text": [
      "Mean semantic similarity:  0.925\n"
     ]
    },
    {
     "data": {
      "text/plain": [
       "<matplotlib.figure.Figure at 0x7f9b3c615b50>"
      ]
     },
     "metadata": {},
     "output_type": "display_data"
    }
   ],
   "source": [
    "%run ./accuracy/src/computeSim.py ../data/results/CL_CHAR_GRU_Based.tsv ../data/validation_data/CL_AllSubsumers.tsv"
   ]
  },
  {
   "cell_type": "code",
   "execution_count": null,
   "metadata": {
    "collapsed": true
   },
   "outputs": [],
   "source": []
  }
 ],
 "metadata": {
  "kernelspec": {
   "display_name": "Python 2",
   "language": "python",
   "name": "python2"
  },
  "language_info": {
   "codemirror_mode": {
    "name": "ipython",
    "version": 2
   },
   "file_extension": ".py",
   "mimetype": "text/x-python",
   "name": "python",
   "nbconvert_exporter": "python",
   "pygments_lexer": "ipython2",
   "version": "2.7.12"
  }
 },
 "nbformat": 4,
 "nbformat_minor": 2
}
