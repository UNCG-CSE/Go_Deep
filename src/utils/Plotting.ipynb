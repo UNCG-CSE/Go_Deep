{
 "cells": [
  {
   "cell_type": "code",
   "execution_count": 3,
   "metadata": {
    "collapsed": true
   },
   "outputs": [],
   "source": [
    "import pandas as pd\n",
    "import numpy as np\n",
    "import matplotlib.pyplot as plt\n",
    "import sys, os\n",
    "\n",
    "%matplotlib inline"
   ]
  },
  {
   "cell_type": "code",
   "execution_count": 18,
   "metadata": {
    "collapsed": true
   },
   "outputs": [],
   "source": [
    "def read_data(rootdir):\n",
    "    data_list = {}\n",
    "    for subdir, dirs, files in os.walk(rootdir):\n",
    "        for fname in files:\n",
    "            #print os.path.join(subdir, file)\n",
    "            filepath = subdir + fname\n",
    "            df = pd.read_csv(filepath, sep='\\t')\n",
    "            \n",
    "            data_key = fname.split('.')[0]\n",
    "            data_list[data_key] = {}\n",
    "            data_list= {data_key : {\n",
    "                'acc': df.ix[:,1].tolist(),\n",
    "                'loss': df.ix[:,2].tolist(),\n",
    "                'val_acc': df.ix[:,3].tolist(),\n",
    "                'val_loss': df.ix[:,4].tolist()\n",
    "            }}\n",
    "#             print filepath, fname\n",
    "            print data_list\n",
    "            break\n",
    "            f.close()\n",
    "    return data_list"
   ]
  },
  {
   "cell_type": "code",
   "execution_count": 19,
   "metadata": {},
   "outputs": [
    {
     "name": "stdout",
     "output_type": "stream",
     "text": [
      "{'CW-BiLSTM-CRF_GO': {'acc': [16.832777540654202, 16.56820516078076, 16.510369967517434, 16.475011041581162, 16.44899080119608, 16.430147050298633, 16.413426692636357, 16.399472733472138, 16.386076693855873, 16.375326224949347, 16.36557489666481, 16.357462398969233, 16.349797217948062, 16.342552445863394, 16.335141097098823], 'loss': [16.982501500164233, 16.928055688863346, 16.887112835323578, 16.849878170364082, 16.82983905824114, 16.816084651893892, 16.802438948479868, 16.80347882539117, 16.798811994887327, 16.78311611218041, 16.807671140495447, 16.78073881462756, 16.773331897172422, 16.7766716725979, 16.784018519196998], 'val_acc': [0.9314831790817814, 0.9414906043528182, 0.9469303858977508, 0.952120761519355, 0.9551278761170368, 0.9564838635224152, 0.9592027635959528, 0.9582889681074944, 0.9580457960994796, 0.9612401302146379, 0.9444843558879948, 0.9581663057332584, 0.9593379683481286, 0.9541557703509636, 0.949914501238002], 'val_loss': [0.9193320524996832, 0.9387242646871492, 0.9465549273141409, 0.9506871251049888, 0.9530713110294676, 0.9551499896235279, 0.9568706351281068, 0.95922698711598, 0.9615176186167956, 0.9631539958593542, 0.9649531505306828, 0.966734766452984, 0.9682447195480184, 0.9694675858794156, 0.9713717043568864]}}\n"
     ]
    },
    {
     "name": "stderr",
     "output_type": "stream",
     "text": [
      "/home/sdmohant/.virtualenvs/deeplearn/lib/python2.7/site-packages/ipykernel_launcher.py:12: DeprecationWarning: \n",
      ".ix is deprecated. Please use\n",
      ".loc for label based indexing or\n",
      ".iloc for positional indexing\n",
      "\n",
      "See the documentation here:\n",
      "http://pandas.pydata.org/pandas-docs/stable/indexing.html#deprecate_ix\n",
      "  if sys.path[0] == '':\n"
     ]
    }
   ],
   "source": [
    "data = read_data(\"../../data/results/performance/\")"
   ]
  },
  {
   "cell_type": "code",
   "execution_count": null,
   "metadata": {
    "collapsed": true
   },
   "outputs": [],
   "source": [
    "def data_plot(data):\n",
    "    plt.style.use(\"ggplot\")\n",
    "    plt.figure(figsize=(12,12))\n",
    "    plt.plot(hist[\"loss\"], label='Training Loss')\n",
    "    plt.plot(hist[\"val_loss\"], label='Validation Loss')\n",
    "    plt.legend()\n",
    "    plt.show()"
   ]
  }
 ],
 "metadata": {
  "kernelspec": {
   "display_name": "Python 3",
   "language": "python",
   "name": "python3"
  },
  "language_info": {
   "codemirror_mode": {
    "name": "ipython",
    "version": 2
   },
   "file_extension": ".py",
   "mimetype": "text/x-python",
   "name": "python",
   "nbconvert_exporter": "python",
   "pygments_lexer": "ipython2",
   "version": "2.7.12"
  }
 },
 "nbformat": 4,
 "nbformat_minor": 2
}
