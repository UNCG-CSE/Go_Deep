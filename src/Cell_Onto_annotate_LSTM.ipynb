{
 "cells": [
  {
   "cell_type": "code",
   "execution_count": 1,
   "metadata": {},
   "outputs": [
    {
     "name": "stderr",
     "output_type": "stream",
     "text": [
      "Using TensorFlow backend.\n"
     ]
    }
   ],
   "source": [
    "import json\n",
    "from keras.preprocessing import sequence\n",
    "from keras.models import Sequential\n",
    "from keras.layers.embeddings import Embedding\n",
    "from keras.layers.recurrent import SimpleRNN, GRU, LSTM\n",
    "from keras.layers.core import Dense, Dropout\n",
    "from keras.layers.wrappers import TimeDistributed\n",
    "from keras.layers import Convolution1D, MaxPooling1D\n",
    "from keras.utils import np_utils\n",
    "import itertools\n",
    "import ast\n",
    "from sklearn.model_selection import train_test_split\n",
    "from sklearn.preprocessing import LabelEncoder\n",
    "import sys, os\n",
    "import traceback\n",
    "from itertools import chain\n",
    "import numpy as np\n",
    "import pandas as pd\n",
    "\n",
    "import progressbar\n",
    "\n",
    "import tensorflow as tf\n",
    "os.environ[\"CUDA_DEVICE_ORDER\"] = \"PCI_BUS_ID\"   # see issue #152\n",
    "os.environ[\"CUDA_VISIBLE_DEVICES\"] = \"2\""
   ]
  },
  {
   "cell_type": "code",
   "execution_count": 2,
   "metadata": {
    "collapsed": true
   },
   "outputs": [],
   "source": [
    "import matplotlib.pyplot as plt\n",
    "\n",
    "%matplotlib inline"
   ]
  },
  {
   "cell_type": "code",
   "execution_count": 3,
   "metadata": {
    "collapsed": true
   },
   "outputs": [],
   "source": [
    "def read_data(rootdir):\n",
    "    data_list = []\n",
    "    for subdir, dirs, files in os.walk(rootdir):\n",
    "        for fname in files:\n",
    "            #print os.path.join(subdir, file)\n",
    "            filepath = subdir + os.sep + fname\n",
    "            with open(filepath) as f:\n",
    "                for line1,line2 in itertools.izip_longest(*[f]*2):\n",
    "                    try:\n",
    "                        text = ast.literal_eval(line1)\n",
    "                        label = ast.literal_eval(line2)\n",
    "                        n_labels = set(label)\n",
    "                        if len(text) > 3 and len(n_labels) > 1:\n",
    "                            sentence = zip(text, label)\n",
    "                            sentence = [item for item in sentence if item[0].strip() != '']\n",
    "                            data_list.append(sentence)\n",
    "                    except:\n",
    "                        pass\n",
    "            f.close()\n",
    "    return data_list"
   ]
  },
  {
   "cell_type": "code",
   "execution_count": 4,
   "metadata": {},
   "outputs": [
    {
     "name": "stdout",
     "output_type": "stream",
     "text": [
      "[('A', 'NA'), ('Hybrid', 'NA'), ('Photoreceptor', 'CL:0000210'), ('Expressing', 'NA'), ('Both', 'NA'), ('Rod', 'CL:0000604'), ('and', 'NA'), ('Cone', 'CL:0000573'), ('Genes', 'NA'), ('in', 'NA'), ('a', 'NA'), ('Mouse', 'NA'), ('Model', 'NA'), ('of', 'NA'), ('Enhanced', 'NA'), ('SCone', 'NA'), ('Syndrome', 'NA')]\n"
     ]
    },
    {
     "data": {
      "text/plain": [
       "68"
      ]
     },
     "execution_count": 4,
     "metadata": {},
     "output_type": "execute_result"
    }
   ],
   "source": [
    "data_list = read_data('../data/input/output_cl/')\n",
    "\n",
    "print data_list[0]\n",
    "\n",
    "# data_list = data_list[:3000]\n",
    "\n",
    "# words = list(chain.from_iterable(data_list))\n",
    "# print words\n",
    "\n",
    "words = list(set(y[0] for x in data_list for y in x))\n",
    "words.append(\"ENDPAD\")\n",
    "n_words = len(words); n_words\n",
    "\n",
    "tags = list(set(y[1] for x in data_list for y in x))\n",
    "n_tags = len(tags); n_tags"
   ]
  },
  {
   "cell_type": "code",
   "execution_count": 5,
   "metadata": {
    "collapsed": true
   },
   "outputs": [],
   "source": [
    "# from sklearn.preprocessing import LabelEncoder\n",
    "\n",
    "# le = LabelEncoder()\n",
    "# le.fit(list(y[1] for x in data_list for y in x))\n",
    "\n",
    "# labels2idx = dict(zip(le.classes_, le.transform(le.classes_)))\n",
    "\n",
    "# idx2la = {labels2idx[k]:k for k in labels2idx}"
   ]
  },
  {
   "cell_type": "code",
   "execution_count": 6,
   "metadata": {},
   "outputs": [
    {
     "name": "stdout",
     "output_type": "stream",
     "text": [
      "705\n",
      "23\n"
     ]
    }
   ],
   "source": [
    "max_len = 75\n",
    "word2idx = {w: i + 1 for i, w in enumerate(words)}\n",
    "tag2idx = {t: i for i, t in enumerate(tags, 1)}\n",
    "tag2idx['0'] = 0\n",
    "n_tags += 1\n",
    "\n",
    "idx2tag = {v: k for k, v in tag2idx.iteritems()}\n",
    "\n",
    "print word2idx['Hybrid']\n",
    "print tag2idx[\"NA\"]"
   ]
  },
  {
   "cell_type": "code",
   "execution_count": 7,
   "metadata": {},
   "outputs": [
    {
     "name": "stdout",
     "output_type": "stream",
     "text": [
      "{'CL:0000775': 1, 'CL:0000558': 2, 'CL:0000100': 3, 'CL:0000127': 4, 'CL:0000771': 5, 'CL:0000103': 6, 'CL:0000129': 7, 'CL:0000556': 8, 'CL:0000670': 9, 'CL:0000573': 10, 'CL:0000738': 11, 'CL:0000636': 12, 'CL:0000120': 13, 'CL:0000300': 14, 'CL:0000576': 15, 'CL:0000540': 48, 'CL:0000365': 17, 'CL:0000187': 18, 'CL:0000836': 20, 'CL:0000209': 22, '0': 0, 'NA': 23, 'CL:0000125': 24, 'CL:0000232': 65, 'CL:0000031': 25, 'CL:0000182': 26, 'CL:0000018': 27, 'CL:0000019': 28, 'CL:0000017': 29, 'CL:0000609': 32, 'CL:0000763': 33, 'CL:0000764': 34, 'CL:0000057': 35, 'CL:0000748': 36, 'CL:0000136': 37, 'CL:0000210': 38, 'CL:0000138': 39, 'CL:0000601': 40, 'CL:0000745': 41, 'CL:0000333': 30, 'CL:0000216': 19, 'CL:0000604': 44, 'CL:0000589': 45, 'CL:0000059': 46, 'CL:0000561': 47, 'CL:0000092': 16, 'CL:0000740': 43, 'CL:0000542': 50, 'CL:0000312': 51, 'CL:0000353': 52, 'CL:0000584': 31, 'CL:0000586': 54, 'CL:0000099': 55, 'CL:0000214': 42, 'CL:0000135': 53, 'CL:0000234': 56, 'CL:0000767': 57, 'CL:0000846': 58, 'CL:0000233': 68, 'CL:0000025': 59, 'CL:0000235': 60, 'CL:0000023': 61, 'CL:0000652': 62, 'CL:0000020': 63, 'CL:0000148': 64, 'CL:0000062': 21, 'CL:0000547': 66, 'CL:0000000': 67, 'CL:0000541': 49}\n"
     ]
    }
   ],
   "source": [
    "print tag2idx"
   ]
  },
  {
   "cell_type": "code",
   "execution_count": 8,
   "metadata": {
    "collapsed": true
   },
   "outputs": [],
   "source": [
    "from keras.preprocessing.sequence import pad_sequences\n",
    "X = [[word2idx[w[0]] for w in s] for s in data_list]"
   ]
  },
  {
   "cell_type": "code",
   "execution_count": 9,
   "metadata": {
    "collapsed": true
   },
   "outputs": [],
   "source": [
    "X = pad_sequences(maxlen=max_len, sequences=X, padding=\"post\", value=-1)"
   ]
  },
  {
   "cell_type": "code",
   "execution_count": 10,
   "metadata": {
    "collapsed": true
   },
   "outputs": [],
   "source": [
    "y = [[tag2idx[w[1]] for w in s] for s in data_list]"
   ]
  },
  {
   "cell_type": "code",
   "execution_count": 11,
   "metadata": {
    "collapsed": true
   },
   "outputs": [],
   "source": [
    "y = pad_sequences(maxlen=max_len, sequences=y, padding=\"post\", value=tag2idx[\"NA\"])"
   ]
  },
  {
   "cell_type": "code",
   "execution_count": 12,
   "metadata": {
    "collapsed": true
   },
   "outputs": [],
   "source": [
    "from keras.utils import to_categorical\n",
    "\n",
    "y = [to_categorical(i, num_classes=n_tags) for i in y]"
   ]
  },
  {
   "cell_type": "code",
   "execution_count": 13,
   "metadata": {
    "collapsed": true
   },
   "outputs": [],
   "source": [
    "from sklearn.model_selection import train_test_split\n",
    "\n",
    "X_tr, X_te, y_tr, y_te = train_test_split(X, y, test_size=0.3)"
   ]
  },
  {
   "cell_type": "code",
   "execution_count": 14,
   "metadata": {
    "collapsed": true
   },
   "outputs": [],
   "source": [
    "# from sklearn.utils import class_weight\n",
    "# import numpy as np\n",
    "\n",
    "# cw = class_weight.compute_class_weight('balanced',\n",
    "#                                                  np.unique(y_tr),\n",
    "#                                                  y_tr)"
   ]
  },
  {
   "cell_type": "code",
   "execution_count": 15,
   "metadata": {},
   "outputs": [
    {
     "name": "stdout",
     "output_type": "stream",
     "text": [
      "(1015, 75) (435, 75) (1015, 75, 69) (435, 75, 69)\n"
     ]
    }
   ],
   "source": [
    "print np.shape(X_tr), np.shape(X_te), np.shape(y_tr), np.shape(y_te)"
   ]
  },
  {
   "cell_type": "code",
   "execution_count": 16,
   "metadata": {
    "collapsed": true,
    "scrolled": true
   },
   "outputs": [],
   "source": [
    "from keras.models import Model, Input\n",
    "from keras.layers import LSTM, Embedding, Dense, TimeDistributed, Dropout, Bidirectional\n",
    "from keras_contrib.layers import CRF\n",
    "\n",
    "input = Input(shape=(max_len,))\n",
    "model = Embedding(input_dim=n_words + 1, output_dim=100,\n",
    "                  input_length=max_len, mask_zero=True)(input)  # 20-dim embedding\n",
    "model = Bidirectional(LSTM(units=100, return_sequences=True,\n",
    "                           recurrent_dropout=0.25))(model)  # variational biLSTM\n",
    "model = TimeDistributed(Dense(n_tags, activation=\"relu\"))(model)  # a dense layer as suggested by neuralNer\n",
    "crf = CRF(n_tags)  # CRF layer\n",
    "out = crf(model)  # output"
   ]
  },
  {
   "cell_type": "code",
   "execution_count": 17,
   "metadata": {
    "collapsed": true
   },
   "outputs": [],
   "source": [
    "model = Model(input, out)"
   ]
  },
  {
   "cell_type": "code",
   "execution_count": 18,
   "metadata": {
    "collapsed": true
   },
   "outputs": [],
   "source": [
    "model.compile(optimizer=\"rmsprop\", loss=crf.loss_function, metrics=[crf.accuracy])"
   ]
  },
  {
   "cell_type": "code",
   "execution_count": 19,
   "metadata": {},
   "outputs": [
    {
     "name": "stdout",
     "output_type": "stream",
     "text": [
      "_________________________________________________________________\n",
      "Layer (type)                 Output Shape              Param #   \n",
      "=================================================================\n",
      "input_1 (InputLayer)         (None, 75)                0         \n",
      "_________________________________________________________________\n",
      "embedding_1 (Embedding)      (None, 75, 100)           1380100   \n",
      "_________________________________________________________________\n",
      "bidirectional_1 (Bidirection (None, 75, 200)           160800    \n",
      "_________________________________________________________________\n",
      "time_distributed_1 (TimeDist (None, 75, 69)            13869     \n",
      "_________________________________________________________________\n",
      "crf_1 (CRF)                  (None, 75, 69)            9729      \n",
      "=================================================================\n",
      "Total params: 1,564,498\n",
      "Trainable params: 1,564,498\n",
      "Non-trainable params: 0\n",
      "_________________________________________________________________\n"
     ]
    }
   ],
   "source": [
    "model.summary()\n",
    "\n"
   ]
  },
  {
   "cell_type": "code",
   "execution_count": 20,
   "metadata": {
    "scrolled": true
   },
   "outputs": [
    {
     "name": "stdout",
     "output_type": "stream",
     "text": [
      "Train on 1015 samples, validate on 435 samples\n",
      "Epoch 1/15\n",
      "1015/1015 [==============================] - 13s 12ms/step - loss: 0.7998 - viterbi_acc: 0.8757 - val_loss: 0.1903 - val_viterbi_acc: 0.9739\n",
      "Epoch 2/15\n",
      "1015/1015 [==============================] - 11s 11ms/step - loss: 0.1835 - viterbi_acc: 0.9742 - val_loss: 0.1709 - val_viterbi_acc: 0.9739\n",
      "Epoch 3/15\n",
      "1015/1015 [==============================] - 11s 11ms/step - loss: 0.1550 - viterbi_acc: 0.9742 - val_loss: 0.1218 - val_viterbi_acc: 0.9739\n",
      "Epoch 4/15\n",
      "1015/1015 [==============================] - 11s 11ms/step - loss: 0.1051 - viterbi_acc: 0.9815 - val_loss: 0.0808 - val_viterbi_acc: 0.9878\n",
      "Epoch 5/15\n",
      "1015/1015 [==============================] - 11s 11ms/step - loss: 0.0721 - viterbi_acc: 0.9889 - val_loss: 0.0613 - val_viterbi_acc: 0.9903\n",
      "Epoch 6/15\n",
      "1015/1015 [==============================] - 11s 11ms/step - loss: 0.0579 - viterbi_acc: 0.9892 - val_loss: 0.0513 - val_viterbi_acc: 0.9902\n",
      "Epoch 7/15\n",
      "1015/1015 [==============================] - 11s 11ms/step - loss: 0.0484 - viterbi_acc: 0.9901 - val_loss: 0.0482 - val_viterbi_acc: 0.9921\n",
      "Epoch 8/15\n",
      "1015/1015 [==============================] - 11s 11ms/step - loss: 0.0447 - viterbi_acc: 0.9909 - val_loss: 0.0455 - val_viterbi_acc: 0.9922\n",
      "Epoch 9/15\n",
      "1015/1015 [==============================] - 11s 11ms/step - loss: 0.0421 - viterbi_acc: 0.9910 - val_loss: 0.0451 - val_viterbi_acc: 0.9922\n",
      "Epoch 10/15\n",
      "1015/1015 [==============================] - 11s 11ms/step - loss: 0.0406 - viterbi_acc: 0.9912 - val_loss: 0.0445 - val_viterbi_acc: 0.9923\n",
      "Epoch 11/15\n",
      "1015/1015 [==============================] - 11s 11ms/step - loss: 0.0373 - viterbi_acc: 0.9913 - val_loss: 0.0433 - val_viterbi_acc: 0.9925\n",
      "Epoch 12/15\n",
      "1015/1015 [==============================] - 11s 11ms/step - loss: 0.0357 - viterbi_acc: 0.9917 - val_loss: 0.0414 - val_viterbi_acc: 0.9928\n",
      "Epoch 13/15\n",
      "1015/1015 [==============================] - 11s 11ms/step - loss: 0.0334 - viterbi_acc: 0.9923 - val_loss: 0.0414 - val_viterbi_acc: 0.9933\n",
      "Epoch 14/15\n",
      "1015/1015 [==============================] - 11s 11ms/step - loss: 0.0312 - viterbi_acc: 0.9927 - val_loss: 0.0436 - val_viterbi_acc: 0.9932\n",
      "Epoch 15/15\n",
      "1015/1015 [==============================] - 11s 11ms/step - loss: 0.0283 - viterbi_acc: 0.9931 - val_loss: 0.0394 - val_viterbi_acc: 0.9938\n"
     ]
    }
   ],
   "source": [
    "history = model.fit(X_tr, np.array(y_tr), batch_size=32, epochs=15,\n",
    "                    validation_data=(X_te, np.array(y_te)), class_weight = 'auto', verbose=1)"
   ]
  },
  {
   "cell_type": "code",
   "execution_count": 21,
   "metadata": {
    "collapsed": true
   },
   "outputs": [],
   "source": [
    "hist = pd.DataFrame(history.history)"
   ]
  },
  {
   "cell_type": "code",
   "execution_count": 22,
   "metadata": {},
   "outputs": [
    {
     "name": "stdout",
     "output_type": "stream",
     "text": [
      "        loss  val_loss  val_viterbi_acc  viterbi_acc\n",
      "0   0.799806  0.190338         0.973916     0.875731\n",
      "1   0.183486  0.170869         0.973916     0.974240\n",
      "2   0.154973  0.121820         0.973916     0.974240\n",
      "3   0.105108  0.080810         0.987801     0.981465\n",
      "4   0.072073  0.061299         0.990253     0.988926\n",
      "5   0.057949  0.051329         0.990161     0.989202\n",
      "6   0.048423  0.048225         0.992092     0.990069\n",
      "7   0.044682  0.045505         0.992153     0.990910\n",
      "8   0.042113  0.045075         0.992245     0.991028\n",
      "9   0.040603  0.044513         0.992307     0.991159\n",
      "10  0.037325  0.043273         0.992521     0.991251\n",
      "11  0.035720  0.041420         0.992828     0.991672\n",
      "12  0.033382  0.041449         0.993318     0.992302\n",
      "13  0.031205  0.043608         0.993195     0.992683\n",
      "14  0.028281  0.039402         0.993839     0.993064\n"
     ]
    }
   ],
   "source": [
    "print hist"
   ]
  },
  {
   "cell_type": "code",
   "execution_count": 23,
   "metadata": {},
   "outputs": [
    {
     "data": {
      "image/png": "[encoded data removed]",
      "text/plain": [
       "<matplotlib.figure.Figure at 0x7f7c18328650>"
      ]
     },
     "metadata": {},
     "output_type": "display_data"
    }
   ],
   "source": [
    "import matplotlib.pyplot as plt\n",
    "plt.style.use(\"ggplot\")\n",
    "plt.figure(figsize=(12,12))\n",
    "plt.plot(hist[\"loss\"], label='Training Loss')\n",
    "plt.plot(hist[\"val_loss\"], label='Validation Loss')\n",
    "plt.legend()\n",
    "plt.show()"
   ]
  },
  {
   "cell_type": "code",
   "execution_count": 24,
   "metadata": {},
   "outputs": [
    {
     "data": {
      "image/png": "[encoded data removed]",
      "text/plain": [
       "<matplotlib.figure.Figure at 0x7f7c1f42d810>"
      ]
     },
     "metadata": {},
     "output_type": "display_data"
    }
   ],
   "source": [
    "plt.style.use(\"ggplot\")\n",
    "plt.figure(figsize=(12,12))\n",
    "plt.plot(hist[\"viterbi_acc\"], label='Training Accuracy')\n",
    "plt.plot(hist[\"val_viterbi_acc\"], label='Validation Accuracy')\n",
    "plt.legend()\n",
    "plt.show()"
   ]
  },
  {
   "cell_type": "code",
   "execution_count": 25,
   "metadata": {
    "scrolled": true
   },
   "outputs": [
    {
     "name": "stdout",
     "output_type": "stream",
     "text": [
      "[23 23 23 23 23 23 23 23 67 23 23 23 23 23 23 23 23 23 23 23 23 23 23 23\n",
      " 23 23 23 23 23 23 23 23 23 23 23 23 23 23 23 23 23 23 23 23 23 23 23 23\n",
      " 23 23 23 23 23 23 23 23 23 23 23 23 23 23 23 23 23 23 23 23 23 23 23 23\n",
      " 23 23 23]\n",
      "[23 23 23 23 23 23 23 23 67 23 23 23 23 23 23 23 23 23 23 23 23 23 23 23\n",
      " 23 23 23 23 23 23 23 23 23 23 23 23 23 23 23 23 23 23 23 23 23 23 23 23\n",
      " 23 23 23 23 23 23 23 23 23 23 23 23 23 23 23 23 23 23 23 23 23 23 23 23\n",
      " 23 23 23]\n",
      "['NA', 'NA', 'NA', 'NA', 'NA', 'NA', 'NA', 'NA', 'CL:0000000', 'NA', 'NA', 'NA', 'NA', 'NA', 'NA', 'NA', 'NA', 'NA', 'NA', 'NA', 'NA', 'NA', 'NA', 'NA', 'NA', 'NA', 'NA', 'NA', 'NA', 'NA', 'NA', 'NA', 'NA', 'NA', 'NA', 'NA', 'NA', 'NA', 'NA', 'NA', 'NA', 'NA', 'NA', 'NA', 'NA', 'NA', 'NA', 'NA', 'NA', 'NA', 'NA', 'NA', 'NA', 'NA', 'NA', 'NA', 'NA', 'NA', 'NA', 'NA', 'NA', 'NA', 'NA', 'NA', 'NA', 'NA', 'NA', 'NA', 'NA', 'NA', 'NA', 'NA', 'NA', 'NA', 'NA']\n",
      "['NA', 'NA', 'NA', 'NA', 'NA', 'NA', 'NA', 'NA', 'CL:0000000', 'NA', 'NA', 'NA', 'NA', 'NA', 'NA', 'NA', 'NA', 'NA', 'NA', 'NA', 'NA', 'NA', 'NA', 'NA', 'NA', 'NA', 'NA', 'NA', 'NA', 'NA', 'NA', 'NA', 'NA', 'NA', 'NA', 'NA', 'NA', 'NA', 'NA', 'NA', 'NA', 'NA', 'NA', 'NA', 'NA', 'NA', 'NA', 'NA', 'NA', 'NA', 'NA', 'NA', 'NA', 'NA', 'NA', 'NA', 'NA', 'NA', 'NA', 'NA', 'NA', 'NA', 'NA', 'NA', 'NA', 'NA', 'NA', 'NA', 'NA', 'NA', 'NA', 'NA', 'NA', 'NA', 'NA']\n",
      "\n",
      "\n",
      "             precision    recall  f1-score   support\n",
      "\n",
      " CL:0000000       1.00      1.00      1.00        13\n",
      " CL:0000023       0.00      0.00      0.00         3\n",
      " CL:0000062       0.00      0.00      0.00         4\n",
      " CL:0000092       0.00      0.00      0.00         1\n",
      " CL:0000136       0.00      0.00      0.00         1\n",
      " CL:0000210       0.50      1.00      0.67         2\n",
      " CL:0000540       0.75      1.00      0.86         3\n",
      " CL:0000573       0.00      0.00      0.00         0\n",
      " CL:0000604       1.00      0.50      0.67         2\n",
      " CL:0000745       0.00      0.00      0.00         1\n",
      "         NA       1.00      1.00      1.00      1470\n",
      "\n",
      "avg / total       0.99      0.99      0.99      1500\n",
      "\n"
     ]
    },
    {
     "name": "stderr",
     "output_type": "stream",
     "text": [
      "/home/sdmohant/.virtualenvs/deeplearn/local/lib/python2.7/site-packages/sklearn/metrics/classification.py:1113: UndefinedMetricWarning: Precision and F-score are ill-defined and being set to 0.0 in labels with no predicted samples.\n",
      "  'precision', 'predicted', average, warn_for)\n",
      "/home/sdmohant/.virtualenvs/deeplearn/local/lib/python2.7/site-packages/sklearn/metrics/classification.py:1115: UndefinedMetricWarning: Recall and F-score are ill-defined and being set to 0.0 in labels with no true samples.\n",
      "  'recall', 'true', average, warn_for)\n"
     ]
    }
   ],
   "source": [
    "from sklearn.metrics import classification_report\n",
    "\n",
    "predicted = model.predict(X_te)\n",
    "\n",
    "true = []\n",
    "predicted_val = []\n",
    "for i in range(len(predicted[:20])):\n",
    "    p_tmp = np.argmax(predicted[i], axis=-1)\n",
    "    t_tmp = np.argmax(y_te[i], -1)\n",
    "    predicted_val.append(p_tmp)\n",
    "    true.append(t_tmp)\n",
    "\n",
    "    \n",
    "p = [list(map(lambda x: idx2tag[x], y)) for y in predicted_val]\n",
    "t = [list(map(lambda x: idx2tag[x], y)) for y in true]\n",
    "\n",
    "print predicted_val[2]\n",
    "print true[2]\n",
    "\n",
    "\n",
    "print p[2]\n",
    "print t[2]\n",
    "\n",
    "report = classification_report(list(itertools.chain.from_iterable(t)), \n",
    "                                    list(itertools.chain.from_iterable(p)))\n",
    "print \"\\n\"\n",
    "print report"
   ]
  },
  {
   "cell_type": "code",
   "execution_count": 26,
   "metadata": {},
   "outputs": [
    {
     "name": "stdout",
     "output_type": "stream",
     "text": [
      "Word           ||True ||Pred\n",
      "==============================\n",
      "B              : CL:0000125 CL:0000125\n",
      "SUMO1          : CL:0000125 CL:0000125\n",
      "green          : CL:0000125 CL:0000125\n",
      "and            : CL:0000125 CL:0000125\n",
      "RBMY           : CL:0000125 CL:0000125\n",
      "red            : CL:0000125 CL:0000125\n",
      "immunostaining : CL:0000125 CL:0000125\n",
      "of             : CL:0000125 CL:0000125\n",
      "adult          : CL:0000125 CL:0000125\n",
      "testis         : CL:0000125 CL:0000125\n",
      "sections       : CL:0000125 CL:0000125\n",
      "from           : CL:0000125 CL:0000125\n",
      "wildtype       : CL:0000125 CL:0000125\n",
      "and            : CL:0000125 CL:0000125\n",
      "Dmrt7          : CL:0000125 CL:0000125\n",
      "mutant         : CL:0000125 CL:0000125\n",
      "Premeiotic     : CL:0000125 CL:0000125\n",
      "cells          : CL:0000233 CL:0000233\n",
      "near           : CL:0000125 CL:0000125\n",
      "the            : CL:0000125 CL:0000125\n",
      "basal          : CL:0000125 CL:0000125\n",
      "membrane       : CL:0000125 CL:0000125\n",
      "express        : CL:0000125 CL:0000125\n",
      "high           : CL:0000125 CL:0000125\n",
      "level          : CL:0000125 CL:0000125\n",
      "of             : CL:0000125 CL:0000125\n",
      "RBMY           : CL:0000125 CL:0000125\n",
      "whereas        : CL:0000125 CL:0000125\n",
      "SUMO1positive  : CL:0000125 CL:0000125\n",
      "pachytene      : CL:0000125 CL:0000125\n",
      "cells          : CL:0000233 CL:0000233\n",
      "do             : CL:0000125 CL:0000125\n",
      "not            : CL:0000125 CL:0000125\n",
      "express        : CL:0000125 CL:0000125\n",
      "RBMY           : CL:0000125 CL:0000125\n",
      "in             : CL:0000125 CL:0000125\n",
      "both           : CL:0000125 CL:0000125\n",
      "wildtype       : CL:0000125 CL:0000125\n",
      "and            : CL:0000125 CL:0000125\n",
      "mutant         : CL:0000125 CL:0000125\n",
      "indicating     : CL:0000125 CL:0000125\n",
      "proper         : CL:0000125 CL:0000125\n",
      "silencing      : CL:0000125 CL:0000125\n",
      "NaKATPase      : CL:0000125 CL:0000125\n",
      "NaKATPase      : CL:0000125 CL:0000125\n",
      "NaKATPase      : CL:0000125 CL:0000125\n",
      "NaKATPase      : CL:0000125 CL:0000125\n",
      "NaKATPase      : CL:0000125 CL:0000125\n",
      "NaKATPase      : CL:0000125 CL:0000125\n",
      "NaKATPase      : CL:0000125 CL:0000125\n",
      "NaKATPase      : CL:0000125 CL:0000125\n",
      "NaKATPase      : CL:0000125 CL:0000125\n",
      "NaKATPase      : CL:0000125 CL:0000125\n",
      "NaKATPase      : CL:0000125 CL:0000125\n",
      "NaKATPase      : CL:0000125 CL:0000125\n",
      "NaKATPase      : CL:0000125 CL:0000125\n",
      "NaKATPase      : CL:0000125 CL:0000125\n",
      "NaKATPase      : CL:0000125 CL:0000125\n",
      "NaKATPase      : CL:0000125 CL:0000125\n",
      "NaKATPase      : CL:0000125 CL:0000125\n",
      "NaKATPase      : CL:0000125 CL:0000125\n",
      "NaKATPase      : CL:0000125 CL:0000125\n",
      "NaKATPase      : CL:0000125 CL:0000125\n",
      "NaKATPase      : CL:0000125 CL:0000125\n",
      "NaKATPase      : CL:0000125 CL:0000125\n",
      "NaKATPase      : CL:0000125 CL:0000125\n",
      "NaKATPase      : CL:0000125 CL:0000125\n",
      "NaKATPase      : CL:0000125 CL:0000125\n",
      "NaKATPase      : CL:0000125 CL:0000125\n",
      "NaKATPase      : CL:0000125 CL:0000125\n",
      "NaKATPase      : CL:0000125 CL:0000125\n",
      "NaKATPase      : CL:0000125 CL:0000125\n",
      "NaKATPase      : CL:0000125 CL:0000125\n",
      "NaKATPase      : CL:0000125 CL:0000125\n",
      "NaKATPase      : CL:0000125 CL:0000125\n"
     ]
    }
   ],
   "source": [
    "i = 300\n",
    "pd = model.predict(np.array([X_te[i]]))\n",
    "pd = np.argmax(pd, axis=-1)\n",
    "true = np.argmax(y_te[i], -1)\n",
    "print(\"{:15}||{:5}||{}\".format(\"Word\", \"True\", \"Pred\"))\n",
    "print(30 * \"=\")\n",
    "\n",
    "for w, t1, pred in zip(X_te[i], true, pd[0]):\n",
    "    if w != 0:\n",
    "        print(\"{:15}: {:5} {}\".format(words[w-1], tags[t1], tags[pred]))"
   ]
  },
  {
   "cell_type": "code",
   "execution_count": 27,
   "metadata": {
    "collapsed": true
   },
   "outputs": [],
   "source": [
    "import pandas as pd\n",
    "\n",
    "df = pd.DataFrame(\n",
    "{\n",
    "    'Predicted' : list(itertools.chain.from_iterable(p)),\n",
    "    'Ground Truth': list(itertools.chain.from_iterable(t))\n",
    "}\n",
    ")\n"
   ]
  },
  {
   "cell_type": "code",
   "execution_count": 28,
   "metadata": {
    "collapsed": true
   },
   "outputs": [],
   "source": [
    "df.to_csv('../data/results/CL_LSTM_Based.tsv', sep='\\t')"
   ]
  },
  {
   "cell_type": "code",
   "execution_count": 29,
   "metadata": {},
   "outputs": [
    {
     "name": "stdout",
     "output_type": "stream",
     "text": [
      "Mean semantic similarity:  0.727\n"
     ]
    },
    {
     "data": {
      "text/plain": [
       "<matplotlib.figure.Figure at 0x7f7c1f380f50>"
      ]
     },
     "metadata": {},
     "output_type": "display_data"
    }
   ],
   "source": [
    "%run ./accuracy/src/computeSim.py ../data/results/CL_LSTM_Based.tsv ../data/validation_data/CL_AllSubsumers.tsv"
   ]
  },
  {
   "cell_type": "code",
   "execution_count": null,
   "metadata": {
    "collapsed": true
   },
   "outputs": [],
   "source": []
  }
 ],
 "metadata": {
  "kernelspec": {
   "display_name": "Python 2",
   "language": "python",
   "name": "python2"
  },
  "language_info": {
   "codemirror_mode": {
    "name": "ipython",
    "version": 2
   },
   "file_extension": ".py",
   "mimetype": "text/x-python",
   "name": "python",
   "nbconvert_exporter": "python",
   "pygments_lexer": "ipython2",
   "version": "2.7.12"
  }
 },
 "nbformat": 4,
 "nbformat_minor": 2
}
