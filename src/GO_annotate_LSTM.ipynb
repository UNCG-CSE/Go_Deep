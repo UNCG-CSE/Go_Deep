{
 "cells": [
  {
   "cell_type": "code",
   "execution_count": 1,
   "metadata": {},
   "outputs": [
    {
     "name": "stderr",
     "output_type": "stream",
     "text": [
      "Using TensorFlow backend.\n"
     ]
    }
   ],
   "source": [
    "import json\n",
    "from keras.preprocessing import sequence\n",
    "from keras.models import Sequential\n",
    "from keras.layers.embeddings import Embedding\n",
    "from keras.layers.recurrent import SimpleRNN, GRU, LSTM\n",
    "from keras.layers.core import Dense, Dropout\n",
    "from keras.layers.wrappers import TimeDistributed\n",
    "from keras.layers import Convolution1D, MaxPooling1D\n",
    "from keras.utils import np_utils\n",
    "import itertools\n",
    "import ast\n",
    "from sklearn.model_selection import train_test_split\n",
    "from sklearn.preprocessing import LabelEncoder\n",
    "import sys, os\n",
    "import traceback\n",
    "from itertools import chain\n",
    "import numpy as np\n",
    "import pandas as pd\n",
    "\n",
    "import progressbar\n",
    "\n",
    "import tensorflow as tf\n",
    "os.environ[\"CUDA_DEVICE_ORDER\"] = \"PCI_BUS_ID\"   # see issue #152\n",
    "os.environ[\"CUDA_VISIBLE_DEVICES\"] = \"2\""
   ]
  },
  {
   "cell_type": "code",
   "execution_count": 2,
   "metadata": {
    "collapsed": true
   },
   "outputs": [],
   "source": [
    "import matplotlib.pyplot as plt\n",
    "\n",
    "%matplotlib inline"
   ]
  },
  {
   "cell_type": "code",
   "execution_count": 3,
   "metadata": {
    "collapsed": true
   },
   "outputs": [],
   "source": [
    "def read_data(rootdir):\n",
    "    data_list = []\n",
    "    for subdir, dirs, files in os.walk(rootdir):\n",
    "        for fname in files:\n",
    "            #print os.path.join(subdir, file)\n",
    "            filepath = subdir + os.sep + fname\n",
    "            with open(filepath) as f:\n",
    "                for line1,line2 in itertools.izip_longest(*[f]*2):\n",
    "                    try:\n",
    "                        text = ast.literal_eval(line1)\n",
    "                        label = ast.literal_eval(line2)\n",
    "                        n_labels = set(label)\n",
    "                        if len(text) > 3 and len(n_labels) > 1:\n",
    "                            sentence = zip(text, label)\n",
    "                            sentence = [item for item in sentence if item[0].strip() != '']\n",
    "                            data_list.append(sentence)\n",
    "                    except:\n",
    "                        pass\n",
    "            f.close()\n",
    "    return data_list"
   ]
  },
  {
   "cell_type": "code",
   "execution_count": 4,
   "metadata": {},
   "outputs": [
    {
     "name": "stdout",
     "output_type": "stream",
     "text": [
      "[('Rod', 'NA'), ('and', 'NA'), ('cone', 'NA'), ('photoreceptors', 'NA'), ('subserve', 'NA'), ('vision', 'NA'), ('under', 'NA'), ('dim', 'NA'), ('and', 'NA'), ('bright', 'NA'), ('light', 'NA'), ('conditions', 'NA'), ('respectively', 'NA'), ('The', 'NA'), ('differences', 'NA'), ('in', 'NA'), ('their', 'NA'), ('function', 'NA'), ('are', 'NA'), ('thought', 'NA'), ('to', 'NA'), ('stem', 'NA'), ('from', 'NA'), ('their', 'NA'), ('different', 'NA'), ('gene', 'NA'), ('expression', 'NA'), ('patterns', 'NA'), ('morphologies', 'NA'), ('and', 'NA'), ('synaptic', 'GO:0045202'), ('connectivities', 'NA'), ('In', 'NA'), ('this', 'NA'), ('study', 'NA'), ('we', 'NA'), ('have', 'NA'), ('examined', 'NA'), ('the', 'NA'), ('photoreceptor', 'NA'), ('cells', 'GO:0005623'), ('of', 'NA'), ('the', 'NA'), ('retinal', 'NA'), ('degeneration', 'NA'), ('7', 'NA'), ('rd7', 'NA'), ('mutant', 'NA'), ('mouse', 'NA'), ('a', 'NA'), ('model', 'NA'), ('for', 'NA'), ('the', 'NA'), ('human', 'NA'), ('enhanced', 'NA'), ('Scone', 'NA'), ('syndrome', 'NA'), ('ESCS', 'NA'), ('This', 'NA'), ('mutant', 'NA'), ('carries', 'NA'), ('a', 'NA'), ('spontaneous', 'NA'), ('deletion', 'NA'), ('in', 'NA'), ('the', 'NA'), ('mouse', 'NA'), ('ortholog', 'NA'), ('of', 'NA'), ('NR2E3', 'NA'), ('an', 'NA'), ('orphan', 'NA'), ('nuclear', 'GO:0005634'), ('receptor', 'NA'), ('transcription', 'NA'), ('factor', 'NA'), ('mutated', 'NA'), ('in', 'NA'), ('ESCS', 'NA'), ('Employing', 'NA'), ('microarray', 'NA'), ('and', 'NA'), ('in', 'NA'), ('situ', 'NA'), ('hybridization', 'NA'), ('analysis', 'NA'), ('we', 'NA'), ('have', 'NA'), ('found', 'NA'), ('that', 'NA'), ('the', 'NA'), ('rd7', 'NA'), ('retina', 'NA'), ('contains', 'NA'), ('a', 'NA'), ('modestly', 'NA'), ('increased', 'NA'), ('number', 'NA'), ('of', 'NA'), ('Sopsin\\xe2\\x80\\x93expressing', 'NA'), ('cells', 'GO:0005623'), ('that', 'NA'), ('ultrastructurally', 'NA'), ('appear', 'NA'), ('to', 'NA'), ('be', 'NA'), ('normal', 'NA'), ('cones', 'NA'), ('Strikingly', 'NA'), ('the', 'NA'), ('majority', 'NA'), ('of', 'NA'), ('the', 'NA'), ('photoreceptors', 'NA'), ('in', 'NA'), ('the', 'NA'), ('rd7', 'NA'), ('retina', 'NA'), ('represent', 'NA'), ('a', 'NA'), ('morphologically', 'NA'), ('hybrid', 'NA'), ('cell', 'GO:0005623'), ('type', 'NA'), ('that', 'NA'), ('expresses', 'NA'), ('both', 'NA'), ('rod', 'NA'), ('and', 'NA'), ('conespecific', 'NA'), ('genes', 'NA'), ('In', 'NA'), ('addition', 'NA'), ('in', 'NA'), ('situ', 'NA'), ('hybridization', 'NA'), ('screening', 'NA'), ('of', 'NA'), ('genes', 'NA'), ('shown', 'NA'), ('to', 'NA'), ('be', 'NA'), ('upregulated', 'NA'), ('in', 'NA'), ('the', 'NA'), ('rd7', 'NA'), ('mutant', 'NA'), ('retina', 'NA'), ('by', 'NA'), ('microarray', 'NA'), ('identified', 'NA'), ('ten', 'NA'), ('new', 'NA'), ('conespecific', 'NA'), ('or', 'NA'), ('coneenriched', 'NA'), ('genes', 'NA'), ('with', 'NA'), ('a', 'NA'), ('wide', 'NA'), ('range', 'NA'), ('of', 'NA'), ('biochemical', 'NA'), ('functions', 'NA'), ('including', 'NA'), ('two', 'NA'), ('genes', 'NA'), ('specifically', 'NA'), ('involved', 'NA'), ('in', 'NA'), ('glucoseglycogen', 'NA'), ('metabolism', 'NA'), ('We', 'NA'), ('suggest', 'NA'), ('that', 'NA'), ('the', 'NA'), ('abnormal', 'NA'), ('electroretinograms', 'NA'), ('slow', 'NA'), ('retinal', 'NA'), ('degeneration', 'NA'), ('and', 'NA'), ('retinal', 'NA'), ('dysmorphology', 'NA'), ('seen', 'NA'), ('in', 'NA'), ('humans', 'NA'), ('with', 'NA'), ('ESCS', 'NA'), ('may', 'NA'), ('in', 'NA'), ('part', 'NA'), ('be', 'NA'), ('attributable', 'NA'), ('to', 'NA'), ('the', 'NA'), ('aberrant', 'NA'), ('function', 'NA'), ('of', 'NA'), ('a', 'NA'), ('hybrid', 'NA'), ('photoreceptor', 'NA'), ('cell', 'GO:0005623'), ('type', 'NA'), ('similar', 'NA'), ('to', 'NA'), ('that', 'NA'), ('identified', 'NA'), ('in', 'NA'), ('this', 'NA'), ('study', 'NA'), ('The', 'NA'), ('functional', 'NA'), ('diversity', 'NA'), ('of', 'NA'), ('the', 'NA'), ('novel', 'NA'), ('conespecific', 'NA'), ('genes', 'NA'), ('identified', 'NA'), ('here', 'NA'), ('indicates', 'NA'), ('molecular', 'NA'), ('differences', 'NA'), ('between', 'NA'), ('rods', 'NA'), ('and', 'NA'), ('cones', 'NA'), ('extending', 'NA'), ('far', 'NA'), ('beyond', 'NA'), ('those', 'NA'), ('previously', 'NA'), ('discovered', 'NA')]\n"
     ]
    },
    {
     "data": {
      "text/plain": [
       "104"
      ]
     },
     "execution_count": 4,
     "metadata": {},
     "output_type": "execute_result"
    }
   ],
   "source": [
    "data_list = read_data('../data/input/GO/')\n",
    "\n",
    "print data_list[0]\n",
    "\n",
    "# data_list = data_list[:3000]\n",
    "\n",
    "# words = list(chain.from_iterable(data_list))\n",
    "# print words\n",
    "\n",
    "words = list(set(y[0] for x in data_list for y in x))\n",
    "words.append(\"ENDPAD\")\n",
    "n_words = len(words); n_words\n",
    "\n",
    "tags = list(set(y[1] for x in data_list for y in x))\n",
    "n_tags = len(tags); n_tags"
   ]
  },
  {
   "cell_type": "code",
   "execution_count": 5,
   "metadata": {
    "collapsed": true
   },
   "outputs": [],
   "source": [
    "# from sklearn.preprocessing import LabelEncoder\n",
    "\n",
    "# le = LabelEncoder()\n",
    "# le.fit(list(y[1] for x in data_list for y in x))\n",
    "\n",
    "# labels2idx = dict(zip(le.classes_, le.transform(le.classes_)))\n",
    "\n",
    "# idx2la = {labels2idx[k]:k for k in labels2idx}"
   ]
  },
  {
   "cell_type": "code",
   "execution_count": 13,
   "metadata": {},
   "outputs": [
    {
     "name": "stdout",
     "output_type": "stream",
     "text": [
      "893\n",
      "69\n"
     ]
    }
   ],
   "source": [
    "max_len = 75\n",
    "word2idx = {w: i + 1 for i, w in enumerate(words)}\n",
    "tag2idx = {t: i for i, t in enumerate(tags, 1)}\n",
    "tag2idx['0'] = 0\n",
    "n_tags += 1\n",
    "\n",
    "idx2tag = {v: k for k, v in tag2idx.iteritems()}\n",
    "\n",
    "print word2idx['Hybrid']\n",
    "print tag2idx[\"NA\"]"
   ]
  },
  {
   "cell_type": "code",
   "execution_count": 14,
   "metadata": {},
   "outputs": [
    {
     "name": "stdout",
     "output_type": "stream",
     "text": [
      "{'GO:0005783': 1, 'GO:0035102': 2, 'GO:0030425': 3, 'GO:0030424': 4, 'GO:0030056': 5, 'GO:0030054': 6, 'GO:0016028': 7, 'GO:0031982': 8, 'GO:0005773': 9, 'GO:0005835': 10, 'GO:0016021': 11, 'GO:0016020': 12, 'GO:0005777': 13, 'GO:0005776': 14, 'GO:0005833': 15, '0': 0, 'GO:0016459': 16, 'GO:0005675': 17, 'GO:0032391': 18, 'GO:0005792': 19, 'GO:0031965': 20, 'GO:0000792': 21, 'GO:0000791': 22, 'GO:0000795': 23, 'GO:0000502': 24, 'GO:0042995': 25, 'GO:0001750': 26, 'GO:0042611': 27, 'GO:0045251': 28, 'GO:0005829': 29, 'GO:0010369': 30, 'GO:0001917': 31, 'GO:0030849': 32, 'GO:0031240': 33, 'GO:0000785': 34, 'GO:0000786': 83, 'GO:0030286': 36, 'GO:0043226': 37, 'GO:0005856': 38, 'GO:0042555': 39, 'GO:0043679': 40, 'GO:0005712': 41, 'GO:0005654': 42, 'GO:0005656': 43, 'GO:0005657': 44, 'GO:0048471': 45, 'GO:0043025': 46, 'GO:0008305': 47, 'GO:0043256': 48, 'GO:0043204': 49, 'GO:0008091': 50, 'GO:0005840': 51, 'GO:0005643': 52, 'GO:0043209': 53, 'GO:0017086': 54, 'GO:0031012': 55, 'GO:0030016': 56, 'GO:0005901': 57, 'GO:0005902': 58, 'GO:0001669': 59, 'GO:0005871': 60, 'GO:0019814': 61, 'GO:0005874': 62, 'GO:0005737': 63, 'GO:0005585': 64, 'GO:0045177': 65, 'GO:0005581': 66, 'GO:0005730': 67, 'GO:0000806': 68, 'NA': 69, 'GO:0005634': 70, 'GO:0000805': 71, 'GO:0005739': 72, 'GO:0031143': 73, 'GO:0009986': 74, 'GO:0014069': 75, 'GO:0005912': 76, 'GO:0045298': 77, 'GO:0000811': 78, 'GO:0005623': 79, 'GO:0005622': 80, 'GO:0016528': 81, 'GO:0000267': 82, 'GO:0005929': 35, 'GO:0016234': 84, 'GO:0045202': 85, 'GO:0005610': 86, 'GO:0005764': 101, 'GO:0005819': 88, 'GO:0005966': 89, 'GO:0005813': 90, 'GO:0005694': 91, 'GO:0005883': 92, 'GO:0046581': 93, 'GO:0005886': 94, 'GO:0043626': 95, 'GO:0000775': 96, 'GO:0042470': 97, 'GO:0032991': 98, 'GO:0045277': 99, 'GO:0045120': 100, 'GO:0005575': 87, 'GO:0005577': 102, 'GO:0005576': 103, 'GO:0005768': 104}\n"
     ]
    }
   ],
   "source": [
    "print tag2idx"
   ]
  },
  {
   "cell_type": "code",
   "execution_count": 15,
   "metadata": {
    "collapsed": true
   },
   "outputs": [],
   "source": [
    "from keras.preprocessing.sequence import pad_sequences\n",
    "X = [[word2idx[w[0]] for w in s] for s in data_list]"
   ]
  },
  {
   "cell_type": "code",
   "execution_count": 16,
   "metadata": {
    "collapsed": true
   },
   "outputs": [],
   "source": [
    "X = pad_sequences(maxlen=max_len, sequences=X, padding=\"post\", value=-1)"
   ]
  },
  {
   "cell_type": "code",
   "execution_count": 17,
   "metadata": {
    "collapsed": true
   },
   "outputs": [],
   "source": [
    "y = [[tag2idx[w[1]] for w in s] for s in data_list]"
   ]
  },
  {
   "cell_type": "code",
   "execution_count": 18,
   "metadata": {
    "collapsed": true
   },
   "outputs": [],
   "source": [
    "y = pad_sequences(maxlen=max_len, sequences=y, padding=\"post\", value=tag2idx[\"NA\"])"
   ]
  },
  {
   "cell_type": "code",
   "execution_count": 19,
   "metadata": {},
   "outputs": [],
   "source": [
    "from keras.utils import to_categorical\n",
    "\n",
    "y = [to_categorical(i, num_classes=n_tags) for i in y]"
   ]
  },
  {
   "cell_type": "code",
   "execution_count": 20,
   "metadata": {
    "collapsed": true
   },
   "outputs": [],
   "source": [
    "from sklearn.model_selection import train_test_split\n",
    "\n",
    "X_tr, X_te, y_tr, y_te = train_test_split(X, y, test_size=0.3)"
   ]
  },
  {
   "cell_type": "code",
   "execution_count": 21,
   "metadata": {},
   "outputs": [],
   "source": [
    "# from sklearn.utils import class_weight\n",
    "# import numpy as np\n",
    "\n",
    "# cw = class_weight.compute_class_weight('balanced',\n",
    "#                                                  np.unique(y_tr),\n",
    "#                                                  y_tr)"
   ]
  },
  {
   "cell_type": "code",
   "execution_count": 22,
   "metadata": {},
   "outputs": [
    {
     "name": "stdout",
     "output_type": "stream",
     "text": [
      "(1336, 75) (573, 75) (1336, 75, 105) (573, 75, 105)\n"
     ]
    }
   ],
   "source": [
    "print np.shape(X_tr), np.shape(X_te), np.shape(y_tr), np.shape(y_te)"
   ]
  },
  {
   "cell_type": "code",
   "execution_count": 23,
   "metadata": {
    "collapsed": true,
    "scrolled": true
   },
   "outputs": [],
   "source": [
    "from keras.models import Model, Input\n",
    "from keras.layers import LSTM, Embedding, Dense, TimeDistributed, Dropout, Bidirectional\n",
    "from keras_contrib.layers import CRF\n",
    "\n",
    "input = Input(shape=(max_len,))\n",
    "model = Embedding(input_dim=n_words + 1, output_dim=100,\n",
    "                  input_length=max_len, mask_zero=True)(input)  # 20-dim embedding\n",
    "model = Bidirectional(LSTM(units=100, return_sequences=True,\n",
    "                           recurrent_dropout=0.25))(model)  # variational biLSTM\n",
    "model = TimeDistributed(Dense(n_tags, activation=\"relu\"))(model)  # a dense layer as suggested by neuralNer\n",
    "crf = CRF(n_tags)  # CRF layer\n",
    "out = crf(model)  # output"
   ]
  },
  {
   "cell_type": "code",
   "execution_count": 24,
   "metadata": {
    "collapsed": true
   },
   "outputs": [],
   "source": [
    "model = Model(input, out)"
   ]
  },
  {
   "cell_type": "code",
   "execution_count": 25,
   "metadata": {
    "collapsed": true
   },
   "outputs": [],
   "source": [
    "model.compile(optimizer=\"rmsprop\", loss=crf.loss_function, metrics=[crf.accuracy])"
   ]
  },
  {
   "cell_type": "code",
   "execution_count": 26,
   "metadata": {},
   "outputs": [
    {
     "name": "stdout",
     "output_type": "stream",
     "text": [
      "_________________________________________________________________\n",
      "Layer (type)                 Output Shape              Param #   \n",
      "=================================================================\n",
      "input_1 (InputLayer)         (None, 75)                0         \n",
      "_________________________________________________________________\n",
      "embedding_1 (Embedding)      (None, 75, 100)           1674700   \n",
      "_________________________________________________________________\n",
      "bidirectional_1 (Bidirection (None, 75, 200)           160800    \n",
      "_________________________________________________________________\n",
      "time_distributed_1 (TimeDist (None, 75, 105)           21105     \n",
      "_________________________________________________________________\n",
      "crf_1 (CRF)                  (None, 75, 105)           22365     \n",
      "=================================================================\n",
      "Total params: 1,878,970\n",
      "Trainable params: 1,878,970\n",
      "Non-trainable params: 0\n",
      "_________________________________________________________________\n"
     ]
    }
   ],
   "source": [
    "model.summary()\n",
    "\n"
   ]
  },
  {
   "cell_type": "code",
   "execution_count": 28,
   "metadata": {
    "scrolled": true
   },
   "outputs": [
    {
     "name": "stdout",
     "output_type": "stream",
     "text": [
      "Train on 1336 samples, validate on 573 samples\n",
      "Epoch 1/15\n",
      "1336/1336 [==============================] - 15s 11ms/step - loss: 0.0297 - viterbi_acc: 0.9931 - val_loss: 0.0509 - val_viterbi_acc: 0.9925\n",
      "Epoch 2/15\n",
      "1336/1336 [==============================] - 15s 11ms/step - loss: 0.0276 - viterbi_acc: 0.9935 - val_loss: 0.0471 - val_viterbi_acc: 0.9926\n",
      "Epoch 3/15\n",
      "1336/1336 [==============================] - 15s 11ms/step - loss: 0.0250 - viterbi_acc: 0.9942 - val_loss: 0.0615 - val_viterbi_acc: 0.9927\n",
      "Epoch 4/15\n",
      "1336/1336 [==============================] - 15s 11ms/step - loss: 0.0234 - viterbi_acc: 0.9947 - val_loss: 0.0448 - val_viterbi_acc: 0.9931\n",
      "Epoch 5/15\n",
      "1336/1336 [==============================] - 15s 11ms/step - loss: 0.0213 - viterbi_acc: 0.9950 - val_loss: 0.0440 - val_viterbi_acc: 0.9936\n",
      "Epoch 6/15\n",
      "1336/1336 [==============================] - 15s 11ms/step - loss: 0.0192 - viterbi_acc: 0.9955 - val_loss: 0.0449 - val_viterbi_acc: 0.9942\n",
      "Epoch 7/15\n",
      "1336/1336 [==============================] - 15s 11ms/step - loss: 0.0172 - viterbi_acc: 0.9958 - val_loss: 0.0427 - val_viterbi_acc: 0.9946\n",
      "Epoch 8/15\n",
      "1336/1336 [==============================] - 15s 11ms/step - loss: 0.0153 - viterbi_acc: 0.9963 - val_loss: 0.0436 - val_viterbi_acc: 0.9947\n",
      "Epoch 9/15\n",
      "1336/1336 [==============================] - 15s 11ms/step - loss: 0.0134 - viterbi_acc: 0.9967 - val_loss: 0.0464 - val_viterbi_acc: 0.9950\n",
      "Epoch 10/15\n",
      "1336/1336 [==============================] - 15s 11ms/step - loss: 0.0119 - viterbi_acc: 0.9971 - val_loss: 0.0440 - val_viterbi_acc: 0.9951\n",
      "Epoch 11/15\n",
      "1336/1336 [==============================] - 15s 11ms/step - loss: 0.0100 - viterbi_acc: 0.9975 - val_loss: 0.0473 - val_viterbi_acc: 0.9954\n",
      "Epoch 12/15\n",
      "1336/1336 [==============================] - 15s 11ms/step - loss: 0.0084 - viterbi_acc: 0.9980 - val_loss: 0.0506 - val_viterbi_acc: 0.9952\n",
      "Epoch 13/15\n",
      "1336/1336 [==============================] - 15s 11ms/step - loss: 0.0074 - viterbi_acc: 0.9981 - val_loss: 0.0478 - val_viterbi_acc: 0.9954\n",
      "Epoch 14/15\n",
      "1336/1336 [==============================] - 15s 11ms/step - loss: 0.0063 - viterbi_acc: 0.9984 - val_loss: 0.0517 - val_viterbi_acc: 0.9954\n",
      "Epoch 15/15\n",
      "1336/1336 [==============================] - 15s 11ms/step - loss: 0.0056 - viterbi_acc: 0.9987 - val_loss: 0.0525 - val_viterbi_acc: 0.9955\n"
     ]
    }
   ],
   "source": [
    "history = model.fit(X_tr, np.array(y_tr), batch_size=32, epochs=15,\n",
    "                    validation_data=(X_te, np.array(y_te)), class_weight = 'auto', verbose=1)"
   ]
  },
  {
   "cell_type": "code",
   "execution_count": 29,
   "metadata": {
    "collapsed": true
   },
   "outputs": [],
   "source": [
    "hist = pd.DataFrame(history.history)"
   ]
  },
  {
   "cell_type": "code",
   "execution_count": 30,
   "metadata": {},
   "outputs": [
    {
     "name": "stdout",
     "output_type": "stream",
     "text": [
      "        loss  val_loss  val_viterbi_acc  viterbi_acc\n",
      "0   0.029747  0.050866         0.992461     0.993064\n",
      "1   0.027580  0.047134         0.992600     0.993523\n",
      "2   0.024999  0.061524         0.992670     0.994172\n",
      "3   0.023389  0.044797         0.993136     0.994671\n",
      "4   0.021272  0.044043         0.993554     0.995040\n",
      "5   0.019152  0.044856         0.994183     0.995519\n",
      "6   0.017248  0.042678         0.994602     0.995848\n",
      "7   0.015305  0.043584         0.994695     0.996277\n",
      "8   0.013414  0.046443         0.994951     0.996717\n",
      "9   0.011865  0.044029         0.995090     0.997106\n",
      "10  0.010046  0.047346         0.995369     0.997525\n",
      "11  0.008445  0.050624         0.995183     0.997984\n",
      "12  0.007449  0.047757         0.995393     0.998134\n",
      "13  0.006318  0.051735         0.995439     0.998423\n",
      "14  0.005555  0.052497         0.995532     0.998673\n"
     ]
    }
   ],
   "source": [
    "print hist"
   ]
  },
  {
   "cell_type": "code",
   "execution_count": 31,
   "metadata": {},
   "outputs": [
    {
     "data": {
      "image/png": "[encoded data removed]",
      "text/plain": [
       "<matplotlib.figure.Figure at 0x7fa310af3810>"
      ]
     },
     "metadata": {},
     "output_type": "display_data"
    }
   ],
   "source": [
    "import matplotlib.pyplot as plt\n",
    "plt.style.use(\"ggplot\")\n",
    "plt.figure(figsize=(12,12))\n",
    "plt.plot(hist[\"loss\"], label='Training Loss')\n",
    "plt.plot(hist[\"val_loss\"], label='Validation Loss')\n",
    "plt.legend()\n",
    "plt.show()"
   ]
  },
  {
   "cell_type": "code",
   "execution_count": 32,
   "metadata": {},
   "outputs": [
    {
     "data": {
      "image/png": "[encoded data removed]",
      "text/plain": [
       "<matplotlib.figure.Figure at 0x7fa3109b8450>"
      ]
     },
     "metadata": {},
     "output_type": "display_data"
    }
   ],
   "source": [
    "plt.style.use(\"ggplot\")\n",
    "plt.figure(figsize=(12,12))\n",
    "plt.plot(hist[\"viterbi_acc\"], label='Training Accuracy')\n",
    "plt.plot(hist[\"val_viterbi_acc\"], label='Validation Accuracy')\n",
    "plt.legend()\n",
    "plt.show()"
   ]
  },
  {
   "cell_type": "code",
   "execution_count": 33,
   "metadata": {
    "scrolled": true
   },
   "outputs": [
    {
     "name": "stdout",
     "output_type": "stream",
     "text": [
      "[69 69 69 69 69 69 69 91 69 69 69 69 69 69 69 69 69 69 69 69 69 69 69 69\n",
      " 69 69 69 69 69 69 69 69 69 69 69 69 69 69 69 69 91 69 69 69 69 69 69 69\n",
      " 69 69 69 69 69 69 69 69 91 69 69 69 69 69 69 69 69 69 69 69 69 69 69 69\n",
      " 69 69 69]\n",
      "[69 69 69 69 69 69 69 91 69 69 69 69 69 69 69 69 69 69 69 69 69 69 69 69\n",
      " 69 69 69 69 69 69 69 69 69 69 69 69 69 69 69 69 91 69 69 69 69 69 69 69\n",
      " 69 69 69 69 69 69 69 69 91 69 69 69 69 69 69 69 69 69 69 69 69 69 69 69\n",
      " 69 69 69]\n",
      "['NA', 'NA', 'NA', 'NA', 'NA', 'NA', 'NA', 'GO:0005694', 'NA', 'NA', 'NA', 'NA', 'NA', 'NA', 'NA', 'NA', 'NA', 'NA', 'NA', 'NA', 'NA', 'NA', 'NA', 'NA', 'NA', 'NA', 'NA', 'NA', 'NA', 'NA', 'NA', 'NA', 'NA', 'NA', 'NA', 'NA', 'NA', 'NA', 'NA', 'NA', 'GO:0005694', 'NA', 'NA', 'NA', 'NA', 'NA', 'NA', 'NA', 'NA', 'NA', 'NA', 'NA', 'NA', 'NA', 'NA', 'NA', 'GO:0005694', 'NA', 'NA', 'NA', 'NA', 'NA', 'NA', 'NA', 'NA', 'NA', 'NA', 'NA', 'NA', 'NA', 'NA', 'NA', 'NA', 'NA', 'NA']\n",
      "['NA', 'NA', 'NA', 'NA', 'NA', 'NA', 'NA', 'GO:0005694', 'NA', 'NA', 'NA', 'NA', 'NA', 'NA', 'NA', 'NA', 'NA', 'NA', 'NA', 'NA', 'NA', 'NA', 'NA', 'NA', 'NA', 'NA', 'NA', 'NA', 'NA', 'NA', 'NA', 'NA', 'NA', 'NA', 'NA', 'NA', 'NA', 'NA', 'NA', 'NA', 'GO:0005694', 'NA', 'NA', 'NA', 'NA', 'NA', 'NA', 'NA', 'NA', 'NA', 'NA', 'NA', 'NA', 'NA', 'NA', 'NA', 'GO:0005694', 'NA', 'NA', 'NA', 'NA', 'NA', 'NA', 'NA', 'NA', 'NA', 'NA', 'NA', 'NA', 'NA', 'NA', 'NA', 'NA', 'NA', 'NA']\n",
      "\n",
      "\n",
      "             precision    recall  f1-score   support\n",
      "\n",
      " GO:0005581       0.00      0.00      0.00         0\n",
      " GO:0005622       0.00      0.00      0.00         1\n",
      " GO:0005623       1.00      1.00      1.00        14\n",
      " GO:0005634       1.00      1.00      1.00         4\n",
      " GO:0005694       1.00      1.00      1.00         3\n",
      " GO:0005739       1.00      1.00      1.00         1\n",
      " GO:0005777       1.00      1.00      1.00         1\n",
      " GO:0019814       1.00      1.00      1.00         5\n",
      " GO:0030424       1.00      1.00      1.00         4\n",
      " GO:0042995       1.00      1.00      1.00         1\n",
      "         NA       1.00      1.00      1.00      1466\n",
      "\n",
      "avg / total       1.00      1.00      1.00      1500\n",
      "\n"
     ]
    },
    {
     "name": "stderr",
     "output_type": "stream",
     "text": [
      "/home/sdmohant/.virtualenvs/deeplearn/local/lib/python2.7/site-packages/sklearn/metrics/classification.py:1113: UndefinedMetricWarning: Precision and F-score are ill-defined and being set to 0.0 in labels with no predicted samples.\n",
      "  'precision', 'predicted', average, warn_for)\n",
      "/home/sdmohant/.virtualenvs/deeplearn/local/lib/python2.7/site-packages/sklearn/metrics/classification.py:1115: UndefinedMetricWarning: Recall and F-score are ill-defined and being set to 0.0 in labels with no true samples.\n",
      "  'recall', 'true', average, warn_for)\n"
     ]
    }
   ],
   "source": [
    "from sklearn.metrics import classification_report\n",
    "\n",
    "predicted = model.predict(X_te)\n",
    "\n",
    "true = []\n",
    "predicted_val = []\n",
    "for i in range(len(predicted[:20])):\n",
    "    p_tmp = np.argmax(predicted[i], axis=-1)\n",
    "    t_tmp = np.argmax(y_te[i], -1)\n",
    "    predicted_val.append(p_tmp)\n",
    "    true.append(t_tmp)\n",
    "\n",
    "    \n",
    "p = [list(map(lambda x: idx2tag[x], y)) for y in predicted_val]\n",
    "t = [list(map(lambda x: idx2tag[x], y)) for y in true]\n",
    "\n",
    "print predicted_val[2]\n",
    "print true[2]\n",
    "\n",
    "\n",
    "print p[2]\n",
    "print t[2]\n",
    "\n",
    "report = classification_report(list(itertools.chain.from_iterable(t)), \n",
    "                                    list(itertools.chain.from_iterable(p)))\n",
    "print \"\\n\"\n",
    "print report"
   ]
  },
  {
   "cell_type": "code",
   "execution_count": 34,
   "metadata": {},
   "outputs": [
    {
     "name": "stdout",
     "output_type": "stream",
     "text": [
      "Word           ||True ||Pred\n",
      "==============================\n",
      "from           : GO:0005634 GO:0005634\n",
      "C57BL10        : GO:0005634 GO:0005634\n",
      "and            : GO:0005634 GO:0005634\n",
      "C57BL6         : GO:0005634 GO:0005634\n",
      "strains        : GO:0005634 GO:0005634\n",
      "have           : GO:0005634 GO:0005634\n",
      "been           : GO:0005634 GO:0005634\n",
      "mapped         : GO:0005634 GO:0005634\n",
      "to             : GO:0005634 GO:0005634\n",
      "a              : GO:0005634 GO:0005634\n",
      "portion        : GO:0005634 GO:0005634\n",
      "of             : GO:0005634 GO:0005634\n",
      "Chromosome     : GO:0005883 GO:0005883\n",
      "3              : GO:0005634 GO:0005634\n",
      "close          : GO:0005634 GO:0005634\n",
      "to             : GO:0005634 GO:0005634\n",
      "the            : GO:0005634 GO:0005634\n",
      "region         : GO:0005634 GO:0005634\n",
      "identified     : GO:0005634 GO:0005634\n",
      "in             : GO:0005634 GO:0005634\n",
      "this           : GO:0005634 GO:0005634\n",
      "study          : GO:0005634 GO:0005634\n",
      "Morel          : GO:0005634 GO:0005634\n",
      "et             : GO:0005634 GO:0005634\n",
      "al             : GO:0005634 GO:0005634\n",
      "1999           : GO:0005634 GO:0005634\n",
      "Haywood        : GO:0005634 GO:0005634\n",
      "et             : GO:0005634 GO:0005634\n",
      "al             : GO:0005634 GO:0005634\n",
      "2000           : GO:0005634 GO:0005634\n",
      "Furthermore    : GO:0005634 GO:0005634\n",
      "the            : GO:0005634 GO:0005634\n",
      "region         : GO:0005634 GO:0005634\n",
      "on             : GO:0005634 GO:0005634\n",
      "Chromosome     : GO:0005883 GO:0005883\n",
      "7              : GO:0005634 GO:0005634\n",
      "associated     : GO:0005634 GO:0005634\n",
      "with           : GO:0005634 GO:0005634\n",
      "the            : GO:0005634 GO:0005634\n",
      "development    : GO:0005634 GO:0005634\n",
      "of             : GO:0005634 GO:0005634\n",
      "lupus          : GO:0005634 GO:0005634\n",
      "nephritis      : GO:0005634 GO:0005634\n",
      "has            : GO:0005634 GO:0005634\n",
      "been           : GO:0005634 GO:0005634\n",
      "linked         : GO:0005634 GO:0005634\n",
      "to             : GO:0005634 GO:0005634\n",
      "the            : GO:0005634 GO:0005634\n",
      "same           : GO:0005634 GO:0005634\n",
      "trait          : GO:0005634 GO:0005634\n",
      "in             : GO:0005634 GO:0005634\n",
      "other          : GO:0005634 GO:0005634\n",
      "murine         : GO:0005634 GO:0005634\n",
      "models         : GO:0005634 GO:0005634\n",
      "of             : GO:0005634 GO:0005634\n",
      "SLE            : GO:0005634 GO:0005634\n",
      "Santiago       : GO:0005634 GO:0005634\n",
      "et             : GO:0005634 GO:0005634\n",
      "al             : GO:0005634 GO:0005634\n",
      "1998           : GO:0005634 GO:0005634\n",
      "Morel          : GO:0005634 GO:0005634\n",
      "et             : GO:0005634 GO:0005634\n",
      "al             : GO:0005634 GO:0005634\n",
      "1999           : GO:0005634 GO:0005634\n",
      "Xie            : GO:0005634 GO:0005634\n",
      "et             : GO:0005634 GO:0005634\n",
      "al             : GO:0005634 GO:0005634\n",
      "2002           : GO:0005634 GO:0005634\n",
      "suggesting     : GO:0005634 GO:0005634\n",
      "the            : GO:0005634 GO:0005634\n",
      "possibility    : GO:0005634 GO:0005634\n",
      "of             : GO:0005634 GO:0005634\n",
      "shared         : GO:0005634 GO:0005634\n",
      "susceptibility : GO:0005634 GO:0005634\n",
      "loci           : GO:0005634 GO:0005634\n"
     ]
    }
   ],
   "source": [
    "i = 300\n",
    "pd = model.predict(np.array([X_te[i]]))\n",
    "pd = np.argmax(pd, axis=-1)\n",
    "true = np.argmax(y_te[i], -1)\n",
    "print(\"{:15}||{:5}||{}\".format(\"Word\", \"True\", \"Pred\"))\n",
    "print(30 * \"=\")\n",
    "\n",
    "for w, t1, pred in zip(X_te[i], true, pd[0]):\n",
    "    if w != 0:\n",
    "        print(\"{:15}: {:5} {}\".format(words[w-1], tags[t1], tags[pred]))"
   ]
  },
  {
   "cell_type": "code",
   "execution_count": 35,
   "metadata": {},
   "outputs": [],
   "source": [
    "import pandas as pd\n",
    "\n",
    "df = pd.DataFrame(\n",
    "{\n",
    "    'Predicted' : list(itertools.chain.from_iterable(p)),\n",
    "    'Ground Truth': list(itertools.chain.from_iterable(t))\n",
    "}\n",
    ")\n"
   ]
  },
  {
   "cell_type": "code",
   "execution_count": 36,
   "metadata": {
    "collapsed": true
   },
   "outputs": [],
   "source": [
    "df.to_csv('../data/results/LSTM_Based.tsv', sep='\\t')"
   ]
  },
  {
   "cell_type": "code",
   "execution_count": 37,
   "metadata": {},
   "outputs": [
    {
     "name": "stdout",
     "output_type": "stream",
     "text": [
      "Mean semantic similarity:  0.975\n"
     ]
    },
    {
     "data": {
      "text/plain": [
       "<matplotlib.figure.Figure at 0x7fa321e44090>"
      ]
     },
     "metadata": {},
     "output_type": "display_data"
    }
   ],
   "source": [
    "%run ./accuracy/src/computeSim.py ../data/results/LSTM_Based.tsv ../data/validation_data/GO_AllSubsumers.tsv"
   ]
  },
  {
   "cell_type": "code",
   "execution_count": null,
   "metadata": {
    "collapsed": true
   },
   "outputs": [],
   "source": []
  }
 ],
 "metadata": {
  "kernelspec": {
   "display_name": "Python 2",
   "language": "python",
   "name": "python2"
  },
  "language_info": {
   "codemirror_mode": {
    "name": "ipython",
    "version": 2
   },
   "file_extension": ".py",
   "mimetype": "text/x-python",
   "name": "python",
   "nbconvert_exporter": "python",
   "pygments_lexer": "ipython2",
   "version": "2.7.12"
  }
 },
 "nbformat": 4,
 "nbformat_minor": 2
}
